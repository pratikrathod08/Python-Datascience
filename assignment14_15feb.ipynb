{
 "cells": [
  {
   "cell_type": "markdown",
   "metadata": {},
   "source": [
    "Q1. What is multiprocessing in python? Why is it useful? "
   ]
  },
  {
   "cell_type": "markdown",
   "metadata": {},
   "source": [
    "Multiprocessing is a programming paradigm that allows a program to use multiple CPU cores in parallel to perform computations or other tasks. In Python, the multiprocessing module provides a way to create and manage processes, which are independent instances of a program that can execute in parallel.\n",
    "\n",
    "Multiprocessing is useful because it can improve the performance of CPU-intensive tasks that can be divided into smaller parts that can be executed independently. By using multiple processes, the program can take advantage of all available CPU cores, reducing the time required to complete the task. Additionally, multiprocessing can improve the responsiveness of a program by allowing long-running tasks to be executed in the background without blocking the main thread, allowing the user to interact with the program while the task is running.\n",
    "\n",
    "Some use cases for multiprocessing in Python include:\n",
    "\n",
    "Parallelizing data processing tasks such as image or video processing, data analysis, and machine learning.\n",
    "\n",
    "Running multiple instances of a web server or other network service to handle incoming requests.\n",
    "\n",
    "Running multiple instances of a simulation or modeling program to perform parameter sweeps or other optimizations.\n",
    "\n",
    "Running multiple instances of a game engine or other real-time system to improve performance and reduce latency.\n",
    "\n",
    "Overall, multiprocessing is a powerful tool for improving the performance and scalability of Python programs, particularly for CPU-bound tasks that can be parallelized."
   ]
  },
  {
   "cell_type": "markdown",
   "metadata": {},
   "source": [
    "Q2. What are the differences between multiprocessing and multithreading?"
   ]
  },
  {
   "cell_type": "markdown",
   "metadata": {},
   "source": [
    "Multiprocessing and multithreading are two different programming paradigms for achieving concurrency in a program. While both allow a program to execute multiple tasks in parallel, they differ in several ways:\n",
    "\n",
    "Parallelism: Multiprocessing allows for true parallelism by utilizing multiple CPU cores, while multithreading simulates parallelism by interleaving the execution of multiple threads on a single CPU core.\n",
    "\n",
    "Memory: Each process created by multiprocessing has its own memory space, while all threads within a process share the same memory space. This can make multiprocessing more memory-efficient than multithreading for certain types of applications.\n",
    "\n",
    "Complexity: Multiprocessing is generally considered more complex than multithreading, as it requires more overhead to create and manage separate processes, and communication between processes is typically more difficult than communication between threads.\n",
    "\n",
    "Isolation: Multiprocessing provides greater isolation between processes, as a crash or error in one process does not affect other processes. With multithreading, a crash or error in one thread can affect the entire process.\n",
    "\n",
    "Overhead: Multiprocessing typically has more overhead than multithreading, as creating and managing processes is more resource-intensive than creating and managing threads.\n",
    "\n",
    "Overall, multiprocessing and multithreading are both useful tools for achieving concurrency in a program, but they have different strengths and weaknesses depending on the specific application. Multiprocessing is often more effective for CPU-bound tasks that can be parallelized, while multithreading is more suitable for I/O-bound tasks that require frequent context switching."
   ]
  },
  {
   "cell_type": "markdown",
   "metadata": {},
   "source": [
    "Q3. Write a python code to create a process using the multiprocessing module."
   ]
  },
  {
   "cell_type": "code",
   "execution_count": 1,
   "metadata": {},
   "outputs": [
    {
     "name": "stdout",
     "output_type": "stream",
     "text": [
      "messaging process finished\n"
     ]
    }
   ],
   "source": [
    "import multiprocessing\n",
    "\n",
    "def massenger():\n",
    "    \"\"\"Function to be executed in the child process.\"\"\"\n",
    "    print('messaging process running')\n",
    "\n",
    "if __name__ == '__main__':\n",
    "    # Create a new process using the `Process` class\n",
    "    p = multiprocessing.Process(target=massenger)\n",
    "    \n",
    "    # Start the process\n",
    "    p.start()\n",
    "\n",
    "    # Wait for the process to finish\n",
    "    p.join()\n",
    "\n",
    "    # Print a message when the process is complete\n",
    "    print('messaging process finished')"
   ]
  },
  {
   "cell_type": "markdown",
   "metadata": {},
   "source": [
    "Q4. What is a multiprocessing pool in python? Why is it used?"
   ]
  },
  {
   "cell_type": "markdown",
   "metadata": {},
   "source": [
    "A multiprocessing pool in Python is a collection of worker processes that can be used to parallelize the execution of a function over a large dataset. The multiprocessing module provides a Pool class that allows a programmer to create a pool of worker processes, each of which can execute a function on a separate chunk of data."
   ]
  },
  {
   "cell_type": "code",
   "execution_count": 3,
   "metadata": {},
   "outputs": [],
   "source": [
    "import multiprocessing\n",
    "\n",
    "def worker(num):\n",
    "    \"\"\"Function to be executed in each worker process.\"\"\"\n",
    "    result = num * num\n",
    "    return result\n",
    "\n",
    "if __name__ == '__main__':\n",
    "    # Create a pool of 4 worker processes\n",
    "    with multiprocessing.Pool(processes=4) as pool:\n",
    "        # Apply the `worker` function to each number in the list\n",
    "        numbers = [1, 2, 3, 4, 5, 6, 7, 8, 9, 10]\n",
    "        results = pool.map(worker, numbers)\n",
    "\n",
    "    # Print the results\n",
    "    print(results)"
   ]
  },
  {
   "cell_type": "markdown",
   "metadata": {},
   "source": [
    "Q6. Write a python program to create 4 processes, each process should print a different number using the \n",
    "multiprocessing module in python."
   ]
  },
  {
   "cell_type": "code",
   "execution_count": 1,
   "metadata": {},
   "outputs": [],
   "source": [
    "import multiprocessing\n",
    "\n",
    "def print_number(number):\n",
    "    \"\"\"Function to be executed in each worker process.\"\"\"\n",
    "    print(\"Process {}: {}\".format(multiprocessing.current_process().name, number))\n",
    "\n",
    "if __name__ == '__main__':\n",
    "    # Create a list of numbers to be printed\n",
    "    numbers = [1, 2, 3, 4]\n",
    "\n",
    "    # Create a pool of 4 worker processes\n",
    "    with multiprocessing.Pool(processes=4) as pool:\n",
    "        # Apply the `print_number` function to each number in the list\n",
    "        pool.map(print_number, numbers)"
   ]
  },
  {
   "cell_type": "code",
   "execution_count": null,
   "metadata": {},
   "outputs": [],
   "source": []
  }
 ],
 "metadata": {
  "kernelspec": {
   "display_name": "Python 3.10.7 64-bit (microsoft store)",
   "language": "python",
   "name": "python3"
  },
  "language_info": {
   "codemirror_mode": {
    "name": "ipython",
    "version": 3
   },
   "file_extension": ".py",
   "mimetype": "text/x-python",
   "name": "python",
   "nbconvert_exporter": "python",
   "pygments_lexer": "ipython3",
   "version": "3.10.7"
  },
  "orig_nbformat": 4,
  "vscode": {
   "interpreter": {
    "hash": "486e0d5a79acdbfffd563ee7a67a93a5017bd2a4f66495483a69f0245c8a4a6c"
   }
  }
 },
 "nbformat": 4,
 "nbformat_minor": 2
}
