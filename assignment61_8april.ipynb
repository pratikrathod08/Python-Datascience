{
 "cells": [
  {
   "cell_type": "code",
   "execution_count": 1,
   "id": "d9bf57e7",
   "metadata": {},
   "outputs": [],
   "source": [
    "### Ans : 1\n",
    "\n",
    "import pandas as pd\n",
    "import numpy as np\n",
    "import matplotlib.pyplot as plt\n",
    "import seaborn as sns"
   ]
  },
  {
   "cell_type": "code",
   "execution_count": 2,
   "id": "084d28bf",
   "metadata": {},
   "outputs": [],
   "source": [
    "data=pd.read_csv('dataset/Bengaluru_House_Data.csv')"
   ]
  },
  {
   "cell_type": "code",
   "execution_count": 3,
   "id": "8253375f",
   "metadata": {},
   "outputs": [
    {
     "data": {
      "text/html": [
       "<div>\n",
       "<style scoped>\n",
       "    .dataframe tbody tr th:only-of-type {\n",
       "        vertical-align: middle;\n",
       "    }\n",
       "\n",
       "    .dataframe tbody tr th {\n",
       "        vertical-align: top;\n",
       "    }\n",
       "\n",
       "    .dataframe thead th {\n",
       "        text-align: right;\n",
       "    }\n",
       "</style>\n",
       "<table border=\"1\" class=\"dataframe\">\n",
       "  <thead>\n",
       "    <tr style=\"text-align: right;\">\n",
       "      <th></th>\n",
       "      <th>area_type</th>\n",
       "      <th>availability</th>\n",
       "      <th>location</th>\n",
       "      <th>size</th>\n",
       "      <th>society</th>\n",
       "      <th>total_sqft</th>\n",
       "      <th>bath</th>\n",
       "      <th>balcony</th>\n",
       "      <th>price</th>\n",
       "    </tr>\n",
       "  </thead>\n",
       "  <tbody>\n",
       "    <tr>\n",
       "      <th>0</th>\n",
       "      <td>Super built-up  Area</td>\n",
       "      <td>19-Dec</td>\n",
       "      <td>Electronic City Phase II</td>\n",
       "      <td>2 BHK</td>\n",
       "      <td>Coomee</td>\n",
       "      <td>1056</td>\n",
       "      <td>2.0</td>\n",
       "      <td>1.0</td>\n",
       "      <td>39.07</td>\n",
       "    </tr>\n",
       "    <tr>\n",
       "      <th>1</th>\n",
       "      <td>Plot  Area</td>\n",
       "      <td>Ready To Move</td>\n",
       "      <td>Chikka Tirupathi</td>\n",
       "      <td>4 Bedroom</td>\n",
       "      <td>Theanmp</td>\n",
       "      <td>2600</td>\n",
       "      <td>5.0</td>\n",
       "      <td>3.0</td>\n",
       "      <td>120.00</td>\n",
       "    </tr>\n",
       "    <tr>\n",
       "      <th>2</th>\n",
       "      <td>Built-up  Area</td>\n",
       "      <td>Ready To Move</td>\n",
       "      <td>Uttarahalli</td>\n",
       "      <td>3 BHK</td>\n",
       "      <td>NaN</td>\n",
       "      <td>1440</td>\n",
       "      <td>2.0</td>\n",
       "      <td>3.0</td>\n",
       "      <td>62.00</td>\n",
       "    </tr>\n",
       "    <tr>\n",
       "      <th>3</th>\n",
       "      <td>Super built-up  Area</td>\n",
       "      <td>Ready To Move</td>\n",
       "      <td>Lingadheeranahalli</td>\n",
       "      <td>3 BHK</td>\n",
       "      <td>Soiewre</td>\n",
       "      <td>1521</td>\n",
       "      <td>3.0</td>\n",
       "      <td>1.0</td>\n",
       "      <td>95.00</td>\n",
       "    </tr>\n",
       "    <tr>\n",
       "      <th>4</th>\n",
       "      <td>Super built-up  Area</td>\n",
       "      <td>Ready To Move</td>\n",
       "      <td>Kothanur</td>\n",
       "      <td>2 BHK</td>\n",
       "      <td>NaN</td>\n",
       "      <td>1200</td>\n",
       "      <td>2.0</td>\n",
       "      <td>1.0</td>\n",
       "      <td>51.00</td>\n",
       "    </tr>\n",
       "  </tbody>\n",
       "</table>\n",
       "</div>"
      ],
      "text/plain": [
       "              area_type   availability                  location       size  \\\n",
       "0  Super built-up  Area         19-Dec  Electronic City Phase II      2 BHK   \n",
       "1            Plot  Area  Ready To Move          Chikka Tirupathi  4 Bedroom   \n",
       "2        Built-up  Area  Ready To Move               Uttarahalli      3 BHK   \n",
       "3  Super built-up  Area  Ready To Move        Lingadheeranahalli      3 BHK   \n",
       "4  Super built-up  Area  Ready To Move                  Kothanur      2 BHK   \n",
       "\n",
       "   society total_sqft  bath  balcony   price  \n",
       "0  Coomee        1056   2.0      1.0   39.07  \n",
       "1  Theanmp       2600   5.0      3.0  120.00  \n",
       "2      NaN       1440   2.0      3.0   62.00  \n",
       "3  Soiewre       1521   3.0      1.0   95.00  \n",
       "4      NaN       1200   2.0      1.0   51.00  "
      ]
     },
     "execution_count": 3,
     "metadata": {},
     "output_type": "execute_result"
    }
   ],
   "source": [
    "data.head()"
   ]
  },
  {
   "cell_type": "markdown",
   "id": "9dbd86d1",
   "metadata": {},
   "source": [
    "In order to predict house prices based on several characteristics, an appropriate regression metric to employ for evaluating an SVM regression model would be the Mean Squared Error (MSE). MSE measures the average squared difference between the predicted and actual house prices, and it provides a measure of how accurately the model predicts individual house prices. Minimizing MSE corresponds to minimizing prediction errors, which aligns well with the goal of accurately predicting house prices."
   ]
  },
  {
   "cell_type": "markdown",
   "id": "ab00febe",
   "metadata": {},
   "source": [
    "## Ans : 2\n",
    "\n",
    "If the goal is to predict the actual price of a house as accurately as possible, the most appropriate evaluation metric to use between MSE and R-squared would be the Mean Squared Error (MSE). MSE directly quantifies the average squared difference between the predicted and actual prices, providing a measure of how close the model's predictions are to the true prices. Minimizing MSE aligns well with the goal of accurately predicting house prices."
   ]
  },
  {
   "cell_type": "markdown",
   "id": "6c2fb37a",
   "metadata": {},
   "source": [
    "## Ans : 3\n",
    "\n",
    "When dealing with a dataset that contains a significant number of outliers, an appropriate regression metric to use with an SVM model would be the Mean Absolute Error (MAE). MAE measures the average absolute difference between the predicted and actual values and is less sensitive to outliers compared to MSE. Since outliers can have a large impact on the squared errors in MSE, MAE provides a more robust evaluation metric in scenarios with significant outliers."
   ]
  },
  {
   "cell_type": "markdown",
   "id": "9afce3b1",
   "metadata": {},
   "source": [
    "## Ans : 4\n",
    "\n",
    "If both the Mean Squared Error (MSE) and Root Mean Squared Error (RMSE) values are very close, it is advisable to choose RMSE as the evaluation metric for the SVM regression model using a polynomial kernel. RMSE is the square root of MSE and provides an interpretable metric in the original scale of the target variable. By taking the square root, RMSE expresses the average prediction error in the same units as the target variable, making it more easily interpretable and comparable to the original house price values."
   ]
  },
  {
   "cell_type": "markdown",
   "id": "6d42e9ca",
   "metadata": {},
   "source": [
    "## Ans : 5\n",
    "\n",
    "When comparing the performance of different SVM regression models with different kernels (linear, polynomial, and RBF), an appropriate evaluation metric to measure how well the model explains the variance in the target variable would be the R-squared (coefficient of determination). R-squared measures the proportion of the variance in the target variable that is explained by the model. A higher R-squared value indicates that the model is better at explaining the variance in the target variable, making it a suitable metric for assessing the performance of the different SVM regression models with various kernels."
   ]
  },
  {
   "cell_type": "code",
   "execution_count": null,
   "id": "0a1b2db9",
   "metadata": {},
   "outputs": [],
   "source": []
  }
 ],
 "metadata": {
  "kernelspec": {
   "display_name": "Python 3 (ipykernel)",
   "language": "python",
   "name": "python3"
  },
  "language_info": {
   "codemirror_mode": {
    "name": "ipython",
    "version": 3
   },
   "file_extension": ".py",
   "mimetype": "text/x-python",
   "name": "python",
   "nbconvert_exporter": "python",
   "pygments_lexer": "ipython3",
   "version": "3.9.12"
  }
 },
 "nbformat": 4,
 "nbformat_minor": 5
}
