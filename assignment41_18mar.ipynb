{
 "cells": [
  {
   "cell_type": "markdown",
   "metadata": {},
   "source": [
    "## Ans : 1\n",
    "\n",
    "The Filter method in feature selection is a technique that ranks features based on their statistical properties and relevance to the target variable. It involves applying statistical measures to each feature independently and selecting the top-ranked features. The Filter method does not consider the interaction between features or the specific learning algorithm used. Examples of filter methods include correlation-based feature selection, chi-square test, and information gain."
   ]
  },
  {
   "attachments": {},
   "cell_type": "markdown",
   "metadata": {},
   "source": [
    "## Ans : 2\n",
    "\n",
    "The Wrapper method differs from the Filter method in that it evaluates the performance of the learning algorithm using different subsets of features. It selects features based on their impact on the predictive performance of the model. The Wrapper method uses a specific learning algorithm to assess the quality of feature subsets by training and evaluating the model iteratively. It takes into account the interaction between features and is computationally more expensive compared to the Filter method."
   ]
  },
  {
   "attachments": {},
   "cell_type": "markdown",
   "metadata": {},
   "source": [
    "## Ans : 3\n",
    "\n",
    " Some common techniques used in Embedded feature selection methods include:\n",
    "\n",
    "Lasso (Least Absolute Shrinkage and Selection Operator): It uses L1 regularization to encourage sparsity in the feature weights and automatically selects the most relevant features.\n",
    "Ridge Regression: It uses L2 regularization to shrink the less important features towards zero without eliminating them entirely.\n",
    "Elastic Net: It combines L1 and L2 regularization to select relevant features while handling collinearity."
   ]
  },
  {
   "attachments": {},
   "cell_type": "markdown",
   "metadata": {},
   "source": [
    "## Ans : 4\n",
    "\n",
    "Drawbacks of using the Filter method for feature selection include:\n",
    "\n",
    "Lack of consideration for feature interaction: The Filter method evaluates each feature independently and does not consider the combined impact of multiple features on the target variable.\n",
    "Inability to handle redundant features: If multiple features are highly correlated, the Filter method may select all of them, leading to redundancy in the feature set.\n",
    "Reliance on statistical measures: The Filter method relies on statistical measures, which may not always capture the true relevance of features in a specific learning task."
   ]
  },
  {
   "attachments": {},
   "cell_type": "markdown",
   "metadata": {},
   "source": [
    "## Ans : 5\n",
    "\n",
    " The Filter method is preferred over the Wrapper method in the following situations:\n",
    "\n",
    "When the dataset is large: The Filter method is computationally less expensive than the Wrapper method, making it more suitable for large datasets.\n",
    "When feature independence is desirable: If the goal is to select features independently of the learning algorithm or the interaction between features, the Filter method can be a good choice.\n",
    "When interpretability is important: The Filter method provides a ranking or score for each feature, making it easier to interpret the importance of individual features."
   ]
  },
  {
   "attachments": {},
   "cell_type": "markdown",
   "metadata": {},
   "source": [
    "## Ans : 6\n",
    "\n",
    "To choose the most pertinent attributes for the customer churn model in the telecom company using the Filter Method:\n",
    "\n",
    "Calculate the statistical measures for each feature, such as correlation coefficient or information gain, with respect to the target variable (churn).\n",
    "Rank the features based on their scores or rankings.\n",
    "Set a threshold or select the top-k features based on the rankings.\n",
    "Perform further analysis and modeling using the selected features."
   ]
  },
  {
   "attachments": {},
   "cell_type": "markdown",
   "metadata": {},
   "source": [
    "## Ans : 7\n",
    "\n",
    " To use the Embedded method for feature selection in predicting soccer match outcomes:\n",
    "\n",
    "Apply a learning algorithm, such as a regression or classification model, and assess the importance or weights assigned to each feature.\n",
    "Rank the features based on their importance or weights from the model.\n",
    "Set a threshold or select the top-k features based on the rankings.\n",
    "Evaluate the model's performance using the selected features and iterate if necessary."
   ]
  },
  {
   "attachments": {},
   "cell_type": "markdown",
   "metadata": {},
   "source": [
    "## Ans : 8\n",
    "\n",
    "To use the Wrapper method for selecting the best set of features in predicting house prices:\n",
    "\n",
    "Start with an initial subset of features.\n",
    "Train a predictive model using the chosen subset of features.\n",
    "Evaluate the model's performance using an appropriate metric (e.g., mean squared error).\n",
    "Iteratively add or remove features and retrain the model, evaluating the performance at each step.\n",
    "Select the subset of features that leads to the best model performance based on the evaluation metric."
   ]
  },
  {
   "cell_type": "markdown",
   "metadata": {},
   "source": []
  }
 ],
 "metadata": {
  "language_info": {
   "name": "python"
  },
  "orig_nbformat": 4
 },
 "nbformat": 4,
 "nbformat_minor": 2
}
