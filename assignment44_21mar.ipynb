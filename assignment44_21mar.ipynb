{
 "cells": [
  {
   "attachments": {},
   "cell_type": "markdown",
   "metadata": {},
   "source": [
    "## Ans : 1\n",
    "\n",
    "The difference between Ordinal Encoding and Label Encoding lies in the nature of the categorical variable and the relationship between its categories:\n",
    "\n",
    "Ordinal Encoding: In Ordinal Encoding, each category is assigned a unique integer value based on the specified order or ranking of the categories. For example, if we have a \"Size\" feature with categories \"Small,\" \"Medium,\" and \"Large,\" we might assign the values 0, 1, and 2, respectively. Ordinal Encoding is suitable when the categories have an inherent order or ranking.\n",
    "\n",
    "Label Encoding: Label Encoding, also known as nominal encoding, assigns a unique integer value to each category without considering any order or ranking. For example, if we have a \"Color\" feature with categories \"Red,\" \"Green,\" and \"Blue,\" we might assign the values 0, 1, and 2, respectively. Label Encoding is suitable when the categories have no inherent order or ranking.\n",
    "\n",
    "You might choose Ordinal Encoding when the categorical variable has a clear order or hierarchy, such as \"Education Level\" with categories \"High School,\" \"Bachelor's,\" \"Master's,\" and \"PhD.\" On the other hand, you would choose Label Encoding when the categories are purely nominal and do not have a specific order, such as \"Color\" or \"Material.\""
   ]
  },
  {
   "attachments": {},
   "cell_type": "markdown",
   "metadata": {},
   "source": [
    "## Ans : 2 \n",
    "\n",
    "Target Guided Ordinal Encoding is a technique where each category of a categorical variable is assigned a value based on the relationship between the category and the target variable. It involves calculating the mean, median, or some other statistical measure of the target variable for each category and ordering the categories accordingly. This encoding captures the relationship between the categories and the target variable, making it useful in cases where the target variable is important for the predictive model.\n",
    "\n",
    "For example, in a machine learning project predicting customer churn, you might use Target Guided Ordinal Encoding for a categorical feature like \"Education Level.\" You would calculate the average churn rate for each education level category, order the categories based on the churn rates, and assign numeric labels accordingly. This encoding would reflect the relationship between education level and the likelihood of churn in the resulting encoded feature."
   ]
  },
  {
   "attachments": {},
   "cell_type": "markdown",
   "metadata": {},
   "source": [
    "##  Ans : 3\n",
    "\n",
    "Covariance is a statistical measure that quantifies the relationship between two variables. It indicates how changes in one variable correspond to changes in another variable. Covariance is important in statistical analysis because it helps understand the direction and strength of the relationship between variables.\n",
    "\n",
    "Covariance is calculated using the following formula:\n",
    "cov(X, Y) = Σ[(X_i - X̄)(Y_i - Ȳ)] / (n - 1)\n",
    "\n",
    "Where:\n",
    "\n",
    "X and Y are the variables for which covariance is calculated.\n",
    "X_i and Y_i are individual data points.\n",
    "X̄ and Ȳ are the means of X and Y, respectively.\n",
    "n is the number of data points.\n",
    "The resulting covariance value can be positive, negative, or zero. A positive covariance indicates a positive relationship between the variables, meaning they tend to move in the same direction. A negative covariance indicates a negative relationship, where the variables tend to move in opposite directions. A covariance close to zero suggests little to no relationship between the variables."
   ]
  },
  {
   "cell_type": "code",
   "execution_count": 1,
   "metadata": {},
   "outputs": [
    {
     "name": "stdout",
     "output_type": "stream",
     "text": [
      "[2 1 0]\n",
      "[2 1 0]\n",
      "[2 0 1]\n"
     ]
    }
   ],
   "source": [
    "## Ans : 4\n",
    "\n",
    "from sklearn.preprocessing import LabelEncoder\n",
    "\n",
    "# Create the label encoder object\n",
    "label_encoder = LabelEncoder()\n",
    "\n",
    "# Create a list of categorical variables\n",
    "color = ['red', 'green', 'blue']\n",
    "size = ['small', 'medium', 'large']\n",
    "material = ['wood', 'metal', 'plastic']\n",
    "\n",
    "# Apply label encoding to each categorical variable\n",
    "color_encoded = label_encoder.fit_transform(color)\n",
    "size_encoded = label_encoder.fit_transform(size)\n",
    "material_encoded = label_encoder.fit_transform(material)\n",
    "\n",
    "# Print the encoded values\n",
    "print(color_encoded)\n",
    "print(size_encoded)\n",
    "print(material_encoded)\n"
   ]
  },
  {
   "cell_type": "code",
   "execution_count": 2,
   "metadata": {},
   "outputs": [
    {
     "name": "stdout",
     "output_type": "stream",
     "text": [
      "[[6.250e+01 9.375e+04 2.500e+00]\n",
      " [9.375e+04 1.450e+08 1.750e+03]\n",
      " [2.500e+00 1.750e+03 1.700e+00]]\n"
     ]
    }
   ],
   "source": [
    "## Ans : 5\n",
    "\n",
    "import numpy as np\n",
    "\n",
    "# Create the dataset\n",
    "age = [30, 40, 35, 45, 50]\n",
    "income = [50000, 60000, 55000, 70000, 80000]\n",
    "education_level = [1, 3, 2, 4, 1]\n",
    "\n",
    "# Create a numpy array with the variables\n",
    "dataset = np.array([age, income, education_level])\n",
    "\n",
    "# Calculate the covariance matrix\n",
    "covariance_matrix = np.cov(dataset)\n",
    "\n",
    "# Print the covariance matrix\n",
    "print(covariance_matrix)\n"
   ]
  },
  {
   "cell_type": "markdown",
   "metadata": {},
   "source": [
    "## Ans  : 6\n",
    "\n",
    "For the categorical variables \"Gender,\" \"Education Level,\" and \"Employment Status\" in a machine learning project, you can use the following encoding methods:\n",
    "\n",
    "Gender: Since \"Gender\" is a binary categorical variable (Male/Female), you can use nominal encoding or label encoding. Assigning 0 for Male and 1 for Female would be sufficient.\n",
    "\n",
    "Education Level: Since \"Education Level\" has multiple categories with no inherent order, you can use one-hot encoding. Each education level category (High School, Bachelor's, Master's, PhD) would be represented by a binary column (dummy variable).\n",
    "\n",
    "Employment Status: Similar to \"Education Level,\" you can also use one-hot encoding for \"Employment Status\" since it has multiple categories with no order. Each employment status category (Unemployed, Part-Time, Full-Time) would be represented by a binary column.\n",
    "\n",
    "Using one-hot encoding for \"Education Level\" and \"Employment Status\" allows the machine learning algorithm to understand the distinct categories without imposing any order or rank."
   ]
  },
  {
   "cell_type": "code",
   "execution_count": 3,
   "metadata": {},
   "outputs": [
    {
     "name": "stdout",
     "output_type": "stream",
     "text": [
      "[[ 3.7   2.5   1.05  1.05]\n",
      " [ 2.5  62.5   0.    1.25]\n",
      " [ 1.05  0.    0.7   0.2 ]\n",
      " [ 1.05  1.25  0.2   1.7 ]]\n"
     ]
    }
   ],
   "source": [
    "## Ans : 7\n",
    "\n",
    "import numpy as np\n",
    "\n",
    "# Create the dataset\n",
    "temperature = [25, 30, 28, 26, 27]\n",
    "humidity = [50, 60, 55, 65, 70]\n",
    "weather_condition = [0, 1, 2, 0, 1]\n",
    "wind_direction = [2, 3, 1, 0, 3]\n",
    "\n",
    "# Create a numpy array with the variables\n",
    "dataset = np.array([temperature, humidity, weather_condition, wind_direction])\n",
    "\n",
    "# Calculate the covariance matrix\n",
    "covariance_matrix = np.cov(dataset)\n",
    "\n",
    "# Print the covariance matrix\n",
    "print(covariance_matrix)\n"
   ]
  },
  {
   "cell_type": "code",
   "execution_count": null,
   "metadata": {},
   "outputs": [],
   "source": []
  }
 ],
 "metadata": {
  "kernelspec": {
   "display_name": "base",
   "language": "python",
   "name": "python3"
  },
  "language_info": {
   "codemirror_mode": {
    "name": "ipython",
    "version": 3
   },
   "file_extension": ".py",
   "mimetype": "text/x-python",
   "name": "python",
   "nbconvert_exporter": "python",
   "pygments_lexer": "ipython3",
   "version": "3.9.12"
  },
  "orig_nbformat": 4
 },
 "nbformat": 4,
 "nbformat_minor": 2
}
