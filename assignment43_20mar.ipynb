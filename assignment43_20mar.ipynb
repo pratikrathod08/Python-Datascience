{
 "cells": [
  {
   "cell_type": "markdown",
   "metadata": {},
   "source": [
    "## Ans : 1\n",
    "\n",
    "Data encoding refers to the process of converting categorical or textual data into numerical representations that can be used by machine learning algorithms. It is useful in data science because many machine learning algorithms require numerical inputs, and encoding allows us to represent categorical data in a meaningful way for these algorithms."
   ]
  },
  {
   "attachments": {},
   "cell_type": "markdown",
   "metadata": {},
   "source": [
    "## Ans : 2\n",
    "\n",
    "Nominal encoding, also known as label encoding, assigns a unique integer value to each category in a categorical variable. For example, in a real-world scenario of a customer dataset, we may have a \"City\" feature with categories like \"New York,\" \"London,\" and \"Tokyo.\" Nominal encoding would assign numeric labels like 0, 1, and 2 to these categories, respectively."
   ]
  },
  {
   "attachments": {},
   "cell_type": "markdown",
   "metadata": {},
   "source": [
    "## Ans : 3\n",
    "\n",
    "Nominal encoding is preferred over one-hot encoding when the categorical variable has a large number of unique categories or when the categories have an inherent order or ranking. For example, in a dataset with a \"Education Level\" feature ranging from \"High School\" to \"PhD,\" nominal encoding can represent the different levels as integer labels (0 for \"High School,\" 1 for \"Bachelor's,\" 2 for \"Master's,\" etc.) without creating a high-dimensional one-hot encoded representation."
   ]
  },
  {
   "attachments": {},
   "cell_type": "markdown",
   "metadata": {},
   "source": [
    "## Ans : 4\n",
    "\n",
    " If the dataset contains categorical data with five unique values, the choice of encoding technique would depend on the nature of the categorical variable. If the categories have an inherent order or ranking, ordinal encoding could be used. If there is no particular order or ranking, nominal encoding (label encoding) would be suitable. One-hot encoding would create five additional binary columns, which might lead to high dimensionality and potential issues if the dataset is small or if there are many unique values."
   ]
  },
  {
   "attachments": {},
   "cell_type": "markdown",
   "metadata": {},
   "source": [
    "## Ans : 5\n",
    "\n",
    "If two columns in a dataset with 1000 rows are categorical and nominal encoding is used, the number of new columns created would be one less than the number of unique values in each categorical column. Assuming the first categorical column has 5 unique values and the second categorical column has 3 unique values, the total number of new columns created would be (5-1) + (3-1) = 6."
   ]
  },
  {
   "attachments": {},
   "cell_type": "markdown",
   "metadata": {},
   "source": [
    "## Ans : 6\n",
    "\n",
    "To transform categorical data about different types of animals, such as species, habitat, and diet, into a format suitable for machine learning algorithms, one-hot encoding would be suitable. Each unique category in each categorical feature would be represented by a binary column, indicating the presence or absence of that category for each data point. This allows the machine learning algorithm to understand the relationships between different categories without imposing any order or rank."
   ]
  },
  {
   "attachments": {},
   "cell_type": "markdown",
   "metadata": {},
   "source": [
    "## Ans : 7\n",
    "\n",
    " To transform the categorical data into numerical data for predicting customer churn, a combination of nominal encoding and one-hot encoding could be used. Here is a step-by-step explanation:\n",
    "\n",
    "Perform nominal encoding on the \"gender\" feature, assigning numeric labels (e.g., 0 for \"Male\" and 1 for \"Female\").\n",
    "Perform nominal encoding on the \"contract type\" feature, assigning numeric labels (e.g., 0 for \"Month-to-month,\" 1 for \"One year,\" and 2 for \"Two year\").\n",
    "Apply one-hot encoding on the \"contract type\" feature. This will create three additional binary columns, each representing one of the contract types. The original \"contract type\" column can be dropped.\n",
    "The \"age\" and \"monthly charges\" columns are already numerical, so no further encoding is needed.\n",
    "The \"tenure\" column can be used as it is since it represents a numerical value.\n",
    "After these encoding steps, the dataset would have the original \"age,\" \"monthly charges,\" and \"tenure\" columns as numerical features, the nominal-encoded \"gender\" column, and the one-hot encoded \"contract type\" columns.\n"
   ]
  },
  {
   "cell_type": "markdown",
   "metadata": {},
   "source": []
  }
 ],
 "metadata": {
  "language_info": {
   "name": "python"
  },
  "orig_nbformat": 4
 },
 "nbformat": 4,
 "nbformat_minor": 2
}
