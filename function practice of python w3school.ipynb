{
 "cells": [
  {
   "cell_type": "code",
   "execution_count": 1,
   "id": "6a340e40",
   "metadata": {},
   "outputs": [
    {
     "name": "stdout",
     "output_type": "stream",
     "text": [
      "5502622159812088949850305428800254892961651752960000000000\n"
     ]
    }
   ],
   "source": [
    "def fec(num):\n",
    " ''' to find fectorial '''\n",
    " if num < 0 :\n",
    "  result = print(\"not defined\")\n",
    " elif num > 0 :\n",
    "  result = 1\n",
    "  for i in range(1,num+1):\n",
    "   result=result*i\n",
    " else :\n",
    "  result = print(\"zero is 1\")\n",
    " return result\n",
    "print(str(fec(46)))"
   ]
  },
  {
   "cell_type": "code",
   "execution_count": 2,
   "id": "b832c422",
   "metadata": {},
   "outputs": [
    {
     "name": "stdout",
     "output_type": "stream",
     "text": [
      "5\n",
      "nothing\n"
     ]
    }
   ],
   "source": [
    "\n",
    "a=(int(input()))\n",
    "if a==1:\n",
    "    print('you are in herrys folder ')\n",
    "elif a==2:\n",
    "    print('you are in rohans folder')\n",
    "elif a==3:\n",
    "    print('you are in amans folder')\n",
    "else:\n",
    "        \n",
    "    print('nothing')\n"
   ]
  },
  {
   "cell_type": "code",
   "execution_count": 3,
   "id": "7cd81c5c",
   "metadata": {},
   "outputs": [
    {
     "name": "stdout",
     "output_type": "stream",
     "text": [
      "type number which factorial you want :55\n",
      "12696403353658275925965100847566516959580321051449436762275840000000000000\n"
     ]
    }
   ],
   "source": [
    "#  find out factorial number \n",
    "a=1\n",
    "for i in range(int(input('type number which factorial you want :'))+1):\n",
    "    if i>0:\n",
    "        a=a*i\n",
    "print(a)"
   ]
  },
  {
   "cell_type": "markdown",
   "id": "5a4980ac",
   "metadata": {},
   "source": [
    "# w3school function practice"
   ]
  },
  {
   "cell_type": "code",
   "execution_count": 6,
   "id": "401a37eb",
   "metadata": {},
   "outputs": [
    {
     "name": "stdout",
     "output_type": "stream",
     "text": [
      "9\n"
     ]
    }
   ],
   "source": [
    "# 1. Write a Python function to find the Max of three numbers.\n",
    "num=[2,5,9]\n",
    "a=0\n",
    "for i in num:\n",
    "    if i>a:\n",
    "        a=i\n",
    "print(a)\n",
    "            "
   ]
  },
  {
   "cell_type": "code",
   "execution_count": 7,
   "id": "6cf73104",
   "metadata": {},
   "outputs": [
    {
     "name": "stdout",
     "output_type": "stream",
     "text": [
      "6\n"
     ]
    }
   ],
   "source": [
    "# site solution\n",
    "def max_of_two( x, y ):\n",
    "    if x > y:\n",
    "        return x\n",
    "    return y\n",
    "def max_of_three( x, y, z ):\n",
    "    return max_of_two( x, max_of_two( y, z ) )\n",
    "print(max_of_three(3, 6, -5))"
   ]
  },
  {
   "cell_type": "code",
   "execution_count": 8,
   "id": "d8d07954",
   "metadata": {},
   "outputs": [
    {
     "name": "stdout",
     "output_type": "stream",
     "text": [
      "55\n",
      "190\n"
     ]
    }
   ],
   "source": [
    "# 2. Write a Python function to sum all the numbers in a list.\n",
    "alist=int(input())\n",
    "def sumx(alist):\n",
    "    a=0\n",
    "    for i in range(alist):\n",
    "        a=a+i\n",
    "    return a\n",
    "\n",
    "print(sumx(20))"
   ]
  },
  {
   "cell_type": "code",
   "execution_count": 9,
   "id": "e8311291",
   "metadata": {},
   "outputs": [
    {
     "name": "stdout",
     "output_type": "stream",
     "text": [
      "20\n"
     ]
    }
   ],
   "source": [
    "# site solution\n",
    "def sum(numbers):\n",
    "    total = 0\n",
    "    for x in numbers:\n",
    "        total += x\n",
    "    return total\n",
    "print(sum((8, 2, 3, 0, 7)))"
   ]
  },
  {
   "cell_type": "code",
   "execution_count": 10,
   "id": "f92b4c95",
   "metadata": {},
   "outputs": [
    {
     "name": "stdout",
     "output_type": "stream",
     "text": [
      "48\n"
     ]
    }
   ],
   "source": [
    "#  3.Write a Python function to multiply all the numbers in a list.\n",
    "def mull(*a):\n",
    "    b=1\n",
    "    for i in a:\n",
    "        b = i*b\n",
    "    return b\n",
    "print(mull(2,4,6))"
   ]
  },
  {
   "cell_type": "code",
   "execution_count": 11,
   "id": "532aee29",
   "metadata": {},
   "outputs": [
    {
     "name": "stdout",
     "output_type": "stream",
     "text": [
      "-336\n"
     ]
    }
   ],
   "source": [
    "#  site solution\n",
    "def multiply(numbers):  \n",
    "    total = 1\n",
    "    for x in numbers:\n",
    "        total *= x  \n",
    "    return total  \n",
    "print(multiply((8, 2, 3, -1, 7)))"
   ]
  },
  {
   "cell_type": "code",
   "execution_count": 12,
   "id": "5653e560",
   "metadata": {},
   "outputs": [
    {
     "name": "stdout",
     "output_type": "stream",
     "text": [
      "lak\n"
     ]
    }
   ],
   "source": [
    "# 4. Write a Python program to reverse a string.\n",
    "\n",
    "def reve(d):\n",
    "    d=d[::-1]\n",
    "    return d\n",
    "print(reve('kal'))\n",
    "    "
   ]
  },
  {
   "cell_type": "code",
   "execution_count": 13,
   "id": "42fd5a78",
   "metadata": {},
   "outputs": [
    {
     "name": "stdout",
     "output_type": "stream",
     "text": [
      "dcba4321\n"
     ]
    }
   ],
   "source": [
    "# site solution\n",
    "def string_reverse(str1):\n",
    "\n",
    "    rstr1 = ''\n",
    "    index = len(str1)\n",
    "    while index > 0:\n",
    "        rstr1 += str1[ index - 1 ]\n",
    "        index = index - 1\n",
    "    return rstr1\n",
    "print(string_reverse('1234abcd'))"
   ]
  },
  {
   "cell_type": "code",
   "execution_count": 14,
   "id": "b43d47f2",
   "metadata": {},
   "outputs": [
    {
     "name": "stdout",
     "output_type": "stream",
     "text": [
      "type number which factorial you want :4\n",
      "24\n"
     ]
    }
   ],
   "source": [
    "#  5.Write a Python function to calculate the factorial of a number (a non-negative integer).\n",
    "# The function accepts the number as an argument. \n",
    "a=1\n",
    "for i in range(int(input('type number which factorial you want :'))+1):\n",
    "    if i>0:\n",
    "        a=a*i\n",
    "print(a)"
   ]
  },
  {
   "cell_type": "code",
   "execution_count": 15,
   "id": "0dd41a98",
   "metadata": {},
   "outputs": [
    {
     "name": "stdout",
     "output_type": "stream",
     "text": [
      "Input a number to compute the factiorial : 5\n",
      "120\n"
     ]
    }
   ],
   "source": [
    "# site solution\n",
    "def factorial(n):\n",
    "    if n == 0:\n",
    "        return 1\n",
    "    else:\n",
    "        return n * factorial(n-1)\n",
    "n=int(input(\"Input a number to compute the factiorial : \"))\n",
    "print(factorial(n))"
   ]
  },
  {
   "cell_type": "code",
   "execution_count": 16,
   "id": "5dbf57f3",
   "metadata": {},
   "outputs": [
    {
     "name": "stdout",
     "output_type": "stream",
     "text": [
      "your number 6 in range\n",
      "None\n"
     ]
    }
   ],
   "source": [
    "#  6. Write a Python function to check whether a number falls in a given range.\n",
    "def check_range(r):\n",
    "    if r in range(4,8):\n",
    "        print(f'your number {r} in range')\n",
    "    else:\n",
    "        print(f'your number {r} is not in range')\n",
    "print(check_range(6))\n",
    "    \n"
   ]
  },
  {
   "cell_type": "code",
   "execution_count": 17,
   "id": "97d57c02",
   "metadata": {},
   "outputs": [
    {
     "name": "stdout",
     "output_type": "stream",
     "text": [
      " 5 is in the range\n"
     ]
    }
   ],
   "source": [
    "# site solution\n",
    "def test_range(n):\n",
    "    if n in range(3,9):\n",
    "        print( \" %s is in the range\"%str(n))\n",
    "    else :\n",
    "        print(\"The number is outside the given range.\")\n",
    "test_range(5)"
   ]
  },
  {
   "cell_type": "code",
   "execution_count": 18,
   "id": "a3969b5d",
   "metadata": {},
   "outputs": [
    {
     "name": "stdout",
     "output_type": "stream",
     "text": [
      "total count of upper case is 1\n",
      "total count of lower case is 2\n",
      "None\n"
     ]
    }
   ],
   "source": [
    "# 7. Write a Python function that accepts a string and \n",
    "# calculate the number of upper case letters and lower case letters.\n",
    "\n",
    "def uplow(ul):\n",
    "    a=0\n",
    "    b=0\n",
    "    for i in ul:\n",
    "        if i == i.upper():\n",
    "            a=a+1\n",
    "        else:\n",
    "            b=b+1\n",
    "    print(f'total count of upper case is {a}')\n",
    "    print(f'total count of lower case is {b}')           \n",
    "print(uplow('Jay'))    "
   ]
  },
  {
   "cell_type": "code",
   "execution_count": 19,
   "id": "32edec37",
   "metadata": {},
   "outputs": [
    {
     "name": "stdout",
     "output_type": "stream",
     "text": [
      "Original String :  The quick Brown Fox\n",
      "No. of Upper case characters :  3\n",
      "No. of Lower case Characters :  13\n"
     ]
    }
   ],
   "source": [
    "# site solution\n",
    "def string_test(s):\n",
    "    d={\"UPPER_CASE\":0, \"LOWER_CASE\":0}\n",
    "    for c in s:\n",
    "        if c.isupper():\n",
    "           d[\"UPPER_CASE\"]+=1\n",
    "        elif c.islower():\n",
    "           d[\"LOWER_CASE\"]+=1\n",
    "        else:\n",
    "           pass\n",
    "    print (\"Original String : \", s)\n",
    "    print (\"No. of Upper case characters : \", d[\"UPPER_CASE\"])\n",
    "    print (\"No. of Lower case Characters : \", d[\"LOWER_CASE\"])\n",
    "\n",
    "string_test('The quick Brown Fox')"
   ]
  },
  {
   "cell_type": "code",
   "execution_count": 21,
   "id": "e9bf5412",
   "metadata": {},
   "outputs": [
    {
     "name": "stdout",
     "output_type": "stream",
     "text": [
      "[1, 11, 111]\n",
      "None\n"
     ]
    }
   ],
   "source": [
    "# 8. Write a Python function that takes a list and returns\n",
    "# a new list with unique elements of the first list. \n",
    "\n",
    "def uni(l):\n",
    "    i=set(l)\n",
    "    a=list(i)\n",
    "    print(a)\n",
    "    \n",
    "print(uni([1,11,111,111,111,11,11,11]))"
   ]
  },
  {
   "cell_type": "code",
   "execution_count": 22,
   "id": "eefea7d1",
   "metadata": {},
   "outputs": [
    {
     "name": "stdout",
     "output_type": "stream",
     "text": [
      "[2]\n"
     ]
    }
   ],
   "source": [
    "a=[1,22,33,2,33,22,1]\n",
    "b=[]\n",
    "for i in a:\n",
    "    if a.count(i)>1:\n",
    "        continue\n",
    "    else:\n",
    "        b.append(i)\n",
    "print(b)\n",
    "            \n",
    "    \n",
    "    \n"
   ]
  },
  {
   "cell_type": "code",
   "execution_count": 24,
   "id": "e66566ff",
   "metadata": {},
   "outputs": [
    {
     "name": "stdout",
     "output_type": "stream",
     "text": [
      "[1, 2, 3, 4, 5]\n"
     ]
    }
   ],
   "source": [
    "# site solution\n",
    "\n",
    "def unique_list(l):\n",
    "  x = []\n",
    "  for a in l:\n",
    "    if a not in x:\n",
    "      x.append(a)\n",
    "  return x\n",
    "\n",
    "print(unique_list([1,2,3,3,3,3,4,5])) "
   ]
  },
  {
   "cell_type": "code",
   "execution_count": 25,
   "id": "9bc0562a",
   "metadata": {},
   "outputs": [
    {
     "name": "stdout",
     "output_type": "stream",
     "text": [
      "this number is prime number\n",
      "None\n"
     ]
    }
   ],
   "source": [
    "# 9. Write a Python function that takes a number as a parameter and check the number is prime or not. Go to the editor\n",
    "# Note : A prime number (or a prime) is a natural number greater than 1 and that has no positive divisors other than 1 and itself.\n",
    "def prime(num):\n",
    "    a=[]\n",
    "    for i in range(2,num +1):\n",
    "        if (num%i ==0):\n",
    "            a.append(i)\n",
    "    if len(a)>1:\n",
    "        print('this is not a prime number')\n",
    "    else:\n",
    "         print('this number is prime number')\n",
    "print(prime(7))                "
   ]
  },
  {
   "cell_type": "code",
   "execution_count": 27,
   "id": "d2d95211",
   "metadata": {},
   "outputs": [
    {
     "name": "stdout",
     "output_type": "stream",
     "text": [
      "False\n"
     ]
    }
   ],
   "source": [
    "# site solution\n",
    "\n",
    "def test_prime(n):\n",
    "    if (n==1):\n",
    "        return False\n",
    "    elif (n==2):\n",
    "        return True;\n",
    "    else:\n",
    "        for x in range(2,n):\n",
    "            if(n % x==0):\n",
    "                return False\n",
    "        return True             \n",
    "print(test_prime(9))"
   ]
  },
  {
   "cell_type": "code",
   "execution_count": 28,
   "id": "12bbbd51",
   "metadata": {},
   "outputs": [
    {
     "name": "stdout",
     "output_type": "stream",
     "text": [
      "this number 2 is even number\n",
      "this number 4 is even number\n",
      "this number 6 is even number\n",
      "this number 78 is even number\n"
     ]
    }
   ],
   "source": [
    "# 10. Write a Python program to print the even numbers from a given list. \n",
    "\n",
    "def even(num):\n",
    "    for i in num:\n",
    "        if i%2==0:\n",
    "            print(f'this number {i} is even number')\n",
    "even([1,2,3,4,5,6,78])"
   ]
  },
  {
   "cell_type": "code",
   "execution_count": 29,
   "id": "5b62b4c5",
   "metadata": {},
   "outputs": [
    {
     "name": "stdout",
     "output_type": "stream",
     "text": [
      "[2, 4, 6, 8]\n"
     ]
    }
   ],
   "source": [
    "#  site solution\n",
    "\n",
    "def is_even_num(l):\n",
    "    enum = []\n",
    "    for n in l:\n",
    "        if n % 2 == 0:\n",
    "            enum.append(n)\n",
    "    return enum\n",
    "print(is_even_num([1, 2, 3, 4, 5, 6, 7, 8, 9]))"
   ]
  },
  {
   "cell_type": "code",
   "execution_count": 30,
   "id": "92025e34",
   "metadata": {},
   "outputs": [],
   "source": [
    "# 11. Write a Python function to check whether a number is perfect or not. Go to the editor\n",
    "# According to Wikipedia : In number theory, a perfect number is a positive integer that is equal to the sum of its proper positive divisors, that is, the sum of its positive divisors excluding the number itself (also known as its aliquot sum). Equivalently, a perfect number is a number that is half the sum of all of its positive divisors (including itself).\n",
    "# Example : The first perfect number is 6, because 1, 2, and 3 are its proper positive divisors, and 1 + 2 + 3 = 6. Equivalently, the number 6 is equal to half the sum of all its positive divisors: ( 1 + 2 + 3 + 6 ) / 2 = 6. The next perfect number is 28 = 1 + 2 + 4 + 7 + 14. This is followed by the perfect numbers 496 and 8128.\n",
    "\n",
    "def perfect(num):\n",
    "    a=6\n",
    "    for j in range(a,num+1):\n",
    "        sum = 0\n",
    "        for i in range(a,a+1):\n",
    "            if j%i==0:\n",
    "                sum += i\n",
    "            else:\n",
    "                pass\n",
    "        if sum ==j:\n",
    "            print(f\"{j} is number is perfect number bucause it's all divisors sum is equal to the number. \")      "
   ]
  },
  {
   "cell_type": "code",
   "execution_count": 31,
   "id": "4d3cc0ff",
   "metadata": {},
   "outputs": [
    {
     "name": "stdout",
     "output_type": "stream",
     "text": [
      "6 is number is perfect number bucause it's all divisors sum is equal to the number. \n",
      "None\n"
     ]
    }
   ],
   "source": [
    "print(perfect(200))"
   ]
  },
  {
   "cell_type": "code",
   "execution_count": 32,
   "id": "e4c0ae41",
   "metadata": {},
   "outputs": [
    {
     "name": "stdout",
     "output_type": "stream",
     "text": [
      "False\n"
     ]
    }
   ],
   "source": [
    "# site solution\n",
    "def perfect_number(n):\n",
    "    sum = 0\n",
    "    for x in range(1, n):\n",
    "        if n % x == 0:\n",
    "            sum += x\n",
    "    return sum == n\n",
    "print(perfect_number(12))"
   ]
  },
  {
   "cell_type": "code",
   "execution_count": 33,
   "id": "6b478f0d",
   "metadata": {},
   "outputs": [
    {
     "name": "stdout",
     "output_type": "stream",
     "text": [
      "aba is pelidrome word\n",
      "None\n"
     ]
    }
   ],
   "source": [
    "# 12. Write a Python function that checks whether a passed string is palindrome or not. Go to the editor\n",
    "# Note: A palindrome is a word, phrase, or sequence that reads the same backward as forward, e.g., madam or nurses run.\n",
    "\n",
    "def pelidrome(a):\n",
    "    a1=a[::-1]\n",
    "    if a == a1:\n",
    "        return print(f\"{a} is pelidrome word\")\n",
    "print(pelidrome('aba'))"
   ]
  },
  {
   "cell_type": "code",
   "execution_count": 34,
   "id": "b3dfe558",
   "metadata": {},
   "outputs": [
    {
     "name": "stdout",
     "output_type": "stream",
     "text": [
      "True\n"
     ]
    }
   ],
   "source": [
    "# site solution\n",
    "\n",
    "def isPalindrome(string):\n",
    "\tleft_pos = 0\n",
    "\tright_pos = len(string) - 1\n",
    "\t\n",
    "\twhile right_pos >= left_pos:\n",
    "\t\tif not string[left_pos] == string[right_pos]:\n",
    "\t\t\treturn False\n",
    "\t\tleft_pos += 1\n",
    "\t\tright_pos -= 1\n",
    "\treturn True\n",
    "print(isPalindrome('aza')) "
   ]
  },
  {
   "cell_type": "code",
   "execution_count": 35,
   "id": "42396d54",
   "metadata": {},
   "outputs": [],
   "source": [
    "# 13. Write a Python function that prints out the first n rows of Pascal's triangle. Go to the editor\n",
    "# Note : Pascal's triangle is an arithmetic and geometric figure first imagined by Blaise Pascal.\n",
    "\n"
   ]
  },
  {
   "cell_type": "code",
   "execution_count": 36,
   "id": "ef3f5f9a",
   "metadata": {},
   "outputs": [
    {
     "name": "stdout",
     "output_type": "stream",
     "text": [
      "[1]\n",
      "[1, 1]\n",
      "[1, 2, 1]\n",
      "[1, 3, 3, 1]\n",
      "[1, 4, 6, 4, 1]\n",
      "[1, 5, 10, 10, 5, 1]\n"
     ]
    },
    {
     "data": {
      "text/plain": [
       "True"
      ]
     },
     "execution_count": 36,
     "metadata": {},
     "output_type": "execute_result"
    }
   ],
   "source": [
    "# site code\n",
    "\n",
    "def pascal_triangle(n):\n",
    "   trow = [1]\n",
    "   y = [0]\n",
    "   for x in range(max(n,0)):\n",
    "      print(trow)\n",
    "      trow=[l+r for l,r in zip(trow+y, y+trow)]\n",
    "   return n>=1\n",
    "pascal_triangle(6) "
   ]
  },
  {
   "cell_type": "code",
   "execution_count": 38,
   "id": "ca6137c9",
   "metadata": {},
   "outputs": [
    {
     "name": "stdout",
     "output_type": "stream",
     "text": [
      "this is pangram sentence\n",
      "None\n"
     ]
    }
   ],
   "source": [
    "# 14. Write a Python function to check whether a string is a pangram or not. Go to the editor\n",
    "# Note : Pangrams are words or sentences containing every letter of the alphabet at least once.\n",
    "# For example : \"The quick brown fox jumps over the lazy dog\"\n",
    "# Click me to see the sample solution\n",
    "\n",
    "def pangram(sentence):\n",
    "    sentence1=[]\n",
    "    for i in sentence:\n",
    "        if type(i)==str:\n",
    "            sentence1.append(i)\n",
    "            return print('this is pangram sentence')\n",
    "        else:\n",
    "            print('this sentence is not paligram')\n",
    "print(pangram('hllo dear friends i am riscky rathod'))"
   ]
  },
  {
   "cell_type": "code",
   "execution_count": 39,
   "id": "7338ad83",
   "metadata": {},
   "outputs": [
    {
     "name": "stdout",
     "output_type": "stream",
     "text": [
      "True\n"
     ]
    }
   ],
   "source": [
    "# site solution\n",
    "\n",
    "import string, sys\n",
    "def ispangram(str1, alphabet=string.ascii_lowercase):\n",
    "    alphaset = set(alphabet)\n",
    "    return alphaset <= set(str1.lower())\n",
    " \n",
    "print ( ispangram('The quick brown fox jumps over the lazy dog')) "
   ]
  },
  {
   "cell_type": "code",
   "execution_count": 40,
   "id": "c116af70",
   "metadata": {},
   "outputs": [
    {
     "name": "stdout",
     "output_type": "stream",
     "text": [
      "\n",
      "\n",
      "\n",
      "\n",
      "\n",
      "[]\n"
     ]
    }
   ],
   "source": [
    "# 15. Write a Python program that accepts a hyphen-separated sequence of words as input and prints the words in a hyphen-separated sequence after sorting them alphabetically. Go to the editor\n",
    "# Sample Items : green-red-yellow-black-white\n",
    "# Expected Result : black-green-red-white-yellow\n",
    "\n",
    "def hyphen(seq):\n",
    "    hy=[]\n",
    "    seq2=[]\n",
    "    seq1=seq.split('-')\n",
    "    for i in seq1:\n",
    "        if i == '-':\n",
    "            hy.append(i)\n",
    "            print(i)\n",
    "        else:\n",
    "            seq2.append(i)\n",
    "            print()\n",
    "    seq3=sorted(seq2)\n",
    "    return list(zip(seq3,hy))\n",
    "        \n",
    "print(hyphen('jay-bhole-har-har-mahadev'))          \n",
    "        \n",
    "    \n",
    "\n"
   ]
  },
  {
   "cell_type": "code",
   "execution_count": 42,
   "id": "4c2745d7",
   "metadata": {},
   "outputs": [],
   "source": [
    "def hyphen1(seq):\n",
    "    hy=[]\n",
    "    seq2=[]\n",
    "    seq3=seq2.sort()\n",
    "    seq1=seq.split('-')\n",
    "    for i in seq1:\n",
    "        if i == '-':\n",
    "            hy.append(i)\n",
    "            print(i)\n",
    "        else:\n",
    "            seq2.append(i)\n",
    "    return print('-'.join(seq3))"
   ]
  },
  {
   "cell_type": "code",
   "execution_count": 43,
   "id": "87139263",
   "metadata": {},
   "outputs": [
    {
     "name": "stdout",
     "output_type": "stream",
     "text": [
      "\n",
      "\n"
     ]
    }
   ],
   "source": [
    "# site solution\n",
    "items=[n for n in input().split('-')]\n",
    "items.sort()\n",
    "print('-'.join(items))"
   ]
  },
  {
   "cell_type": "code",
   "execution_count": 44,
   "id": "41c49858",
   "metadata": {},
   "outputs": [
    {
     "ename": "TypeError",
     "evalue": "can only join an iterable",
     "output_type": "error",
     "traceback": [
      "\u001b[1;31m---------------------------------------------------------------------------\u001b[0m",
      "\u001b[1;31mTypeError\u001b[0m                                 Traceback (most recent call last)",
      "Input \u001b[1;32mIn [44]\u001b[0m, in \u001b[0;36m<cell line: 1>\u001b[1;34m()\u001b[0m\n\u001b[1;32m----> 1\u001b[0m \u001b[38;5;28mprint\u001b[39m(\u001b[43mhyphen1\u001b[49m\u001b[43m(\u001b[49m\u001b[38;5;124;43m'\u001b[39;49m\u001b[38;5;124;43mmahadev-har-mahadev\u001b[39;49m\u001b[38;5;124;43m'\u001b[39;49m\u001b[43m)\u001b[49m)\n",
      "Input \u001b[1;32mIn [42]\u001b[0m, in \u001b[0;36mhyphen1\u001b[1;34m(seq)\u001b[0m\n\u001b[0;32m     10\u001b[0m     \u001b[38;5;28;01melse\u001b[39;00m:\n\u001b[0;32m     11\u001b[0m         seq2\u001b[38;5;241m.\u001b[39mappend(i)\n\u001b[1;32m---> 12\u001b[0m \u001b[38;5;28;01mreturn\u001b[39;00m \u001b[38;5;28mprint\u001b[39m(\u001b[38;5;124;43m'\u001b[39;49m\u001b[38;5;124;43m-\u001b[39;49m\u001b[38;5;124;43m'\u001b[39;49m\u001b[38;5;241;43m.\u001b[39;49m\u001b[43mjoin\u001b[49m\u001b[43m(\u001b[49m\u001b[43mseq3\u001b[49m\u001b[43m)\u001b[49m)\n",
      "\u001b[1;31mTypeError\u001b[0m: can only join an iterable"
     ]
    }
   ],
   "source": [
    "print(hyphen1('mahadev-har-mahadev'))"
   ]
  },
  {
   "cell_type": "code",
   "execution_count": 45,
   "id": "f526bdcc",
   "metadata": {},
   "outputs": [
    {
     "name": "stdout",
     "output_type": "stream",
     "text": [
      "1 1\n",
      "2 4\n",
      "3 9\n",
      "4 16\n",
      "5 25\n",
      "6 36\n",
      "7 49\n",
      "8 64\n",
      "9 81\n",
      "10 100\n",
      "11 121\n",
      "12 144\n",
      "13 169\n",
      "14 196\n",
      "15 225\n",
      "16 256\n",
      "17 289\n",
      "18 324\n",
      "19 361\n",
      "20 400\n",
      "21 441\n",
      "22 484\n",
      "23 529\n",
      "24 576\n",
      "25 625\n",
      "26 676\n",
      "27 729\n",
      "28 784\n",
      "29 841\n",
      "None\n"
     ]
    }
   ],
   "source": [
    "# 16 Write a Python function to create and print a list where the values are square of numbers between 1 and 30 (both included).\n",
    "\n",
    "def sq(num):\n",
    "    b=[]\n",
    "    \n",
    "    for i in range(1,num):\n",
    "        b.append(i**2)\n",
    "    for i in range(1,num):\n",
    "        for j in b:\n",
    "            if i**2==j:\n",
    "                print(i,j)\n",
    "print(sq(30))        "
   ]
  },
  {
   "cell_type": "code",
   "execution_count": 46,
   "id": "59ae8052",
   "metadata": {},
   "outputs": [
    {
     "name": "stdout",
     "output_type": "stream",
     "text": [
      "[1, 4, 9, 16, 25, 36, 49, 64, 81, 100, 121, 144, 169, 196, 225, 256, 289, 324, 361, 400]\n"
     ]
    }
   ],
   "source": [
    "# site code\n",
    "def printValues():\n",
    "\tl = list()\n",
    "\tfor i in range(1,21):\n",
    "\t\tl.append(i**2)\n",
    "\tprint(l)\n",
    "\t\t\n",
    "printValues()"
   ]
  },
  {
   "cell_type": "code",
   "execution_count": 47,
   "id": "7c97488f",
   "metadata": {},
   "outputs": [],
   "source": [
    "# 17. Write a Python program to make a chain of function decorators (bold, italic, underline etc.) in Python.\n",
    "\n"
   ]
  },
  {
   "cell_type": "code",
   "execution_count": 48,
   "id": "d962dce6",
   "metadata": {},
   "outputs": [
    {
     "name": "stdout",
     "output_type": "stream",
     "text": [
      "<b><i><u>hello world</u></i></b>\n"
     ]
    }
   ],
   "source": [
    "# site code\n",
    "def make_bold(fn):\n",
    "    def wrapped():\n",
    "        return \"<b>\" + fn() + \"</b>\"\n",
    "    return wrapped\n",
    "\n",
    "def make_italic(fn):\n",
    "    def wrapped():\n",
    "        return \"<i>\" + fn() + \"</i>\"\n",
    "    return wrapped\n",
    "\n",
    "def make_underline(fn):\n",
    "    def wrapped():\n",
    "        return \"<u>\" + fn() + \"</u>\"\n",
    "    return wrapped\n",
    "@make_bold\n",
    "@make_italic\n",
    "@make_underline\n",
    "def hello():\n",
    "    return \"hello world\"\n",
    "print(hello()) ## returns \"<b><i><u>hello world</u></i></b>\""
   ]
  },
  {
   "cell_type": "code",
   "execution_count": 49,
   "id": "3c078045",
   "metadata": {},
   "outputs": [],
   "source": [
    "# 18. Write a Python program to execute a string containing Python code.\n",
    "\n"
   ]
  },
  {
   "cell_type": "code",
   "execution_count": 50,
   "id": "53c47d21",
   "metadata": {},
   "outputs": [
    {
     "name": "stdout",
     "output_type": "stream",
     "text": [
      "hello world\n",
      "Multiply of 2 and 3 is:  6\n"
     ]
    }
   ],
   "source": [
    "# site solution\n",
    "mycode = 'print(\"hello world\")'\n",
    "code = \"\"\"\n",
    "def mutiply(x,y):\n",
    "    return x*y\n",
    "\n",
    "print('Multiply of 2 and 3 is: ',mutiply(2,3))\n",
    "\"\"\"\n",
    "exec(mycode)\n",
    "exec(code)"
   ]
  },
  {
   "cell_type": "code",
   "execution_count": 52,
   "id": "ac7b050b",
   "metadata": {},
   "outputs": [
    {
     "ename": "TypeError",
     "evalue": "'int' object is not iterable",
     "output_type": "error",
     "traceback": [
      "\u001b[1;31m---------------------------------------------------------------------------\u001b[0m",
      "\u001b[1;31mTypeError\u001b[0m                                 Traceback (most recent call last)",
      "Input \u001b[1;32mIn [52]\u001b[0m, in \u001b[0;36m<cell line: 26>\u001b[1;34m()\u001b[0m\n\u001b[0;32m     24\u001b[0m         \u001b[38;5;28;01mfor\u001b[39;00m l \u001b[38;5;129;01min\u001b[39;00m ff(num):\n\u001b[0;32m     25\u001b[0m             \u001b[38;5;28;01mreturn\u001b[39;00m k\u001b[38;5;241m*\u001b[39ml\n\u001b[1;32m---> 26\u001b[0m \u001b[38;5;28mprint\u001b[39m(\u001b[43mmul\u001b[49m\u001b[43m(\u001b[49m\u001b[43m[\u001b[49m\u001b[38;5;241;43m12\u001b[39;49m\u001b[43m,\u001b[49m\u001b[38;5;241;43m24\u001b[39;49m\u001b[43m]\u001b[49m\u001b[43m)\u001b[49m)\n",
      "Input \u001b[1;32mIn [52]\u001b[0m, in \u001b[0;36mmul\u001b[1;34m(num)\u001b[0m\n\u001b[0;32m     22\u001b[0m \u001b[38;5;28;01mdef\u001b[39;00m \u001b[38;5;21mmul\u001b[39m(num):\n\u001b[0;32m     23\u001b[0m     \u001b[38;5;28;01mfor\u001b[39;00m k \u001b[38;5;129;01min\u001b[39;00m (num):\n\u001b[1;32m---> 24\u001b[0m         \u001b[38;5;28;01mfor\u001b[39;00m l \u001b[38;5;129;01min\u001b[39;00m ff(num):\n\u001b[0;32m     25\u001b[0m             \u001b[38;5;28;01mreturn\u001b[39;00m k\u001b[38;5;241m*\u001b[39ml\n",
      "\u001b[1;31mTypeError\u001b[0m: 'int' object is not iterable"
     ]
    }
   ],
   "source": [
    "# 19. Write a Python program to access a function inside a function.\n",
    "def ff(num):\n",
    "    a=[]\n",
    "    b=[]\n",
    "    c=[]\n",
    "    for i in (num):\n",
    "        if i%2==0:\n",
    "            return i\n",
    "#             a.append(i)\n",
    "#             print(\"this no is even {i}\")\n",
    "#         else:\n",
    "#             b.append(i)\n",
    "# def sq1(num):\n",
    "#     b=[]\n",
    "    \n",
    "#     for i in range(1,num):\n",
    "#         b.append(i**2)\n",
    "#     for i in range(1,num):\n",
    "#         for j in b:\n",
    "#             if i**2==j:\n",
    "#                 return i,j\n",
    "def mul(num):\n",
    "    for k in (num):\n",
    "        for l in ff(num):\n",
    "            return k*l\n",
    "print(mul([12,24]))"
   ]
  },
  {
   "cell_type": "code",
   "execution_count": 53,
   "id": "9360b362",
   "metadata": {},
   "outputs": [
    {
     "name": "stdout",
     "output_type": "stream",
     "text": [
      "9\n"
     ]
    }
   ],
   "source": [
    "# site code\n",
    "\n",
    "def test(a):\n",
    "        def add(b):\n",
    "                nonlocal a\n",
    "                a += 1\n",
    "                return a+b\n",
    "        return add\n",
    "func= test(4)\n",
    "print(func(4))"
   ]
  },
  {
   "cell_type": "code",
   "execution_count": 54,
   "id": "40b4d168",
   "metadata": {},
   "outputs": [
    {
     "ename": "NameError",
     "evalue": "name 'k' is not defined",
     "output_type": "error",
     "traceback": [
      "\u001b[1;31m---------------------------------------------------------------------------\u001b[0m",
      "\u001b[1;31mNameError\u001b[0m                                 Traceback (most recent call last)",
      "Input \u001b[1;32mIn [54]\u001b[0m, in \u001b[0;36m<cell line: 6>\u001b[1;34m()\u001b[0m\n\u001b[0;32m      4\u001b[0m     \u001b[38;5;28;01mreturn\u001b[39;00m local_variable\u001b[38;5;241m.\u001b[39mfind(\u001b[38;5;28mstr\u001b[39m(a))\n\u001b[0;32m      5\u001b[0m \u001b[38;5;66;03m#     print(b)\u001b[39;00m\n\u001b[1;32m----> 6\u001b[0m \u001b[38;5;28mprint\u001b[39m(findf(\u001b[43mk\u001b[49m))\n",
      "\u001b[1;31mNameError\u001b[0m: name 'k' is not defined"
     ]
    }
   ],
   "source": [
    "# 20. Write a Python program to detect the number of local variables declared in a function.\n",
    "local_variable='hello ahmedabad how r u i m pratik rathod saying you good morning have a nice day'\n",
    "def findf(a):\n",
    "    return local_variable.find(str(a))\n",
    "#     print(b)\n",
    "print(findf(k))    "
   ]
  },
  {
   "cell_type": "code",
   "execution_count": 55,
   "id": "42205a36",
   "metadata": {},
   "outputs": [
    {
     "name": "stdout",
     "output_type": "stream",
     "text": [
      "3\n"
     ]
    }
   ],
   "source": [
    "def abc():\n",
    "    x = 1\n",
    "    y = 2\n",
    "    str1= \"w3resource\"\n",
    "    print(\"Python Exercises\")\n",
    "\n",
    "print(abc.__code__.co_nlocals)"
   ]
  },
  {
   "cell_type": "code",
   "execution_count": 56,
   "id": "3cae6f86",
   "metadata": {},
   "outputs": [],
   "source": [
    "# 21. Write a Python program that invoke a given function after specific milliseconds.\n",
    "\n"
   ]
  },
  {
   "cell_type": "code",
   "execution_count": 57,
   "id": "86e280a7",
   "metadata": {},
   "outputs": [
    {
     "name": "stdout",
     "output_type": "stream",
     "text": [
      "Square root after specific miliseconds:\n",
      "4.0\n",
      "10.0\n",
      "158.42979517754858\n"
     ]
    }
   ],
   "source": [
    "# site solution\n",
    "from time import sleep\n",
    "import math\n",
    "def delay(fn, ms, *args):\n",
    "  sleep(ms / 1000)\n",
    "  return fn(*args)\n",
    "print(\"Square root after specific miliseconds:\") \n",
    "print(delay(lambda x: math.sqrt(x), 100, 16))\n",
    "print(delay(lambda x: math.sqrt(x), 1000, 100))\n",
    "print(delay(lambda x: math.sqrt(x), 2000, 25100))"
   ]
  },
  {
   "cell_type": "code",
   "execution_count": 59,
   "id": "b7a4811a",
   "metadata": {},
   "outputs": [
    {
     "name": "stdout",
     "output_type": "stream",
     "text": [
      "3,5,6,7,8,9,10,11,12,13,14,15,16,17,18,19,20,21,22,24,25,26,27,28,29,30,31,32,33,34,35,36,37,38,39,40,41,42,43,44,45,47,48,49,50,51,52,53,54,55,56,57,58,59,60,61,62,63,64,65,66,67,68,69,70,71,72,73,74,75,76,77,78,79,80,81,82,83,84,85,86,87,88,89,90,91,93,94,95,96,97,98,99,100,101,102,103,104,105,106,107,108,109,110,111,112,113,114,115,116,117,118,119,120,121,122,123,124,125,126,127,128,129,130,131,132,133,134,135,136,137,138,139,140,141,142,143,144,145,146,147,148,149,150,151,152,153,154,155,156,157,158,159,160,161,162,163,164,165,166,167,168,169,170,171,172,173,174,175,176,177,178,179,180,181,182,183,184,185,186,187,188,189,190,191,192,193,194,195,196,197,198,199,200,"
     ]
    }
   ],
   "source": [
    "for i in range(1,201):\n",
    "    if 92%i==0:\n",
    "       continue\n",
    "    else:\n",
    "        print(i,end=',')\n",
    "    "
   ]
  },
  {
   "cell_type": "code",
   "execution_count": null,
   "id": "33edbb5b",
   "metadata": {},
   "outputs": [],
   "source": []
  },
  {
   "cell_type": "code",
   "execution_count": null,
   "id": "02a26c19",
   "metadata": {},
   "outputs": [],
   "source": []
  }
 ],
 "metadata": {
  "kernelspec": {
   "display_name": "Python 3 (ipykernel)",
   "language": "python",
   "name": "python3"
  },
  "language_info": {
   "codemirror_mode": {
    "name": "ipython",
    "version": 3
   },
   "file_extension": ".py",
   "mimetype": "text/x-python",
   "name": "python",
   "nbconvert_exporter": "python",
   "pygments_lexer": "ipython3",
   "version": "3.9.12"
  }
 },
 "nbformat": 4,
 "nbformat_minor": 5
}
