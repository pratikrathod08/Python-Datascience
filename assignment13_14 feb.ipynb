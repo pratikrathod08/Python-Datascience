{
 "cells": [
  {
   "cell_type": "markdown",
   "metadata": {},
   "source": [
    " Q:1 what is multithreading in python? why is it used? Name the module used to handle threads in python\n"
   ]
  },
  {
   "cell_type": "markdown",
   "metadata": {},
   "source": [
    "Multithreading in Python is a programming concept that allows the execution of multiple threads simultaneously within a single program. A thread is a separate flow of execution within a process, which allows for concurrent execution of code.\n",
    "\n",
    "Multithreading is used in Python to achieve concurrency, which is the ability to run multiple tasks or processes simultaneously. This can improve the performance and responsiveness of applications, especially those that involve I/O-bound or CPU-bound tasks.\n",
    "\n",
    "The threading module is used to handle threads in Python."
   ]
  },
  {
   "cell_type": "markdown",
   "metadata": {},
   "source": [
    "Q:2. why threading module used? write the use of the following functions.\n",
    "\n",
    "1. activeCount()\n",
    "2. currentThread()\n",
    "3. enumerate()\n"
   ]
  },
  {
   "cell_type": "markdown",
   "metadata": {},
   "source": [
    "The threading module is used to handle threads in Python.\n"
   ]
  },
  {
   "cell_type": "markdown",
   "metadata": {},
   "source": [
    "1. activecount :\n",
    "activeCount() is a method of the threading module in Python that returns the number of Thread objects that are currently alive. A Thread object represents a separate flow of execution within a program, and it is alive if its run() method has been called and has not yet completed."
   ]
  },
  {
   "cell_type": "markdown",
   "metadata": {},
   "source": [
    "2. currentThread : current_thread() is a method of the threading module in Python that returns the current Thread object. A Thread object represents a separate flow of execution within a program, and the current_thread() method returns the Thread object associated with the currently executing thread.\n"
   ]
  },
  {
   "cell_type": "markdown",
   "metadata": {},
   "source": [
    "3. enumerate : threading.enumerate() returns a list of all Thread objects currently alive. The list includes daemonic threads, dummy thread objects created by current_thread(), and the main thread. It excludes terminated threads and threads that have not yet been started."
   ]
  },
  {
   "cell_type": "markdown",
   "metadata": {},
   "source": [
    "Q:3 Explain the following functions :\n",
    "\n",
    "1. run()\n",
    "2. start()\n",
    "3. join()\n",
    "4. isalive()\n"
   ]
  },
  {
   "cell_type": "markdown",
   "metadata": {},
   "source": [
    "run(): This method is defined in the Thread class and is used to specify the code that will be executed in the thread. This method should be overridden by the user in a subclass of Thread. When the start() method is called on a Thread instance, it in turn calls the run() method.\n",
    "\n",
    "start(): This method is used to start the execution of a Thread instance. When this method is called, a new operating system thread is created and the run() method of the Thread instance is called in that new thread.\n",
    "\n",
    "join(): This method is used to wait for the thread to complete its execution. When the join() method is called on a Thread instance, the caller thread will block until the called thread completes its execution.\n",
    "\n",
    "isalive(): This method is used to check whether the thread is currently executing. It returns True if the thread is executing, and False otherwise. This method can be used to check the status of a thread before calling join()"
   ]
  },
  {
   "cell_type": "markdown",
   "metadata": {},
   "source": [
    "Q :4.  write a python program to create two threads. Thread one must print the list of squares and thread \n",
    "two must print the list of cubes."
   ]
  },
  {
   "cell_type": "code",
   "execution_count": 7,
   "metadata": {},
   "outputs": [
    {
     "name": "stdout",
     "output_type": "stream",
     "text": [
      "1\n",
      "4\n",
      "9\n",
      "16\n",
      "25\n",
      "36\n",
      "49\n",
      "64\n",
      "81\n",
      "1\n",
      "8\n",
      "27\n",
      "64\n",
      "125\n",
      "216\n",
      "343\n",
      "512\n",
      "729\n"
     ]
    }
   ],
   "source": [
    "import threading\n",
    "import time\n",
    "\n",
    "def print_square():\n",
    "    for i in range(1,10):\n",
    "        print(i**2)\n",
    "\n",
    "def print_cubes():\n",
    "    for i in range(1,10):\n",
    "        print(i**3)\n",
    "\n",
    "t1=threading.Thread(target=print_square)\n",
    "t2=threading.Thread(target=print_cubes)\n",
    "\n",
    "t1.start()\n",
    "t2.start()\n",
    "\n",
    "t1.join()\n",
    "t2.join()"
   ]
  },
  {
   "cell_type": "markdown",
   "metadata": {},
   "source": [
    "Q:5. State advantages and disadvantages of multithreading."
   ]
  },
  {
   "cell_type": "markdown",
   "metadata": {},
   "source": [
    "** Advantages of Multithreading:\n",
    "\n",
    "1. Improved performance: Multithreading allows multiple threads to execute concurrently, thus making efficient use of available resources and improving overall program performance.\n",
    "\n",
    "2. Responsiveness: By separating time-consuming tasks into separate threads, the main thread can remain responsive to user input or other events.\n",
    "\n",
    "3. Resource sharing: Multithreading can allow multiple threads to share common resources such as memory, files, and network connections, which can reduce the overall resource consumption of a program.\n",
    "\n",
    "4. Modularity: Multithreading can make it easier to break down a program into smaller, more manageable modules that can be developed and tested independently.\n",
    "\n",
    "** Disadvantages of Multithreading:\n",
    "\n",
    "1. Complexity: Multithreading can make the program more complex, as it requires careful synchronization of shared resources to avoid race conditions and other synchronization problems.\n",
    "\n",
    "2. Debugging: Multithreading can make debugging more difficult, as it can be hard to reproduce race conditions and other timing-dependent bugs.\n",
    "\n",
    "3. Overhead: Creating and managing threads has some overhead, so creating too many threads can actually reduce performance and increase resource consumption.\n",
    "\n",
    "4. Deadlocks: If threads are not synchronized properly, it can result in deadlocks where two or more threads are waiting for each other to release shared resources, causing the program to become unresponsive."
   ]
  },
  {
   "cell_type": "markdown",
   "metadata": {},
   "source": [
    "Q:6. Explain deadlocks and race conditions."
   ]
  },
  {
   "cell_type": "markdown",
   "metadata": {},
   "source": [
    "Deadlock:\n",
    "Deadlock is a situation where two or more threads are blocked indefinitely, waiting for each other to release shared resources that they need to continue execution. This can happen when two or more threads acquire locks on shared resources in different orders, and then try to acquire locks on the same resources again without releasing the ones they hold. This can cause a \"deadly embrace\" where each thread is waiting for the other to release the resource they need, resulting in a deadlock.\n",
    "\n",
    "Race Condition:\n",
    "Race condition is a situation where two or more threads access a shared resource simultaneously, resulting in unpredictable and potentially incorrect behavior. This can happen when multiple threads try to modify the same variable or object without proper synchronization, which can cause data inconsistencies and other unexpected results. A race condition occurs when the final outcome of the program depends on the order in which threads execute, which is not deterministic."
   ]
  },
  {
   "cell_type": "markdown",
   "metadata": {},
   "source": []
  }
 ],
 "metadata": {
  "kernelspec": {
   "display_name": "Python 3.10.7 64-bit (microsoft store)",
   "language": "python",
   "name": "python3"
  },
  "language_info": {
   "codemirror_mode": {
    "name": "ipython",
    "version": 3
   },
   "file_extension": ".py",
   "mimetype": "text/x-python",
   "name": "python",
   "nbconvert_exporter": "python",
   "pygments_lexer": "ipython3",
   "version": "3.10.7"
  },
  "orig_nbformat": 4,
  "vscode": {
   "interpreter": {
    "hash": "486e0d5a79acdbfffd563ee7a67a93a5017bd2a4f66495483a69f0245c8a4a6c"
   }
  }
 },
 "nbformat": 4,
 "nbformat_minor": 2
}
