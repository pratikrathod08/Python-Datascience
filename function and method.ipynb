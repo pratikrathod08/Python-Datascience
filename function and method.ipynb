{
 "cells": [
  {
   "cell_type": "code",
   "execution_count": 1,
   "id": "563c16ce",
   "metadata": {},
   "outputs": [
    {
     "name": "stdout",
     "output_type": "stream",
     "text": [
      "5\n"
     ]
    }
   ],
   "source": [
    "# value=1\n",
    "num1=5\n",
    "\n",
    "for i in range(num1+1):\n",
    "    value=1\n",
    "    value=value*i\n",
    "print(value)\n"
   ]
  },
  {
   "cell_type": "code",
   "execution_count": 2,
   "id": "9eeb7a1c",
   "metadata": {},
   "outputs": [
    {
     "name": "stdout",
     "output_type": "stream",
     "text": [
      "0\n"
     ]
    }
   ],
   "source": [
    "num1=5\n",
    "value=1\n",
    "for i in range(num1):\n",
    "    value=value*i\n",
    "print(value)"
   ]
  },
  {
   "cell_type": "code",
   "execution_count": 3,
   "id": "d8658858",
   "metadata": {},
   "outputs": [
    {
     "name": "stdout",
     "output_type": "stream",
     "text": [
      "range(0, 6)\n"
     ]
    }
   ],
   "source": [
    "print(range(6))"
   ]
  },
  {
   "cell_type": "code",
   "execution_count": 4,
   "id": "73a008ae",
   "metadata": {},
   "outputs": [
    {
     "name": "stdout",
     "output_type": "stream",
     "text": [
      "Enter any number :55\n",
      "12696403353658275925965100847566516959580321051449436762275840000000000000\n"
     ]
    }
   ],
   "source": [
    "fact = int(input(\"Enter any number :\"))\n",
    "val = 1\n",
    "for i in range(fact,0,-1):\n",
    "    val=val * i\n",
    "print(val)    "
   ]
  },
  {
   "cell_type": "code",
   "execution_count": 5,
   "id": "1e28868b",
   "metadata": {},
   "outputs": [
    {
     "name": "stdout",
     "output_type": "stream",
     "text": [
      "[0, 2, 4, 6, 8, 10, 12, 14, 16, 18]\n",
      "[1, 3, 5, 7, 9, 11, 13, 15, 17, 19]\n"
     ]
    }
   ],
   "source": [
    "list_value = range(0,20)\n",
    "list_even = []\n",
    "list_odd = []\n",
    "for i in list_value:\n",
    "    if i %2==0:\n",
    "        list_even.append(i)\n",
    "    else:\n",
    "        list_odd.append(i)\n",
    "print(list_even)\n",
    "print(list_odd)"
   ]
  },
  {
   "cell_type": "code",
   "execution_count": 7,
   "id": "6a3dc89a",
   "metadata": {},
   "outputs": [
    {
     "name": "stdout",
     "output_type": "stream",
     "text": [
      "enter value to find factorial : 5\n",
      "factorial of 5 is 120\n"
     ]
    }
   ],
   "source": [
    "def facto(number):\n",
    "    \"\"\"factorial programme : takes only one number from user: \"\"\"\n",
    "    val=1\n",
    "    for i in range(number,1,-1):\n",
    "        val=val*i\n",
    "    return val\n",
    "num=input('enter value to find factorial : ')\n",
    "\n",
    "fact_val=facto(int(num))\n",
    "\n",
    "print(f'factorial of {num} is {fact_val}')"
   ]
  },
  {
   "cell_type": "code",
   "execution_count": 6,
   "id": "012890ba",
   "metadata": {},
   "outputs": [
    {
     "ename": "NameError",
     "evalue": "name 'facto' is not defined",
     "output_type": "error",
     "traceback": [
      "\u001b[1;31m---------------------------------------------------------------------------\u001b[0m",
      "\u001b[1;31mNameError\u001b[0m                                 Traceback (most recent call last)",
      "Input \u001b[1;32mIn [6]\u001b[0m, in \u001b[0;36m<cell line: 1>\u001b[1;34m()\u001b[0m\n\u001b[1;32m----> 1\u001b[0m num\u001b[38;5;241m=\u001b[39m\u001b[43mfacto\u001b[49m(\u001b[38;5;241m5\u001b[39m)\n\u001b[0;32m      2\u001b[0m \u001b[38;5;28mprint\u001b[39m(num)\n",
      "\u001b[1;31mNameError\u001b[0m: name 'facto' is not defined"
     ]
    }
   ],
   "source": [
    "num=facto(5)\n",
    "print(num)"
   ]
  },
  {
   "cell_type": "code",
   "execution_count": 7,
   "id": "020c437d",
   "metadata": {},
   "outputs": [
    {
     "name": "stdout",
     "output_type": "stream",
     "text": [
      "50\n"
     ]
    }
   ],
   "source": [
    "x = lambda a:a*10\n",
    "print(x(5))"
   ]
  },
  {
   "cell_type": "code",
   "execution_count": 8,
   "id": "080caf64",
   "metadata": {},
   "outputs": [],
   "source": [
    "def print_a_number(num):\n",
    "    print(num)\n",
    "    \n",
    "def return_a_number(num):\n",
    "    return num\n",
    "\n",
    "def add_three(num):\n",
    "    return num+3\n",
    "\n"
   ]
  },
  {
   "cell_type": "code",
   "execution_count": 9,
   "id": "4799005c",
   "metadata": {},
   "outputs": [],
   "source": [
    "def print_a_number(num):\n",
    "    print(num)\n",
    "    "
   ]
  },
  {
   "cell_type": "code",
   "execution_count": 10,
   "id": "037b559c",
   "metadata": {},
   "outputs": [
    {
     "name": "stdout",
     "output_type": "stream",
     "text": [
      "7\n",
      "None\n",
      "4\n",
      "7\n"
     ]
    }
   ],
   "source": [
    "f1=print_a_number(7)\n",
    "f2=return_a_number(4)\n",
    "print(f1)\n",
    "print(f2)\n",
    "f3 = add_three(f2)\n",
    "print(f3)\n",
    "#f4 = add_three\n",
    "#print(f4)"
   ]
  },
  {
   "cell_type": "code",
   "execution_count": null,
   "id": "0debd700",
   "metadata": {},
   "outputs": [],
   "source": []
  },
  {
   "cell_type": "code",
   "execution_count": null,
   "id": "fe3de99d",
   "metadata": {},
   "outputs": [],
   "source": []
  }
 ],
 "metadata": {
  "kernelspec": {
   "display_name": "Python 3 (ipykernel)",
   "language": "python",
   "name": "python3"
  },
  "language_info": {
   "codemirror_mode": {
    "name": "ipython",
    "version": 3
   },
   "file_extension": ".py",
   "mimetype": "text/x-python",
   "name": "python",
   "nbconvert_exporter": "python",
   "pygments_lexer": "ipython3",
   "version": "3.9.12"
  }
 },
 "nbformat": 4,
 "nbformat_minor": 5
}
