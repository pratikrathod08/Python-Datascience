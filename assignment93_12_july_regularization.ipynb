{
 "cells": [
  {
   "cell_type": "markdown",
   "id": "6f8e8c95",
   "metadata": {},
   "source": [
    "## Part : 1 \n",
    "\n",
    "## Ans : 1"
   ]
  },
  {
   "cell_type": "markdown",
   "id": "ba5cd9dd",
   "metadata": {},
   "source": [
    "Regularization in the context of deep learning refers to techniques used to prevent overfitting, a common problem in machine learning where a model performs well on the training data but fails to generalize to unseen or new data. Overfitting occurs when a model learns the noise and specific patterns in the training data, instead of capturing the underlying true patterns that generalize well to new data.\n",
    "\n",
    "Regularization methods add a penalty term to the loss function that the model tries to minimize during training. This penalty discourages the model from fitting the training data too closely and helps prevent overfitting. There are several types of regularization techniques used in deep learning, including L1 and L2 regularization, dropout, and early stopping.\n",
    "\n",
    "1. **L1 and L2 Regularization:** L1 regularization adds the absolute values of the coefficients as a penalty term to the loss function, while L2 regularization adds the squared values of the coefficients. These techniques are also known as Lasso and Ridge regression in the context of linear regression. In deep learning, they help in reducing the complexity of the neural network by penalizing large weights.\n",
    "\n",
    "2. **Dropout:** Dropout is a regularization technique specific to neural networks. During training, randomly selected neurons are ignored, or \"dropped out.\" This means that their contribution to the activation of downstream neurons is temporarily removed on the forward pass, and any weight updates are not applied to the dropped out neurons during backpropagation. Dropout helps in preventing complex co-adaptations on training data and acts as a form of ensemble learning, where multiple models are trained and combined.\n",
    "\n",
    "3. **Early Stopping:** Early stopping involves monitoring the model's performance on a validation set during training. Training is stopped when the performance on the validation set starts to degrade, even if the performance on the training set continues to improve. This helps prevent the model from overfitting the training data.\n",
    "\n",
    "Regularization is crucial in deep learning for several reasons:\n",
    "\n",
    "- **Preventing Overfitting:** The primary purpose of regularization is to prevent overfitting, ensuring that the model generalizes well to unseen data.\n",
    "\n",
    "- **Improving Generalization:** Regularization techniques help in building models that generalize well to new, unseen data, which is a fundamental goal in machine learning.\n",
    "\n",
    "- **Increasing Robustness:** Regularized models tend to be more robust to variations and noise in the data, making them more reliable in real-world scenarios.\n",
    "\n",
    "In summary, regularization techniques are essential in deep learning because they promote the development of models that not only fit the training data well but also generalize their learning to make accurate predictions on new, unseen data."
   ]
  },
  {
   "cell_type": "markdown",
   "id": "a7864f51",
   "metadata": {},
   "source": [
    "## Ans : 2"
   ]
  },
  {
   "cell_type": "markdown",
   "id": "0ef1707c",
   "metadata": {},
   "source": [
    "The bias-variance tradeoff is a fundamental concept in machine learning, including in the context of deep learning. It refers to the balance between two types of errors that affect the performance of a machine learning model: bias and variance.\n",
    "\n",
    "- **Bias:** Bias refers to the error introduced by approximating a real-world problem, which may be extremely complex, by a simplified model. High bias can cause the model to miss relevant relations between features and target outputs, leading to underfitting. Underfit models perform poorly both on the training data and unseen data because they oversimplify the underlying patterns in the data.\n",
    "\n",
    "- **Variance:** Variance, on the other hand, refers to the model's sensitivity to small fluctuations or noise in the training dataset. High variance can cause the model to model the random noise in the training data, leading to overfitting. Overfit models perform well on the training data but poorly on unseen data because they have essentially memorized the training examples and cannot generalize to new, unseen examples.\n",
    "\n",
    "The tradeoff occurs because decreasing bias often increases variance and vice versa. A model with high bias and low variance might oversimplify the data, while a model with low bias and high variance might fit the noise in the data.\n",
    "\n",
    "Regularization techniques help address the bias-variance tradeoff by adding constraints to the optimization problem the model is solving. Here's how regularization techniques like L1 and L2 regularization work in this context:\n",
    "\n",
    "1. **L1 and L2 Regularization (Penalty on Weights):** L1 regularization adds the absolute values of the coefficients (weights) as a penalty term to the loss function, and L2 regularization adds the squared values of the coefficients. These penalties discourage the model from assigning too much importance to any particular feature. In other words, they constrain the weights, preventing them from becoming overly large. Large weights can lead to high variance because the model becomes too sensitive to the fluctuations in the training data. By penalizing large weights, regularization helps in reducing variance.\n",
    "\n",
    "2. **L2 Regularization (Weight Decay):** L2 regularization, also known as weight decay, not only helps in reducing variance but also aids in reducing bias. By penalizing large weights, L2 regularization encourages the model to use all features and prevents it from oversimplifying the problem, thereby reducing bias.\n",
    "\n",
    "3. **Dropout:** Dropout is a regularization technique specific to neural networks. During training, dropout randomly sets a fraction of the input units to 0 at each update, effectively ignoring them. This prevents complex co-adaptations of neurons, which can occur when neurons rely too much on the presence of other neurons. Dropout helps in reducing overfitting (high variance) by ensuring that no single neuron becomes overly specialized.\n",
    "\n",
    "By employing these regularization techniques, machine learning models, including neural networks, can strike a balance between bias and variance. Regularization encourages the model to find simpler patterns in the data without fitting the noise, ultimately improving the model's ability to generalize to unseen data."
   ]
  },
  {
   "cell_type": "markdown",
   "id": "444be1ca",
   "metadata": {},
   "source": [
    "## Ans : 3"
   ]
  },
  {
   "cell_type": "markdown",
   "id": "ab493f61",
   "metadata": {},
   "source": [
    "Certainly! L1 and L2 regularization are two common techniques used to prevent overfitting in machine learning models, including neural networks. They differ in terms of how they calculate the penalty for large coefficients (weights) and their effects on the model.\n",
    "\n",
    "### L1 Regularization (Lasso Regularization):\n",
    "\n",
    "**Penalty Calculation:** In L1 regularization, the penalty added to the loss function is proportional to the absolute values of the model's coefficients. Mathematically, for a given weight \\(w_i\\), the L1 penalty term is \\(|w_i|\\). The total L1 penalty is the sum of the absolute values of all weights in the model: \\(\\sum{|w_i|}\\).\n",
    "\n",
    "**Effect on the Model:**\n",
    "1. **Sparse Solutions:** L1 regularization encourages sparsity in the model, meaning it tends to push irrelevant or less relevant features' coefficients to exactly zero. Sparse models are easier to interpret and can be useful when dealing with high-dimensional data where many features might not be relevant.\n",
    "\n",
    "2. **Feature Selection:** L1 regularization acts as an automatic feature selector, favoring models that use a subset of features while setting others to zero. It is beneficial when you suspect that only a few features are truly important for making predictions.\n",
    "\n",
    "### L2 Regularization (Ridge Regularization):\n",
    "\n",
    "**Penalty Calculation:** In L2 regularization, the penalty added to the loss function is proportional to the squared values of the model's coefficients. Mathematically, for a given weight \\(w_i\\), the L2 penalty term is \\(w_i^2\\). The total L2 penalty is the sum of the squared values of all weights in the model: \\(\\sum{w_i^2}\\).\n",
    "\n",
    "**Effect on the Model:**\n",
    "1. **No Sparsity:** Unlike L1 regularization, L2 regularization does not encourage sparsity. It keeps all features but tries to make the coefficients small. It effectively prevents any single feature from having an extremely large influence on the model's predictions.\n",
    "\n",
    "2. **Smoothing the Model:** L2 regularization smoothens the model by spreading the \"importance\" of features across multiple features. It helps in preventing overfitting by discouraging any particular feature from having an excessively large weight.\n",
    "\n",
    "### Differences in Summary:\n",
    "\n",
    "- **Penalty Calculation:** L1 penalty is based on the absolute values of coefficients, while L2 penalty is based on the squared values of coefficients.\n",
    "  \n",
    "- **Effect on Sparsity:** L1 regularization encourages sparsity by driving some feature weights to exactly zero. L2 regularization does not induce sparsity; it keeps all features but prevents any single feature from dominating the model.\n",
    "\n",
    "- **Use Cases:** L1 regularization is useful when you suspect that only a few features are relevant, and you want a sparse model with feature selection. L2 regularization is useful for preventing multicollinearity (correlation between features) and creating a smoother model without enforcing sparsity.\n",
    "\n",
    "In practice, a combination of L1 and L2 regularization (known as Elastic Net) is often used to take advantage of both techniques and create a balance between sparsity and smoothness in the model. The choice between L1 and L2 regularization depends on the specific problem and the characteristics of the data you are working with."
   ]
  },
  {
   "cell_type": "markdown",
   "id": "522171b1",
   "metadata": {},
   "source": [
    "## Ans : 4 "
   ]
  },
  {
   "cell_type": "markdown",
   "id": "b560af12",
   "metadata": {},
   "source": [
    "Regularization plays a crucial role in preventing overfitting and improving the generalization of deep learning models. Overfitting occurs when a model learns the noise and specific patterns in the training data, making it perform well on the training set but poorly on unseen data. Regularization techniques add constraints to the optimization problem that the model is solving, preventing it from becoming too complex and fitting the noise in the data. Here's how regularization helps in preventing overfitting and improving generalization in deep learning models:\n",
    "\n",
    "### 1. **Preventing Overfitting:**\n",
    "\n",
    "- **Penalizing Large Weights:** Regularization methods like L1 and L2 regularization penalize large weights in the model. Neural networks with large weights are more prone to fitting the noise in the data. By adding a penalty term to the loss function based on the magnitude of the weights, regularization discourages the model from assigning too much importance to any particular feature. This prevents the model from becoming overly complex and fitting the training data too closely.\n",
    "\n",
    "- **Dropout:** Dropout is a regularization technique specific to neural networks. During training, dropout randomly sets a fraction of the input units to 0 at each update, effectively ignoring them. This prevents complex co-adaptations of neurons, making the model more robust and preventing overfitting. Dropout acts as a form of ensemble learning, where different subnetworks are trained at each iteration, preventing reliance on specific features or neurons.\n",
    "\n",
    "- **Early Stopping:** While not a direct form of regularization, early stopping is another technique used to prevent overfitting. It involves monitoring the model's performance on a validation set during training and stopping the training process when the performance on the validation set starts to degrade. This prevents the model from training for too many epochs and overfitting the training data.\n",
    "\n",
    "### 2. **Improving Generalization:**\n",
    "\n",
    "- **Encouraging Simplicity:** Regularization methods encourage the model to find simpler patterns in the data. By penalizing overly complex models, regularization helps the model focus on the most important features and relationships within the data. Simpler models are more likely to generalize well to unseen data because they capture the underlying trends rather than the noise.\n",
    "\n",
    "- **Handling Noisy Data:** Real-world data often contains noise and irrelevant features. Regularization helps in filtering out this noise and identifying the true underlying patterns. By preventing the model from fitting the noise, regularization ensures that the model's predictions are based on meaningful correlations in the data, leading to better generalization.\n",
    "\n",
    "- **Enabling Smoother Decision Boundaries:** In the case of neural networks, regularization techniques like weight decay (L2 regularization) encourage smoother decision boundaries. Smoother decision boundaries are less likely to be influenced by small fluctuations in the data and are more robust, leading to improved generalization.\n",
    "\n",
    "In summary, regularization techniques act as a form of control that prevents deep learning models from becoming overly complex and fitting the training data too closely. By encouraging simplicity, discouraging noise, and promoting smoother decision boundaries, regularization techniques significantly contribute to preventing overfitting and improving the generalization ability of deep learning models, making them more reliable for making predictions on new, unseen data."
   ]
  },
  {
   "cell_type": "markdown",
   "id": "b88fc133",
   "metadata": {},
   "source": [
    "## Part : 2 \n",
    "\n",
    "## Ans : 5"
   ]
  },
  {
   "cell_type": "markdown",
   "id": "0b644a5d",
   "metadata": {},
   "source": [
    "**Dropout Regularization:**\n",
    "\n",
    "Dropout is a regularization technique specific to neural networks, introduced to prevent overfitting. During training, dropout randomly sets a fraction of the input units (neurons) to 0 at each update, effectively \"dropping out\" these units from the network for that iteration. The dropout rate, usually a small fraction like 0.2 or 0.5, represents the probability that each neuron is dropped out during a training iteration. This dropout process is applied independently to each unit.\n",
    "\n",
    "**How Dropout Reduces Overfitting:**\n",
    "\n",
    "1. **Ensemble Learning Effect:** Dropout can be seen as a form of ensemble learning, where multiple models are trained on different subsets of the data. During each training iteration, a different random subset of neurons is dropped out, leading the network to learn different features from different parts of the input space. At test time, all neurons are used, but their weights are scaled to account for the dropout during training. This ensemble effect prevents the network from relying too much on specific neurons or features, reducing overfitting.\n",
    "\n",
    "2. **Reduces Co-Adaptations:** Neurons in a neural network can develop complex co-adaptations, where they rely on the presence of other specific neurons. By dropping out random subsets of neurons, dropout breaks these co-adaptations. Neurons must become more robust and learn useful features in the absence of other specific neurons, leading to a more generalized and robust model.\n",
    "\n",
    "**Impact on Model Training and Inference:**\n",
    "\n",
    "1. **Training:** During training, dropout is applied to the input and hidden layers. It effectively makes the training process noisy and prevents the network from memorizing the training data. Each forward and backward pass involves a different subset of neurons, making the network more adaptable and preventing overfitting. Dropout increases the training time because multiple forward and backward passes are required for each training iteration.\n",
    "\n",
    "2. **Inference:** During inference or when making predictions on new data, dropout is not applied. All neurons are used, but their weights are scaled down by the dropout rate. This scaling ensures that the expected output of each neuron remains the same as during training, accounting for the dropped-out neurons. Inference is typically faster than training because dropout is not involved, and the entire network is used to make predictions.\n",
    "\n",
    "In summary, dropout regularization reduces overfitting by preventing the network from relying too heavily on specific neurons and features during training. By introducing noise and breaking co-adaptations, dropout encourages the network to learn more generalized and robust representations of the data. During training, dropout creates an ensemble of different subnetworks, while during inference, the full network is used without dropout, ensuring accurate predictions on new, unseen data."
   ]
  },
  {
   "cell_type": "markdown",
   "id": "3aa6a46e",
   "metadata": {},
   "source": [
    "## Ans : 6"
   ]
  },
  {
   "cell_type": "markdown",
   "id": "1f740591",
   "metadata": {},
   "source": [
    "**Early Stopping as a Form of Regularization:**\n",
    "\n",
    "Early stopping is a regularization technique used in machine learning to prevent overfitting during the training process. It involves monitoring the model's performance on a validation dataset during training and stopping the training process when the performance on the validation dataset starts to degrade, even if the performance on the training dataset continues to improve. By halting the training early, before the model becomes too tailored to the training data, early stopping helps prevent overfitting.\n",
    "\n",
    "**How Early Stopping Prevents Overfitting:**\n",
    "\n",
    "1. **Detection of Overfitting:** During the training process, a model's performance on the training data usually improves over time. However, if the model starts to memorize the training data (overfitting), its performance on a separate validation dataset (which it has not seen during training) may start to degrade. Early stopping leverages this phenomenon.\n",
    "\n",
    "2. **Preventing Excessive Training:** Early stopping interrupts the training process when it detects that the model's performance on the validation data is no longer improving. This prevents the model from becoming too specialized to the training data, ensuring that it generalizes well to new, unseen data.\n",
    "\n",
    "3. **Simpler Models:** By stopping the training early, the resulting model is typically simpler. It has seen fewer examples and has fewer parameters adjusted to fit the training data perfectly. Simpler models are less prone to overfitting because they capture the essential patterns in the data without memorizing the noise.\n",
    "\n",
    "4. **Avoiding Wasted Computational Resources:** Training deep learning models can be computationally intensive, especially for large datasets and complex architectures. Early stopping helps avoid unnecessary computational costs associated with training a model for too many epochs without any improvement in validation performance.\n",
    "\n",
    "**Implementation of Early Stopping:**\n",
    "\n",
    "Early stopping requires dividing the dataset into three parts: training, validation, and test sets. The model is trained on the training data while its performance is evaluated on the validation data after each epoch. If the validation performance stops improving or starts degrading for a certain number of epochs (known as the patience parameter), training is halted, and the model's parameters at the point of the best validation performance are used.\n",
    "\n",
    "While early stopping is a powerful regularization technique, it's crucial to strike a balance. Stopping too early might result in an underfit model, while stopping too late allows the model to overfit. Proper validation and tuning of the patience parameter are necessary to ensure the technique is used effectively to prevent overfitting and create models that generalize well to unseen data."
   ]
  },
  {
   "cell_type": "markdown",
   "id": "bbba7bd5",
   "metadata": {},
   "source": [
    "## Ans : 7 "
   ]
  },
  {
   "cell_type": "markdown",
   "id": "152c8c88",
   "metadata": {},
   "source": [
    "**Batch Normalization:**\n",
    "\n",
    "Batch Normalization (BatchNorm) is a technique used in deep learning to improve the training stability and speed by normalizing the inputs of each layer in a mini-batch. Normalization involves scaling and shifting the inputs to a neural network layer to have a mean of zero and a standard deviation of one. This is done independently for each feature in the input data.\n",
    "\n",
    "During training, BatchNorm normalizes the inputs using the mean and standard deviation of the current mini-batch. It then scales and shifts the normalized values using learnable parameters (gamma and beta) so that the network can learn the optimal scale and shift for each feature. During inference, BatchNorm uses the accumulated mean and standard deviation from the entire training dataset for normalization.\n",
    "\n",
    "**Role as a Form of Regularization:**\n",
    "\n",
    "Batch Normalization acts as a form of regularization for deep learning models due to several reasons:\n",
    "\n",
    "1. **Reduced Internal Covariate Shift:** BatchNorm reduces internal covariate shift, which is the change in the distribution of network activations due to the changing parameters during training. By normalizing inputs within each mini-batch, BatchNorm helps stabilize the training process, enabling the use of higher learning rates and accelerating convergence.\n",
    "\n",
    "2. **Mitigating Vanishing and Exploding Gradients:** Normalizing inputs prevents activations from becoming too large or too small during training. This helps in mitigating issues like vanishing gradients (where gradients become too small) and exploding gradients (where gradients become too large). Stable gradients are essential for training deep networks effectively.\n",
    "\n",
    "3. **Reduced Sensitivity to Weight Initialization:** BatchNorm reduces the sensitivity of the model to the choice of initial weights. Normalizing inputs ensures that the model doesn't depend heavily on the specific initialization of weights, making it easier to train deep networks.\n",
    "\n",
    "4. **Implicit Regularization:** BatchNorm introduces noise in the form of mini-batch statistics. This noise acts as a form of implicit regularization, similar to dropout. By adding noise, BatchNorm prevents the model from fitting the training data too closely, reducing the risk of overfitting.\n",
    "\n",
    "**Preventing Overfitting:**\n",
    "\n",
    "While BatchNorm is not primarily designed as a regularization technique, its stabilization effect during training indirectly helps in preventing overfitting. By enabling faster convergence and reducing the sensitivity of the network to weight initialization, BatchNorm allows for more effective training. When the training process is stable and the model converges faster, it reduces the risk of the model overfitting the training data, especially when the data is noisy or complex.\n",
    "\n",
    "In summary, Batch Normalization helps in preventing overfitting by providing a stable training process, reducing internal covariate shift, mitigating vanishing and exploding gradients, and implicitly adding noise to the training procedure. These effects collectively contribute to a more robust and generalizable model, making BatchNorm an important tool in the regularized training of deep learning models."
   ]
  },
  {
   "cell_type": "markdown",
   "id": "bedd4b34",
   "metadata": {},
   "source": [
    "## Part : 3 \n",
    "\n",
    "## Ans : 8"
   ]
  },
  {
   "cell_type": "code",
   "execution_count": 1,
   "id": "2b3c4156",
   "metadata": {},
   "outputs": [],
   "source": [
    "import tensorflow as tf\n",
    "from tensorflow.keras.models import Sequential\n",
    "from tensorflow.keras.layers import Dense, Dropout , Flatten\n",
    "from tensorflow.keras.datasets import mnist\n",
    "\n",
    "(x_train, y_train), (x_test, y_test) = mnist.load_data()\n",
    "x_train, x_test = x_train / 255.0, x_test / 255.0  \n",
    "\n"
   ]
  },
  {
   "cell_type": "code",
   "execution_count": 2,
   "id": "c3bbc73e",
   "metadata": {},
   "outputs": [],
   "source": [
    "x_train , x_val , y_train , y_val = x_train[:55000] , x_train[55000:],y_train[:55000],y_train[55000:]"
   ]
  },
  {
   "cell_type": "code",
   "execution_count": 3,
   "id": "0cfcc921",
   "metadata": {},
   "outputs": [
    {
     "name": "stdout",
     "output_type": "stream",
     "text": [
      "(55000, 28, 28)\n",
      "(5000, 28, 28)\n",
      "(10000, 28, 28)\n",
      "(55000,)\n",
      "(5000,)\n",
      "(10000,)\n"
     ]
    }
   ],
   "source": [
    "print(x_train.shape)\n",
    "print(x_val.shape)\n",
    "print(x_test.shape)\n",
    "print(y_train.shape)\n",
    "print(y_val.shape)\n",
    "print(y_test.shape)"
   ]
  },
  {
   "cell_type": "code",
   "execution_count": 4,
   "id": "1ebcca31",
   "metadata": {},
   "outputs": [],
   "source": [
    "\n",
    "# Model without Dropout\n",
    "model = Sequential([\n",
    "    Flatten(input_shape = (28,28)),\n",
    "    Dense(128, activation='relu'),\n",
    "    Dense(64, activation='relu'),\n",
    "    Dense(10, activation='softmax')\n",
    "])\n",
    "\n",
    "# Model with Dropout\n",
    "model1 = Sequential([\n",
    "    Flatten(input_shape = (28,28)),\n",
    "    Dense(128, activation='relu'),\n",
    "    Dropout(0.2), \n",
    "    Dense(64, activation='relu'),\n",
    "    Dropout(0.2),\n",
    "    Dense(10, activation='softmax')\n",
    "])\n"
   ]
  },
  {
   "cell_type": "code",
   "execution_count": 5,
   "id": "0730f502",
   "metadata": {},
   "outputs": [],
   "source": [
    "model.compile(loss = 'sparse_categorical_crossentropy' , optimizer = 'adam', metrics = ['accuracy'])"
   ]
  },
  {
   "cell_type": "code",
   "execution_count": 6,
   "id": "571f3a86",
   "metadata": {},
   "outputs": [
    {
     "name": "stdout",
     "output_type": "stream",
     "text": [
      "Epoch 1/30\n",
      "1719/1719 [==============================] - 5s 2ms/step - loss: 0.2492 - accuracy: 0.9269 - val_loss: 0.1145 - val_accuracy: 0.9666\n",
      "Epoch 2/30\n",
      "1719/1719 [==============================] - 3s 2ms/step - loss: 0.1030 - accuracy: 0.9690 - val_loss: 0.0793 - val_accuracy: 0.9766\n",
      "Epoch 3/30\n",
      "1719/1719 [==============================] - 3s 2ms/step - loss: 0.0749 - accuracy: 0.9763 - val_loss: 0.0866 - val_accuracy: 0.9732\n",
      "Epoch 4/30\n",
      "1719/1719 [==============================] - 3s 2ms/step - loss: 0.0569 - accuracy: 0.9816 - val_loss: 0.1011 - val_accuracy: 0.9720\n",
      "Epoch 5/30\n",
      "1719/1719 [==============================] - 4s 2ms/step - loss: 0.0459 - accuracy: 0.9852 - val_loss: 0.0852 - val_accuracy: 0.9746\n",
      "Epoch 6/30\n",
      "1719/1719 [==============================] - 4s 2ms/step - loss: 0.0365 - accuracy: 0.9876 - val_loss: 0.0831 - val_accuracy: 0.9802\n",
      "Epoch 7/30\n",
      "1719/1719 [==============================] - 3s 2ms/step - loss: 0.0298 - accuracy: 0.9902 - val_loss: 0.0878 - val_accuracy: 0.9758\n",
      "Epoch 8/30\n",
      "1719/1719 [==============================] - 3s 2ms/step - loss: 0.0252 - accuracy: 0.9915 - val_loss: 0.0882 - val_accuracy: 0.9814\n",
      "Epoch 9/30\n",
      "1719/1719 [==============================] - 3s 2ms/step - loss: 0.0233 - accuracy: 0.9921 - val_loss: 0.0865 - val_accuracy: 0.9810\n",
      "Epoch 10/30\n",
      "1719/1719 [==============================] - 4s 2ms/step - loss: 0.0188 - accuracy: 0.9940 - val_loss: 0.0917 - val_accuracy: 0.9782\n",
      "Epoch 11/30\n",
      "1719/1719 [==============================] - 3s 2ms/step - loss: 0.0170 - accuracy: 0.9945 - val_loss: 0.0926 - val_accuracy: 0.9812\n",
      "Epoch 12/30\n",
      "1719/1719 [==============================] - 3s 2ms/step - loss: 0.0164 - accuracy: 0.9945 - val_loss: 0.1001 - val_accuracy: 0.9796\n",
      "Epoch 13/30\n",
      "1719/1719 [==============================] - 3s 2ms/step - loss: 0.0147 - accuracy: 0.9953 - val_loss: 0.1195 - val_accuracy: 0.9784\n",
      "Epoch 14/30\n",
      "1719/1719 [==============================] - 3s 2ms/step - loss: 0.0131 - accuracy: 0.9954 - val_loss: 0.1310 - val_accuracy: 0.9748\n",
      "Epoch 15/30\n",
      "1719/1719 [==============================] - 3s 2ms/step - loss: 0.0122 - accuracy: 0.9959 - val_loss: 0.1203 - val_accuracy: 0.9782\n",
      "Epoch 16/30\n",
      "1719/1719 [==============================] - 4s 2ms/step - loss: 0.0138 - accuracy: 0.9955 - val_loss: 0.1172 - val_accuracy: 0.9806\n",
      "Epoch 17/30\n",
      "1719/1719 [==============================] - 4s 2ms/step - loss: 0.0120 - accuracy: 0.9962 - val_loss: 0.1214 - val_accuracy: 0.9788\n",
      "Epoch 18/30\n",
      "1719/1719 [==============================] - 4s 2ms/step - loss: 0.0100 - accuracy: 0.9965 - val_loss: 0.1430 - val_accuracy: 0.9796\n",
      "Epoch 19/30\n",
      "1719/1719 [==============================] - 4s 2ms/step - loss: 0.0123 - accuracy: 0.9957 - val_loss: 0.1229 - val_accuracy: 0.9792\n",
      "Epoch 20/30\n",
      "1719/1719 [==============================] - 4s 2ms/step - loss: 0.0102 - accuracy: 0.9967 - val_loss: 0.1331 - val_accuracy: 0.9794\n",
      "Epoch 21/30\n",
      "1719/1719 [==============================] - 4s 2ms/step - loss: 0.0097 - accuracy: 0.9969 - val_loss: 0.1268 - val_accuracy: 0.9808\n",
      "Epoch 22/30\n",
      "1719/1719 [==============================] - 3s 2ms/step - loss: 0.0096 - accuracy: 0.9968 - val_loss: 0.1331 - val_accuracy: 0.9796\n",
      "Epoch 23/30\n",
      "1719/1719 [==============================] - 3s 2ms/step - loss: 0.0089 - accuracy: 0.9973 - val_loss: 0.1398 - val_accuracy: 0.9806\n",
      "Epoch 24/30\n",
      "1719/1719 [==============================] - 4s 2ms/step - loss: 0.0093 - accuracy: 0.9972 - val_loss: 0.1594 - val_accuracy: 0.9788\n",
      "Epoch 25/30\n",
      "1719/1719 [==============================] - 4s 2ms/step - loss: 0.0094 - accuracy: 0.9971 - val_loss: 0.1616 - val_accuracy: 0.9800\n",
      "Epoch 26/30\n",
      "1719/1719 [==============================] - 3s 2ms/step - loss: 0.0103 - accuracy: 0.9971 - val_loss: 0.1698 - val_accuracy: 0.9782\n",
      "Epoch 27/30\n",
      "1719/1719 [==============================] - 3s 2ms/step - loss: 0.0076 - accuracy: 0.9977 - val_loss: 0.1741 - val_accuracy: 0.9772\n",
      "Epoch 28/30\n",
      "1719/1719 [==============================] - 3s 2ms/step - loss: 0.0084 - accuracy: 0.9975 - val_loss: 0.1855 - val_accuracy: 0.9798\n",
      "Epoch 29/30\n",
      "1719/1719 [==============================] - 3s 2ms/step - loss: 0.0073 - accuracy: 0.9979 - val_loss: 0.1565 - val_accuracy: 0.9804\n",
      "Epoch 30/30\n",
      "1719/1719 [==============================] - 3s 2ms/step - loss: 0.0078 - accuracy: 0.9976 - val_loss: 0.1795 - val_accuracy: 0.9798\n"
     ]
    }
   ],
   "source": [
    "history = model.fit(x_train , y_train , validation_data=(x_val , y_val), epochs = 30)"
   ]
  },
  {
   "cell_type": "code",
   "execution_count": 8,
   "id": "37f487c8",
   "metadata": {},
   "outputs": [
    {
     "data": {
      "text/html": [
       "<div>\n",
       "<style scoped>\n",
       "    .dataframe tbody tr th:only-of-type {\n",
       "        vertical-align: middle;\n",
       "    }\n",
       "\n",
       "    .dataframe tbody tr th {\n",
       "        vertical-align: top;\n",
       "    }\n",
       "\n",
       "    .dataframe thead th {\n",
       "        text-align: right;\n",
       "    }\n",
       "</style>\n",
       "<table border=\"1\" class=\"dataframe\">\n",
       "  <thead>\n",
       "    <tr style=\"text-align: right;\">\n",
       "      <th></th>\n",
       "      <th>loss</th>\n",
       "      <th>accuracy</th>\n",
       "      <th>val_loss</th>\n",
       "      <th>val_accuracy</th>\n",
       "    </tr>\n",
       "  </thead>\n",
       "  <tbody>\n",
       "    <tr>\n",
       "      <th>0</th>\n",
       "      <td>0.249202</td>\n",
       "      <td>0.926909</td>\n",
       "      <td>0.114455</td>\n",
       "      <td>0.9666</td>\n",
       "    </tr>\n",
       "    <tr>\n",
       "      <th>1</th>\n",
       "      <td>0.103000</td>\n",
       "      <td>0.969018</td>\n",
       "      <td>0.079314</td>\n",
       "      <td>0.9766</td>\n",
       "    </tr>\n",
       "    <tr>\n",
       "      <th>2</th>\n",
       "      <td>0.074884</td>\n",
       "      <td>0.976327</td>\n",
       "      <td>0.086636</td>\n",
       "      <td>0.9732</td>\n",
       "    </tr>\n",
       "    <tr>\n",
       "      <th>3</th>\n",
       "      <td>0.056902</td>\n",
       "      <td>0.981618</td>\n",
       "      <td>0.101055</td>\n",
       "      <td>0.9720</td>\n",
       "    </tr>\n",
       "    <tr>\n",
       "      <th>4</th>\n",
       "      <td>0.045860</td>\n",
       "      <td>0.985236</td>\n",
       "      <td>0.085237</td>\n",
       "      <td>0.9746</td>\n",
       "    </tr>\n",
       "  </tbody>\n",
       "</table>\n",
       "</div>"
      ],
      "text/plain": [
       "       loss  accuracy  val_loss  val_accuracy\n",
       "0  0.249202  0.926909  0.114455        0.9666\n",
       "1  0.103000  0.969018  0.079314        0.9766\n",
       "2  0.074884  0.976327  0.086636        0.9732\n",
       "3  0.056902  0.981618  0.101055        0.9720\n",
       "4  0.045860  0.985236  0.085237        0.9746"
      ]
     },
     "execution_count": 8,
     "metadata": {},
     "output_type": "execute_result"
    }
   ],
   "source": [
    "import pandas as pd\n",
    "\n",
    "df = pd.DataFrame(history.history)\n",
    "df.head()"
   ]
  },
  {
   "cell_type": "code",
   "execution_count": 9,
   "id": "3ae21fed",
   "metadata": {},
   "outputs": [
    {
     "data": {
      "text/plain": [
       "<AxesSubplot:>"
      ]
     },
     "execution_count": 9,
     "metadata": {},
     "output_type": "execute_result"
    },
    {
     "data": {
      "image/png": "[encoded data removed]",
      "text/plain": [
       "<Figure size 432x288 with 1 Axes>"
      ]
     },
     "metadata": {
      "needs_background": "light"
     },
     "output_type": "display_data"
    }
   ],
   "source": [
    "df.plot()"
   ]
  },
  {
   "cell_type": "code",
   "execution_count": 10,
   "id": "dc5a3124",
   "metadata": {},
   "outputs": [],
   "source": [
    "model1.compile(loss = 'sparse_categorical_crossentropy' , optimizer = 'adam', metrics = ['accuracy'])"
   ]
  },
  {
   "cell_type": "code",
   "execution_count": 11,
   "id": "316a1cc3",
   "metadata": {},
   "outputs": [
    {
     "name": "stdout",
     "output_type": "stream",
     "text": [
      "Epoch 1/30\n",
      "1719/1719 [==============================] - 5s 2ms/step - loss: 0.3504 - accuracy: 0.8959 - val_loss: 0.1054 - val_accuracy: 0.9700\n",
      "Epoch 2/30\n",
      "1719/1719 [==============================] - 4s 2ms/step - loss: 0.1678 - accuracy: 0.9503 - val_loss: 0.0847 - val_accuracy: 0.9746\n",
      "Epoch 3/30\n",
      "1719/1719 [==============================] - 4s 2ms/step - loss: 0.1276 - accuracy: 0.9626 - val_loss: 0.0766 - val_accuracy: 0.9778\n",
      "Epoch 4/30\n",
      "1719/1719 [==============================] - 4s 2ms/step - loss: 0.1108 - accuracy: 0.9661 - val_loss: 0.0736 - val_accuracy: 0.9792\n",
      "Epoch 5/30\n",
      "1719/1719 [==============================] - 4s 2ms/step - loss: 0.0974 - accuracy: 0.9701 - val_loss: 0.0740 - val_accuracy: 0.9782\n",
      "Epoch 6/30\n",
      "1719/1719 [==============================] - 4s 2ms/step - loss: 0.0860 - accuracy: 0.9739 - val_loss: 0.0697 - val_accuracy: 0.9828\n",
      "Epoch 7/30\n",
      "1719/1719 [==============================] - 4s 2ms/step - loss: 0.0791 - accuracy: 0.9756 - val_loss: 0.0895 - val_accuracy: 0.9798\n",
      "Epoch 8/30\n",
      "1719/1719 [==============================] - 4s 3ms/step - loss: 0.0744 - accuracy: 0.9769 - val_loss: 0.0708 - val_accuracy: 0.9804\n",
      "Epoch 9/30\n",
      "1719/1719 [==============================] - 4s 2ms/step - loss: 0.0680 - accuracy: 0.9781 - val_loss: 0.0790 - val_accuracy: 0.9798\n",
      "Epoch 10/30\n",
      "1719/1719 [==============================] - 4s 2ms/step - loss: 0.0674 - accuracy: 0.9785 - val_loss: 0.0732 - val_accuracy: 0.9816\n",
      "Epoch 11/30\n",
      "1719/1719 [==============================] - 4s 2ms/step - loss: 0.0596 - accuracy: 0.9811 - val_loss: 0.0709 - val_accuracy: 0.9824\n",
      "Epoch 12/30\n",
      "1719/1719 [==============================] - 4s 3ms/step - loss: 0.0581 - accuracy: 0.9813 - val_loss: 0.0731 - val_accuracy: 0.9802\n",
      "Epoch 13/30\n",
      "1719/1719 [==============================] - 4s 3ms/step - loss: 0.0549 - accuracy: 0.9828 - val_loss: 0.0713 - val_accuracy: 0.9818\n",
      "Epoch 14/30\n",
      "1719/1719 [==============================] - 4s 2ms/step - loss: 0.0522 - accuracy: 0.9826 - val_loss: 0.0774 - val_accuracy: 0.9834\n",
      "Epoch 15/30\n",
      "1719/1719 [==============================] - 4s 3ms/step - loss: 0.0514 - accuracy: 0.9831 - val_loss: 0.0728 - val_accuracy: 0.9826\n",
      "Epoch 16/30\n",
      "1719/1719 [==============================] - 4s 2ms/step - loss: 0.0504 - accuracy: 0.9840 - val_loss: 0.0748 - val_accuracy: 0.9826\n",
      "Epoch 17/30\n",
      "1719/1719 [==============================] - 4s 2ms/step - loss: 0.0481 - accuracy: 0.9840 - val_loss: 0.0795 - val_accuracy: 0.9814\n",
      "Epoch 18/30\n",
      "1719/1719 [==============================] - 4s 2ms/step - loss: 0.0482 - accuracy: 0.9846 - val_loss: 0.0706 - val_accuracy: 0.9830\n",
      "Epoch 19/30\n",
      "1719/1719 [==============================] - 4s 2ms/step - loss: 0.0461 - accuracy: 0.9854 - val_loss: 0.0732 - val_accuracy: 0.9838\n",
      "Epoch 20/30\n",
      "1719/1719 [==============================] - 4s 2ms/step - loss: 0.0439 - accuracy: 0.9861 - val_loss: 0.0844 - val_accuracy: 0.9820\n",
      "Epoch 21/30\n",
      "1719/1719 [==============================] - 4s 2ms/step - loss: 0.0414 - accuracy: 0.9865 - val_loss: 0.0760 - val_accuracy: 0.9836\n",
      "Epoch 22/30\n",
      "1719/1719 [==============================] - 4s 2ms/step - loss: 0.0437 - accuracy: 0.9863 - val_loss: 0.0780 - val_accuracy: 0.9824\n",
      "Epoch 23/30\n",
      "1719/1719 [==============================] - 4s 2ms/step - loss: 0.0407 - accuracy: 0.9865 - val_loss: 0.0724 - val_accuracy: 0.9848\n",
      "Epoch 24/30\n",
      "1719/1719 [==============================] - 4s 2ms/step - loss: 0.0384 - accuracy: 0.9873 - val_loss: 0.0852 - val_accuracy: 0.9826\n",
      "Epoch 25/30\n",
      "1719/1719 [==============================] - 4s 2ms/step - loss: 0.0398 - accuracy: 0.9869 - val_loss: 0.0849 - val_accuracy: 0.9818\n",
      "Epoch 26/30\n",
      "1719/1719 [==============================] - 4s 2ms/step - loss: 0.0370 - accuracy: 0.9878 - val_loss: 0.0843 - val_accuracy: 0.9816\n",
      "Epoch 27/30\n",
      "1719/1719 [==============================] - 4s 2ms/step - loss: 0.0391 - accuracy: 0.9874 - val_loss: 0.0802 - val_accuracy: 0.9834\n",
      "Epoch 28/30\n",
      "1719/1719 [==============================] - 4s 2ms/step - loss: 0.0354 - accuracy: 0.9883 - val_loss: 0.0862 - val_accuracy: 0.9830\n",
      "Epoch 29/30\n",
      "1719/1719 [==============================] - 4s 2ms/step - loss: 0.0358 - accuracy: 0.9884 - val_loss: 0.0806 - val_accuracy: 0.9826\n",
      "Epoch 30/30\n",
      "1719/1719 [==============================] - 4s 2ms/step - loss: 0.0339 - accuracy: 0.9894 - val_loss: 0.0885 - val_accuracy: 0.9842\n"
     ]
    }
   ],
   "source": [
    "history1 = model1.fit(x_train , y_train , validation_data=(x_val , y_val), epochs = 30)"
   ]
  },
  {
   "cell_type": "code",
   "execution_count": 13,
   "id": "a74a5992",
   "metadata": {},
   "outputs": [
    {
     "data": {
      "text/html": [
       "<div>\n",
       "<style scoped>\n",
       "    .dataframe tbody tr th:only-of-type {\n",
       "        vertical-align: middle;\n",
       "    }\n",
       "\n",
       "    .dataframe tbody tr th {\n",
       "        vertical-align: top;\n",
       "    }\n",
       "\n",
       "    .dataframe thead th {\n",
       "        text-align: right;\n",
       "    }\n",
       "</style>\n",
       "<table border=\"1\" class=\"dataframe\">\n",
       "  <thead>\n",
       "    <tr style=\"text-align: right;\">\n",
       "      <th></th>\n",
       "      <th>loss</th>\n",
       "      <th>accuracy</th>\n",
       "      <th>val_loss</th>\n",
       "      <th>val_accuracy</th>\n",
       "    </tr>\n",
       "  </thead>\n",
       "  <tbody>\n",
       "    <tr>\n",
       "      <th>0</th>\n",
       "      <td>0.350383</td>\n",
       "      <td>0.895909</td>\n",
       "      <td>0.105445</td>\n",
       "      <td>0.9700</td>\n",
       "    </tr>\n",
       "    <tr>\n",
       "      <th>1</th>\n",
       "      <td>0.167782</td>\n",
       "      <td>0.950273</td>\n",
       "      <td>0.084732</td>\n",
       "      <td>0.9746</td>\n",
       "    </tr>\n",
       "    <tr>\n",
       "      <th>2</th>\n",
       "      <td>0.127644</td>\n",
       "      <td>0.962618</td>\n",
       "      <td>0.076625</td>\n",
       "      <td>0.9778</td>\n",
       "    </tr>\n",
       "    <tr>\n",
       "      <th>3</th>\n",
       "      <td>0.110771</td>\n",
       "      <td>0.966127</td>\n",
       "      <td>0.073628</td>\n",
       "      <td>0.9792</td>\n",
       "    </tr>\n",
       "    <tr>\n",
       "      <th>4</th>\n",
       "      <td>0.097359</td>\n",
       "      <td>0.970091</td>\n",
       "      <td>0.074038</td>\n",
       "      <td>0.9782</td>\n",
       "    </tr>\n",
       "  </tbody>\n",
       "</table>\n",
       "</div>"
      ],
      "text/plain": [
       "       loss  accuracy  val_loss  val_accuracy\n",
       "0  0.350383  0.895909  0.105445        0.9700\n",
       "1  0.167782  0.950273  0.084732        0.9746\n",
       "2  0.127644  0.962618  0.076625        0.9778\n",
       "3  0.110771  0.966127  0.073628        0.9792\n",
       "4  0.097359  0.970091  0.074038        0.9782"
      ]
     },
     "execution_count": 13,
     "metadata": {},
     "output_type": "execute_result"
    }
   ],
   "source": [
    "df1=pd.DataFrame(history1.history)\n",
    "df1.head()"
   ]
  },
  {
   "cell_type": "code",
   "execution_count": 14,
   "id": "4ed27003",
   "metadata": {},
   "outputs": [
    {
     "data": {
      "text/plain": [
       "<AxesSubplot:>"
      ]
     },
     "execution_count": 14,
     "metadata": {},
     "output_type": "execute_result"
    },
    {
     "data": {
      "image/png": "[encoded data removed]",
      "text/plain": [
       "<Figure size 432x288 with 1 Axes>"
      ]
     },
     "metadata": {
      "needs_background": "light"
     },
     "output_type": "display_data"
    }
   ],
   "source": [
    "df1.plot()"
   ]
  },
  {
   "cell_type": "markdown",
   "id": "fd9bed64",
   "metadata": {},
   "source": [
    "## Ans : 9"
   ]
  },
  {
   "cell_type": "markdown",
   "id": "d6f7439e",
   "metadata": {},
   "source": [
    "**Considerations and Tradeoffs when Choosing Regularization Techniques:**\n",
    "\n",
    "Dataset Size: Regularization techniques like Dropout are particularly useful when you have a limited amount of training data. If your dataset is large and diverse, you might not need aggressive regularization.\n",
    "\n",
    "Model Complexity: If your model is complex with many layers and parameters, regularization becomes crucial to prevent overfitting. Simpler models might need less aggressive regularization.\n",
    "\n",
    "Computational Resources: Regularization techniques like Dropout introduce noise and require additional computations during training. Consider your computational resources when choosing regularization methods. For large-scale models, these computations might impact training time significantly.\n",
    "\n",
    "Domain Knowledge: Understand your data and the problem domain. Some regularization techniques might align better with the inherent properties of the data. For example, spatial dropout might be more suitable for image data.\n",
    "\n",
    "Experimentation: It's often a good practice to experiment with different regularization techniques (e.g., L1, L2, Dropout) and find the one that provides the best balance between training performance and generalization on your specific dataset.\n",
    "\n",
    "Validation Performance: Regularization techniques should be validated on a separate validation dataset (or through cross-validation) to ensure they improve generalization without sacrificing too much of the training performance.\n",
    "\n",
    "Choosing the appropriate regularization technique involves understanding the problem context, the available data, and experimenting with different methods to strike the right balance between preventing overfitting and maintaining good model performance. Regularization should be tailored to the specific characteristics of the data and the complexity of the model being used."
   ]
  },
  {
   "cell_type": "code",
   "execution_count": null,
   "id": "1d8a53b3",
   "metadata": {},
   "outputs": [],
   "source": []
  }
 ],
 "metadata": {
  "kernelspec": {
   "display_name": "Python 3 (ipykernel)",
   "language": "python",
   "name": "python3"
  },
  "language_info": {
   "codemirror_mode": {
    "name": "ipython",
    "version": 3
   },
   "file_extension": ".py",
   "mimetype": "text/x-python",
   "name": "python",
   "nbconvert_exporter": "python",
   "pygments_lexer": "ipython3",
   "version": "3.9.12"
  }
 },
 "nbformat": 4,
 "nbformat_minor": 5
}
