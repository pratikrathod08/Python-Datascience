{
 "cells": [
  {
   "cell_type": "markdown",
   "id": "3b2a19ee",
   "metadata": {},
   "source": [
    "## Ans : 1\n",
    "\n",
    "Estimation statistics is a branch of inferential statistics that involves estimating population parameters based on sample data. It aims to make inferences and draw conclusions about the population using statistical techniques.\n",
    "\n",
    "Point Estimate: A point estimate is a single value that is used to estimate the population parameter. It is calculated using the sample statistic and provides an estimate of the unknown parameter. For example, the sample mean is often used as a point estimate for the population mean.\n",
    "\n",
    "Interval Estimate: An interval estimate is a range of values that is used to estimate the population parameter. It provides a range of plausible values within which the population parameter is likely to lie. The interval estimate is typically constructed with a certain level of confidence. For example, a 95% confidence interval for the population mean provides a range of values within which we are 95% confident that the true population mean falls."
   ]
  },
  {
   "cell_type": "code",
   "execution_count": 1,
   "id": "7d1d41ee",
   "metadata": {},
   "outputs": [],
   "source": [
    "## Ans : 2 \n",
    "\n",
    "import math\n",
    "\n",
    "def estimate_population_mean(sample_mean, sample_std_dev, sample_size):\n",
    "    standard_error = sample_std_dev / math.sqrt(sample_size)\n",
    "    margin_of_error = 1.96 * standard_error  # Assuming a 95% confidence level (z-value of 1.96 for a large sample)\n",
    "    lower_bound = sample_mean - margin_of_error\n",
    "    upper_bound = sample_mean + margin_of_error\n",
    "    return lower_bound, upper_bound\n"
   ]
  },
  {
   "cell_type": "markdown",
   "id": "71252f61",
   "metadata": {},
   "source": [
    "## Ans : 3\n",
    "\n",
    "Hypothesis testing is a statistical method used to make decisions or draw conclusions about a population based on sample data. It involves formulating a null hypothesis and an alternative hypothesis and then assessing the evidence provided by the sample data to either support or reject the null hypothesis.\n",
    "\n",
    "Importance of Hypothesis Testing:\n",
    "\n",
    "It allows researchers to make statistically valid inferences and draw conclusions about populations based on sample data.\n",
    "It helps in testing scientific theories and hypotheses.\n",
    "It provides a structured and objective approach to decision-making based on data analysis.\n",
    "It allows researchers to assess the significance of relationships or differences observed in the data."
   ]
  },
  {
   "cell_type": "markdown",
   "id": "6a03d53f",
   "metadata": {},
   "source": [
    "## Ans : 4 \n",
    "\n",
    "Null Hypothesis (H0): The average weight of male college students is equal to or less than the average weight of female college students.\n",
    "Alternative Hypothesis (HA): The average weight of male college students is greater than the average weight of female college students.\n"
   ]
  },
  {
   "cell_type": "markdown",
   "id": "febd8907",
   "metadata": {},
   "source": [
    "## Ans : 5\n",
    "\n",
    "To conduct a hypothesis test on the difference between two population means, you can use a t-test. The t-test compares the means of two independent samples and assesses whether the observed difference is statistically significant.\n",
    "\n",
    "import scipy.stats as stats\n",
    "\n",
    "sample1 = [data for the first sample]\n",
    "sample2 = [data for the second sample]\n",
    "\n",
    "t_statistic, p_value = stats.ttest_ind(sample1, sample2)\n",
    "\n",
    "print(\"T-Statistic:\", t_statistic)\n",
    "print(\"P-Value:\", p_value)\n"
   ]
  },
  {
   "cell_type": "markdown",
   "id": "4011e823",
   "metadata": {},
   "source": [
    "## Ans : 6\n",
    "\n",
    "Null Hypothesis (H0): It is a statement of no effect or no difference. It assumes that there is no relationship or difference between variables or populations. It is denoted as H0.\n",
    "Example: The mean height of men is equal to the mean height of women.\n",
    "\n",
    "Alternative Hypothesis (HA): It is a statement that contradicts the null hypothesis. It suggests that there is a relationship or difference between variables or populations. It is denoted as HA or H1.\n",
    "Example: The mean height of men is greater than the mean height of women.\n"
   ]
  },
  {
   "cell_type": "markdown",
   "id": "c215b2a9",
   "metadata": {},
   "source": [
    "## Ans : 7\n",
    "\n",
    "1. Formulate the null hypothesis (H0) and alternative hypothesis (HA).\n",
    "2. Choose the significance level (α) for the test.\n",
    "3. Select an appropriate test statistic based on the data and hypothesis.\n",
    "4. Collect sample data and calculate the test statistic.\n",
    "5. Determine the critical region or rejection region based on the significance level.\n",
    "6. Compare the test statistic with the critical value(s) to make a decision.\n",
    "7. If the test statistic falls within the critical region, reject the null hypothesis; otherwise, fail to reject the null hypothesis.\n",
    "8. Draw conclusions based on the decision made and interpret the results in the context of the problem."
   ]
  },
  {
   "cell_type": "markdown",
   "id": "f9021b68",
   "metadata": {},
   "source": [
    "## Ans : 8\n",
    "\n",
    "The p-value is the probability of obtaining a test statistic as extreme as or more extreme than the observed test statistic, assuming that the null hypothesis is true. It is used in hypothesis testing to determine the strength of evidence against the null hypothesis.\n",
    "\n",
    "If the p-value is less than the chosen significance level (α), typically 0.05, it indicates that the observed data is statistically significant and provides strong evidence against the null hypothesis. In this case, the null hypothesis is rejected.\n",
    "If the p-value is greater than the significance level, it suggests that the observed data is not statistically significant, and there is not enough evidence to reject the null hypothesis."
   ]
  },
  {
   "cell_type": "code",
   "execution_count": 2,
   "id": "e8e617c1",
   "metadata": {},
   "outputs": [
    {
     "data": {
      "image/png": "[encoded data removed]",
      "text/plain": [
       "<Figure size 432x288 with 1 Axes>"
      ]
     },
     "metadata": {
      "needs_background": "light"
     },
     "output_type": "display_data"
    }
   ],
   "source": [
    "## Ans : 9\n",
    "\n",
    "import numpy as np\n",
    "import matplotlib.pyplot as plt\n",
    "from scipy.stats import t\n",
    "\n",
    "df = 10  # Degrees of freedom\n",
    "\n",
    "x = np.linspace(t.ppf(0.001, df), t.ppf(0.999, df), 1000)\n",
    "y = t.pdf(x, df)\n",
    "\n",
    "plt.plot(x, y)\n",
    "plt.xlabel('x')\n",
    "plt.ylabel('Probability Density')\n",
    "plt.title('Student\\'s t-Distribution (df=10)')\n",
    "plt.grid(True)\n",
    "plt.show()\n"
   ]
  },
  {
   "cell_type": "markdown",
   "id": "be738b6f",
   "metadata": {},
   "source": [
    "## Ans : 10\n",
    "\n",
    "import scipy.stats as stats\n",
    "\n",
    "sample1 = [data for the first sample]\n",
    "\n",
    "sample2 = [data for the second sample]\n",
    "\n",
    "t_statistic, p_value = stats.ttest_ind(sample1, sample2)\n",
    "\n",
    "print(\"T-Statistic:\", t_statistic)\n",
    "print(\"P-Value:\", p_value)\n"
   ]
  },
  {
   "cell_type": "markdown",
   "id": "5ce6d9d2",
   "metadata": {},
   "source": [
    "## Ans : 11\n",
    "\n",
    "Student's t-distribution is a probability distribution that arises when estimating the population mean of a normally distributed variable when the sample size is small or when the population standard deviation is unknown. It is similar to the standard normal distribution but has fatter tails. The shape of the t-distribution depends on the degrees of freedom, which is determined by the sample size. The t-distribution is used when the assumptions of a normal distribution are not fully met."
   ]
  },
  {
   "cell_type": "markdown",
   "id": "e5b5f8d7",
   "metadata": {},
   "source": [
    "## Ans : 12\n",
    "\n",
    "The t-statistic is a measure used in hypothesis testing to determine if the difference between two sample means is statistically significant. The formula for the t-statistic when comparing two independent samples is:\n",
    "\n",
    "t = (x1 - x2) / √((s1^2 / n1) + (s2^2 / n2))\n",
    "\n",
    "Where:\n",
    "\n",
    "x1 and x2 are the sample means of the two groups.\n",
    "\n",
    "s1 and s2 are the sample standard deviations of the two groups.\n",
    "\n",
    "n1 and n2 are the sample sizes of the two groups."
   ]
  },
  {
   "cell_type": "markdown",
   "id": "0e4e2458",
   "metadata": {},
   "source": [
    "## Ans : 13 \n",
    "\n",
    "Confidence Interval = (sample mean) ± (critical value) * (standard deviation / √sample size)\n",
    "\n",
    "Given:\n",
    "Sample mean revenue (x̄) = $500\n",
    "\n",
    "Standard deviation (σ) = $50\n",
    "\n",
    "Sample size (n) = 50\n",
    "\n",
    "Confidence level = 95%\n",
    "\n",
    "The critical value for a 95% confidence level with 49 degrees of freedom (n-1) is approximately 2.009.\n",
    "\n",
    "Confidence Interval = $500 ± 2.009 * ($50 / √50)\n",
    "\n",
    "Confidence Interval = $500 ± $14.19\n",
    "\n",
    "Confidence Interval = ($485.81, $514.19)\n",
    "\n",
    "Therefore, we can estimate the population mean revenue to be between $485.81 and $514.19 with a 95% confidence interval."
   ]
  },
  {
   "cell_type": "markdown",
   "id": "050641e2",
   "metadata": {},
   "source": [
    "## Ans :14\n",
    "\n",
    "To test the hypothesis that the new drug decreases blood pressure by 10 mmHg, we can use a one-sample t-test. The null hypothesis (H0) is that the mean decrease in blood pressure is equal to 10 mmHg, and the alternative hypothesis (HA) is that the mean decrease is not equal to 10 mmHg.\n",
    "\n",
    "Given:\n",
    "Sample mean decrease in blood pressure (x̄) = 8 mmHg\n",
    "\n",
    "Standard deviation (σ) = 3 mmHg\n",
    "\n",
    "Sample size (n) = 100\n",
    "\n",
    "Significance level (α) = 0.05\n",
    "\n",
    "We can calculate the t-statistic using the formula mentioned earlier:\n",
    "\n",
    "t = (x̄ - μ) / (s / √n)\n",
    "\n",
    "t = (8 - 10) / (3 / √100)\n",
    "\n",
    "t = -2 / 0.3\n",
    "\n",
    "t = -6.67 (rounded)\n",
    "\n",
    "Next, we determine the critical value for a two-tailed t-test with 99 degrees of freedom (n-1) and a significance level of 0.05. Using a t-table or statistical software, the critical value is approximately ±1.984.\n",
    "\n",
    "Since the t-statistic (-6.67) is smaller in magnitude than the critical value (-1.984), we reject the null hypothesis. There is evidence to support the researcher's hypothesis that the new drug decreases blood pressure by more than 10 mmHg."
   ]
  },
  {
   "cell_type": "markdown",
   "id": "a6160590",
   "metadata": {},
   "source": [
    "## Ans : 15\n",
    "\n",
    "To test the hypothesis that the true mean weight of the products is less than 5 pounds, we can use a one-sample t-test. The null hypothesis (H0) is that the mean weight is equal to 5 pounds, and the alternative hypothesis (HA) is that the mean weight is less than 5 pounds.\n",
    "\n",
    "Given:\n",
    "Sample mean weight (x̄) = 4.8 pounds\n",
    "\n",
    "Standard deviation (σ) = 0.5 pounds\n",
    "\n",
    "Sample size (n) = 25\n",
    "\n",
    "Significance level (α) = 0.01\n",
    "\n",
    "We can calculate the t-statistic:\n",
    "\n",
    "t = (x̄ - μ) / (s / √n)\n",
    "\n",
    "t = (4.8 - 5) / (0.5 / √25)\n",
    "\n",
    "t = -0.2 / 0.1\n",
    "\n",
    "t = -2 (rounded)\n",
    "\n",
    "Next, we determine the critical value for a one-tailed t-test with 24 degrees of freedom (n-1) and a significance level of 0.01. Using a t-table or statistical software, the critical value is approximately -2.492.\n",
    "\n",
    "Since the t-statistic (-2) falls within the critical region (less than -2.492), we reject the null hypothesis. There is evidence to support the hypothesis that the true mean weight of the products is less than 5 pounds."
   ]
  },
  {
   "cell_type": "markdown",
   "id": "88ff344d",
   "metadata": {},
   "source": [
    "## Ans : 16\n",
    "\n",
    "To test the hypothesis that the population means for the two groups are equal, we can use a two-sample t-test for independent samples. The null hypothesis (H0) is that the population means are equal, and the alternative hypothesis (HA) is that the population means are not equal.\n",
    "\n",
    "Given:\n",
    "First group:\n",
    "\n",
    "Sample mean (x̄1) = 80\n",
    "\n",
    "Sample standard deviation (s1) = 10\n",
    "\n",
    "Sample size (n1) = 30\n",
    "\n",
    "Second group:\n",
    "\n",
    "Sample mean (x̄2) = 75\n",
    "\n",
    "Sample standard deviation (s2) = 8\n",
    "\n",
    "Sample size (n2) = 40\n",
    "\n",
    "Significance level (α) = 0.01\n",
    "\n",
    "We can calculate the t-statistic:\n",
    "\n",
    "t = (x̄1 - x̄2) / √[(s1^2 / n1) + (s2^2 / n2)]\n",
    "\n",
    "t = (80 - 75) / √[(10^2 / 30) + (8^2 / 40)]\n",
    "\n",
    "t = 5 / √[(100/30) + (64/40)]\n",
    "\n",
    "t = 5 / √(3.33 + 1.6)\n",
    "\n",
    "t = 5 / √4.93\n",
    "\n",
    "t = 5 / 2.22\n",
    "\n",
    "t ≈ 2.25 (rounded)\n",
    "\n",
    "Next, we determine the critical value for a two-tailed t-test with 68 degrees of freedom (n1 + n2 - 2) and a significance level of 0.01. Using a t-table or statistical software, the critical value is approximately ±2.611.\n",
    "\n",
    "Since the t-statistic (2.25) falls within the range -2.611 to 2.611, we fail to reject the null hypothesis. There is not enough evidence to support the hypothesis that the population means for the two groups are different."
   ]
  },
  {
   "cell_type": "markdown",
   "id": "6655550c",
   "metadata": {},
   "source": [
    "## Ans : 17\n",
    "\n",
    "\n",
    "To estimate the average number of ads watched by viewers during a TV program with a 99% confidence interval, we can use the formula:\n",
    "\n",
    "Confidence Interval = (sample mean) ± (critical value) * (standard deviation / √sample size)\n",
    "\n",
    "Given:\n",
    "Sample mean (x̄) = 4\n",
    "\n",
    "Standard deviation (σ) = 1.5\n",
    "\n",
    "Sample size (n) = 50\n",
    "\n",
    "Confidence level = 99%\n",
    "\n",
    "The critical value for a 99% confidence level with 49 degrees of freedom (n-1) is approximately 2.685.\n",
    "\n",
    "Confidence Interval = 4 ± 2.685 * (1.5 / √50)\n",
    "\n",
    "Confidence Interval = 4 ± 2.685 * 0.2121\n",
    "\n",
    "Confidence Interval = 4 ± 0.5701\n",
    "\n",
    "Confidence Interval = (3.43, 4.57)\n",
    "\n",
    "Therefore, we can estimate the population mean to be between 3.43 and 4.57 with a 99% confidence interval."
   ]
  },
  {
   "cell_type": "code",
   "execution_count": null,
   "id": "dff24c71",
   "metadata": {},
   "outputs": [],
   "source": []
  }
 ],
 "metadata": {
  "kernelspec": {
   "display_name": "Python 3 (ipykernel)",
   "language": "python",
   "name": "python3"
  },
  "language_info": {
   "codemirror_mode": {
    "name": "ipython",
    "version": 3
   },
   "file_extension": ".py",
   "mimetype": "text/x-python",
   "name": "python",
   "nbconvert_exporter": "python",
   "pygments_lexer": "ipython3",
   "version": "3.9.12"
  }
 },
 "nbformat": 4,
 "nbformat_minor": 5
}
