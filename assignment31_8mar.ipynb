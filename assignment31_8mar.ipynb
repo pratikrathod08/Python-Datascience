{
 "cells": [
  {
   "cell_type": "markdown",
   "id": "f8496c56",
   "metadata": {},
   "source": [
    "## Ans : 1 \n",
    "\n",
    "The Probability Density Function is a function that describes the probability distribution of a continuous random variable. It defines the relative likelihood of observing a specific value or range of values for a continuous variable. The PDF represents the shape of the distribution and integrates to 1 over the entire range of possible values."
   ]
  },
  {
   "cell_type": "markdown",
   "id": "f0090949",
   "metadata": {},
   "source": [
    "## Ans : 2 \n",
    "\n",
    "here are several types of probability distributions, including:\n",
    "\n",
    "Normal Distribution\n",
    "Binomial Distribution\n",
    "Poisson Distribution\n",
    "Exponential Distribution\n",
    "Uniform Distribution\n",
    "Gamma Distribution\n",
    "Chi-Square Distribution\n",
    "Student's t-Distribution`"
   ]
  },
  {
   "cell_type": "code",
   "execution_count": 1,
   "id": "9722802d",
   "metadata": {},
   "outputs": [],
   "source": [
    "## Ans : 3\n",
    "\n",
    "import math\n",
    "\n",
    "def normal_pdf(x, mean, std_dev):\n",
    "    coefficient = 1 / (std_dev * math.sqrt(2 * math.pi))\n",
    "    exponent = -((x - mean) ** 2) / (2 * std_dev ** 2)\n",
    "    pdf_value = coefficient * math.exp(exponent)\n",
    "    return pdf_value\n"
   ]
  },
  {
   "cell_type": "markdown",
   "id": "a7fedc80",
   "metadata": {},
   "source": [
    "## Ans : 4\n",
    "\n",
    "Properties of Binomial distribution:\n",
    "\n",
    "It models the number of successes in a fixed number of independent Bernoulli trials.\n",
    "Each trial has two possible outcomes: success or failure.\n",
    "The trials are independent and have the same probability of success.\n",
    "Examples where Binomial distribution can be applied:\n",
    "\n",
    "The number of heads obtained when flipping a coin a fixed number of times.\n",
    "The number of defective items in a batch produced by a machine."
   ]
  },
  {
   "cell_type": "code",
   "execution_count": 2,
   "id": "bf76326a",
   "metadata": {},
   "outputs": [
    {
     "data": {
      "image/png": "[encoded data removed]",
      "text/plain": [
       "<Figure size 432x288 with 1 Axes>"
      ]
     },
     "metadata": {
      "needs_background": "light"
     },
     "output_type": "display_data"
    }
   ],
   "source": [
    "## Ans : 5\n",
    "\n",
    "import numpy as np\n",
    "import matplotlib.pyplot as plt\n",
    "\n",
    "# Generate random sample\n",
    "sample = np.random.binomial(n=1, p=0.4, size=1000)\n",
    "\n",
    "# Plot histogram\n",
    "plt.hist(sample, bins=10)\n",
    "plt.xlabel('Success or Failure')\n",
    "plt.ylabel('Frequency')\n",
    "plt.title('Binomial Distribution')\n",
    "plt.show()\n"
   ]
  },
  {
   "cell_type": "code",
   "execution_count": 3,
   "id": "08ac09ac",
   "metadata": {},
   "outputs": [],
   "source": [
    "## Ans : 6\n",
    "\n",
    "import math\n",
    "\n",
    "def poisson_cdf(k, mean):\n",
    "    cdf_value = 0\n",
    "    for i in range(k + 1):\n",
    "        cdf_value += (math.exp(-mean) * mean ** i) / math.factorial(i)\n",
    "    return cdf_value\n"
   ]
  },
  {
   "cell_type": "markdown",
   "id": "4ad1e705",
   "metadata": {},
   "source": [
    "## Ans : 7\n",
    "\n",
    "- Binomial distribution models the number of successes in a fixed number of trials, while Poisson distribution models the number of events occurring in a fixed interval of time or space.\n",
    "- Binomial distribution has two parameters: the number of trials and the probability of success in each trial, while Poisson distribution has one parameter: the average rate of events.\n",
    "- Binomial distribution deals with discrete outcomes (success or failure), while Poisson distribution deals with discrete count data.\n",
    "- Binomial distribution is a limiting case of the Poisson distribution when the number of trials becomes very large and the success probability becomes very small."
   ]
  },
  {
   "cell_type": "code",
   "execution_count": 4,
   "id": "37c69e2f",
   "metadata": {},
   "outputs": [
    {
     "name": "stdout",
     "output_type": "stream",
     "text": [
      "Sample Mean: 5.086\n",
      "Sample Variance: 5.222604\n"
     ]
    }
   ],
   "source": [
    "## Ans : 8\n",
    "\n",
    "import numpy as np\n",
    "\n",
    "# Generate random sample\n",
    "sample = np.random.poisson(lam=5, size=1000)\n",
    "\n",
    "# Calculate sample mean and variance\n",
    "sample_mean = np.mean(sample)\n",
    "sample_variance = np.var(sample)\n",
    "\n",
    "print(\"Sample Mean:\", sample_mean)\n",
    "print(\"Sample Variance:\", sample_variance)\n"
   ]
  },
  {
   "cell_type": "markdown",
   "id": "c0a73251",
   "metadata": {},
   "source": [
    "## Ans : 9\n",
    "\n",
    "- In the Binomial distribution, the mean (μ) is equal to the product of the number of trials (n) and the probability of success (p), while the variance (σ^2) is equal to the product of n, p, and (1 - p).\n",
    "- In the Poisson distribution, both the mean (λ) and variance (λ) are equal to the single parameter of the distribution, which represents the average rate of events."
   ]
  },
  {
   "cell_type": "markdown",
   "id": "e73a18c0",
   "metadata": {},
   "source": [
    "## Ans : 10\n",
    "\n",
    "In a normal distribution, the least frequent data occurs in the tails of the distribution, specifically in the extreme values. As the distribution is symmetrical, the least frequent data appears in the regions that are farthest from the mean. These extreme values have a lower probability of occurrence compared to the values closer to the mean.\n",
    "\n",
    "Please note that for the code-related questions (Q3, Q5, Q6, Q8), you will need to execute the code in a Jupyter Notebook or any Python environment to obtain the desired results and plots.\n",
    "\n",
    "\n",
    "\n",
    "\n",
    "\n",
    "\n"
   ]
  },
  {
   "cell_type": "code",
   "execution_count": null,
   "id": "363b6022",
   "metadata": {},
   "outputs": [],
   "source": []
  }
 ],
 "metadata": {
  "kernelspec": {
   "display_name": "Python 3 (ipykernel)",
   "language": "python",
   "name": "python3"
  },
  "language_info": {
   "codemirror_mode": {
    "name": "ipython",
    "version": 3
   },
   "file_extension": ".py",
   "mimetype": "text/x-python",
   "name": "python",
   "nbconvert_exporter": "python",
   "pygments_lexer": "ipython3",
   "version": "3.9.12"
  }
 },
 "nbformat": 4,
 "nbformat_minor": 5
}
