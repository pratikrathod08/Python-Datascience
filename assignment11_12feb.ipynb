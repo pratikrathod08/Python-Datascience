{
 "cells": [
  {
   "cell_type": "markdown",
   "metadata": {},
   "source": [
    "Ans 1: An Exception is an Event, which occurs during the execution of the program. It is also known as a run time error. When that error occurs, Python generates an exception during the execution and that can be handled, which avoids your program to interrupt.\n",
    "\n",
    "Syntax Error: As the name suggests this error is caused by the wrong syntax in the code. It leads to the termination of the program. \n",
    "\n",
    "Exceptions: Exceptions are raised when the program is syntactically correct, but the code resulted in an error. This error does not stop the execution of the program, however, it changes the normal flow of the program."
   ]
  },
  {
   "cell_type": "markdown",
   "metadata": {},
   "source": [
    "Ans 2: \n",
    "\n",
    "Python has many built-in exceptions that are raised when your program encounters an error (something in the program goes wrong). When these exceptions occur, the Python interpreter stops the current process and passes it to the calling process until it is handled. If not handled, the program will crash."
   ]
  },
  {
   "cell_type": "code",
   "execution_count": 3,
   "metadata": {},
   "outputs": [
    {
     "ename": "ZeroDivisionError",
     "evalue": "division by zero",
     "output_type": "error",
     "traceback": [
      "\u001b[1;31m---------------------------------------------------------------------------\u001b[0m",
      "\u001b[1;31mZeroDivisionError\u001b[0m                         Traceback (most recent call last)",
      "Cell \u001b[1;32mIn[3], line 3\u001b[0m\n\u001b[0;32m      1\u001b[0m a\u001b[39m=\u001b[39m\u001b[39m10\u001b[39m\n\u001b[0;32m      2\u001b[0m b\u001b[39m=\u001b[39m\u001b[39m0\u001b[39m\n\u001b[1;32m----> 3\u001b[0m a\u001b[39m/\u001b[39;49mb\n\u001b[0;32m      5\u001b[0m \u001b[39mprint\u001b[39m(a)\n\u001b[0;32m      6\u001b[0m \u001b[39m# this will through error .\u001b[39;00m\n",
      "\u001b[1;31mZeroDivisionError\u001b[0m: division by zero"
     ]
    }
   ],
   "source": [
    "a=10\n",
    "b=0\n",
    "a/b\n",
    "\n",
    "print(a)\n",
    "# this will through error . and programm will stop ."
   ]
  },
  {
   "cell_type": "code",
   "execution_count": 5,
   "metadata": {},
   "outputs": [
    {
     "name": "stdout",
     "output_type": "stream",
     "text": [
      "division by zero\n",
      "10\n"
     ]
    }
   ],
   "source": [
    "a=10\n",
    "b=0\n",
    "try:\n",
    "    a/b\n",
    "except Exception as e:\n",
    "    print(e)\n",
    "# here we have handled exception so program will continue running agter getting any error .\n",
    "print(a)\n",
    "\n"
   ]
  },
  {
   "cell_type": "markdown",
   "metadata": {},
   "source": [
    "Ans : 3\n",
    "\n",
    "Try and except atatement is used to catch and handle error in python .\n",
    "\n",
    "\n"
   ]
  },
  {
   "cell_type": "code",
   "execution_count": 6,
   "metadata": {},
   "outputs": [
    {
     "name": "stdout",
     "output_type": "stream",
     "text": [
      "division by zero\n"
     ]
    }
   ],
   "source": [
    "a=10\n",
    "b=0\n",
    "try:               #here we catched error \n",
    "    a/b\n",
    "except Exception as e:  # here we handled error .\n",
    "    print(e)"
   ]
  },
  {
   "cell_type": "markdown",
   "metadata": {},
   "source": [
    "Ans :4 \n",
    "Explain with example :\n",
    "a. try and else\n",
    "b. finally\n",
    "c. raise "
   ]
  },
  {
   "cell_type": "code",
   "execution_count": 8,
   "metadata": {},
   "outputs": [
    {
     "name": "stdout",
     "output_type": "stream",
     "text": [
      "your result is 3.0\n"
     ]
    }
   ],
   "source": [
    "a=12\n",
    "b=4\n",
    "try :              #try will catch error if occures .\n",
    "    c=a/b\n",
    "except Exception:    #except will handle that error .\n",
    "    print('sorry we can not devide ')\n",
    "else:                #else will print statement is no error occure in try statement .\n",
    "    print(\"your result is\",c)"
   ]
  },
  {
   "cell_type": "code",
   "execution_count": 9,
   "metadata": {},
   "outputs": [
    {
     "name": "stdout",
     "output_type": "stream",
     "text": [
      "sorry we can not devide \n",
      "we did good try .\n"
     ]
    }
   ],
   "source": [
    "a=12\n",
    "b=0\n",
    "try :              #try will catch error if occures .\n",
    "    c=a/b\n",
    "except Exception:    #except will handle that error .\n",
    "    print('sorry we can not devide ')\n",
    "else:                #else will print statement is no error occure in try statement .\n",
    "    print(\"your result is\",c)\n",
    "finally:\n",
    "    print('we did good try .')  # finally will always return statement no metter is error occure or not ."
   ]
  },
  {
   "cell_type": "code",
   "execution_count": 11,
   "metadata": {},
   "outputs": [
    {
     "ename": "Exception",
     "evalue": "we can not devide a by b",
     "output_type": "error",
     "traceback": [
      "\u001b[1;31m---------------------------------------------------------------------------\u001b[0m",
      "\u001b[1;31mException\u001b[0m                                 Traceback (most recent call last)",
      "Cell \u001b[1;32mIn[11], line 6\u001b[0m\n\u001b[0;32m      4\u001b[0m b\u001b[39m=\u001b[39m\u001b[39m3\u001b[39m\n\u001b[0;32m      5\u001b[0m \u001b[39mif\u001b[39;00m a\u001b[39m/\u001b[39mb \u001b[39m!=\u001b[39m \u001b[39m0\u001b[39m:\n\u001b[1;32m----> 6\u001b[0m     \u001b[39mraise\u001b[39;00m \u001b[39mException\u001b[39;00m(\u001b[39m'\u001b[39m\u001b[39mwe can not devide a by b\u001b[39m\u001b[39m'\u001b[39m)\n",
      "\u001b[1;31mException\u001b[0m: we can not devide a by b"
     ]
    }
   ],
   "source": [
    "# Python raise Keyword is used to raise exceptions or errors. The raise keyword raises an error and stops the control flow of the program.\n",
    "\n",
    "a=5\n",
    "b=3\n",
    "if a/b != 0:\n",
    "    raise Exception('we can not devide a by b') #we can provide message of error by raise .and raise our own exception."
   ]
  },
  {
   "cell_type": "markdown",
   "metadata": {},
   "source": [
    "Ans 5:\n",
    "\n",
    "Custom Exceptions in python :\n",
    "\n",
    "In Python, you can define your own custom exceptions by creating a new class that inherits from the built-in Exception class.\n",
    "\n",
    "why do we need custom exception ?\n",
    "1. Better Error Handling:\n",
    "2. Organizing Exceptions:\n",
    "3. Enforcing Constraints:\n",
    "4. Compatibility with Libraries:\n",
    "\n"
   ]
  },
  {
   "cell_type": "code",
   "execution_count": 14,
   "metadata": {},
   "outputs": [
    {
     "name": "stdout",
     "output_type": "stream",
     "text": [
      "exception occured : Invalid age for vote\n"
     ]
    }
   ],
   "source": [
    "# python user define exception .\n",
    "\n",
    "class Invalidage(Exception):\n",
    "    pass                           #occure when invalid age is inputed \n",
    "\n",
    "number =18\n",
    "try :\n",
    "    input_num=int(input(\"type num here : \"))\n",
    "    if input_num <number :\n",
    "        raise Invalidage\n",
    "    else:\n",
    "        print('you are eligable for vote ')\n",
    "except Invalidage:\n",
    "    print(\"exception occured : Invalid age for vote\")\n",
    "\n"
   ]
  },
  {
   "cell_type": "code",
   "execution_count": 15,
   "metadata": {},
   "outputs": [
    {
     "name": "stdout",
     "output_type": "stream",
     "text": [
      "you are eligable for vote \n"
     ]
    }
   ],
   "source": [
    "# Ans 6:\n",
    "\n",
    "# python user define exception .\n",
    "\n",
    "class Invalidage(Exception):\n",
    "    pass                           #occure when invalid age is inputed \n",
    "\n",
    "number =18\n",
    "try :\n",
    "    input_num=int(input(\"type num here : \"))\n",
    "    if input_num <number :\n",
    "        raise Invalidage\n",
    "    else:\n",
    "        print('you are eligable for vote ')\n",
    "except Invalidage:\n",
    "    print(\"exception occured : Invalid age for vote\")\n"
   ]
  },
  {
   "cell_type": "code",
   "execution_count": null,
   "metadata": {},
   "outputs": [],
   "source": []
  }
 ],
 "metadata": {
  "kernelspec": {
   "display_name": "Python 3.10.7 64-bit (microsoft store)",
   "language": "python",
   "name": "python3"
  },
  "language_info": {
   "codemirror_mode": {
    "name": "ipython",
    "version": 3
   },
   "file_extension": ".py",
   "mimetype": "text/x-python",
   "name": "python",
   "nbconvert_exporter": "python",
   "pygments_lexer": "ipython3",
   "version": "3.10.7"
  },
  "orig_nbformat": 4,
  "vscode": {
   "interpreter": {
    "hash": "486e0d5a79acdbfffd563ee7a67a93a5017bd2a4f66495483a69f0245c8a4a6c"
   }
  }
 },
 "nbformat": 4,
 "nbformat_minor": 2
}
