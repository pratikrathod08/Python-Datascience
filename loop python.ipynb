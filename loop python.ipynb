{
 "cells": [
  {
   "cell_type": "code",
   "execution_count": 1,
   "id": "8004b5d3",
   "metadata": {},
   "outputs": [
    {
     "name": "stdout",
     "output_type": "stream",
     "text": [
      "The capital of the country India is New Delhi and it also has the river Ganga.\n",
      "The capital of the country Australia is Canberra and it also has the river Rovers.\n",
      "The capital of the country United States is Washington DC and it also has the river Missouri.\n",
      "The capital of the country England is London and it also has the river Thames.\n"
     ]
    }
   ],
   "source": [
    "# Let us iterate through each tuple element of this list and unpack each item\n",
    "country_city_river_list = [('India','New Delhi','Ganga'),('Australia','Canberra','Rovers'),('United States','Washington DC','Missouri'),('England','London','Thames')]\n",
    "for country,city,river in country_city_river_list:\n",
    "  # print(country_city)\n",
    "  print(f\"The capital of the country {country} is {city} and it also has the river {river}.\")"
   ]
  },
  {
   "cell_type": "code",
   "execution_count": null,
   "id": "d0ad1e63",
   "metadata": {},
   "outputs": [],
   "source": []
  }
 ],
 "metadata": {
  "kernelspec": {
   "display_name": "Python 3 (ipykernel)",
   "language": "python",
   "name": "python3"
  },
  "language_info": {
   "codemirror_mode": {
    "name": "ipython",
    "version": 3
   },
   "file_extension": ".py",
   "mimetype": "text/x-python",
   "name": "python",
   "nbconvert_exporter": "python",
   "pygments_lexer": "ipython3",
   "version": "3.9.12"
  }
 },
 "nbformat": 4,
 "nbformat_minor": 5
}
