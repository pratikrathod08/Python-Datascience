{
 "cells": [
  {
   "cell_type": "code",
   "execution_count": 1,
   "id": "4af8020b",
   "metadata": {},
   "outputs": [],
   "source": [
    "## Ans : 1\n",
    "\n",
    "# Import necessary libraries\n",
    "import numpy as np\n",
    "import pandas as pd\n",
    "from sklearn.datasets import load_iris, load_boston\n",
    "from sklearn.model_selection import train_test_split, cross_val_score\n",
    "from sklearn.neighbors import KNeighborsClassifier, KNeighborsRegressor\n",
    "from sklearn.preprocessing import StandardScaler\n",
    "from scipy.spatial.distance import euclidean, cityblock\n",
    "import warnings \n",
    "warnings.filterwarnings('ignore')\n",
    "\n",
    "\n"
   ]
  },
  {
   "cell_type": "code",
   "execution_count": 2,
   "id": "94481cf0",
   "metadata": {},
   "outputs": [
    {
     "data": {
      "text/plain": [
       "KNeighborsClassifier(n_neighbors=3)"
      ]
     },
     "execution_count": 2,
     "metadata": {},
     "output_type": "execute_result"
    }
   ],
   "source": [
    "iris_data = load_iris()\n",
    "X, y = iris_data.data, iris_data.target\n",
    "\n",
    "knn_classifier = KNeighborsClassifier(n_neighbors=3)\n",
    "knn_classifier.fit(X, y)\n",
    "\n",
    "# Use the trained classifier for predictions"
   ]
  },
  {
   "cell_type": "code",
   "execution_count": 3,
   "id": "cb2fa43f",
   "metadata": {},
   "outputs": [
    {
     "data": {
      "text/plain": [
       "KNeighborsRegressor(n_neighbors=3)"
      ]
     },
     "execution_count": 3,
     "metadata": {},
     "output_type": "execute_result"
    }
   ],
   "source": [
    "## Ans : 2\n",
    "\n",
    "boston_data = load_boston()\n",
    "X, y = boston_data.data, boston_data.target\n",
    "\n",
    "knn_regressor = KNeighborsRegressor(n_neighbors=3)\n",
    "knn_regressor.fit(X, y)\n",
    "# Use the trained regressor for predictions"
   ]
  },
  {
   "cell_type": "code",
   "execution_count": 4,
   "id": "2da95041",
   "metadata": {},
   "outputs": [],
   "source": [
    "## Ans : 3\n",
    "\n",
    "iris_data = load_iris()\n",
    "X, y = iris_data.data, iris_data.target\n",
    "\n",
    "# Iterate over different values of K\n",
    "k_values = range(1, 10)\n",
    "cv_scores = []\n",
    "\n",
    "for k in k_values:\n",
    "    knn_classifier = KNeighborsClassifier(n_neighbors=k)\n",
    "    scores = cross_val_score(knn_classifier, X, y, cv=5)\n",
    "    cv_scores.append(scores.mean())\n",
    "\n",
    "# Find the optimal K value\n",
    "optimal_k = k_values[np.argmax(cv_scores)]"
   ]
  },
  {
   "cell_type": "code",
   "execution_count": 5,
   "id": "6f2f9c9b",
   "metadata": {},
   "outputs": [
    {
     "data": {
      "text/plain": [
       "KNeighborsRegressor(n_neighbors=3)"
      ]
     },
     "execution_count": 5,
     "metadata": {},
     "output_type": "execute_result"
    }
   ],
   "source": [
    "## Ans : 4\n",
    "\n",
    "boston_data = load_boston()\n",
    "X, y = boston_data.data, boston_data.target\n",
    "\n",
    "scaler = StandardScaler()\n",
    "X_scaled = scaler.fit_transform(X)\n",
    "\n",
    "knn_regressor = KNeighborsRegressor(n_neighbors=3)\n",
    "knn_regressor.fit(X_scaled, y)"
   ]
  },
  {
   "cell_type": "code",
   "execution_count": 6,
   "id": "17dc5c18",
   "metadata": {},
   "outputs": [
    {
     "data": {
      "text/plain": [
       "KNeighborsClassifier(n_neighbors=3, weights='distance')"
      ]
     },
     "execution_count": 6,
     "metadata": {},
     "output_type": "execute_result"
    }
   ],
   "source": [
    "## Ans : 5\n",
    "\n",
    "iris_data = load_iris()\n",
    "X, y = iris_data.data, iris_data.target\n",
    "\n",
    "knn_classifier = KNeighborsClassifier(n_neighbors=3, weights='distance')\n",
    "knn_classifier.fit(X, y)\n",
    "# Use the trained classifier for predictions"
   ]
  },
  {
   "cell_type": "code",
   "execution_count": 7,
   "id": "71d94765",
   "metadata": {},
   "outputs": [],
   "source": [
    "## Ans : 6\n",
    "\n",
    "def standardize_features(X):\n",
    "    scaler = StandardScaler()\n",
    "    X_scaled = scaler.fit_transform(X)\n",
    "    return X_scaled"
   ]
  },
  {
   "cell_type": "code",
   "execution_count": 8,
   "id": "afedb98f",
   "metadata": {},
   "outputs": [],
   "source": [
    "## Ans : 7\n",
    "\n",
    "def euclidean_distance(point1, point2):\n",
    "    return euclidean(point1, point2)"
   ]
  },
  {
   "cell_type": "code",
   "execution_count": 9,
   "id": "773878b6",
   "metadata": {},
   "outputs": [],
   "source": [
    "## Ans : 8\n",
    "\n",
    "def manhattan_distance(point1, point2):\n",
    "    return cityblock(point1, point2)"
   ]
  },
  {
   "cell_type": "code",
   "execution_count": null,
   "id": "65e8ad16",
   "metadata": {},
   "outputs": [],
   "source": []
  }
 ],
 "metadata": {
  "kernelspec": {
   "display_name": "Python 3 (ipykernel)",
   "language": "python",
   "name": "python3"
  },
  "language_info": {
   "codemirror_mode": {
    "name": "ipython",
    "version": 3
   },
   "file_extension": ".py",
   "mimetype": "text/x-python",
   "name": "python",
   "nbconvert_exporter": "python",
   "pygments_lexer": "ipython3",
   "version": "3.9.12"
  }
 },
 "nbformat": 4,
 "nbformat_minor": 5
}
