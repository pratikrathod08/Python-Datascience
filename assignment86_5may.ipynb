{
 "cells": [
  {
   "cell_type": "markdown",
   "id": "4be9ad6b",
   "metadata": {},
   "source": [
    "## Ans : 1\n",
    "\n",
    "Time-dependent seasonal components refer to seasonal patterns in a time series data that vary or change over time. Unlike fixed seasonal patterns, which remain constant across all periods, time-dependent seasonal components evolve, and their characteristics may differ in different time periods. This implies that the seasonal patterns are not consistent or repetitive with a fixed period."
   ]
  },
  {
   "cell_type": "markdown",
   "id": "fdc67783",
   "metadata": {},
   "source": [
    "## Ans : 2\n",
    "\n",
    "Time-dependent seasonal components can be identified in time series data through various techniques, including:\n",
    "\n",
    "Seasonal Subseries Plots: Plotting subsets of the data for each season and visually inspecting for variations.\n",
    "\n",
    "Time Series Decomposition: Decomposing the time series into its components (trend, seasonality, and residuals) and analyzing the seasonality component.\n",
    "\n",
    "Autocorrelation Function (ACF): Looking for significant peaks at multiples of the seasonal period in the ACF plot.\n",
    "\n",
    "Partial Autocorrelation Function (PACF): Checking for significant spikes at seasonal lags in the PACF plot."
   ]
  },
  {
   "cell_type": "markdown",
   "id": "6eff7ae1",
   "metadata": {},
   "source": [
    "## Ans : 3\n",
    "\n",
    "Several factors can influence time-dependent seasonal components, including:\n",
    "\n",
    "1. External Events: Changes in external factors like weather, holidays, or economic conditions can affect seasonal patterns.\n",
    "2. Market Dynamics: Shifts in consumer behavior, preferences, or competitive landscape may impact seasonality.\n",
    "3. Product Lifecycle: Seasonality may vary as a product evolves through its lifecycle.\n",
    "4. Regulatory Changes: Changes in regulations or policies can influence seasonal patterns.\n",
    "5. Natural Events: Natural disasters or other events can disrupt regular seasonal patterns."
   ]
  },
  {
   "cell_type": "markdown",
   "id": "8333e3b8",
   "metadata": {},
   "source": [
    "## Ans : 4\n",
    "\n",
    "Autoregression models are used to predict a variable's future values based on its own past values. The idea behind autoregression is that the value of the variable at a particular time point depends on its previous values.\n",
    "\n",
    "In time series analysis, autoregression models are denoted as AR(p), where 'p' represents the number of lagged time points used in the model. These models capture the serial correlation in the data, which is the correlation between a data point and its previous data points"
   ]
  },
  {
   "cell_type": "markdown",
   "id": "51e321fc",
   "metadata": {},
   "source": [
    "## Ans : 5\n",
    "\n",
    "To use autoregression models for future predictions, the following steps are taken:\n",
    "\n",
    "- Select an appropriate order 'p' based on ACF and PACF plots or information criteria (e.g., AIC, BIC).\n",
    "- Split the time series data into training and testing sets.\n",
    "- Fit the AR(p) model using the training data.\n",
    "- Use the fitted model to forecast future time points (out-of-sample) using the lagged values of the series from the testing data.\n",
    "\n"
   ]
  },
  {
   "cell_type": "markdown",
   "id": "308ba8fd",
   "metadata": {},
   "source": [
    "## Ans : 6\n",
    "\n",
    "A Moving Average (MA) model is a type of time series model used for forecasting. Unlike autoregression models, which use the past values of the variable itself, MA models use past forecast errors (residuals) to predict future values. The MA model is denoted as MA(q), where 'q' represents the number of lagged forecast errors used in the model.\n",
    "\n",
    "The key difference between an MA model and autoregression models is the source of information used for prediction. Autoregression models use the past values of the variable, while MA models use past forecast errors."
   ]
  },
  {
   "cell_type": "markdown",
   "id": "a8e5cd86",
   "metadata": {},
   "source": [
    "## Ans : 7\n",
    "\n",
    "A mixed ARMA (AutoRegressive Moving Average) model combines both autoregressive and moving average components to model a time series data. It is denoted as ARMA(p, q), where 'p' represents the number of autoregressive terms, and 'q' represents the number of moving average terms in the model.\n",
    "\n",
    "The key difference from AR or MA models is that a mixed ARMA model considers both the past values of the variable and the past forecast errors to predict future values. This makes ARMA models more flexible and capable of capturing complex patterns in the data that may not be fully explained by either AR or MA components alone."
   ]
  },
  {
   "cell_type": "code",
   "execution_count": null,
   "id": "0aa14eed",
   "metadata": {},
   "outputs": [],
   "source": []
  }
 ],
 "metadata": {
  "kernelspec": {
   "display_name": "Python 3 (ipykernel)",
   "language": "python",
   "name": "python3"
  },
  "language_info": {
   "codemirror_mode": {
    "name": "ipython",
    "version": 3
   },
   "file_extension": ".py",
   "mimetype": "text/x-python",
   "name": "python",
   "nbconvert_exporter": "python",
   "pygments_lexer": "ipython3",
   "version": "3.9.12"
  }
 },
 "nbformat": 4,
 "nbformat_minor": 5
}
