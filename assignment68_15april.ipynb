{
 "cells": [
  {
   "cell_type": "code",
   "execution_count": null,
   "id": "01434a2a",
   "metadata": {},
   "outputs": [],
   "source": [
    "## Ans : 1\n",
    "\n",
    "from sklearn.datasets import make_classification\n",
    "from sklearn.feature_selection import RFECV\n",
    "from sklearn.ensemble import RandomForestClassifier\n",
    "\n",
    "# Generate a sample dataset\n",
    "X, y = make_classification(n_samples=100, n_features=20, random_state=42)\n",
    "\n",
    "# Recursive Feature Elimination with Cross-Validation (RFECV)\n",
    "estimator = RandomForestClassifier()  # Choose your desired estimator\n",
    "selector = RFECV(estimator, step=1, cv=5)  # Set the desired step and number of cross-validation folds\n",
    "selector.fit(X, y)\n",
    "\n",
    "# Print the selected features\n",
    "selected_features = selector.transform(X)\n",
    "print(\"Selected Features:\")\n",
    "print(selected_features)\n",
    "\n",
    "# Print the rank of each feature\n",
    "print(\"Feature Ranking:\")\n",
    "print(selector.ranking_)\n"
   ]
  },
  {
   "cell_type": "code",
   "execution_count": null,
   "id": "e3bc86b1",
   "metadata": {},
   "outputs": [],
   "source": [
    "## Import required libraries.\n",
    "\n",
    "import pandas as pd\n",
    "import numpy as np\n",
    "import matplotlib.pyplot as plt\n",
    "import seaborn as sns\n"
   ]
  },
  {
   "cell_type": "markdown",
   "id": "ae36b316",
   "metadata": {},
   "source": [
    "# steps\n",
    "\n",
    "## Handling missing values \n",
    "## Handling categorical features \n",
    "## Handling outliers\n",
    "## Feature scalling\n",
    "## Automate the entire "
   ]
  },
  {
   "cell_type": "code",
   "execution_count": null,
   "id": "750709f5",
   "metadata": {},
   "outputs": [],
   "source": [
    "## import dataset \n",
    "\n",
    "data=pd.read_csv(\"C:/PRATIK/DATASET/csv/car_buyers.csv\")"
   ]
  },
  {
   "cell_type": "code",
   "execution_count": null,
   "id": "95da9dda",
   "metadata": {},
   "outputs": [],
   "source": [
    "## show data\n",
    "\n",
    "data.head()"
   ]
  },
  {
   "cell_type": "code",
   "execution_count": null,
   "id": "ae8ce94f",
   "metadata": {},
   "outputs": [],
   "source": [
    "## show basic information about data \n",
    "\n",
    "data.info()"
   ]
  },
  {
   "cell_type": "code",
   "execution_count": null,
   "id": "4e736184",
   "metadata": {},
   "outputs": [],
   "source": [
    "## import label encoder for transform categorical columns into numeric columns\n",
    "\n",
    "from sklearn.preprocessing import LabelEncoder\n",
    "\n",
    "## make instance of labelencoder \n",
    "encoder=LabelEncoder()\n",
    "\n",
    "## first of all we have encoded target feature \n",
    "data['Purchased car']=encoder.fit_transform(data['Purchased car'])"
   ]
  },
  {
   "cell_type": "code",
   "execution_count": null,
   "id": "d36e4c22",
   "metadata": {},
   "outputs": [],
   "source": [
    "## we can see result of purchased car\n",
    "\n",
    "data['Purchased car'].value_counts()"
   ]
  },
  {
   "cell_type": "code",
   "execution_count": null,
   "id": "960cc60d",
   "metadata": {},
   "outputs": [],
   "source": [
    "## independent and dependent features \n",
    "\n",
    "X = data.iloc[:,:-1]\n",
    "y=data.iloc[:,-1]"
   ]
  },
  {
   "cell_type": "code",
   "execution_count": null,
   "id": "25f5511e",
   "metadata": {},
   "outputs": [],
   "source": [
    "## independent variables \n",
    "\n",
    "X.head()"
   ]
  },
  {
   "cell_type": "code",
   "execution_count": null,
   "id": "a890b1d2",
   "metadata": {},
   "outputs": [],
   "source": [
    "## depended variables \n",
    "\n",
    "y.head()"
   ]
  },
  {
   "cell_type": "code",
   "execution_count": null,
   "id": "008528b1",
   "metadata": {},
   "outputs": [],
   "source": [
    "## split the dataset into train and test \n",
    "\n",
    "from sklearn.model_selection import train_test_split\n",
    "X_train , X_test,y_train,y_test = train_test_split(X,y,test_size=0.20,random_state=42)"
   ]
  },
  {
   "cell_type": "code",
   "execution_count": null,
   "id": "75888313",
   "metadata": {
    "scrolled": true
   },
   "outputs": [],
   "source": [
    "X_train.head()"
   ]
  },
  {
   "cell_type": "code",
   "execution_count": null,
   "id": "77ee600e",
   "metadata": {
    "scrolled": true
   },
   "outputs": [],
   "source": [
    "y_train.head()"
   ]
  },
  {
   "cell_type": "code",
   "execution_count": null,
   "id": "b2054991",
   "metadata": {},
   "outputs": [],
   "source": [
    "## Import required libraries for automation \n",
    "\n",
    "from sklearn.impute import SimpleImputer                ## for impute missing values \n",
    "from sklearn.preprocessing import OneHotEncoder         ## for encode categorical feature into numeric feature\n",
    "from sklearn.preprocessing import StandardScaler        ## for scale data\n",
    "from sklearn.pipeline import Pipeline                   ## make pipeline for perform operations \n",
    "from sklearn.compose import ColumnTransformer           ## for merge both categorical and numeric columns  "
   ]
  },
  {
   "cell_type": "code",
   "execution_count": null,
   "id": "eac98623",
   "metadata": {},
   "outputs": [],
   "source": [
    "X.info()\n",
    "\n",
    "## see basic info and datatypes about dataset"
   ]
  },
  {
   "cell_type": "code",
   "execution_count": null,
   "id": "f06d0a15",
   "metadata": {},
   "outputs": [],
   "source": [
    "## make list of categorical and numeric column \n",
    "\n",
    "cat_columns=['Marital Status','Gender','Education','Occupation','Home Owner','Commute Distance','Region']\n",
    "num_columns = ['ID','Income','Children','Cars','Age']"
   ]
  },
  {
   "cell_type": "code",
   "execution_count": null,
   "id": "05527a1d",
   "metadata": {},
   "outputs": [],
   "source": [
    "## feature engineering automation \n",
    "\n",
    "## Pipeline for numeric features \n",
    "num_pipeline = Pipeline(\n",
    "    steps=[\n",
    "        ('imputer',SimpleImputer(strategy='median')),\n",
    "        ('scaler',StandardScaler())\n",
    "    ])\n",
    "\n",
    "## Pipeline for categorical features \n",
    "cat_pipeline =Pipeline(\n",
    "    steps=[\n",
    "        ('imputer',SimpleImputer(strategy='most_frequent')),\n",
    "        ('onehotencoder',OneHotEncoder(handle_unknown='ignore'))\n",
    "    ])"
   ]
  },
  {
   "cell_type": "code",
   "execution_count": null,
   "id": "1ed0b4d7",
   "metadata": {},
   "outputs": [],
   "source": [
    "## make preprocessor for process above both pipeline \n",
    "\n",
    "preprocessor = ColumnTransformer([\n",
    "    ('num_pipeline',num_pipeline,num_columns),\n",
    "    ('cat_pipeline',cat_pipeline,cat_columns)\n",
    "])"
   ]
  },
  {
   "cell_type": "code",
   "execution_count": null,
   "id": "c3ab851b",
   "metadata": {},
   "outputs": [],
   "source": [
    "## process training and test data using preprocessor\n",
    "\n",
    "X_train = preprocessor.fit_transform(X_train)\n",
    "X_test = preprocessor.transform(X_test)"
   ]
  },
  {
   "cell_type": "code",
   "execution_count": null,
   "id": "b68d1848",
   "metadata": {},
   "outputs": [],
   "source": [
    "## import randomforestclassifier for train our model \n",
    "\n",
    "from sklearn.ensemble import RandomForestClassifier\n",
    "\n",
    "classifier=RandomForestClassifier()    ## make instance of classifier\n",
    "classifier"
   ]
  },
  {
   "cell_type": "code",
   "execution_count": null,
   "id": "d4d5e7cc",
   "metadata": {},
   "outputs": [],
   "source": [
    "classifier.fit(X_train,y_train)       ## trian classifier using training data\n",
    "y_pred=classifier.predict(X_test)     ## prediction do and get in variable "
   ]
  },
  {
   "cell_type": "code",
   "execution_count": null,
   "id": "63c6c34a",
   "metadata": {},
   "outputs": [],
   "source": [
    "## import accuracy score for check accuracy of our model \n",
    "\n",
    "from sklearn.metrics import accuracy_score"
   ]
  },
  {
   "cell_type": "code",
   "execution_count": null,
   "id": "01e2d124",
   "metadata": {},
   "outputs": [],
   "source": [
    "## print accuracy score \n",
    "\n",
    "print(accuracy_score(y_test,y_pred))"
   ]
  },
  {
   "cell_type": "code",
   "execution_count": null,
   "id": "23b665e3",
   "metadata": {},
   "outputs": [],
   "source": [
    "## Ans : 2\n",
    "\n",
    "df=sns.load_dataset('iris')"
   ]
  },
  {
   "cell_type": "code",
   "execution_count": null,
   "id": "00ea48a3",
   "metadata": {},
   "outputs": [],
   "source": [
    "df.head()"
   ]
  },
  {
   "cell_type": "code",
   "execution_count": null,
   "id": "6424bf9c",
   "metadata": {},
   "outputs": [],
   "source": [
    "df.info()"
   ]
  },
  {
   "cell_type": "code",
   "execution_count": null,
   "id": "654baab1",
   "metadata": {},
   "outputs": [],
   "source": [
    "df.describe()"
   ]
  },
  {
   "cell_type": "code",
   "execution_count": null,
   "id": "376f3290",
   "metadata": {},
   "outputs": [],
   "source": [
    "from sklearn.preprocessing import LabelEncoder\n",
    "\n",
    "encoder=LabelEncoder()\n",
    "df['species']=encoder.fit_transform(df['species'])"
   ]
  },
  {
   "cell_type": "code",
   "execution_count": null,
   "id": "a2615c19",
   "metadata": {},
   "outputs": [],
   "source": [
    "df['species'].value_counts()"
   ]
  },
  {
   "cell_type": "code",
   "execution_count": null,
   "id": "685d9ec7",
   "metadata": {},
   "outputs": [],
   "source": [
    "df.isna().sum()\n",
    "\n",
    "# we don't have missing values in our dataset"
   ]
  },
  {
   "cell_type": "code",
   "execution_count": null,
   "id": "e414109f",
   "metadata": {},
   "outputs": [],
   "source": [
    "df.info()\n",
    "\n",
    "## we dont have categorical column in our dataset"
   ]
  },
  {
   "cell_type": "code",
   "execution_count": null,
   "id": "68e992e2",
   "metadata": {},
   "outputs": [],
   "source": [
    "## seprate input and target features \n",
    "\n",
    "X= df.drop(['species'],axis=1)\n",
    "y= df.species"
   ]
  },
  {
   "cell_type": "code",
   "execution_count": null,
   "id": "29bafe2b",
   "metadata": {
    "scrolled": true
   },
   "outputs": [],
   "source": [
    "X,y"
   ]
  },
  {
   "cell_type": "code",
   "execution_count": null,
   "id": "aea3dc5c",
   "metadata": {},
   "outputs": [],
   "source": [
    "from sklearn.model_selection import train_test_split\n",
    "\n",
    "X_train,X_test,y_train,y_test = train_test_split(X,y,test_size=0.20,random_state=42)"
   ]
  },
  {
   "cell_type": "code",
   "execution_count": null,
   "id": "92b3e4f3",
   "metadata": {},
   "outputs": [],
   "source": [
    "## make pipeline \n",
    "\n",
    "from sklearn.ensemble import RandomForestClassifier ,VotingClassifier\n",
    "from sklearn.linear_model import LogisticRegression\n",
    "from sklearn.impute import SimpleImputer\n",
    "from sklearn.preprocessing import StandardScaler\n",
    "from sklearn.pipeline import Pipeline\n",
    "from sklearn.compose import ColumnTransformer"
   ]
  },
  {
   "cell_type": "code",
   "execution_count": null,
   "id": "a474d60b",
   "metadata": {},
   "outputs": [],
   "source": [
    "\n",
    "numeric_cols=list(X.columns)\n",
    "random_forest = RandomForestClassifier(n_estimators=100,random_state=42)\n",
    "logistic_regression=LogisticRegression(random_state=42)\n",
    "classifiers = [\n",
    "    ('rf',random_forest),\n",
    "    ('lr',logistic_regression)\n",
    "]\n",
    "voting_classifier= VotingClassifier(estimators=classifiers,voting='hard')\n",
    "\n",
    "# feature engineering automation\n",
    "\n",
    "num_pipeline = Pipeline([\n",
    "    ('imputer',SimpleImputer(strategy='mean')),\n",
    "    ('scaler',StandardScaler()),\n",
    "    ('vc',voting_classifier)\n",
    "])\n",
    "\n",
    "num_pipeline.fit(X_train,y_train)\n",
    "y_pred=num_pipeline.predict(X_test)\n",
    "\n",
    "accuracy_score =accuracy_score(y_test,y_pred)\n",
    "\n",
    "print('Accuracy score : ',accuracy_score)\n"
   ]
  },
  {
   "cell_type": "code",
   "execution_count": null,
   "id": "b379344e",
   "metadata": {},
   "outputs": [],
   "source": []
  }
 ],
 "metadata": {
  "kernelspec": {
   "display_name": "Python 3 (ipykernel)",
   "language": "python",
   "name": "python3"
  },
  "language_info": {
   "codemirror_mode": {
    "name": "ipython",
    "version": 3
   },
   "file_extension": ".py",
   "mimetype": "text/x-python",
   "name": "python",
   "nbconvert_exporter": "python",
   "pygments_lexer": "ipython3",
   "version": "3.9.12"
  }
 },
 "nbformat": 4,
 "nbformat_minor": 5
}
