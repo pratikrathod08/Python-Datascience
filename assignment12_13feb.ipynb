{
 "cells": [
  {
   "cell_type": "markdown",
   "metadata": {},
   "source": [
    "Q1. Explain why we have to use the Exception class while creating a Custom Exception.\n",
    "\n",
    "Note: Here Exception class refers to the base class for all the exceptions."
   ]
  },
  {
   "cell_type": "markdown",
   "metadata": {},
   "source": [
    "In Python, the Exception class is the base class for all built-in exceptions. When you create a custom exception, you typically want it to behave like a standard exception, with similar error handling and traceback behavior. By inheriting from the Exception class, you can leverage all the functionality of a standard exception, while also adding your own custom behavior.\n",
    "\n",
    "Here are some reasons why you should use the Exception class as the base class for your custom exception:\n",
    "\n",
    "1. Consistent Interface:\n",
    "2. Standard Tracebacks:\n",
    "3. Standard Error Messages: \n"
   ]
  },
  {
   "cell_type": "markdown",
   "metadata": {},
   "source": [
    "Q2. Write a python program to print Python Exception Hierarchy."
   ]
  },
  {
   "cell_type": "code",
   "execution_count": 1,
   "metadata": {},
   "outputs": [],
   "source": [
    "def print_exception_hierarchy():\n",
    "    exception_list = []\n",
    "    current_exception = BaseException\n",
    "    while current_exception is not object:\n",
    "        exception_list.append(current_exception)\n",
    "        current_exception = current_exception.__base__\n",
    "\n",
    "    print(\"Python Exception Hierarchy:\")\n",
    "    for exception in reversed(exception_list):\n",
    "        print(exception.__name__)"
   ]
  },
  {
   "cell_type": "code",
   "execution_count": 3,
   "metadata": {},
   "outputs": [
    {
     "name": "stdout",
     "output_type": "stream",
     "text": [
      "Python Exception Hierarchy:\n",
      "BaseException\n"
     ]
    }
   ],
   "source": [
    "print_exception_hierarchy()"
   ]
  },
  {
   "cell_type": "markdown",
   "metadata": {},
   "source": [
    "Q3. What errors are defined in the ArithmeticError class? Explain any two with an example."
   ]
  },
  {
   "cell_type": "markdown",
   "metadata": {},
   "source": [
    "In Python, the ArithmeticError class is a built-in exception class that serves as the base class for all arithmetic-related errors. The following errors are defined in the ArithmeticError class:"
   ]
  },
  {
   "cell_type": "markdown",
   "metadata": {},
   "source": [
    "ZeroDivisionError: This error is raised when a division operation attempts to divide by zero. For example:"
   ]
  },
  {
   "cell_type": "code",
   "execution_count": 5,
   "metadata": {},
   "outputs": [
    {
     "name": "stdout",
     "output_type": "stream",
     "text": [
      "Error: ZeroDivisionError\n"
     ]
    }
   ],
   "source": [
    "a = 3\n",
    "b = 0\n",
    "try:\n",
    "    c = a / b\n",
    "except ZeroDivisionError:\n",
    "    print(\"Error: ZeroDivisionError\")"
   ]
  },
  {
   "cell_type": "code",
   "execution_count": 8,
   "metadata": {},
   "outputs": [
    {
     "name": "stdout",
     "output_type": "stream",
     "text": [
      "(34, 'Result too large')\n"
     ]
    }
   ],
   "source": [
    "# OverflowError\n",
    "\n",
    "j = 5.0\n",
    "\n",
    "try:\n",
    "    for i in range(1, 1000):\n",
    "        j = j**i\n",
    "except ArithmeticError as e:\n",
    "    print(e)"
   ]
  },
  {
   "cell_type": "markdown",
   "metadata": {},
   "source": [
    "Q4. Why LookupError class is used? Explain with an example KeyError and IndexError."
   ]
  },
  {
   "cell_type": "markdown",
   "metadata": {},
   "source": [
    "In Python, the LookupError class is a built-in exception class that serves as the base class for all key or index lookup related errors. It is used to handle errors that occur when trying to access a non-existent key or index in a container.\n",
    "\n",
    "Two common exceptions that are derived from LookupError are KeyError and IndexError."
   ]
  },
  {
   "cell_type": "markdown",
   "metadata": {},
   "source": [
    "KeyError: This error is raised when we try to access a non-existent key in a dictionary. For example:"
   ]
  },
  {
   "cell_type": "code",
   "execution_count": 13,
   "metadata": {},
   "outputs": [
    {
     "name": "stdout",
     "output_type": "stream",
     "text": [
      "Error : Key Not Found\n"
     ]
    }
   ],
   "source": [
    "a={'a':1,'b':2,'c':3}\n",
    "try:\n",
    "    a['d']\n",
    "except Exception as e:\n",
    "    print(\"Error : Key Not Found\")"
   ]
  },
  {
   "cell_type": "markdown",
   "metadata": {},
   "source": [
    "IndexError: This error is raised when we try to access an index that is out of range of a sequence (like a list or tuple). For example:"
   ]
  },
  {
   "cell_type": "code",
   "execution_count": 16,
   "metadata": {},
   "outputs": [
    {
     "name": "stdout",
     "output_type": "stream",
     "text": [
      "Error : Index Not Available\n"
     ]
    }
   ],
   "source": [
    "l=[1,2,3,4,5]\n",
    "try :\n",
    "    print(l[8])\n",
    "except IndexError:\n",
    "    print(\"Error : Index Not Available\")"
   ]
  },
  {
   "cell_type": "markdown",
   "metadata": {},
   "source": [
    "Q5. Explain ImportError. What is ModuleNotFoundError?"
   ]
  },
  {
   "cell_type": "markdown",
   "metadata": {},
   "source": [
    "In Python, ImportError is a built-in exception class that is raised when an imported module, package, or attribute cannot be found or loaded. This can happen for various reasons, such as a typo in the import statement, a missing module or package, or a problem with the module's code."
   ]
  },
  {
   "cell_type": "code",
   "execution_count": 17,
   "metadata": {},
   "outputs": [
    {
     "ename": "ModuleNotFoundError",
     "evalue": "No module named 'hello_module'",
     "output_type": "error",
     "traceback": [
      "\u001b[1;31m---------------------------------------------------------------------------\u001b[0m",
      "\u001b[1;31mModuleNotFoundError\u001b[0m                       Traceback (most recent call last)",
      "Cell \u001b[1;32mIn[17], line 1\u001b[0m\n\u001b[1;32m----> 1\u001b[0m \u001b[39mimport\u001b[39;00m \u001b[39mhello_module\u001b[39;00m\n",
      "\u001b[1;31mModuleNotFoundError\u001b[0m: No module named 'hello_module'"
     ]
    }
   ],
   "source": [
    "import hello_module"
   ]
  },
  {
   "cell_type": "markdown",
   "metadata": {},
   "source": [
    "ModuleNotFoundError : this error occures when called module is not found "
   ]
  },
  {
   "cell_type": "markdown",
   "metadata": {},
   "source": [
    "Q6. List down some best practices for exception handling in python. "
   ]
  },
  {
   "cell_type": "markdown",
   "metadata": {},
   "source": [
    "1. Be specific with the exceptions you catch\n",
    "2. Avoid catching exceptions unnecessarily\n",
    "3. Keep the try/except block minimal\n",
    "4. Handle exceptions in a consistent manner\n",
    "5. Provide informative error messages\n",
    "6. Use context managers for resource management\n",
    "7. Log exceptions"
   ]
  },
  {
   "cell_type": "markdown",
   "metadata": {},
   "source": []
  }
 ],
 "metadata": {
  "kernelspec": {
   "display_name": "Python 3.10.7 64-bit (microsoft store)",
   "language": "python",
   "name": "python3"
  },
  "language_info": {
   "codemirror_mode": {
    "name": "ipython",
    "version": 3
   },
   "file_extension": ".py",
   "mimetype": "text/x-python",
   "name": "python",
   "nbconvert_exporter": "python",
   "pygments_lexer": "ipython3",
   "version": "3.10.7"
  },
  "orig_nbformat": 4,
  "vscode": {
   "interpreter": {
    "hash": "486e0d5a79acdbfffd563ee7a67a93a5017bd2a4f66495483a69f0245c8a4a6c"
   }
  }
 },
 "nbformat": 4,
 "nbformat_minor": 2
}
