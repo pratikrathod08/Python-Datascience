{
 "cells": [
  {
   "cell_type": "markdown",
   "metadata": {},
   "source": [
    "Q1. What is MongoDB? Explain non-relational databases in short. In which scenarios it is preferred to use \n",
    "MongoDB over SQL databases?"
   ]
  },
  {
   "cell_type": "markdown",
   "metadata": {},
   "source": [
    "MongoDB is a document-oriented NoSQL database that stores data in JSON-like documents with dynamic schemas. It is designed to be scalable and flexible, allowing for easy data management of semi-structured and unstructured data.\n",
    "\n",
    "Non-relational databases, also known as NoSQL databases, are a type of database that do not use the traditional tabular relations of relational databases. Instead, they use various data models, such as document-oriented, key-value, graph, or column-family. Non-relational databases are designed to be more flexible and scalable than relational databases, and are often used in scenarios where large amounts of data need to be stored and accessed quickly.\n",
    "\n",
    "MongoDB is preferred over SQL databases in scenarios where:\n",
    "\n",
    "Scalability and Performance - MongoDB is designed to be highly scalable and performant, making it ideal for handling large and rapidly changing datasets.\n",
    "\n",
    "Flexible Data Model - MongoDB's document-based data model allows for flexible and dynamic schema design, making it easier to store and access semi-structured and unstructured data.\n",
    "\n",
    "Cloud and Mobile Computing - MongoDB has native support for cloud and mobile computing, making it easy to deploy and manage on cloud platforms and mobile devices.\n",
    "\n",
    "Development Speed - MongoDB's flexible data model and dynamic schema design can significantly reduce the development time required to build and deploy applications.\n",
    "\n",
    "In summary, MongoDB is a document-oriented NoSQL database that is designed for scalability, flexibility, and performance. Non-relational databases are a type of database that do not use the traditional tabular relations of relational databases, and are often preferred in scenarios where large amounts of data need to be stored and accessed quickly. MongoDB is preferred over SQL databases in scenarios where scalability, flexible data model, cloud and mobile computing, and development speed are important factors.\n",
    "\n",
    "\n",
    "\n",
    "\n",
    "\n"
   ]
  },
  {
   "cell_type": "markdown",
   "metadata": {},
   "source": [
    "Q2. State and Explain the features of MongoDB.\n"
   ]
  },
  {
   "cell_type": "markdown",
   "metadata": {},
   "source": [
    "\n",
    "\n",
    "MongoDB is a popular NoSQL database that is designed to be scalable, flexible, and performant. Here are some of the key features of MongoDB:\n",
    "\n",
    "Document-oriented - MongoDB stores data in documents, which are JSON-like data structures that can have variable schemas. This allows for flexible and dynamic data modeling.\n",
    "\n",
    "No Schema Migration - MongoDB does not require a schema to be defined upfront, allowing for easy schema evolution and modification without the need for migration scripts.\n",
    "\n",
    "High Performance - MongoDB is designed for high performance and scalability, with features like sharding, indexing, and automatic scaling.\n",
    "\n",
    "Ad-hoc Queries - MongoDB supports ad-hoc queries and full-text search, allowing for quick and easy querying of data.\n",
    "\n",
    "Replication and Fault Tolerance - MongoDB supports replica sets, which provide fault tolerance and high availability by automatically replicating data across multiple nodes.\n",
    "\n",
    "Flexible Deployment Options - MongoDB can be deployed on-premises, in the cloud, or in hybrid environments. It also supports multiple programming languages and frameworks.\n",
    "\n",
    "ACID Transactions - MongoDB supports multi-document ACID transactions, ensuring data consistency and integrity.\n",
    "\n",
    "GridFS - MongoDB's GridFS feature allows for easy storage and retrieval of large files, such as images and videos.\n",
    "\n",
    "Rich Query Language - MongoDB's query language includes a wide range of operators and functions, making it easy to query and manipulate data.\n",
    "\n",
    "Overall, MongoDB's features make it an ideal choice for modern, data-intensive applications that require flexibility, scalability, and performance."
   ]
  },
  {
   "cell_type": "markdown",
   "metadata": {},
   "source": [
    "Q3. Write a code to connect MongoDB to Python. Also, create a database and a collection in MongoDB.\n"
   ]
  },
  {
   "cell_type": "markdown",
   "metadata": {},
   "source": [
    "import pymongo\n",
    "\n",
    "Connect to MongoDB\n",
    "client = pymongo.MongoClient(\"mongodb://localhost:27017/\")\n",
    "\n",
    "\n",
    "If the database doesn't exist, it will be created when you first store data\n",
    "database = client[\"mydatabase\"]\n",
    "\n",
    "\n",
    "If the collection doesn't exist, it will be created when you first store data\n",
    "collection = database[\"mycollection\"]"
   ]
  },
  {
   "cell_type": "markdown",
   "metadata": {},
   "source": [
    "Q4. Using the database and the collection created in question number 3, write a code to insert one record, \n",
    "and insert many records. Use the find() and find_one() methods to print the inserted record."
   ]
  },
  {
   "cell_type": "markdown",
   "metadata": {},
   "source": [
    "import pymongo\n",
    "\n",
    "Connect to MongoDB\n",
    "client = pymongo.MongoClient(\"mongodb://localhost:27017/\")\n",
    "database = client[\"mydatabase\"]\n",
    "collection = database[\"mycollection\"]\n",
    "\n",
    "Insert one record\n",
    "data = { \"name\": \"Alice\", \"age\": 25 }\n",
    "collection.insert_one(data)\n",
    "\n",
    "Insert many records\n",
    "data_list = [\n",
    "    { \"name\": \"Bob\", \"age\": 30 },\n",
    "    { \"name\": \"Charlie\", \"age\": 35 },\n",
    "    { \"name\": \"David\", \"age\": 40 }\n",
    "]\n",
    "collection.insert_many(data_list)\n",
    "\n",
    "Retrieve the inserted records\n",
    "print(\"Find one:\")\n",
    "result = collection.find_one({\"name\": \"Alice\"})\n",
    "print(result)\n",
    "\n",
    "print(\"Find all:\")\n",
    "results = collection.find()\n",
    "for result in results:\n",
    "    print(result)"
   ]
  },
  {
   "cell_type": "markdown",
   "metadata": {},
   "source": [
    "Q5. Explain how you can use the find() method to query the MongoDB database. Write a simple code to \n",
    "demonstrate this."
   ]
  },
  {
   "cell_type": "markdown",
   "metadata": {},
   "source": [
    "The find() method in MongoDB is used to query documents (or data) in a collection based on specified criteria. It returns a cursor object that can be used to iterate over the documents that match the criteria.\n",
    "\n",
    "\n",
    "\n",
    "Print the results\n",
    "for result in results:\n",
    "    print(result)\n",
    "In this code, we first insert some data into the mycollection collection. We then use the find() method to query the collection for documents where the \"city\" field is equal to \"Boston\".\n",
    "\n",
    "The find() method takes a query document as its parameter, which is a dictionary containing the criteria for the query. In this case, we pass the query document {\"city\": \"Boston\"} to the find() method.\n",
    "\n",
    "The find() method returns a cursor object, which we can use to iterate over the documents that match the query criteria. We use a for loop to iterate over the results cursor object and print each document to the console.\n",
    "\n",
    "Note that in this example, we're querying for documents where the \"city\" field is equal to \"Boston\". We can use a variety of operators and expressions in the query document to specify more complex criteria, such as matching documents where a field is greater than a certain value or contains a certain substring.\n",
    "\n",
    "\n",
    "\n",
    "\n",
    "\n"
   ]
  },
  {
   "cell_type": "markdown",
   "metadata": {},
   "source": [
    "Q6. Explain the sort() method. Give an example to demonstrate sorting in MongoDB."
   ]
  },
  {
   "cell_type": "markdown",
   "metadata": {},
   "source": [
    "delete_one(filter) - Removes a single document from a collection that matches the specified filter. If multiple documents match the filter, only the first one encountered will be deleted.\n",
    "\n",
    "delete_many(filter) - Removes all documents from a collection that match the specified filter.\n",
    "\n",
    "drop() - Removes an entire collection from a database. This is a destructive operation that permanently deletes all data in the collection."
   ]
  },
  {
   "cell_type": "markdown",
   "metadata": {},
   "source": []
  }
 ],
 "metadata": {
  "kernelspec": {
   "display_name": "Python 3.10.7 64-bit (microsoft store)",
   "language": "python",
   "name": "python3"
  },
  "language_info": {
   "codemirror_mode": {
    "name": "ipython",
    "version": 3
   },
   "file_extension": ".py",
   "mimetype": "text/x-python",
   "name": "python",
   "nbconvert_exporter": "python",
   "pygments_lexer": "ipython3",
   "version": "3.10.7"
  },
  "orig_nbformat": 4,
  "vscode": {
   "interpreter": {
    "hash": "486e0d5a79acdbfffd563ee7a67a93a5017bd2a4f66495483a69f0245c8a4a6c"
   }
  }
 },
 "nbformat": 4,
 "nbformat_minor": 2
}
