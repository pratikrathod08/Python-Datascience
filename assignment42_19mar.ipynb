{
 "cells": [
  {
   "attachments": {},
   "cell_type": "markdown",
   "metadata": {},
   "source": [
    "## Ans : 1\n",
    "\n",
    "Min-Max scaling is a data preprocessing technique used to scale numerical features within a specific range, typically between 0 and 1. It rescales the data based on the minimum and maximum values of the feature. The formula for Min-Max scaling is:\n",
    "\n",
    "scaled_value = (value - min_value) / (max_value - min_value)\n",
    "\n",
    "Example: Suppose we have a feature \"age\" with values ranging from 25 to 65. To apply Min-Max scaling, we subtract the minimum value (25) from each value and divide by the range (65 - 25 = 40). If the original age value is 35, the scaled value would be (35 - 25) / 40 = 0.25."
   ]
  },
  {
   "attachments": {},
   "cell_type": "markdown",
   "metadata": {},
   "source": [
    "## Ans : 2\n",
    "\n",
    "The Unit Vector technique in feature scaling, also known as normalization, rescales the feature values to have unit norm. It scales each data point to a unit length vector along the range of the feature values. The formula for the Unit Vector technique is:\n",
    "\n",
    "scaled_value = value / sqrt(sum(values^2))\n",
    "\n",
    "Example: Consider a dataset with a feature \"salary\" ranging from 50000 to 100000. To apply Unit Vector scaling, we divide each salary value by the square root of the sum of all squared salaries. If the original salary is 75000, the scaled value would be 75000 / sqrt(50000^2 + 75000^2 + 100000^2) = 0.442."
   ]
  },
  {
   "attachments": {},
   "cell_type": "markdown",
   "metadata": {},
   "source": [
    "## Ans : 3\n",
    "\n",
    " PCA (Principal Component Analysis) is a dimensionality reduction technique used to transform a dataset into a lower-dimensional space while retaining most of the important information. It identifies the principal components, which are new orthogonal variables that capture the maximum variance in the data. PCA is commonly used to reduce the dimensionality of high-dimensional datasets.\n",
    "\n",
    "Example: Suppose we have a dataset with multiple numerical features such as height, weight, and age. By applying PCA, we can identify the principal components that explain the most significant variance in the data. These components are linear combinations of the original features. We can project the data onto a reduced-dimensional space spanned by the selected principal components, thereby reducing the feature space while preserving as much information as possible."
   ]
  },
  {
   "attachments": {},
   "cell_type": "markdown",
   "metadata": {},
   "source": [
    "## Ans : 4\n",
    "\n",
    " The relationship between PCA and Feature Extraction is that PCA can be used as a technique for Feature Extraction. In Feature Extraction, the goal is to derive a set of new features that capture the most important information from the original feature space. PCA achieves this by transforming the original features into a new set of uncorrelated variables called principal components.\n",
    "\n",
    " Example: Suppose we have a dataset with features representing customer shopping preferences, such as the number of visits to different store categories. By applying PCA, we can derive new features (principal components) that capture the underlying patterns in the shopping behavior. These principal components could represent factors like \"frequency of store visits\" or \"preference for certain product categories.\" Thus, PCA can be used to extract meaningful features from the original dataset."
   ]
  },
  {
   "attachments": {},
   "cell_type": "markdown",
   "metadata": {},
   "source": [
    "## Ans : 5\n",
    "\n",
    " In the food delivery recommendation system project, Min-Max scaling can be used to preprocess the data. For example:\n",
    "\n",
    "Normalize the \"price\" feature, where the minimum value is $5 and the maximum value is $50. Apply Min-Max scaling to transform the prices to a range between 0 and 1.\n",
    "Normalize the \"rating\" feature, where the minimum rating is 1.0 and the maximum rating is 5.0. Apply Min-Max scaling to rescale the ratings to a range between 0 and 1.\n",
    "Normalize the \"delivery time\" feature, where the minimum delivery time is 10 minutes and the maximum is 60 minutes. Apply Min-Max scaling to transform the delivery times to a range between 0 and 1."
   ]
  },
  {
   "attachments": {},
   "cell_type": "markdown",
   "metadata": {},
   "source": [
    "## Ans : 6\n",
    "\n",
    " In the stock price prediction project, PCA can be used to reduce the dimensionality of the dataset. For example:\n",
    "\n",
    "Consider a dataset with features such as company financial data (e.g., revenue, profit, debt) and market trends (e.g., stock market indices, interest rates).\n",
    "Apply PCA to the dataset to identify the principal components that capture the most significant variance in the data.\n",
    "Select a reduced number of principal components that explain a high percentage of the total variance, effectively reducing the dimensionality of the dataset.\n",
    "Use the selected principal components as the transformed features in the stock price prediction model."
   ]
  },
  {
   "attachments": {},
   "cell_type": "markdown",
   "metadata": {},
   "source": [
    "## Ans : 7\n",
    "\n",
    "To perform Min-Max scaling on the dataset [1, 5, 10, 15, 20] and transform the values to a range of -1 to 1:\n",
    "\n",
    "Calculate the minimum value: min_value = 1.\n",
    "\n",
    "Calculate the maximum value: max_value = 20.\n",
    "\n",
    "Apply the Min-Max scaling formula to each value:\n",
    "\n",
    "For 1: scaled_value = (1 - 1) / (20 - 1) = 0\n",
    "\n",
    "For 5: scaled_value = (5 - 1) / (20 - 1) = 0.25\n",
    "\n",
    "For 10: scaled_value = (10 - 1) / (20 - 1) = 0.5625\n",
    "\n",
    "For 15: scaled_value = (15 - 1) / (20 - 1) = 0.8125\n",
    "\n",
    "For 20: scaled_value = (20 - 1) / (20 - 1) = 1\n",
    "\n",
    "The transformed values in the range of -1 to 1 are [0, 0.25, 0.5625, 0.8125, 1]."
   ]
  },
  {
   "attachments": {},
   "cell_type": "markdown",
   "metadata": {},
   "source": [
    "## Ans : 8\n",
    "\n",
    " In the dataset containing features [height, weight, age, gender, blood pressure], to perform Feature Extraction using PCA:\n",
    "\n",
    "Standardize the features to have zero mean and unit variance.\n",
    "Apply PCA to the standardized dataset.\n",
    "Calculate the explained variance ratio for each principal component.\n",
    "Determine the number of principal components to retain based on the desired level of explained variance. For example, if we want to retain 95% of the variance, we select the minimum number of principal components that cumulatively explain at least 95% of the variance.\n",
    "Project the original dataset onto the selected principal components to obtain the reduced feature set."
   ]
  },
  {
   "cell_type": "markdown",
   "metadata": {},
   "source": []
  }
 ],
 "metadata": {
  "language_info": {
   "name": "python"
  },
  "orig_nbformat": 4
 },
 "nbformat": 4,
 "nbformat_minor": 2
}
