{
 "cells": [
  {
   "cell_type": "markdown",
   "id": "895d1771",
   "metadata": {},
   "source": [
    "## Ans : 1"
   ]
  },
  {
   "cell_type": "code",
   "execution_count": 1,
   "id": "58332c01",
   "metadata": {},
   "outputs": [
    {
     "name": "stdout",
     "output_type": "stream",
     "text": [
      "2.13.0\n",
      "2.13.1\n"
     ]
    }
   ],
   "source": [
    "import tensorflow as tf \n",
    "import keras\n",
    "\n",
    "print(tf.__version__)\n",
    "print(keras.__version__)"
   ]
  },
  {
   "cell_type": "markdown",
   "id": "c3d7b9a5",
   "metadata": {},
   "source": [
    "## Ans : 2"
   ]
  },
  {
   "cell_type": "code",
   "execution_count": 3,
   "id": "accb94b4",
   "metadata": {},
   "outputs": [
    {
     "name": "stdout",
     "output_type": "stream",
     "text": [
      "Skipping, found downloaded files in \".\\wine-quality-binary-classification\" (use force=True to force download)\n"
     ]
    }
   ],
   "source": [
    "import opendatasets as od\n",
    "data = od.download(\"https://www.kaggle.com/datasets/nareshbhat/wine-quality-binary-classification\")"
   ]
  },
  {
   "cell_type": "code",
   "execution_count": 5,
   "id": "e14d751b",
   "metadata": {},
   "outputs": [],
   "source": [
    "import pandas as pd \n",
    "import numpy as np \n",
    "import matplotlib.pyplot as plt \n",
    "import seaborn as sns "
   ]
  },
  {
   "cell_type": "code",
   "execution_count": 7,
   "id": "ee10862d",
   "metadata": {},
   "outputs": [
    {
     "data": {
      "text/html": [
       "<div>\n",
       "<style scoped>\n",
       "    .dataframe tbody tr th:only-of-type {\n",
       "        vertical-align: middle;\n",
       "    }\n",
       "\n",
       "    .dataframe tbody tr th {\n",
       "        vertical-align: top;\n",
       "    }\n",
       "\n",
       "    .dataframe thead th {\n",
       "        text-align: right;\n",
       "    }\n",
       "</style>\n",
       "<table border=\"1\" class=\"dataframe\">\n",
       "  <thead>\n",
       "    <tr style=\"text-align: right;\">\n",
       "      <th></th>\n",
       "      <th>fixed acidity</th>\n",
       "      <th>volatile acidity</th>\n",
       "      <th>citric acid</th>\n",
       "      <th>residual sugar</th>\n",
       "      <th>chlorides</th>\n",
       "      <th>free sulfur dioxide</th>\n",
       "      <th>total sulfur dioxide</th>\n",
       "      <th>density</th>\n",
       "      <th>pH</th>\n",
       "      <th>sulphates</th>\n",
       "      <th>alcohol</th>\n",
       "      <th>quality</th>\n",
       "    </tr>\n",
       "  </thead>\n",
       "  <tbody>\n",
       "    <tr>\n",
       "      <th>0</th>\n",
       "      <td>7.4</td>\n",
       "      <td>0.70</td>\n",
       "      <td>0.00</td>\n",
       "      <td>1.9</td>\n",
       "      <td>0.076</td>\n",
       "      <td>11.0</td>\n",
       "      <td>34.0</td>\n",
       "      <td>0.9978</td>\n",
       "      <td>3.51</td>\n",
       "      <td>0.56</td>\n",
       "      <td>9.4</td>\n",
       "      <td>bad</td>\n",
       "    </tr>\n",
       "    <tr>\n",
       "      <th>1</th>\n",
       "      <td>7.8</td>\n",
       "      <td>0.88</td>\n",
       "      <td>0.00</td>\n",
       "      <td>2.6</td>\n",
       "      <td>0.098</td>\n",
       "      <td>25.0</td>\n",
       "      <td>67.0</td>\n",
       "      <td>0.9968</td>\n",
       "      <td>3.20</td>\n",
       "      <td>0.68</td>\n",
       "      <td>9.8</td>\n",
       "      <td>bad</td>\n",
       "    </tr>\n",
       "    <tr>\n",
       "      <th>2</th>\n",
       "      <td>7.8</td>\n",
       "      <td>0.76</td>\n",
       "      <td>0.04</td>\n",
       "      <td>2.3</td>\n",
       "      <td>0.092</td>\n",
       "      <td>15.0</td>\n",
       "      <td>54.0</td>\n",
       "      <td>0.9970</td>\n",
       "      <td>3.26</td>\n",
       "      <td>0.65</td>\n",
       "      <td>9.8</td>\n",
       "      <td>bad</td>\n",
       "    </tr>\n",
       "    <tr>\n",
       "      <th>3</th>\n",
       "      <td>11.2</td>\n",
       "      <td>0.28</td>\n",
       "      <td>0.56</td>\n",
       "      <td>1.9</td>\n",
       "      <td>0.075</td>\n",
       "      <td>17.0</td>\n",
       "      <td>60.0</td>\n",
       "      <td>0.9980</td>\n",
       "      <td>3.16</td>\n",
       "      <td>0.58</td>\n",
       "      <td>9.8</td>\n",
       "      <td>good</td>\n",
       "    </tr>\n",
       "    <tr>\n",
       "      <th>4</th>\n",
       "      <td>7.4</td>\n",
       "      <td>0.70</td>\n",
       "      <td>0.00</td>\n",
       "      <td>1.9</td>\n",
       "      <td>0.076</td>\n",
       "      <td>11.0</td>\n",
       "      <td>34.0</td>\n",
       "      <td>0.9978</td>\n",
       "      <td>3.51</td>\n",
       "      <td>0.56</td>\n",
       "      <td>9.4</td>\n",
       "      <td>bad</td>\n",
       "    </tr>\n",
       "  </tbody>\n",
       "</table>\n",
       "</div>"
      ],
      "text/plain": [
       "   fixed acidity  volatile acidity  citric acid  residual sugar  chlorides  \\\n",
       "0            7.4              0.70         0.00             1.9      0.076   \n",
       "1            7.8              0.88         0.00             2.6      0.098   \n",
       "2            7.8              0.76         0.04             2.3      0.092   \n",
       "3           11.2              0.28         0.56             1.9      0.075   \n",
       "4            7.4              0.70         0.00             1.9      0.076   \n",
       "\n",
       "   free sulfur dioxide  total sulfur dioxide  density    pH  sulphates  \\\n",
       "0                 11.0                  34.0   0.9978  3.51       0.56   \n",
       "1                 25.0                  67.0   0.9968  3.20       0.68   \n",
       "2                 15.0                  54.0   0.9970  3.26       0.65   \n",
       "3                 17.0                  60.0   0.9980  3.16       0.58   \n",
       "4                 11.0                  34.0   0.9978  3.51       0.56   \n",
       "\n",
       "   alcohol quality  \n",
       "0      9.4     bad  \n",
       "1      9.8     bad  \n",
       "2      9.8     bad  \n",
       "3      9.8    good  \n",
       "4      9.4     bad  "
      ]
     },
     "execution_count": 7,
     "metadata": {},
     "output_type": "execute_result"
    }
   ],
   "source": [
    "df = pd.read_csv(\"wine-quality-binary-classification/wine.csv\")\n",
    "df.head()"
   ]
  },
  {
   "cell_type": "markdown",
   "id": "45f31337",
   "metadata": {},
   "source": [
    "## Ans : 3 "
   ]
  },
  {
   "cell_type": "code",
   "execution_count": 8,
   "id": "b6b636a3",
   "metadata": {},
   "outputs": [
    {
     "data": {
      "text/plain": [
       "fixed acidity           0\n",
       "volatile acidity        0\n",
       "citric acid             0\n",
       "residual sugar          0\n",
       "chlorides               0\n",
       "free sulfur dioxide     0\n",
       "total sulfur dioxide    0\n",
       "density                 0\n",
       "pH                      0\n",
       "sulphates               0\n",
       "alcohol                 0\n",
       "quality                 0\n",
       "dtype: int64"
      ]
     },
     "execution_count": 8,
     "metadata": {},
     "output_type": "execute_result"
    }
   ],
   "source": [
    "df.isna().sum()"
   ]
  },
  {
   "cell_type": "code",
   "execution_count": 10,
   "id": "1023514e",
   "metadata": {},
   "outputs": [
    {
     "data": {
      "text/plain": [
       "fixed acidity           float64\n",
       "volatile acidity        float64\n",
       "citric acid             float64\n",
       "residual sugar          float64\n",
       "chlorides               float64\n",
       "free sulfur dioxide     float64\n",
       "total sulfur dioxide    float64\n",
       "density                 float64\n",
       "pH                      float64\n",
       "sulphates               float64\n",
       "alcohol                 float64\n",
       "quality                  object\n",
       "dtype: object"
      ]
     },
     "execution_count": 10,
     "metadata": {},
     "output_type": "execute_result"
    }
   ],
   "source": [
    "df.dtypes\n",
    "\n",
    "## quality is categorical variable "
   ]
  },
  {
   "cell_type": "code",
   "execution_count": 11,
   "id": "dfb4536f",
   "metadata": {},
   "outputs": [
    {
     "data": {
      "text/plain": [
       "array(['bad', 'good'], dtype=object)"
      ]
     },
     "execution_count": 11,
     "metadata": {},
     "output_type": "execute_result"
    }
   ],
   "source": [
    "df['quality'].unique()"
   ]
  },
  {
   "cell_type": "code",
   "execution_count": 12,
   "id": "1a59c64d",
   "metadata": {},
   "outputs": [],
   "source": [
    "df['quality'] = df['quality'].map({'bad':0 , 'good': 1})"
   ]
  },
  {
   "cell_type": "code",
   "execution_count": 13,
   "id": "1451c857",
   "metadata": {},
   "outputs": [
    {
     "data": {
      "text/plain": [
       "array([0, 1], dtype=int64)"
      ]
     },
     "execution_count": 13,
     "metadata": {},
     "output_type": "execute_result"
    }
   ],
   "source": [
    "df['quality'].unique()"
   ]
  },
  {
   "cell_type": "code",
   "execution_count": 14,
   "id": "5f7149d6",
   "metadata": {},
   "outputs": [
    {
     "data": {
      "text/html": [
       "<div>\n",
       "<style scoped>\n",
       "    .dataframe tbody tr th:only-of-type {\n",
       "        vertical-align: middle;\n",
       "    }\n",
       "\n",
       "    .dataframe tbody tr th {\n",
       "        vertical-align: top;\n",
       "    }\n",
       "\n",
       "    .dataframe thead th {\n",
       "        text-align: right;\n",
       "    }\n",
       "</style>\n",
       "<table border=\"1\" class=\"dataframe\">\n",
       "  <thead>\n",
       "    <tr style=\"text-align: right;\">\n",
       "      <th></th>\n",
       "      <th>fixed acidity</th>\n",
       "      <th>volatile acidity</th>\n",
       "      <th>citric acid</th>\n",
       "      <th>residual sugar</th>\n",
       "      <th>chlorides</th>\n",
       "      <th>free sulfur dioxide</th>\n",
       "      <th>total sulfur dioxide</th>\n",
       "      <th>density</th>\n",
       "      <th>pH</th>\n",
       "      <th>sulphates</th>\n",
       "      <th>alcohol</th>\n",
       "      <th>quality</th>\n",
       "    </tr>\n",
       "  </thead>\n",
       "  <tbody>\n",
       "    <tr>\n",
       "      <th>0</th>\n",
       "      <td>7.4</td>\n",
       "      <td>0.70</td>\n",
       "      <td>0.00</td>\n",
       "      <td>1.9</td>\n",
       "      <td>0.076</td>\n",
       "      <td>11.0</td>\n",
       "      <td>34.0</td>\n",
       "      <td>0.9978</td>\n",
       "      <td>3.51</td>\n",
       "      <td>0.56</td>\n",
       "      <td>9.4</td>\n",
       "      <td>0</td>\n",
       "    </tr>\n",
       "    <tr>\n",
       "      <th>1</th>\n",
       "      <td>7.8</td>\n",
       "      <td>0.88</td>\n",
       "      <td>0.00</td>\n",
       "      <td>2.6</td>\n",
       "      <td>0.098</td>\n",
       "      <td>25.0</td>\n",
       "      <td>67.0</td>\n",
       "      <td>0.9968</td>\n",
       "      <td>3.20</td>\n",
       "      <td>0.68</td>\n",
       "      <td>9.8</td>\n",
       "      <td>0</td>\n",
       "    </tr>\n",
       "    <tr>\n",
       "      <th>2</th>\n",
       "      <td>7.8</td>\n",
       "      <td>0.76</td>\n",
       "      <td>0.04</td>\n",
       "      <td>2.3</td>\n",
       "      <td>0.092</td>\n",
       "      <td>15.0</td>\n",
       "      <td>54.0</td>\n",
       "      <td>0.9970</td>\n",
       "      <td>3.26</td>\n",
       "      <td>0.65</td>\n",
       "      <td>9.8</td>\n",
       "      <td>0</td>\n",
       "    </tr>\n",
       "    <tr>\n",
       "      <th>3</th>\n",
       "      <td>11.2</td>\n",
       "      <td>0.28</td>\n",
       "      <td>0.56</td>\n",
       "      <td>1.9</td>\n",
       "      <td>0.075</td>\n",
       "      <td>17.0</td>\n",
       "      <td>60.0</td>\n",
       "      <td>0.9980</td>\n",
       "      <td>3.16</td>\n",
       "      <td>0.58</td>\n",
       "      <td>9.8</td>\n",
       "      <td>1</td>\n",
       "    </tr>\n",
       "    <tr>\n",
       "      <th>4</th>\n",
       "      <td>7.4</td>\n",
       "      <td>0.70</td>\n",
       "      <td>0.00</td>\n",
       "      <td>1.9</td>\n",
       "      <td>0.076</td>\n",
       "      <td>11.0</td>\n",
       "      <td>34.0</td>\n",
       "      <td>0.9978</td>\n",
       "      <td>3.51</td>\n",
       "      <td>0.56</td>\n",
       "      <td>9.4</td>\n",
       "      <td>0</td>\n",
       "    </tr>\n",
       "  </tbody>\n",
       "</table>\n",
       "</div>"
      ],
      "text/plain": [
       "   fixed acidity  volatile acidity  citric acid  residual sugar  chlorides  \\\n",
       "0            7.4              0.70         0.00             1.9      0.076   \n",
       "1            7.8              0.88         0.00             2.6      0.098   \n",
       "2            7.8              0.76         0.04             2.3      0.092   \n",
       "3           11.2              0.28         0.56             1.9      0.075   \n",
       "4            7.4              0.70         0.00             1.9      0.076   \n",
       "\n",
       "   free sulfur dioxide  total sulfur dioxide  density    pH  sulphates  \\\n",
       "0                 11.0                  34.0   0.9978  3.51       0.56   \n",
       "1                 25.0                  67.0   0.9968  3.20       0.68   \n",
       "2                 15.0                  54.0   0.9970  3.26       0.65   \n",
       "3                 17.0                  60.0   0.9980  3.16       0.58   \n",
       "4                 11.0                  34.0   0.9978  3.51       0.56   \n",
       "\n",
       "   alcohol  quality  \n",
       "0      9.4        0  \n",
       "1      9.8        0  \n",
       "2      9.8        0  \n",
       "3      9.8        1  \n",
       "4      9.4        0  "
      ]
     },
     "execution_count": 14,
     "metadata": {},
     "output_type": "execute_result"
    }
   ],
   "source": [
    "df.head()"
   ]
  },
  {
   "cell_type": "markdown",
   "id": "e832fe94",
   "metadata": {},
   "source": [
    "## Ans : 4"
   ]
  },
  {
   "cell_type": "code",
   "execution_count": 15,
   "id": "bdd44869",
   "metadata": {},
   "outputs": [],
   "source": [
    "X = df.iloc[: , :-1]\n",
    "y = df.iloc[:,-1]"
   ]
  },
  {
   "cell_type": "code",
   "execution_count": 16,
   "id": "139c11a5",
   "metadata": {},
   "outputs": [
    {
     "data": {
      "text/html": [
       "<div>\n",
       "<style scoped>\n",
       "    .dataframe tbody tr th:only-of-type {\n",
       "        vertical-align: middle;\n",
       "    }\n",
       "\n",
       "    .dataframe tbody tr th {\n",
       "        vertical-align: top;\n",
       "    }\n",
       "\n",
       "    .dataframe thead th {\n",
       "        text-align: right;\n",
       "    }\n",
       "</style>\n",
       "<table border=\"1\" class=\"dataframe\">\n",
       "  <thead>\n",
       "    <tr style=\"text-align: right;\">\n",
       "      <th></th>\n",
       "      <th>fixed acidity</th>\n",
       "      <th>volatile acidity</th>\n",
       "      <th>citric acid</th>\n",
       "      <th>residual sugar</th>\n",
       "      <th>chlorides</th>\n",
       "      <th>free sulfur dioxide</th>\n",
       "      <th>total sulfur dioxide</th>\n",
       "      <th>density</th>\n",
       "      <th>pH</th>\n",
       "      <th>sulphates</th>\n",
       "      <th>alcohol</th>\n",
       "    </tr>\n",
       "  </thead>\n",
       "  <tbody>\n",
       "    <tr>\n",
       "      <th>0</th>\n",
       "      <td>7.4</td>\n",
       "      <td>0.70</td>\n",
       "      <td>0.00</td>\n",
       "      <td>1.9</td>\n",
       "      <td>0.076</td>\n",
       "      <td>11.0</td>\n",
       "      <td>34.0</td>\n",
       "      <td>0.9978</td>\n",
       "      <td>3.51</td>\n",
       "      <td>0.56</td>\n",
       "      <td>9.4</td>\n",
       "    </tr>\n",
       "    <tr>\n",
       "      <th>1</th>\n",
       "      <td>7.8</td>\n",
       "      <td>0.88</td>\n",
       "      <td>0.00</td>\n",
       "      <td>2.6</td>\n",
       "      <td>0.098</td>\n",
       "      <td>25.0</td>\n",
       "      <td>67.0</td>\n",
       "      <td>0.9968</td>\n",
       "      <td>3.20</td>\n",
       "      <td>0.68</td>\n",
       "      <td>9.8</td>\n",
       "    </tr>\n",
       "    <tr>\n",
       "      <th>2</th>\n",
       "      <td>7.8</td>\n",
       "      <td>0.76</td>\n",
       "      <td>0.04</td>\n",
       "      <td>2.3</td>\n",
       "      <td>0.092</td>\n",
       "      <td>15.0</td>\n",
       "      <td>54.0</td>\n",
       "      <td>0.9970</td>\n",
       "      <td>3.26</td>\n",
       "      <td>0.65</td>\n",
       "      <td>9.8</td>\n",
       "    </tr>\n",
       "    <tr>\n",
       "      <th>3</th>\n",
       "      <td>11.2</td>\n",
       "      <td>0.28</td>\n",
       "      <td>0.56</td>\n",
       "      <td>1.9</td>\n",
       "      <td>0.075</td>\n",
       "      <td>17.0</td>\n",
       "      <td>60.0</td>\n",
       "      <td>0.9980</td>\n",
       "      <td>3.16</td>\n",
       "      <td>0.58</td>\n",
       "      <td>9.8</td>\n",
       "    </tr>\n",
       "    <tr>\n",
       "      <th>4</th>\n",
       "      <td>7.4</td>\n",
       "      <td>0.70</td>\n",
       "      <td>0.00</td>\n",
       "      <td>1.9</td>\n",
       "      <td>0.076</td>\n",
       "      <td>11.0</td>\n",
       "      <td>34.0</td>\n",
       "      <td>0.9978</td>\n",
       "      <td>3.51</td>\n",
       "      <td>0.56</td>\n",
       "      <td>9.4</td>\n",
       "    </tr>\n",
       "  </tbody>\n",
       "</table>\n",
       "</div>"
      ],
      "text/plain": [
       "   fixed acidity  volatile acidity  citric acid  residual sugar  chlorides  \\\n",
       "0            7.4              0.70         0.00             1.9      0.076   \n",
       "1            7.8              0.88         0.00             2.6      0.098   \n",
       "2            7.8              0.76         0.04             2.3      0.092   \n",
       "3           11.2              0.28         0.56             1.9      0.075   \n",
       "4            7.4              0.70         0.00             1.9      0.076   \n",
       "\n",
       "   free sulfur dioxide  total sulfur dioxide  density    pH  sulphates  \\\n",
       "0                 11.0                  34.0   0.9978  3.51       0.56   \n",
       "1                 25.0                  67.0   0.9968  3.20       0.68   \n",
       "2                 15.0                  54.0   0.9970  3.26       0.65   \n",
       "3                 17.0                  60.0   0.9980  3.16       0.58   \n",
       "4                 11.0                  34.0   0.9978  3.51       0.56   \n",
       "\n",
       "   alcohol  \n",
       "0      9.4  \n",
       "1      9.8  \n",
       "2      9.8  \n",
       "3      9.8  \n",
       "4      9.4  "
      ]
     },
     "execution_count": 16,
     "metadata": {},
     "output_type": "execute_result"
    }
   ],
   "source": [
    "X.head()"
   ]
  },
  {
   "cell_type": "code",
   "execution_count": 17,
   "id": "a9e48733",
   "metadata": {},
   "outputs": [
    {
     "data": {
      "text/plain": [
       "0    0\n",
       "1    0\n",
       "2    0\n",
       "3    1\n",
       "4    0\n",
       "Name: quality, dtype: int64"
      ]
     },
     "execution_count": 17,
     "metadata": {},
     "output_type": "execute_result"
    }
   ],
   "source": [
    "y.head()"
   ]
  },
  {
   "cell_type": "markdown",
   "id": "9ec6568b",
   "metadata": {},
   "source": [
    "## Ans : 5"
   ]
  },
  {
   "cell_type": "code",
   "execution_count": 18,
   "id": "4b904f9b",
   "metadata": {},
   "outputs": [],
   "source": [
    "## train test split \n",
    "\n",
    "from sklearn.model_selection import train_test_split\n",
    "\n",
    "X_train , X_test , y_train , y_test = train_test_split(X , y , test_size = 0.20, random_state=42)\n",
    "\n",
    "X_train , X_val , y_train , y_val = train_test_split(X_train , y_train , test_size=0.20 , random_state=42)"
   ]
  },
  {
   "cell_type": "code",
   "execution_count": 19,
   "id": "cf12ab38",
   "metadata": {},
   "outputs": [
    {
     "name": "stdout",
     "output_type": "stream",
     "text": [
      "(1023, 11)\n",
      "(256, 11)\n",
      "(320, 11)\n"
     ]
    }
   ],
   "source": [
    "print(X_train.shape)\n",
    "print(X_val.shape)\n",
    "print(X_test.shape)"
   ]
  },
  {
   "cell_type": "code",
   "execution_count": 20,
   "id": "045f5b5e",
   "metadata": {},
   "outputs": [
    {
     "name": "stdout",
     "output_type": "stream",
     "text": [
      "(1023,)\n",
      "(256,)\n",
      "(320,)\n"
     ]
    }
   ],
   "source": [
    "print(y_train.shape)\n",
    "print(y_val.shape)\n",
    "print(y_test.shape)"
   ]
  },
  {
   "cell_type": "markdown",
   "id": "32109753",
   "metadata": {},
   "source": [
    "## Ans : 6 "
   ]
  },
  {
   "cell_type": "code",
   "execution_count": 21,
   "id": "a545522f",
   "metadata": {},
   "outputs": [],
   "source": [
    "## scaling of data \n",
    "\n",
    "from sklearn.preprocessing import StandardScaler\n",
    "\n",
    "scaler = StandardScaler()\n",
    "X_train = scaler.fit_transform(X_train)\n",
    "X_val = scaler.fit_transform(X_val)\n",
    "X_test = scaler.fit_transform(X_test)"
   ]
  },
  {
   "cell_type": "code",
   "execution_count": 23,
   "id": "4e18ea69",
   "metadata": {},
   "outputs": [
    {
     "data": {
      "text/plain": [
       "array([[-0.36458197,  0.27028307, -0.88452628, ..., -1.50331912,\n",
       "        -0.96231644, -0.61284241],\n",
       "       [ 2.08646306, -0.82422292,  1.09972703, ..., -0.98778743,\n",
       "        -0.29662295, -0.13057021],\n",
       "       [ 0.86094055, -0.16751933,  1.09972703, ..., -0.02116552,\n",
       "         0.70191728,  0.25524755],\n",
       "       ...,\n",
       "       [ 2.611687  , -1.26202532,  2.37168427, ..., -0.73002159,\n",
       "         0.59096836,  0.35170199],\n",
       "       [-0.4812984 ,  0.84489871, -1.03716115, ...,  0.4299247 ,\n",
       "        -0.6294697 ,  0.44815643],\n",
       "       [-1.06488055,  0.46182161, -1.39330918, ...,  0.94545638,\n",
       "        -0.07472512, -1.19156904]])"
      ]
     },
     "execution_count": 23,
     "metadata": {},
     "output_type": "execute_result"
    }
   ],
   "source": [
    "X_train"
   ]
  },
  {
   "cell_type": "code",
   "execution_count": 24,
   "id": "8ea54b32",
   "metadata": {},
   "outputs": [
    {
     "data": {
      "text/plain": [
       "array([[-0.63501047, -0.73223141,  0.17347516, ...,  0.90656745,\n",
       "        -0.84912934, -0.85543866],\n",
       "       [ 1.69055474,  0.54543041,  2.1157408 , ..., -0.57208528,\n",
       "         0.29425274,  2.74986738],\n",
       "       [-0.86189488,  0.54543041, -0.98138549, ...,  0.77214448,\n",
       "         1.16860375, -0.76530601],\n",
       "       ...,\n",
       "       [-0.63501047, -1.03643661,  1.01337382, ...,  0.6377215 ,\n",
       "         1.37037706,  0.58668375],\n",
       "       [ 1.29350702, -0.67139037,  1.11836115, ..., -0.63929677,\n",
       "         1.5048926 ,  0.85708171],\n",
       "       [ 2.82497679, -1.15811869,  1.32833581, ..., -1.71468058,\n",
       "         1.10134598, -0.76530601]])"
      ]
     },
     "execution_count": 24,
     "metadata": {},
     "output_type": "execute_result"
    }
   ],
   "source": [
    "X_val"
   ]
  },
  {
   "cell_type": "code",
   "execution_count": 25,
   "id": "e9a4dbe8",
   "metadata": {},
   "outputs": [
    {
     "data": {
      "text/plain": [
       "array([[-3.33991288e-01,  2.42581186e-01, -9.63136787e-01, ...,\n",
       "        -4.42561113e-01,  6.34928030e-02, -7.55088351e-01],\n",
       "       [-2.78643172e-01, -9.49230728e-02, -4.94583756e-01, ...,\n",
       "         5.19964189e-01, -1.15964614e+00, -8.44713081e-01],\n",
       "       [ 1.32645219e+00,  8.61338994e-01, -2.34276516e-01, ...,\n",
       "        -1.85887699e-01,  2.23796204e+00, -4.86214161e-01],\n",
       "       ...,\n",
       "       [-1.90259149e-03,  4.67584025e-01, -7.80921719e-02, ...,\n",
       "        -1.02007629e+00, -8.19885325e-01, -5.75838891e-01],\n",
       "       [ 2.74837989e-01, -1.38868940e+00,  6.50768099e-01, ...,\n",
       "        -1.02007629e+00,  2.67349294e-01,  6.78907330e-01],\n",
       "       [ 4.40882337e-01,  1.39572074e+00, -1.17138258e+00, ...,\n",
       "        -1.21719346e-01, -7.51933161e-01, -6.65463621e-01]])"
      ]
     },
     "execution_count": 25,
     "metadata": {},
     "output_type": "execute_result"
    }
   ],
   "source": [
    "X_test"
   ]
  },
  {
   "cell_type": "markdown",
   "id": "2203f394",
   "metadata": {},
   "source": [
    "## Ans : 7 "
   ]
  },
  {
   "cell_type": "code",
   "execution_count": 31,
   "id": "ffba68c2",
   "metadata": {},
   "outputs": [],
   "source": [
    "LAYERS = [keras.layers.Dense(100,input_shape=(11,), activation = 'relu'),\n",
    "         keras.layers.Dense(30,activation = 'relu'),\n",
    "          keras.layers.Dense(1 , activation = 'sigmoid')\n",
    "         ]"
   ]
  },
  {
   "cell_type": "markdown",
   "id": "112421de",
   "metadata": {},
   "source": [
    "## Ans : 8 \n"
   ]
  },
  {
   "cell_type": "code",
   "execution_count": 32,
   "id": "33b313b5",
   "metadata": {},
   "outputs": [],
   "source": [
    "model = keras.models.Sequential(LAYERS)"
   ]
  },
  {
   "cell_type": "markdown",
   "id": "aeed8b32",
   "metadata": {},
   "source": [
    "## Ans : 9"
   ]
  },
  {
   "cell_type": "code",
   "execution_count": 33,
   "id": "87182bca",
   "metadata": {},
   "outputs": [],
   "source": [
    "tensorboard_callback = tf.keras.callbacks.TensorBoard(log_dir=\"./logs\")\n"
   ]
  },
  {
   "cell_type": "markdown",
   "id": "8434c1cd",
   "metadata": {},
   "source": [
    "## Ans : 10"
   ]
  },
  {
   "cell_type": "code",
   "execution_count": 34,
   "id": "c081d558",
   "metadata": {},
   "outputs": [],
   "source": [
    "es_callback = tf.keras.callbacks.EarlyStopping(monitor='loss', patience=3 , mode = 'min')\n"
   ]
  },
  {
   "cell_type": "markdown",
   "id": "edf38352",
   "metadata": {},
   "source": [
    "## Ans : 11 "
   ]
  },
  {
   "cell_type": "code",
   "execution_count": 35,
   "id": "73acc455",
   "metadata": {},
   "outputs": [],
   "source": [
    "filepath = \"callbacks/\"\n",
    "\n",
    "modelcp_callback = tf.keras.callbacks.ModelCheckpoint(\n",
    "    filepath,\n",
    "    monitor = \"val_loss\",\n",
    "    save_best_only = True,\n",
    "    mode = \"min\",\n",
    ")"
   ]
  },
  {
   "cell_type": "markdown",
   "id": "d091d3bb",
   "metadata": {},
   "source": [
    "## Ans : 12"
   ]
  },
  {
   "cell_type": "code",
   "execution_count": 39,
   "id": "e4398812",
   "metadata": {
    "scrolled": true
   },
   "outputs": [
    {
     "name": "stdout",
     "output_type": "stream",
     "text": [
      "Model: \"sequential_1\"\n",
      "_________________________________________________________________\n",
      " Layer (type)                Output Shape              Param #   \n",
      "=================================================================\n",
      " dense_3 (Dense)             (None, 100)               1200      \n",
      "                                                                 \n",
      " dense_4 (Dense)             (None, 30)                3030      \n",
      "                                                                 \n",
      " dense_5 (Dense)             (None, 1)                 31        \n",
      "                                                                 \n",
      "=================================================================\n",
      "Total params: 4261 (16.64 KB)\n",
      "Trainable params: 4261 (16.64 KB)\n",
      "Non-trainable params: 0 (0.00 Byte)\n",
      "_________________________________________________________________\n"
     ]
    }
   ],
   "source": [
    "model.summary()"
   ]
  },
  {
   "cell_type": "markdown",
   "id": "6d3cbed5",
   "metadata": {},
   "source": [
    "## Ans : 13 "
   ]
  },
  {
   "cell_type": "code",
   "execution_count": 40,
   "id": "59609f41",
   "metadata": {},
   "outputs": [],
   "source": [
    "loss = 'binary_crossentropy'\n",
    "optimizer = 'adam'\n",
    "metrics = ['accuracy']"
   ]
  },
  {
   "cell_type": "markdown",
   "id": "3e3cdd6f",
   "metadata": {},
   "source": [
    "## Ans : 14 "
   ]
  },
  {
   "cell_type": "code",
   "execution_count": 41,
   "id": "860ed040",
   "metadata": {},
   "outputs": [],
   "source": [
    "model.compile(loss = loss , optimizer = optimizer , metrics = metrics )"
   ]
  },
  {
   "cell_type": "markdown",
   "id": "327e04b3",
   "metadata": {},
   "source": [
    "## Ans : 15 "
   ]
  },
  {
   "cell_type": "code",
   "execution_count": 42,
   "id": "06178931",
   "metadata": {},
   "outputs": [
    {
     "name": "stdout",
     "output_type": "stream",
     "text": [
      "Epoch 1/30\n",
      "31/32 [============================>.] - ETA: 0s - loss: 0.6300 - accuracy: 0.6421 INFO:tensorflow:Assets written to: callbacks\\assets\n"
     ]
    },
    {
     "name": "stderr",
     "output_type": "stream",
     "text": [
      "INFO:tensorflow:Assets written to: callbacks\\assets\n"
     ]
    },
    {
     "name": "stdout",
     "output_type": "stream",
     "text": [
      "32/32 [==============================] - 2s 37ms/step - loss: 0.6329 - accuracy: 0.6393 - val_loss: 0.6011 - val_accuracy: 0.7422\n",
      "Epoch 2/30\n",
      "31/32 [============================>.] - ETA: 0s - loss: 0.5448 - accuracy: 0.7429INFO:tensorflow:Assets written to: callbacks\\assets\n"
     ]
    },
    {
     "name": "stderr",
     "output_type": "stream",
     "text": [
      "INFO:tensorflow:Assets written to: callbacks\\assets\n"
     ]
    },
    {
     "name": "stdout",
     "output_type": "stream",
     "text": [
      "32/32 [==============================] - 1s 23ms/step - loss: 0.5385 - accuracy: 0.7478 - val_loss: 0.5476 - val_accuracy: 0.7734\n",
      "Epoch 3/30\n",
      "30/32 [===========================>..] - ETA: 0s - loss: 0.5103 - accuracy: 0.7469INFO:tensorflow:Assets written to: callbacks\\assets\n"
     ]
    },
    {
     "name": "stderr",
     "output_type": "stream",
     "text": [
      "INFO:tensorflow:Assets written to: callbacks\\assets\n"
     ]
    },
    {
     "name": "stdout",
     "output_type": "stream",
     "text": [
      "32/32 [==============================] - 1s 22ms/step - loss: 0.5083 - accuracy: 0.7478 - val_loss: 0.5407 - val_accuracy: 0.7852\n",
      "Epoch 4/30\n",
      "32/32 [==============================] - 0s 3ms/step - loss: 0.4930 - accuracy: 0.7605 - val_loss: 0.5461 - val_accuracy: 0.7734\n",
      "Epoch 5/30\n",
      " 1/32 [..............................] - ETA: 0s - loss: 0.5981 - accuracy: 0.6875INFO:tensorflow:Assets written to: callbacks\\assets\n"
     ]
    },
    {
     "name": "stderr",
     "output_type": "stream",
     "text": [
      "INFO:tensorflow:Assets written to: callbacks\\assets\n"
     ]
    },
    {
     "name": "stdout",
     "output_type": "stream",
     "text": [
      "32/32 [==============================] - 1s 24ms/step - loss: 0.4846 - accuracy: 0.7546 - val_loss: 0.5370 - val_accuracy: 0.7852\n",
      "Epoch 6/30\n",
      "28/32 [=========================>....] - ETA: 0s - loss: 0.4798 - accuracy: 0.7567INFO:tensorflow:Assets written to: callbacks\\assets\n"
     ]
    },
    {
     "name": "stderr",
     "output_type": "stream",
     "text": [
      "INFO:tensorflow:Assets written to: callbacks\\assets\n"
     ]
    },
    {
     "name": "stdout",
     "output_type": "stream",
     "text": [
      "32/32 [==============================] - 1s 22ms/step - loss: 0.4777 - accuracy: 0.7576 - val_loss: 0.5318 - val_accuracy: 0.7852\n",
      "Epoch 7/30\n",
      "32/32 [==============================] - 0s 3ms/step - loss: 0.4722 - accuracy: 0.7703 - val_loss: 0.5525 - val_accuracy: 0.7695\n",
      "Epoch 8/30\n",
      "32/32 [==============================] - 0s 3ms/step - loss: 0.4670 - accuracy: 0.7810 - val_loss: 0.5338 - val_accuracy: 0.7930\n",
      "Epoch 9/30\n",
      "32/32 [==============================] - 0s 3ms/step - loss: 0.4626 - accuracy: 0.7761 - val_loss: 0.5419 - val_accuracy: 0.7852\n",
      "Epoch 10/30\n",
      "32/32 [==============================] - 0s 3ms/step - loss: 0.4582 - accuracy: 0.7791 - val_loss: 0.5467 - val_accuracy: 0.7773\n",
      "Epoch 11/30\n",
      "32/32 [==============================] - 0s 3ms/step - loss: 0.4540 - accuracy: 0.7791 - val_loss: 0.5429 - val_accuracy: 0.7891\n",
      "Epoch 12/30\n",
      "32/32 [==============================] - 0s 3ms/step - loss: 0.4481 - accuracy: 0.7849 - val_loss: 0.5607 - val_accuracy: 0.7695\n",
      "Epoch 13/30\n",
      "32/32 [==============================] - 0s 3ms/step - loss: 0.4512 - accuracy: 0.7801 - val_loss: 0.5339 - val_accuracy: 0.7773\n",
      "Epoch 14/30\n",
      "32/32 [==============================] - 0s 3ms/step - loss: 0.4446 - accuracy: 0.7889 - val_loss: 0.5528 - val_accuracy: 0.7812\n",
      "Epoch 15/30\n",
      "32/32 [==============================] - 0s 3ms/step - loss: 0.4395 - accuracy: 0.7889 - val_loss: 0.5422 - val_accuracy: 0.7773\n",
      "Epoch 16/30\n",
      "32/32 [==============================] - 0s 3ms/step - loss: 0.4388 - accuracy: 0.7820 - val_loss: 0.5392 - val_accuracy: 0.7734\n",
      "Epoch 17/30\n",
      "32/32 [==============================] - 0s 3ms/step - loss: 0.4335 - accuracy: 0.7957 - val_loss: 0.5449 - val_accuracy: 0.7656\n",
      "Epoch 18/30\n",
      "32/32 [==============================] - 0s 3ms/step - loss: 0.4321 - accuracy: 0.7937 - val_loss: 0.5466 - val_accuracy: 0.7852\n",
      "Epoch 19/30\n",
      "32/32 [==============================] - 0s 3ms/step - loss: 0.4299 - accuracy: 0.7898 - val_loss: 0.5472 - val_accuracy: 0.7891\n",
      "Epoch 20/30\n",
      "32/32 [==============================] - 0s 3ms/step - loss: 0.4261 - accuracy: 0.7947 - val_loss: 0.5678 - val_accuracy: 0.7852\n",
      "Epoch 21/30\n",
      "32/32 [==============================] - 0s 3ms/step - loss: 0.4276 - accuracy: 0.7918 - val_loss: 0.5523 - val_accuracy: 0.7891\n",
      "Epoch 22/30\n",
      "32/32 [==============================] - 0s 3ms/step - loss: 0.4177 - accuracy: 0.8035 - val_loss: 0.5812 - val_accuracy: 0.7773\n",
      "Epoch 23/30\n",
      "32/32 [==============================] - 0s 3ms/step - loss: 0.4223 - accuracy: 0.7957 - val_loss: 0.5761 - val_accuracy: 0.7578\n",
      "Epoch 24/30\n",
      "32/32 [==============================] - 0s 3ms/step - loss: 0.4194 - accuracy: 0.8055 - val_loss: 0.5706 - val_accuracy: 0.7812\n",
      "Epoch 25/30\n",
      "32/32 [==============================] - 0s 3ms/step - loss: 0.4120 - accuracy: 0.8055 - val_loss: 0.5681 - val_accuracy: 0.7773\n",
      "Epoch 26/30\n",
      "32/32 [==============================] - 0s 3ms/step - loss: 0.4073 - accuracy: 0.8074 - val_loss: 0.5648 - val_accuracy: 0.7695\n",
      "Epoch 27/30\n",
      "32/32 [==============================] - 0s 3ms/step - loss: 0.4079 - accuracy: 0.8035 - val_loss: 0.5549 - val_accuracy: 0.7852\n",
      "Epoch 28/30\n",
      "32/32 [==============================] - 0s 3ms/step - loss: 0.4016 - accuracy: 0.8113 - val_loss: 0.5549 - val_accuracy: 0.7852\n",
      "Epoch 29/30\n",
      "32/32 [==============================] - 0s 3ms/step - loss: 0.3958 - accuracy: 0.8104 - val_loss: 0.5612 - val_accuracy: 0.7812\n",
      "Epoch 30/30\n",
      "32/32 [==============================] - 0s 3ms/step - loss: 0.3915 - accuracy: 0.8143 - val_loss: 0.5594 - val_accuracy: 0.7773\n"
     ]
    }
   ],
   "source": [
    "history = model.fit(X_train , y_train ,validation_data=(X_val , y_val),epochs = 30, callbacks=[tensorboard_callback,es_callback,modelcp_callback] )"
   ]
  },
  {
   "cell_type": "markdown",
   "id": "0ccb21c8",
   "metadata": {},
   "source": [
    "## Ans : 16"
   ]
  },
  {
   "cell_type": "code",
   "execution_count": 46,
   "id": "89a172ad",
   "metadata": {},
   "outputs": [
    {
     "data": {
      "text/plain": [
       "{'name': 'sequential_1',\n",
       " 'layers': [{'module': 'keras.layers',\n",
       "   'class_name': 'InputLayer',\n",
       "   'config': {'batch_input_shape': (None, 11),\n",
       "    'dtype': 'float32',\n",
       "    'sparse': False,\n",
       "    'ragged': False,\n",
       "    'name': 'dense_3_input'},\n",
       "   'registered_name': None},\n",
       "  {'module': 'keras.layers',\n",
       "   'class_name': 'Dense',\n",
       "   'config': {'name': 'dense_3',\n",
       "    'trainable': True,\n",
       "    'dtype': 'float32',\n",
       "    'batch_input_shape': (None, 11),\n",
       "    'units': 100,\n",
       "    'activation': 'relu',\n",
       "    'use_bias': True,\n",
       "    'kernel_initializer': {'module': 'keras.initializers',\n",
       "     'class_name': 'GlorotUniform',\n",
       "     'config': {'seed': None},\n",
       "     'registered_name': None},\n",
       "    'bias_initializer': {'module': 'keras.initializers',\n",
       "     'class_name': 'Zeros',\n",
       "     'config': {},\n",
       "     'registered_name': None},\n",
       "    'kernel_regularizer': None,\n",
       "    'bias_regularizer': None,\n",
       "    'activity_regularizer': None,\n",
       "    'kernel_constraint': None,\n",
       "    'bias_constraint': None},\n",
       "   'registered_name': None,\n",
       "   'build_config': {'input_shape': (None, 11)}},\n",
       "  {'module': 'keras.layers',\n",
       "   'class_name': 'Dense',\n",
       "   'config': {'name': 'dense_4',\n",
       "    'trainable': True,\n",
       "    'dtype': 'float32',\n",
       "    'units': 30,\n",
       "    'activation': 'relu',\n",
       "    'use_bias': True,\n",
       "    'kernel_initializer': {'module': 'keras.initializers',\n",
       "     'class_name': 'GlorotUniform',\n",
       "     'config': {'seed': None},\n",
       "     'registered_name': None},\n",
       "    'bias_initializer': {'module': 'keras.initializers',\n",
       "     'class_name': 'Zeros',\n",
       "     'config': {},\n",
       "     'registered_name': None},\n",
       "    'kernel_regularizer': None,\n",
       "    'bias_regularizer': None,\n",
       "    'activity_regularizer': None,\n",
       "    'kernel_constraint': None,\n",
       "    'bias_constraint': None},\n",
       "   'registered_name': None,\n",
       "   'build_config': {'input_shape': (None, 100)}},\n",
       "  {'module': 'keras.layers',\n",
       "   'class_name': 'Dense',\n",
       "   'config': {'name': 'dense_5',\n",
       "    'trainable': True,\n",
       "    'dtype': 'float32',\n",
       "    'units': 1,\n",
       "    'activation': 'sigmoid',\n",
       "    'use_bias': True,\n",
       "    'kernel_initializer': {'module': 'keras.initializers',\n",
       "     'class_name': 'GlorotUniform',\n",
       "     'config': {'seed': None},\n",
       "     'registered_name': None},\n",
       "    'bias_initializer': {'module': 'keras.initializers',\n",
       "     'class_name': 'Zeros',\n",
       "     'config': {},\n",
       "     'registered_name': None},\n",
       "    'kernel_regularizer': None,\n",
       "    'bias_regularizer': None,\n",
       "    'activity_regularizer': None,\n",
       "    'kernel_constraint': None,\n",
       "    'bias_constraint': None},\n",
       "   'registered_name': None,\n",
       "   'build_config': {'input_shape': (None, 30)}}]}"
      ]
     },
     "execution_count": 46,
     "metadata": {},
     "output_type": "execute_result"
    }
   ],
   "source": [
    "model.get_config()"
   ]
  },
  {
   "cell_type": "code",
   "execution_count": 53,
   "id": "ab30482b",
   "metadata": {},
   "outputs": [
    {
     "data": {
      "text/plain": [
       "4261"
      ]
     },
     "execution_count": 53,
     "metadata": {},
     "output_type": "execute_result"
    }
   ],
   "source": [
    "model.count_params()"
   ]
  },
  {
   "cell_type": "markdown",
   "id": "2d0a8c0c",
   "metadata": {},
   "source": [
    "## Ans : 17"
   ]
  },
  {
   "cell_type": "code",
   "execution_count": 54,
   "id": "4c40ba73",
   "metadata": {},
   "outputs": [],
   "source": [
    "df = pd.DataFrame(history.history)"
   ]
  },
  {
   "cell_type": "code",
   "execution_count": 55,
   "id": "025a1cd6",
   "metadata": {},
   "outputs": [
    {
     "data": {
      "text/html": [
       "<div>\n",
       "<style scoped>\n",
       "    .dataframe tbody tr th:only-of-type {\n",
       "        vertical-align: middle;\n",
       "    }\n",
       "\n",
       "    .dataframe tbody tr th {\n",
       "        vertical-align: top;\n",
       "    }\n",
       "\n",
       "    .dataframe thead th {\n",
       "        text-align: right;\n",
       "    }\n",
       "</style>\n",
       "<table border=\"1\" class=\"dataframe\">\n",
       "  <thead>\n",
       "    <tr style=\"text-align: right;\">\n",
       "      <th></th>\n",
       "      <th>loss</th>\n",
       "      <th>accuracy</th>\n",
       "      <th>val_loss</th>\n",
       "      <th>val_accuracy</th>\n",
       "    </tr>\n",
       "  </thead>\n",
       "  <tbody>\n",
       "    <tr>\n",
       "      <th>0</th>\n",
       "      <td>0.632891</td>\n",
       "      <td>0.639296</td>\n",
       "      <td>0.601103</td>\n",
       "      <td>0.742188</td>\n",
       "    </tr>\n",
       "    <tr>\n",
       "      <th>1</th>\n",
       "      <td>0.538535</td>\n",
       "      <td>0.747801</td>\n",
       "      <td>0.547602</td>\n",
       "      <td>0.773438</td>\n",
       "    </tr>\n",
       "    <tr>\n",
       "      <th>2</th>\n",
       "      <td>0.508254</td>\n",
       "      <td>0.747801</td>\n",
       "      <td>0.540749</td>\n",
       "      <td>0.785156</td>\n",
       "    </tr>\n",
       "    <tr>\n",
       "      <th>3</th>\n",
       "      <td>0.493010</td>\n",
       "      <td>0.760508</td>\n",
       "      <td>0.546076</td>\n",
       "      <td>0.773438</td>\n",
       "    </tr>\n",
       "    <tr>\n",
       "      <th>4</th>\n",
       "      <td>0.484595</td>\n",
       "      <td>0.754643</td>\n",
       "      <td>0.537025</td>\n",
       "      <td>0.785156</td>\n",
       "    </tr>\n",
       "  </tbody>\n",
       "</table>\n",
       "</div>"
      ],
      "text/plain": [
       "       loss  accuracy  val_loss  val_accuracy\n",
       "0  0.632891  0.639296  0.601103      0.742188\n",
       "1  0.538535  0.747801  0.547602      0.773438\n",
       "2  0.508254  0.747801  0.540749      0.785156\n",
       "3  0.493010  0.760508  0.546076      0.773438\n",
       "4  0.484595  0.754643  0.537025      0.785156"
      ]
     },
     "execution_count": 55,
     "metadata": {},
     "output_type": "execute_result"
    }
   ],
   "source": [
    "df.head()"
   ]
  },
  {
   "cell_type": "markdown",
   "id": "b7e74944",
   "metadata": {},
   "source": [
    "## Ans : 18"
   ]
  },
  {
   "cell_type": "code",
   "execution_count": 56,
   "id": "773321b3",
   "metadata": {
    "scrolled": true
   },
   "outputs": [
    {
     "data": {
      "text/plain": [
       "<AxesSubplot:>"
      ]
     },
     "execution_count": 56,
     "metadata": {},
     "output_type": "execute_result"
    },
    {
     "data": {
      "image/png": "[encoded data removed]",
      "text/plain": [
       "<Figure size 432x288 with 1 Axes>"
      ]
     },
     "metadata": {
      "needs_background": "light"
     },
     "output_type": "display_data"
    }
   ],
   "source": [
    "df.plot()"
   ]
  },
  {
   "cell_type": "markdown",
   "id": "cf8e79f8",
   "metadata": {},
   "source": [
    "## Ans : 19"
   ]
  },
  {
   "cell_type": "code",
   "execution_count": 57,
   "id": "f9d26413",
   "metadata": {},
   "outputs": [
    {
     "name": "stdout",
     "output_type": "stream",
     "text": [
      "10/10 [==============================] - 0s 2ms/step - loss: 0.4955 - accuracy: 0.7531\n"
     ]
    },
    {
     "data": {
      "text/plain": [
       "[0.49553370475769043, 0.753125011920929]"
      ]
     },
     "execution_count": 57,
     "metadata": {},
     "output_type": "execute_result"
    }
   ],
   "source": [
    "model.evaluate(X_test , y_test)"
   ]
  },
  {
   "cell_type": "code",
   "execution_count": null,
   "id": "660db302",
   "metadata": {},
   "outputs": [],
   "source": []
  }
 ],
 "metadata": {
  "kernelspec": {
   "display_name": "Python 3 (ipykernel)",
   "language": "python",
   "name": "python3"
  },
  "language_info": {
   "codemirror_mode": {
    "name": "ipython",
    "version": 3
   },
   "file_extension": ".py",
   "mimetype": "text/x-python",
   "name": "python",
   "nbconvert_exporter": "python",
   "pygments_lexer": "ipython3",
   "version": "3.9.12"
  }
 },
 "nbformat": 4,
 "nbformat_minor": 5
}
