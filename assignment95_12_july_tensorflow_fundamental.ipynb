{
 "cells": [
  {
   "cell_type": "markdown",
   "id": "bb47ff9d",
   "metadata": {},
   "source": [
    "## Part : 1 \n",
    "\n",
    "## Ans : 1 "
   ]
  },
  {
   "cell_type": "markdown",
   "id": "50843751",
   "metadata": {},
   "source": [
    "In TensorFlow, the primary data structure used for representing data is a tensor. A tensor is a multi-dimensional array, similar to NumPy arrays, but with additional capabilities optimized for deep learning tasks. Here are the main data structures used in TensorFlow:\n",
    "\n",
    "### 1. **Tensor:**\n",
    "   - A tensor is a multi-dimensional array of numerical values with a specific data type, such as float32, int32, etc. Tensors can have different ranks, representing different dimensions.\n",
    "   - **Examples:**\n",
    "     - Scalar (Rank 0 Tensor): A single number.\n",
    "     - Vector (Rank 1 Tensor): One-dimensional array of numbers.\n",
    "     - Matrix (Rank 2 Tensor): Two-dimensional array of numbers.\n",
    "     - Higher-dimensional tensors: Tensors with more than two dimensions.\n",
    "\n",
    "### 2. **Variable:**\n",
    "   - A variable is a special type of tensor that is used to store mutable state, such as the weights and biases in a neural network. Variables are typically used for trainable parameters.\n",
    "   - **Example:**\n",
    "     ```python\n",
    "     import tensorflow as tf\n",
    "     variable = tf.Variable(initial_value=[1, 2, 3], dtype=tf.float32)\n",
    "     ```\n",
    "\n",
    "### 3. **Placeholder (Deprecated in TensorFlow 2.x):**\n",
    "   - Placeholders were used in TensorFlow 1.x for feeding data into a computational graph. However, in TensorFlow 2.x, eager execution is the default mode, and placeholders are not required.\n",
    "   - **Example (TensorFlow 1.x, not recommended in TensorFlow 2.x):**\n",
    "     ```python\n",
    "     import tensorflow as tf\n",
    "     x = tf.placeholder(tf.float32, shape=(None, 784))  # Placeholder for input data\n",
    "     ```\n",
    "\n",
    "### 4. **SparseTensor:**\n",
    "   - Sparse tensors are a special type of tensor used to efficiently represent sparse data, where most of the elements are zero.\n",
    "   - **Example:**\n",
    "     ```python\n",
    "     import tensorflow as tf\n",
    "     indices = tf.constant([[0, 1], [1, 2]])\n",
    "     values = tf.constant([4, 5], dtype=tf.int32)\n",
    "     sparse_tensor = tf.sparse.SparseTensor(indices=indices, values=values, dense_shape=[3, 4])\n",
    "     ```\n",
    "\n",
    "### 5. **RaggedTensor:**\n",
    "   - A ragged tensor is used to represent nested variable-length lists of tensors. Ragged tensors are useful when dealing with sequences of varying lengths.\n",
    "   - **Example:**\n",
    "     ```python\n",
    "     import tensorflow as tf\n",
    "     ragged_tensor = tf.ragged.constant([[1, 2], [3, 4, 5], [6]])\n",
    "     ```\n",
    "\n",
    "### 6. **StringTensor:**\n",
    "   - A string tensor is used to store and manipulate strings. It is often used for handling text data.\n",
    "   - **Example:**\n",
    "     ```python\n",
    "     import tensorflow as tf\n",
    "     string_tensor = tf.constant([\"apple\", \"banana\", \"cherry\"])\n",
    "     ```\n",
    "\n",
    "These are some of the main data structures used in TensorFlow. Tensors are the fundamental building blocks for creating computational graphs and performing various operations in TensorFlow. Depending on the type of data and the task at hand, you can choose the appropriate data structure to represent and process your data efficiently."
   ]
  },
  {
   "cell_type": "markdown",
   "id": "13bac5e2",
   "metadata": {},
   "source": [
    "## Ans : 2"
   ]
  },
  {
   "cell_type": "markdown",
   "id": "b0e9fab6",
   "metadata": {},
   "source": [
    "In TensorFlow, constants and variables are two different types of tensors used to hold data within a computational graph. Here's how they differ:\n",
    "\n",
    "### TensorFlow Constant:\n",
    "\n",
    "1. **Immutability:** Constants are immutable, meaning their value cannot be changed once they are defined. Once set, a constant's value remains the same throughout the execution of the graph.\n",
    "\n",
    "2. **Usage:** Constants are used for values that do not change, such as hyperparameters, configuration values, or fixed data.\n",
    "\n",
    "3. **Defined Value:** Constants have a fixed, known value at the time of graph construction.\n",
    "\n",
    "#### Example of TensorFlow Constant:\n",
    "```python\n",
    "import tensorflow as tf\n",
    "\n",
    "# Creating a TensorFlow constant\n",
    "constant_value = tf.constant([1, 2, 3, 4])\n",
    "\n",
    "# Attempting to change the value of a constant will result in an error\n",
    "# constant_value.assign([5, 6, 7, 8])  # This line would raise an error\n",
    "```\n",
    "\n",
    "### TensorFlow Variable:\n",
    "\n",
    "1. **Mutability:** Variables are mutable, meaning their value can be changed during the execution of the graph. Variables are typically used to store model parameters like weights and biases that need to be updated and optimized during training.\n",
    "\n",
    "2. **Usage:** Variables are used for values that need to be learned and adjusted by the optimization algorithm (e.g., weights in a neural network).\n",
    "\n",
    "3. **Initialization:** Variables need to be explicitly initialized before they can be used. You can set an initial value for a variable, and during training, their values are updated by optimizers like gradient descent.\n",
    "\n",
    "#### Example of TensorFlow Variable:\n",
    "```python\n",
    "import tensorflow as tf\n",
    "\n",
    "# Creating a TensorFlow variable with an initial value\n",
    "initial_value = tf.constant([1, 2, 3, 4], dtype=tf.float32)\n",
    "variable = tf.Variable(initial_value)\n",
    "\n",
    "# Changing the value of a variable using assign\n",
    "new_value = tf.constant([5, 6, 7, 8], dtype=tf.float32)\n",
    "variable.assign(new_value)\n",
    "\n",
    "# During training, variables are updated by optimizers based on the loss and gradients\n",
    "# For example, in a neural network, variables (weights) are updated during backpropagation\n",
    "```\n",
    "\n",
    "In summary, constants are used for fixed, unchangeable values in the graph, while variables are mutable and can be modified during the execution of the graph. Variables are typically employed to store and update the model's parameters, allowing the model to learn from the data during training."
   ]
  },
  {
   "cell_type": "markdown",
   "id": "e7e37724",
   "metadata": {},
   "source": [
    "## Ans : 3 "
   ]
  },
  {
   "cell_type": "markdown",
   "id": "4be659e5",
   "metadata": {},
   "source": [
    "In TensorFlow, matrix addition, multiplication, and element-wise operations can be performed using various functions and operators. Here's a description of each process:\n",
    "\n",
    "### Matrix Addition:\n",
    "\n",
    "Matrix addition is the process of adding two matrices of the same dimensions element-wise. In TensorFlow, you can perform matrix addition using the `tf.add()` function or the `+` operator. Both methods add corresponding elements of the matrices.\n",
    "\n",
    "#### Example of Matrix Addition:\n",
    "```python\n",
    "import tensorflow as tf\n",
    "\n",
    "# Define two matrices\n",
    "matrix1 = tf.constant([[1, 2], [3, 4]])\n",
    "matrix2 = tf.constant([[5, 6], [7, 8]])\n",
    "\n",
    "# Perform matrix addition\n",
    "result = tf.add(matrix1, matrix2)\n",
    "\n",
    "# Alternatively, you can use the + operator\n",
    "result_alternative = matrix1 + matrix2\n",
    "\n",
    "print(result.numpy())  # Output: [[6  8] [10 12]]\n",
    "print(result_alternative.numpy())  # Output: [[6  8] [10 12]]\n",
    "```\n",
    "\n",
    "### Matrix Multiplication:\n",
    "\n",
    "Matrix multiplication is the process of multiplying two matrices following a specific rule. In TensorFlow, you can perform matrix multiplication using the `tf.matmul()` function or the `@` operator.\n",
    "\n",
    "#### Example of Matrix Multiplication:\n",
    "```python\n",
    "import tensorflow as tf\n",
    "\n",
    "# Define two matrices\n",
    "matrix1 = tf.constant([[1, 2], [3, 4]])\n",
    "matrix2 = tf.constant([[5, 6], [7, 8]])\n",
    "\n",
    "# Perform matrix multiplication\n",
    "result = tf.matmul(matrix1, matrix2)\n",
    "\n",
    "# Alternatively, you can use the @ operator\n",
    "result_alternative = matrix1 @ matrix2\n",
    "\n",
    "print(result.numpy())  # Output: [[19 22] [43 50]]\n",
    "print(result_alternative.numpy())  # Output: [[19 22] [43 50]]\n",
    "```\n",
    "\n",
    "### Element-wise Operations:\n",
    "\n",
    "Element-wise operations are operations where corresponding elements of two matrices (or tensors) are operated independently. Common element-wise operations include addition, subtraction, multiplication, division, and more.\n",
    "\n",
    "In TensorFlow, you can perform element-wise operations using standard arithmetic operators (`+`, `-`, `*`, `/`) or specific functions like `tf.add()`, `tf.subtract()`, `tf.multiply()`, and `tf.divide()`.\n",
    "\n",
    "#### Example of Element-wise Operations:\n",
    "```python\n",
    "import tensorflow as tf\n",
    "\n",
    "# Define two matrices\n",
    "matrix1 = tf.constant([[1, 2], [3, 4]])\n",
    "matrix2 = tf.constant([[5, 6], [7, 8]])\n",
    "\n",
    "# Perform element-wise operations\n",
    "addition_result = tf.add(matrix1, matrix2)  # Element-wise addition\n",
    "subtraction_result = tf.subtract(matrix1, matrix2)  # Element-wise subtraction\n",
    "multiplication_result = tf.multiply(matrix1, matrix2)  # Element-wise multiplication\n",
    "division_result = tf.divide(matrix1, matrix2)  # Element-wise division\n",
    "\n",
    "print(addition_result.numpy())  # Output: [[6  8] [10 12]]\n",
    "print(subtraction_result.numpy())  # Output: [[-4 -4] [-4 -4]]\n",
    "print(multiplication_result.numpy())  # Output: [[5 12] [21 32]]\n",
    "print(division_result.numpy())  # Output: [[0.2        0.33333333] [0.42857143 0.5       ]]\n",
    "```\n",
    "\n",
    "In all these operations, TensorFlow performs the operations element-wise, considering the corresponding elements of the input matrices or tensors. The choice of operation depends on the specific use case and the mathematical requirements of the problem at hand."
   ]
  },
  {
   "cell_type": "markdown",
   "id": "60ea3a37",
   "metadata": {},
   "source": [
    "## Part : 2 \n",
    "\n",
    "## Task : 1 \n",
    "\n",
    "### Ans :  1"
   ]
  },
  {
   "cell_type": "code",
   "execution_count": 50,
   "id": "54b39236",
   "metadata": {},
   "outputs": [
    {
     "name": "stdout",
     "output_type": "stream",
     "text": [
      "[[-0.54176927 -0.3807034  -1.8638769 ]\n",
      " [-0.89440566 -0.65095127 -0.25995365]\n",
      " [-0.14153121 -0.38633245 -1.0061451 ]]\n"
     ]
    }
   ],
   "source": [
    "import tensorflow as tf \n",
    "\n",
    "A = tf.random.normal(shape = (3,3), mean = 0 , stddev = 1 , dtype = tf.float32)\n",
    "print(A.numpy())"
   ]
  },
  {
   "cell_type": "markdown",
   "id": "26b2b971",
   "metadata": {},
   "source": [
    "### Ans : 2"
   ]
  },
  {
   "cell_type": "code",
   "execution_count": 52,
   "id": "d526571e",
   "metadata": {},
   "outputs": [
    {
     "name": "stdout",
     "output_type": "stream",
     "text": [
      "[[ 1.6622524  -1.2435993  -1.3519237  -1.0861355 ]\n",
      " [ 0.911419   -0.22423138 -1.1155499   1.4422889 ]\n",
      " [ 0.59034944 -1.1675031   0.4334078   0.23111399]\n",
      " [-1.4110754  -0.41610408  0.22081456  0.29646415]]\n"
     ]
    }
   ],
   "source": [
    "B = tf.random.truncated_normal(shape = (4,4) , mean = 0 , stddev = 1,dtype = tf.float32)\n",
    "print(B.numpy())"
   ]
  },
  {
   "cell_type": "markdown",
   "id": "bf0cf8fa",
   "metadata": {},
   "source": [
    "### Ans : 3"
   ]
  },
  {
   "cell_type": "code",
   "execution_count": 53,
   "id": "ad207e6a",
   "metadata": {},
   "outputs": [
    {
     "name": "stdout",
     "output_type": "stream",
     "text": [
      "[[2.7982044 3.8651507]\n",
      " [4.139677  3.2514818]]\n"
     ]
    }
   ],
   "source": [
    "C = tf.random.normal(shape = (2,2), mean = 3 , stddev = 0.5)\n",
    "print(C.numpy())"
   ]
  },
  {
   "cell_type": "markdown",
   "id": "86c0bf26",
   "metadata": {},
   "source": [
    "### Ans : 4"
   ]
  },
  {
   "cell_type": "code",
   "execution_count": 64,
   "id": "52623509",
   "metadata": {},
   "outputs": [
    {
     "name": "stdout",
     "output_type": "stream",
     "text": [
      "Matrix A:\n",
      "[[1 2]\n",
      " [3 4]]\n",
      "Matrix B:\n",
      "[[5 6]\n",
      " [7 8]]\n",
      "Matrix D (Result of A + B):\n",
      "[[ 6  8]\n",
      " [10 12]]\n"
     ]
    }
   ],
   "source": [
    "import tensorflow as tf\n",
    "\n",
    "# Define tensors A and B\n",
    "A = tf.constant([[1, 2], [3, 4]])\n",
    "B = tf.constant([[5, 6], [7, 8]])\n",
    "\n",
    "# Perform tensor addition\n",
    "D = tf.add(A, B)\n",
    "\n",
    "# Display the result tensor D\n",
    "print(\"Matrix A:\")\n",
    "print(A.numpy())\n",
    "print(\"Matrix B:\")\n",
    "print(B.numpy())\n",
    "print(\"Matrix D (Result of A + B):\")\n",
    "print(D.numpy())\n"
   ]
  },
  {
   "cell_type": "markdown",
   "id": "1369c33d",
   "metadata": {},
   "source": [
    "### Ans : 5"
   ]
  },
  {
   "cell_type": "code",
   "execution_count": 68,
   "id": "554cf037",
   "metadata": {},
   "outputs": [
    {
     "name": "stdout",
     "output_type": "stream",
     "text": [
      "[[12 24]\n",
      " [40 36]]\n"
     ]
    }
   ],
   "source": [
    "E = tf.multiply(tf.cast(C,dtype=tf.int32),tf.cast(D,dtype=tf.int32))\n",
    "print(E.numpy())"
   ]
  },
  {
   "cell_type": "markdown",
   "id": "57be41f7",
   "metadata": {},
   "source": [
    "## Task : 2\n",
    "\n",
    "### Ans : 1"
   ]
  },
  {
   "cell_type": "code",
   "execution_count": 81,
   "id": "c9995856",
   "metadata": {},
   "outputs": [
    {
     "name": "stdout",
     "output_type": "stream",
     "text": [
      "[[0.35920727 0.3981316  0.1860156 ]\n",
      " [0.41570544 0.31219304 0.71973825]\n",
      " [0.5197617  0.854494   0.47276485]]\n"
     ]
    }
   ],
   "source": [
    "F = tf.random.uniform(shape = (3,3))\n",
    "print(F.numpy())"
   ]
  },
  {
   "cell_type": "markdown",
   "id": "ab7b292b",
   "metadata": {},
   "source": [
    "### Ans : 2"
   ]
  },
  {
   "cell_type": "code",
   "execution_count": 82,
   "id": "40ea39f8",
   "metadata": {},
   "outputs": [
    {
     "name": "stdout",
     "output_type": "stream",
     "text": [
      "[[0.35920727 0.41570544 0.5197617 ]\n",
      " [0.3981316  0.31219304 0.854494  ]\n",
      " [0.1860156  0.71973825 0.47276485]]\n"
     ]
    }
   ],
   "source": [
    "G = tf.transpose(F,conjugate=True)\n",
    "print(G.numpy())"
   ]
  },
  {
   "cell_type": "markdown",
   "id": "45bf1d88",
   "metadata": {},
   "source": [
    "### Ans : 3"
   ]
  },
  {
   "cell_type": "code",
   "execution_count": 84,
   "id": "65900e74",
   "metadata": {},
   "outputs": [
    {
     "name": "stdout",
     "output_type": "stream",
     "text": [
      "[[1.4321936 1.48904   1.2044411]\n",
      " [1.5154394 1.3664185 2.0538955]\n",
      " [1.6816268 2.350185  1.604424 ]]\n"
     ]
    }
   ],
   "source": [
    "H = tf.exp(F)\n",
    "print(H.numpy())"
   ]
  },
  {
   "cell_type": "markdown",
   "id": "97676e7d",
   "metadata": {},
   "source": [
    "### Ans : 4"
   ]
  },
  {
   "cell_type": "code",
   "execution_count": 86,
   "id": "4cb8ebd6",
   "metadata": {},
   "outputs": [
    {
     "name": "stdout",
     "output_type": "stream",
     "text": [
      "[[0.35920727 0.3981316  0.1860156  0.35920727 0.41570544 0.5197617 ]\n",
      " [0.41570544 0.31219304 0.71973825 0.3981316  0.31219304 0.854494  ]\n",
      " [0.5197617  0.854494   0.47276485 0.1860156  0.71973825 0.47276485]]\n"
     ]
    }
   ],
   "source": [
    "I = tf.concat([F,G],axis = 1)\n",
    "print(I.numpy())"
   ]
  },
  {
   "cell_type": "markdown",
   "id": "d17bf538",
   "metadata": {},
   "source": [
    "### Ans : 5"
   ]
  },
  {
   "cell_type": "code",
   "execution_count": 88,
   "id": "e3817327",
   "metadata": {},
   "outputs": [
    {
     "name": "stdout",
     "output_type": "stream",
     "text": [
      "[[0.35920727 0.3981316  0.1860156 ]\n",
      " [0.41570544 0.31219304 0.71973825]\n",
      " [0.5197617  0.854494   0.47276485]\n",
      " [1.4321936  1.48904    1.2044411 ]\n",
      " [1.5154394  1.3664185  2.0538955 ]\n",
      " [1.6816268  2.350185   1.604424  ]]\n"
     ]
    }
   ],
   "source": [
    "J = tf.concat([F,H],axis = 0)\n",
    "print(J.numpy())"
   ]
  }
 ],
 "metadata": {
  "kernelspec": {
   "display_name": "Python 3 (ipykernel)",
   "language": "python",
   "name": "python3"
  },
  "language_info": {
   "codemirror_mode": {
    "name": "ipython",
    "version": 3
   },
   "file_extension": ".py",
   "mimetype": "text/x-python",
   "name": "python",
   "nbconvert_exporter": "python",
   "pygments_lexer": "ipython3",
   "version": "3.9.12"
  }
 },
 "nbformat": 4,
 "nbformat_minor": 5
}
