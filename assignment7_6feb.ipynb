{
 "cells": [
  {
   "cell_type": "markdown",
   "metadata": {},
   "source": [
    "Q1. Create a function which will take a list as an argument and return the product of all the numbers \n",
    "after creating a flat list.\n",
    "\n",
    "Use the below-given list as an argument for your function.\n",
    "\n",
    "\n",
    "list1 = [1,2,3,4, [44,55,66, True], False, (34,56,78,89,34), {1,2,3,3,2,1}, {1:34, \"key2\": [55, 67, 78, 89], 4: (45, \n",
    "22, 61, 34)}, [56, 'data science'], 'Machine Learning']"
   ]
  },
  {
   "cell_type": "code",
   "execution_count": 3,
   "metadata": {},
   "outputs": [],
   "source": [
    "\n",
    "def flat_num(list):\n",
    "    num_list=[]\n",
    "    for i in list:\n",
    "        if type(i) == int or type(i) == float:\n",
    "            num_list.append(i)\n",
    "        elif type(i) == tuple:\n",
    "            for k in i:\n",
    "                if type(k) == int or type(k) == float:\n",
    "                    num_list.append(k)\n",
    "        elif type(i) == list:\n",
    "            for j in i:\n",
    "                if type(j) == int or type(j) == float:\n",
    "                    num_list.append(j)\n",
    "        elif type(i) == set:\n",
    "            for l in i:\n",
    "                if type(l) == int or type(l) == float:\n",
    "                    num_list.append(l)\n",
    "        elif type(i) == dict:\n",
    "            for m in i.keys():\n",
    "                if type(m) == int or type(m) == float:\n",
    "                    num_list.append(m)\n",
    "            for n in i.values():\n",
    "                if type(n) == int or type(n) == float:\n",
    "                    num_list.append(n)\n",
    "        else:\n",
    "            print('this num is not int or float')\n",
    "    return num_list\n",
    "\n"
   ]
  },
  {
   "cell_type": "code",
   "execution_count": 4,
   "metadata": {},
   "outputs": [
    {
     "name": "stdout",
     "output_type": "stream",
     "text": [
      "this num is not int or float\n",
      "this num is not int or float\n",
      "this num is not int or float\n",
      "this num is not int or float\n"
     ]
    },
    {
     "data": {
      "text/plain": [
       "[1, 2, 3, 4, 34, 56, 78, 89, 34, 1, 2, 3, 1, 4, 34]"
      ]
     },
     "execution_count": 4,
     "metadata": {},
     "output_type": "execute_result"
    }
   ],
   "source": [
    "list1 = [1,2,3,4, [44,55,66, True], False, (34,56,78,89,34), {1,2,3,3,2,1}, {1:34, \"key2\": [55, 67, 78, 89], 4: (45, \n",
    "22, 61, 34)}, [56, 'data science'], 'Machine Learning']\n",
    "flat_num(list1)"
   ]
  },
  {
   "cell_type": "markdown",
   "metadata": {},
   "source": [
    "Q2. Write a python program for encrypting a message sent to you by your friend. The logic of encryption \n",
    "should be such that, for a the output should be z. For b, the output should be y. For c, the output should \n",
    "be x respectively. Also, the whitespace should be replaced with a dollar sign. Keep the punctuation \n",
    "marks unchanged.\n",
    "\n",
    "\n",
    "Input Sentence: I want to become a Data Scientist."
   ]
  },
  {
   "cell_type": "code",
   "execution_count": 52,
   "metadata": {},
   "outputs": [
    {
     "name": "stdout",
     "output_type": "stream",
     "text": [
      "i wznt to yexome z dztz sxientist.\n"
     ]
    }
   ],
   "source": [
    "ls=input(\"input list here .\")\n",
    "spl=ls.split(\" \")\n",
    "final=[]\n",
    "for i in spl:\n",
    "    i=i.lower()\n",
    "    if type(i) == str:\n",
    "        new=[]\n",
    "        for j in i:\n",
    "            if j == 'a':\n",
    "                j='z'\n",
    "                new.append(j)\n",
    "            elif j == 'b':\n",
    "                j='y'\n",
    "                new.append(j)\n",
    "            elif j == 'c':\n",
    "                j = 'x'\n",
    "                new.append(j)\n",
    "            else:\n",
    "                new.append(j)\n",
    "        final.append(\"\".join(new))\n",
    "\n",
    "\n",
    "a=\",\".join(final)\n",
    "a=a.replace(\",\",\" \")\n",
    "print(a)\n",
    "    \n",
    "    \n",
    "\n",
    "\n",
    "        \n",
    "\n"
   ]
  },
  {
   "cell_type": "code",
   "execution_count": null,
   "metadata": {},
   "outputs": [],
   "source": []
  }
 ],
 "metadata": {
  "kernelspec": {
   "display_name": "Python 3.10.7 64-bit (microsoft store)",
   "language": "python",
   "name": "python3"
  },
  "language_info": {
   "codemirror_mode": {
    "name": "ipython",
    "version": 3
   },
   "file_extension": ".py",
   "mimetype": "text/x-python",
   "name": "python",
   "nbconvert_exporter": "python",
   "pygments_lexer": "ipython3",
   "version": "3.10.7"
  },
  "orig_nbformat": 4,
  "vscode": {
   "interpreter": {
    "hash": "486e0d5a79acdbfffd563ee7a67a93a5017bd2a4f66495483a69f0245c8a4a6c"
   }
  }
 },
 "nbformat": 4,
 "nbformat_minor": 2
}
