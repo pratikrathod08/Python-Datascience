{
 "cells": [
  {
   "cell_type": "markdown",
   "metadata": {},
   "source": [
    "Q1. What is a database? Differentiate between SQL and NoSQL databases."
   ]
  },
  {
   "cell_type": "markdown",
   "metadata": {},
   "source": [
    "\n",
    "**# ANS :**\n",
    "A database is a collection of organized and structured data that can be easily accessed, managed, and updated. Databases are used to store and manage large amounts of data that can be accessed by various applications, systems, and users.\n",
    "\n",
    "SQL (Structured Query Language) and NoSQL (Not only SQL) are two different types of databases. The main difference between them is the way they store and retrieve data.\n",
    "\n",
    "SQL databases use a relational model that organizes data into tables with predefined relationships between them. SQL databases are best suited for structured data with well-defined relationships, such as financial data, inventory, and customer records. SQL databases are highly scalable and can handle large amounts of data.\n",
    "\n",
    "On the other hand, NoSQL databases use a non-relational or distributed model that does not require predefined relationships between data. NoSQL databases are designed to handle unstructured or semi-structured data, such as social media data, sensor data, and user-generated content. NoSQL databases are highly scalable and provide fast and flexible data access.\n",
    "\n",
    "Some of the popular SQL databases include MySQL, Oracle, Microsoft SQL Server, and PostgreSQL, while some of the popular NoSQL databases include MongoDB, Cassandra, Redis, and Couchbase. The choice between SQL and NoSQL databases depends on the specific needs of the application, the nature of the data, and the scalability requirements."
   ]
  },
  {
   "cell_type": "markdown",
   "metadata": {},
   "source": [
    "Q2. What is DDL? Explain why CREATE, DROP, ALTER, and TRUNCATE are used with an example."
   ]
  },
  {
   "cell_type": "markdown",
   "metadata": {},
   "source": [
    "DDL stands for Data Definition Language, which is a set of SQL commands used to define the structure and organization of a database. DDL commands are used to create, modify, and delete database objects such as tables, indexes, views, and schemas.\n",
    "\n",
    "Here are some of the commonly used DDL commands and their purposes:\n",
    "\n",
    "CREATE: The CREATE command is used to create new database objects such as tables, views, indexes, and procedures. For example, to create a new table called \"Customers\" with columns for name, address, and email, the following SQL command can be used:\n",
    "\n",
    "CREATE TABLE Customers (\n",
    "    name VARCHAR(50),\n",
    "    address VARCHAR(100),\n",
    "    email VARCHAR(50)\n",
    ");\n",
    "\n",
    "\n",
    "DROP: The DROP command is used to delete existing database objects such as tables, views, and indexes. For example, to delete the \"Customers\" table created above, the following SQL command can be used:\n",
    "\n",
    "DROP TABLE Customers;\n",
    "\n",
    "\n",
    "ALTER: The ALTER command is used to modify the structure of an existing database object. For example, to add a new column called \"phone\" to the \"Customers\" table created above, the following SQL command can be used:\n",
    "\n",
    "ALTER TABLE Customers\n",
    "ADD phone VARCHAR(20);\n",
    "\n",
    "TRUNCATE: The TRUNCATE command is used to delete all the data from a table while keeping its structure intact. For example, to delete all the data from the \"Customers\" table created above, the following SQL command can be used:\n",
    "\n",
    "sql\n",
    "Copy code\n",
    "TRUNCATE TABLE Customers;\n",
    "In summary, DDL commands are used to create, modify, and delete database objects such as tables, views, indexes, and schemas. The choice of DDL command to use depends on the specific requirements of the application and the nature of the data being stored in the database.\n",
    "\n",
    "TRUNCATE TABLE Customers;\n"
   ]
  },
  {
   "cell_type": "markdown",
   "metadata": {},
   "source": [
    "Q3. What is DML? Explain INSERT, UPDATE, and DELETE with an example."
   ]
  },
  {
   "cell_type": "markdown",
   "metadata": {},
   "source": [
    "DML stands for Data Manipulation Language, which is a set of SQL commands used to manipulate the data stored in a database. DML commands are used to insert, update, and delete data from database tables.\n",
    "\n",
    "Here are some of the commonly used DML commands and their purposes:\n",
    "\n",
    "INSERT: The INSERT command is used to add new rows of data into a database table. For example, to insert a new record for a customer into the \"Customers\" table with a name, address, and email, the following SQL command can be used:\n",
    "\n",
    "INSERT INTO Customers (name, address, email)\n",
    "VALUES ('John Smith', '123 Main St', 'john.smith@example.com');\n",
    "\n",
    "\n",
    "UPDATE: The UPDATE command is used to modify the data in existing rows of a database table. For example, to update the email address for the customer record created above, the following SQL command can be used:\n",
    "\n",
    "UPDATE Customers\n",
    "SET email = 'jsmith@example.com'\n",
    "WHERE name = 'John Smith';\n",
    "\n",
    "DELETE: The DELETE command is used to remove one or more rows of data from a database table. For example, to delete the customer record created above, the following SQL command can be used:\n",
    "\n",
    "DELETE FROM Customers\n",
    "WHERE name = 'John Smith';\n"
   ]
  },
  {
   "cell_type": "markdown",
   "metadata": {},
   "source": [
    "Q4. What is DQL? Explain SELECT with an example."
   ]
  },
  {
   "cell_type": "markdown",
   "metadata": {},
   "source": [
    "DQL stands for Data Query Language, which is a set of SQL commands used to query and retrieve data from a database. DQL commands are used to select, filter, and sort data from database tables.\n",
    "\n",
    "The most commonly used DQL command is the SELECT command, which is used to retrieve data from one or more tables in a database. Here's an example:\n",
    "\n",
    "Suppose we have a table called \"Employees\" with columns for employee ID, name, department, and salary. We can use the following SELECT statement to retrieve all the data from the \"Employees\" table:\n",
    "\n",
    "SELECT * FROM Employees;\n"
   ]
  },
  {
   "cell_type": "markdown",
   "metadata": {},
   "source": [
    "Q5. Explain Primary Key and Foreign Key."
   ]
  },
  {
   "cell_type": "markdown",
   "metadata": {},
   "source": [
    "In a relational database, a primary key is a column or combination of columns that uniquely identifies each row in a table. It is used to ensure the uniqueness and integrity of the data in the table. A primary key is also used to create relationships between tables, by serving as a reference point for foreign keys in other tables.\n",
    "\n",
    "A foreign key is a column or combination of columns in one table that refers to the primary key of another table. It is used to establish a relationship between two tables, where the foreign key column in one table refers to the primary key column in another table. This relationship is called a foreign key constraint, and it ensures that the data in the related tables is consistent and valid."
   ]
  },
  {
   "cell_type": "markdown",
   "metadata": {},
   "source": [
    "Q6. Write a python code to connect MySQL to python. Explain the cursor() and execute() method.\n"
   ]
  },
  {
   "cell_type": "markdown",
   "metadata": {},
   "source": [
    "import mysql.connector\n",
    "\n",
    "Connect to the database\n",
    "\n",
    "\n",
    "mydb = mysql.connector.connect(\n",
    "  host=\"localhost\",\n",
    "  user=\"yourusername\",\n",
    "  password=\"yourpassword\",\n",
    "  database=\"yourdatabase\"\n",
    ")\n",
    "\n",
    "Create a cursor object\n",
    "\n",
    "\n",
    "mycursor = mydb.cursor()\n",
    "\n",
    "Execute a SQL query\n",
    "\n",
    "\n",
    "mycursor.execute(\"SELECT * FROM customers\")\n",
    "\n",
    "Fetch all the results\n",
    "\n",
    "\n",
    "results = mycursor.fetchall()\n",
    "\n",
    "Print the results\n",
    "for row in results:\n",
    "  print(row)\n",
    "\n",
    "\n",
    "Next, we create a cursor object using the cursor() method. A cursor is a control structure that enables us to traverse and manipulate the result set returned by a database query.\n",
    "\n",
    "We then use the execute() method of the cursor object to execute a SQL query. The SQL query is passed as a string parameter to the execute() method."
   ]
  },
  {
   "cell_type": "markdown",
   "metadata": {},
   "source": [
    "Q7. Give the order of execution of SQL clauses in an SQL query.\n"
   ]
  },
  {
   "cell_type": "markdown",
   "metadata": {},
   "source": [
    "FROM - This clause specifies the table or tables from which to retrieve the data.\n",
    "\n",
    "JOIN - This clause is used to combine data from multiple tables based on a common column.\n",
    "\n",
    "WHERE - This clause is used to filter the data based on specified conditions.\n",
    "\n",
    "GROUP BY - This clause is used to group the data based on one or more columns.\n",
    "\n",
    "HAVING - This clause is used to filter the groups based on specified conditions.\n",
    "\n",
    "SELECT - This clause is used to select the columns to retrieve from the data.\n",
    "\n",
    "DISTINCT - This clause is used to retrieve unique values from the data.\n",
    "\n",
    "ORDER BY - This clause is used to sort the data based on one or more columns.\n",
    "\n",
    "LIMIT - This clause is used to limit the number of rows returned by the query."
   ]
  },
  {
   "cell_type": "markdown",
   "metadata": {},
   "source": []
  }
 ],
 "metadata": {
  "kernelspec": {
   "display_name": "Python 3.10.7 64-bit (microsoft store)",
   "language": "python",
   "name": "python3"
  },
  "language_info": {
   "name": "python",
   "version": "3.10.7"
  },
  "orig_nbformat": 4,
  "vscode": {
   "interpreter": {
    "hash": "486e0d5a79acdbfffd563ee7a67a93a5017bd2a4f66495483a69f0245c8a4a6c"
   }
  }
 },
 "nbformat": 4,
 "nbformat_minor": 2
}
