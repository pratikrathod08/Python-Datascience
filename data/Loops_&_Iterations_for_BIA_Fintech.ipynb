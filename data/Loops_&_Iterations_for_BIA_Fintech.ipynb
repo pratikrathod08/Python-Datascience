{
 "cells": [
  {
   "cell_type": "markdown",
   "metadata": {
    "id": "uCEngv6FHnnb"
   },
   "source": [
    "## Loops are important in Python or in any other programming language as they help you to execute a block of code repeatedly. You will often come face to face with situations where you would need to use a piece of code over and over but you don't want to write the same line of code multiple times."
   ]
  },
  {
   "cell_type": "markdown",
   "metadata": {
    "id": "6KySHsyNHnne"
   },
   "source": [
    "### In Python we have mainly two different types of loops :\n",
    "\n",
    "\n",
    "* <u>for loop</u> : In the context of most data science work, Python for loops are used to loop through an iterable object (like a list, tuple, set, etc.) and perform the same action for each entry. For example, a for loop would allow us to iterate through a list, performing the same action on each item in the list.\n",
    "\n",
    "\n",
    "* <u>while loop</u> : The while loop is somewhat similar to an if statement, it executes the code inside, if the condition is True. However, as opposed to the if statement, the while loop continues to execute the code repeatedly as long as the condition is True."
   ]
  },
  {
   "cell_type": "markdown",
   "metadata": {
    "id": "LIQYbLZD4tmG"
   },
   "source": [
    "# for loops\n",
    "\n",
    "A <code>for</code> loop acts as an iterator in Python; it goes through items that are in a *sequence* or any other iterable item. Iterable is an object, which one can iterate over. Objects that we've learned about that we can iterate over include strings, lists, tuples, and even built-in iterables for dictionaries, such as keys or values.\n",
    "\n",
    "Here's the general format for a <code>for</code> loop in Python:\n",
    "\n",
    "    for item in object:\n",
    "        statements to do stuff"
   ]
  },
  {
   "cell_type": "markdown",
   "metadata": {
    "id": "spm4L5pg47Kl"
   },
   "source": [
    "The variable name used for the item is completely up to the coder, so use your best judgment for choosing a name that makes sense and you will be able to understand when revisiting your code. This item name can then be referenced inside your loop, for example if you wanted to use <code>if</code> statements to perform checks.\n",
    "\n",
    "Let's go ahead and work through several example of <code>for</code> loops using a variety of data object types. We'll start simple and build more complexity later on."
   ]
  },
  {
   "cell_type": "markdown",
   "metadata": {
    "id": "fPcjT_0JEFT8"
   },
   "source": [
    "### <u> Example 1</u>\n",
    "\n",
    "\n",
    "#### Let us print each element of our list of strings using a for loop statement\n",
    "\n",
    "\n"
   ]
  },
  {
   "cell_type": "code",
   "execution_count": 1,
   "metadata": {
    "id": "ZN-GxWfKHnng"
   },
   "outputs": [],
   "source": [
    "# Consider a list of strings \n",
    "\n",
    "got_houses = ['Stark', 'Arryn', 'Baratheon', 'Tully', 'Greyjoy', 'Lannister', 'Tyrell', 'Martell', 'Targaryen']"
   ]
  },
  {
   "cell_type": "code",
   "execution_count": 2,
   "metadata": {
    "id": "vtQdcDy57HK4"
   },
   "outputs": [
    {
     "name": "stdout",
     "output_type": "stream",
     "text": [
      "House Targaryen\n",
      "House Martell\n",
      "House Tyrell\n",
      "House Lannister\n",
      "House Greyjoy\n",
      "House Tully\n",
      "House Baratheon\n",
      "House Arryn\n",
      "House Stark\n"
     ]
    }
   ],
   "source": [
    "# A simple for loop to print the houses of GOT universe\n",
    "for house in got_houses[::-1]:\n",
    "  print(f\"House {house}\")"
   ]
  },
  {
   "cell_type": "markdown",
   "metadata": {
    "id": "vcnGoKMU7w3F"
   },
   "source": [
    "### Another interesting way to loop through the elements of a list is to use the <code>enumerate()</code> function. Using enumerate requires us two iterators index and element"
   ]
  },
  {
   "cell_type": "code",
   "execution_count": 3,
   "metadata": {
    "id": "A4kt0w-uKnPZ"
   },
   "outputs": [
    {
     "data": {
      "text/plain": [
       "['Stark',\n",
       " 'Arryn',\n",
       " 'Baratheon',\n",
       " 'Tully',\n",
       " 'Greyjoy',\n",
       " 'Lannister',\n",
       " 'Tyrell',\n",
       " 'Martell',\n",
       " 'Targaryen']"
      ]
     },
     "execution_count": 3,
     "metadata": {},
     "output_type": "execute_result"
    }
   ],
   "source": [
    "got_houses"
   ]
  },
  {
   "cell_type": "code",
   "execution_count": 4,
   "metadata": {
    "id": "0QCxgyEbHnnu"
   },
   "outputs": [
    {
     "name": "stdout",
     "output_type": "stream",
     "text": [
      "The house no of house Stark is 1\n",
      "The house no of house Arryn is 2\n",
      "The house no of house Baratheon is 3\n",
      "The house no of house Tully is 4\n",
      "The house no of house Greyjoy is 5\n",
      "The house no of house Lannister is 6\n",
      "The house no of house Tyrell is 7\n",
      "The house no of house Martell is 8\n",
      "The house no of house Targaryen is 9\n"
     ]
    }
   ],
   "source": [
    "# Using enumerate function to loop through the elements of a list\n",
    "for number,house in enumerate(got_houses):\n",
    "  print(f\"The house no of house {house} is {number + 1}\")"
   ]
  },
  {
   "cell_type": "code",
   "execution_count": 5,
   "metadata": {
    "id": "Vl6Ranh3Lbg0"
   },
   "outputs": [],
   "source": [
    "x = 1,2"
   ]
  },
  {
   "cell_type": "code",
   "execution_count": 6,
   "metadata": {
    "id": "0nJbNNVhLdTC"
   },
   "outputs": [
    {
     "data": {
      "text/plain": [
       "(1, 2)"
      ]
     },
     "execution_count": 6,
     "metadata": {},
     "output_type": "execute_result"
    }
   ],
   "source": [
    "x"
   ]
  },
  {
   "cell_type": "code",
   "execution_count": 7,
   "metadata": {
    "id": "qgwQD7OSLEF7"
   },
   "outputs": [
    {
     "data": {
      "text/plain": [
       "[(0, 'Stark'),\n",
       " (1, 'Arryn'),\n",
       " (2, 'Baratheon'),\n",
       " (3, 'Tully'),\n",
       " (4, 'Greyjoy'),\n",
       " (5, 'Lannister'),\n",
       " (6, 'Tyrell'),\n",
       " (7, 'Martell'),\n",
       " (8, 'Targaryen')]"
      ]
     },
     "execution_count": 7,
     "metadata": {},
     "output_type": "execute_result"
    }
   ],
   "source": [
    "list(enumerate(got_houses))"
   ]
  },
  {
   "cell_type": "markdown",
   "metadata": {
    "id": "4MtexExREJGW"
   },
   "source": [
    "### <u>Example 2</u>\n",
    "\n",
    "#### Suppose you are given a list of numbers. You need to find the corresponding squares of these numbers and zip them together in a dictionary"
   ]
  },
  {
   "cell_type": "code",
   "execution_count": 8,
   "metadata": {
    "id": "QvpFXqHvHnn1"
   },
   "outputs": [],
   "source": [
    "# The list of numbers\n",
    "list_of_numbers = [1, 2, 4, 6, 11, 14, 17, 20]"
   ]
  },
  {
   "cell_type": "code",
   "execution_count": 20,
   "metadata": {
    "id": "UOlQvndGHnn6"
   },
   "outputs": [
    {
     "name": "stdout",
     "output_type": "stream",
     "text": [
      "The square of 1 is 1\n",
      "The square of 2 is 4\n",
      "The square of 4 is 16\n",
      "The square of 6 is 36\n",
      "The square of 11 is 121\n",
      "The square of 14 is 196\n",
      "The square of 17 is 289\n",
      "The square of 20 is 400\n"
     ]
    }
   ],
   "source": [
    "# Let us first print the squares\n",
    "for number in list_of_numbers:\n",
    "  squared_number = number**2\n",
    "  print(f\"The square of {number} is {squared_number}\")"
   ]
  },
  {
   "cell_type": "markdown",
   "metadata": {
    "id": "w945dRqiHnn9"
   },
   "source": [
    "### So this was a pretty straight forward way to print out these squares.\n",
    "\n",
    "### <u>Example 3</u>\n",
    "#### Imagine a scenario where we not only needed to print these numbers for each iteration but also we need to store these elements somewhere else"
   ]
  },
  {
   "cell_type": "code",
   "execution_count": 21,
   "metadata": {
    "id": "yCkngv1POm0a"
   },
   "outputs": [
    {
     "data": {
      "text/plain": [
       "[1, 2, 4, 6, 11, 14, 17, 20]"
      ]
     },
     "execution_count": 21,
     "metadata": {},
     "output_type": "execute_result"
    }
   ],
   "source": [
    "list_of_numbers"
   ]
  },
  {
   "cell_type": "code",
   "execution_count": 22,
   "metadata": {
    "id": "1O-AcdmHBt3i"
   },
   "outputs": [
    {
     "name": "stdout",
     "output_type": "stream",
     "text": [
      "The list of squared numbers is [1, 4, 16, 36, 121, 196, 289, 400]\n"
     ]
    }
   ],
   "source": [
    "# Let us first initialize a list where we will be appending the squares in each iteration\n",
    "\n",
    "squared_numbers = []\n",
    "\n",
    "for number in list_of_numbers:\n",
    "  square = number**2\n",
    "  # Use the append method to add the numbers one by one to our list\n",
    "  squared_numbers.append(square)\n",
    "  # print(squared_numbers)\n",
    "\n",
    "print(f\"The list of squared numbers is {squared_numbers}\")"
   ]
  },
  {
   "cell_type": "code",
   "execution_count": 23,
   "metadata": {
    "id": "7UdHNjXYQPMP"
   },
   "outputs": [
    {
     "name": "stdout",
     "output_type": "stream",
     "text": [
      "[1, 2, 4, 6, 11, 14, 17, 20]\n",
      "[1, 4, 16, 36, 121, 196, 289, 400]\n"
     ]
    }
   ],
   "source": [
    "print(list_of_numbers)\n",
    "print(squared_numbers)"
   ]
  },
  {
   "cell_type": "code",
   "execution_count": 24,
   "metadata": {
    "id": "dXegXzIxCgT7"
   },
   "outputs": [
    {
     "name": "stdout",
     "output_type": "stream",
     "text": [
      "{1: 1, 2: 4, 4: 16, 6: 36, 11: 121, 14: 196, 17: 289, 20: 400}\n"
     ]
    }
   ],
   "source": [
    "# Let us zip the original numbers and squares together and get the dictionary\n",
    "zipped_dict = dict(zip(list_of_numbers,squared_numbers))\n",
    "\n",
    "# Let us print the dictionary where the key is the number and the value is the square of that number\n",
    "print(zipped_dict)"
   ]
  },
  {
   "cell_type": "markdown",
   "metadata": {
    "id": "LfTpVhrcHnn-"
   },
   "source": [
    "### <u> Example 4</u>\n",
    "####  Now suppose we only want to print the squares of those numbers which are even. Let us see how we can do this"
   ]
  },
  {
   "cell_type": "code",
   "execution_count": 25,
   "metadata": {
    "id": "fgFDSaG3cqG0"
   },
   "outputs": [
    {
     "name": "stdout",
     "output_type": "stream",
     "text": [
      "[1, 2, 4, 6, 11, 14, 17, 20]\n"
     ]
    }
   ],
   "source": [
    "print(list_of_numbers)"
   ]
  },
  {
   "cell_type": "code",
   "execution_count": 26,
   "metadata": {
    "id": "P3XeEpxgHnn_"
   },
   "outputs": [
    {
     "name": "stdout",
     "output_type": "stream",
     "text": [
      "I am an odd number 1.My master prohibits me from printing the squares of odd numbers. Strange but okay!\n",
      "The square of 2 is 4\n",
      "The square of 4 is 16\n",
      "The square of 6 is 36\n",
      "I am an odd number 11.My master prohibits me from printing the squares of odd numbers. Strange but okay!\n",
      "The square of 14 is 196\n",
      "I am an odd number 17.My master prohibits me from printing the squares of odd numbers. Strange but okay!\n",
      "The square of 20 is 400\n"
     ]
    }
   ],
   "source": [
    "# Let us first print the squares\n",
    "for number in list_of_numbers:\n",
    "  if number%2 == 0:\n",
    "    squared_number = number**2\n",
    "    print(f\"The square of {number} is {squared_number}\")\n",
    "  else:\n",
    "    print(f\"I am an odd number {number}.My master prohibits me from printing the squares of odd numbers. Strange but okay!\")\n",
    "\n",
    "# print(\"\\n\")\n",
    "# print(\"I am finished with my iteration\")"
   ]
  },
  {
   "cell_type": "markdown",
   "metadata": {
    "id": "W0MQiTnNAFgk"
   },
   "source": [
    "### <code>range()</code> function is a pretty useful function to get a sequence of numbers. It takes three arguments : start, stop, step"
   ]
  },
  {
   "cell_type": "code",
   "execution_count": 27,
   "metadata": {
    "id": "1yyntnVs_ll0"
   },
   "outputs": [
    {
     "data": {
      "text/plain": [
       "[0, 1, 2, 3, 4, 5, 6, 7, 8, 9]"
      ]
     },
     "execution_count": 27,
     "metadata": {},
     "output_type": "execute_result"
    }
   ],
   "source": [
    "list(range(10))"
   ]
  },
  {
   "cell_type": "code",
   "execution_count": 28,
   "metadata": {
    "id": "3JmJKUjl_87A"
   },
   "outputs": [
    {
     "name": "stdout",
     "output_type": "stream",
     "text": [
      "The square of 0 is 0\n",
      "The square of 2 is 4\n",
      "The square of 4 is 16\n",
      "The square of 6 is 36\n",
      "The square of 8 is 64\n"
     ]
    }
   ],
   "source": [
    "# Let us first print the squares\n",
    "for number in range(0,10,2):\n",
    "  squared_number = number**2\n",
    "  print(f\"The square of {number} is {squared_number}\")"
   ]
  },
  {
   "cell_type": "code",
   "execution_count": 29,
   "metadata": {
    "id": "MLm1sHgdT6YF"
   },
   "outputs": [
    {
     "name": "stdout",
     "output_type": "stream",
     "text": [
      "2\n",
      "4\n",
      "6\n",
      "8\n",
      "10\n",
      "12\n",
      "14\n",
      "16\n",
      "18\n",
      "20\n"
     ]
    }
   ],
   "source": [
    "for i in range(2,21,2):\n",
    "  print(i)"
   ]
  },
  {
   "cell_type": "code",
   "execution_count": 30,
   "metadata": {
    "colab": {
     "base_uri": "https://localhost:8080/"
    },
    "id": "LzMP8G1vNqph",
    "outputId": "d26bcfb1-c3d3-4c7c-aa15-a9317a450b8d"
   },
   "outputs": [
    {
     "name": "stdout",
     "output_type": "stream",
     "text": [
      "{3: 9}\n",
      "{3: 9, 9: 81}\n",
      "{3: 9, 9: 81, 15: 225}\n"
     ]
    }
   ],
   "source": [
    "list_prime=[]\n",
    "dict_prim={}\n",
    "for i in range(1,20):\n",
    "  for j in range(2,i+1):\n",
    "    if i%j==0:\n",
    "      break\n",
    "    else: \n",
    "      list_prime.append(i)\n",
    "       \n",
    "for i in list_prime:\n",
    "  if list_prime.count(i)==1:\n",
    "    dict_prim[i]=i*i\n",
    "    print(dict_prim)\n",
    "\n",
    "  # else:\n",
    "  #   print('number is not prime')  \n"
   ]
  },
  {
   "cell_type": "markdown",
   "metadata": {
    "id": "mfgGGs1ESsPv"
   },
   "source": [
    "### <u> Example 5<u>\n",
    "#### Next suppose we wanted to find the sum of the squares of our numbers in the list"
   ]
  },
  {
   "cell_type": "code",
   "execution_count": null,
   "metadata": {
    "id": "uKiA4sBFHnoC"
   },
   "outputs": [],
   "source": [
    "# Print our list\n",
    "print(list_of_numbers)"
   ]
  },
  {
   "cell_type": "code",
   "execution_count": null,
   "metadata": {
    "id": "pbQlDAYyHnoG"
   },
   "outputs": [],
   "source": [
    "# Let us the initialize the sum of the squares with 0. This makes sense right!\n",
    "sum_squares = 0\n",
    "\n",
    "for number in range(1,11):\n",
    "  sum_squares = sum_squares + number\n",
    "  print(sum_squares)\n",
    "\n",
    "# Now we have added the squares of all the numbers in our list\n",
    "print(f\"The sum of the squares of our list of numbers is {sum_squares}\")"
   ]
  },
  {
   "cell_type": "markdown",
   "metadata": {
    "id": "PNsXf6IfHnoI"
   },
   "source": [
    "### Up till now, we have only implemented for loops for list objects. From the last week, we know that there are other objects in Python which are sequence of elements such as strings, tuples etc. Let us try and apply for loop to iterate over their elements.\n",
    "\n",
    "### <u> Example 6</u>\n",
    "##### We are given a sentence : \"I am the one who knocks!\""
   ]
  },
  {
   "cell_type": "code",
   "execution_count": 6,
   "metadata": {
    "id": "UXPQjcvL9Mwq"
   },
   "outputs": [],
   "source": [
    "# Let us first store the sentence in a string variable \n",
    "heisenberg_quote =  \"I am the one who knocks!\""
   ]
  },
  {
   "cell_type": "markdown",
   "metadata": {
    "id": "Q-8rKVVdY3Iw"
   },
   "source": [
    "#### The next step is to print all the characters which are separated by whitespace"
   ]
  },
  {
   "cell_type": "code",
   "execution_count": 7,
   "metadata": {
    "id": "Y3pbat1fWa2X"
   },
   "outputs": [
    {
     "name": "stdout",
     "output_type": "stream",
     "text": [
      " The character is I\n",
      " The character is  \n",
      " The character is a\n",
      " The character is m\n",
      " The character is  \n",
      " The character is t\n",
      " The character is h\n",
      " The character is e\n",
      " The character is  \n",
      " The character is o\n",
      " The character is n\n",
      " The character is e\n",
      " The character is  \n",
      " The character is w\n",
      " The character is h\n",
      " The character is o\n",
      " The character is  \n",
      " The character is k\n",
      " The character is n\n",
      " The character is o\n",
      " The character is c\n",
      " The character is k\n",
      " The character is s\n",
      " The character is !\n"
     ]
    }
   ],
   "source": [
    "for char in heisenberg_quote:\n",
    "  print(f\" The character is {char}\")"
   ]
  },
  {
   "cell_type": "code",
   "execution_count": 8,
   "metadata": {
    "colab": {
     "base_uri": "https://localhost:8080/"
    },
    "id": "acavVLtgHnoI",
    "outputId": "cbc37054-d4f7-4caa-fd66-1ef011f68468"
   },
   "outputs": [
    {
     "name": "stdout",
     "output_type": "stream",
     "text": [
      " The index is 0 and the character is I\n",
      " The index is 1 and the character is  \n",
      " The index is 2 and the character is a\n",
      " The index is 3 and the character is m\n",
      " The index is 4 and the character is  \n",
      " The index is 5 and the character is t\n",
      " The index is 6 and the character is h\n",
      " The index is 7 and the character is e\n",
      " The index is 8 and the character is  \n",
      " The index is 9 and the character is o\n",
      " The index is 10 and the character is n\n",
      " The index is 11 and the character is e\n",
      " The index is 12 and the character is  \n",
      " The index is 13 and the character is w\n",
      " The index is 14 and the character is h\n",
      " The index is 15 and the character is o\n",
      " The index is 16 and the character is  \n",
      " The index is 17 and the character is k\n",
      " The index is 18 and the character is n\n",
      " The index is 19 and the character is o\n",
      " The index is 20 and the character is c\n",
      " The index is 21 and the character is k\n",
      " The index is 22 and the character is s\n",
      " The index is 23 and the character is !\n"
     ]
    }
   ],
   "source": [
    "# Lets apply a for loop to do the above task\n",
    "\n",
    "for index,char  in enumerate(heisenberg_quote):\n",
    "\n",
    "  print(f\" The index is {index} and the character is {char}\")"
   ]
  },
  {
   "cell_type": "markdown",
   "metadata": {
    "id": "B03yfZ97HnoK"
   },
   "source": [
    "### We saw how we can iterate through each element of our string. What if you wanted to iterate through each word of the sentence and not each element. There is an important method available with strings known as <code>split()</code> method. \n",
    "\n",
    "#### This method returns the list of words separated by the character we want to separate them by.\n",
    "\n",
    "split() Parameters\n",
    "The split() method takes a maximum of 2 parameters:\n",
    "\n",
    "separator (optional)- Delimiter at which splits occur. If not provided, the string is splitted at whitespaces.\n",
    "\n",
    "maxsplit (optional) - Maximum number of splits. If not provided, there is no limit on the number of splits.\n",
    "\n",
    "### <u> Example 7</u>"
   ]
  },
  {
   "cell_type": "code",
   "execution_count": 9,
   "metadata": {
    "id": "Ai_uK72yHnoL"
   },
   "outputs": [],
   "source": [
    "heisenberg_quote = \"It ceases to exist without me. No, you clearly don't know who you're talking to, so let me clue you in. I am not in danger, Skyler. I am the danger.\""
   ]
  },
  {
   "cell_type": "code",
   "execution_count": 10,
   "metadata": {
    "colab": {
     "base_uri": "https://localhost:8080/"
    },
    "id": "1UpKwsua-HIk",
    "outputId": "215e3bde-1c00-4360-a293-3f7febaaeb19"
   },
   "outputs": [
    {
     "name": "stdout",
     "output_type": "stream",
     "text": [
      "['It', 'ceases', 'to', 'exist', 'without', 'me.', 'No,', 'you', 'clearly', \"don't\", 'know', 'who', \"you're\", 'talking', 'to,', 'so', 'let', 'me', 'clue', 'you', 'in.', 'I', 'am', 'not', 'in', 'danger,', 'Skyler.', 'I', 'am', 'the', 'danger.']\n"
     ]
    }
   ],
   "source": [
    "words_by_walter = heisenberg_quote.split(' ')\n",
    "print(words_by_walter)"
   ]
  },
  {
   "cell_type": "code",
   "execution_count": 11,
   "metadata": {
    "colab": {
     "base_uri": "https://localhost:8080/"
    },
    "id": "g5J_YHTe9p_E",
    "outputId": "a55db6ac-a0fe-4264-9847-d09b23367bd2",
    "scrolled": true
   },
   "outputs": [
    {
     "name": "stdout",
     "output_type": "stream",
     "text": [
      "ceases\n"
     ]
    },
    {
     "ename": "ValueError",
     "evalue": "empty separator",
     "output_type": "error",
     "traceback": [
      "\u001b[1;31m---------------------------------------------------------------------------\u001b[0m",
      "\u001b[1;31mValueError\u001b[0m                                Traceback (most recent call last)",
      "Input \u001b[1;32mIn [11]\u001b[0m, in \u001b[0;36m<cell line: 3>\u001b[1;34m()\u001b[0m\n\u001b[0;32m      1\u001b[0m second_word\u001b[38;5;241m=\u001b[39mwords_by_walter[\u001b[38;5;241m1\u001b[39m]\n\u001b[0;32m      2\u001b[0m \u001b[38;5;28mprint\u001b[39m(second_word)\n\u001b[1;32m----> 3\u001b[0m \u001b[43msecond_word\u001b[49m\u001b[38;5;241;43m.\u001b[39;49m\u001b[43msplit\u001b[49m\u001b[43m(\u001b[49m\u001b[38;5;124;43m'\u001b[39;49m\u001b[38;5;124;43m'\u001b[39;49m\u001b[43m)\u001b[49m\n",
      "\u001b[1;31mValueError\u001b[0m: empty separator"
     ]
    }
   ],
   "source": [
    "second_word=words_by_walter[1]\n",
    "print(second_word)\n",
    "second_word.split('')"
   ]
  },
  {
   "cell_type": "code",
   "execution_count": 12,
   "metadata": {},
   "outputs": [],
   "source": [
    "ll=list(second_word)"
   ]
  },
  {
   "cell_type": "code",
   "execution_count": 18,
   "metadata": {},
   "outputs": [],
   "source": [
    "aa='-'.join(ll)"
   ]
  },
  {
   "cell_type": "code",
   "execution_count": 19,
   "metadata": {},
   "outputs": [
    {
     "name": "stdout",
     "output_type": "stream",
     "text": [
      "c-e-a-s-e-s\n"
     ]
    },
    {
     "data": {
      "text/plain": [
       "str"
      ]
     },
     "execution_count": 19,
     "metadata": {},
     "output_type": "execute_result"
    }
   ],
   "source": [
    "print(aa)\n",
    "type(aa)"
   ]
  },
  {
   "cell_type": "code",
   "execution_count": 20,
   "metadata": {
    "colab": {
     "base_uri": "https://localhost:8080/"
    },
    "id": "Qi411Crhoy_X",
    "outputId": "81ea0e74-269f-416b-c1a8-6c2739365b2b"
   },
   "outputs": [
    {
     "name": "stdout",
     "output_type": "stream",
     "text": [
      "The word is It\n",
      "The word is ceases\n",
      "The word is to\n",
      "The word is exist\n",
      "The word is without\n",
      "The word is me.\n",
      "The word is No,\n",
      "The word is you\n",
      "The word is clearly\n",
      "The word is don't\n",
      "The word is know\n",
      "words not in  given list\n",
      "The word is you're\n",
      "The word is talking\n",
      "The word is to,\n",
      "The word is so\n",
      "The word is let\n",
      "The word is me\n",
      "The word is clue\n",
      "The word is you\n",
      "The word is in.\n",
      "The word is I\n",
      "The word is am\n",
      "The word is not\n",
      "The word is in\n",
      "The word is danger,\n",
      "The word is Skyler.\n",
      "The word is I\n",
      "The word is am\n",
      "The word is the\n",
      "The word is danger.\n"
     ]
    }
   ],
   "source": [
    "# Now we can print each word by iterating through this list\n",
    "for word in words_by_walter:\n",
    "  if word in ['shubham','abhishek','who']:\n",
    "    print(\"words not in  given list\")\n",
    "  else:\n",
    "     print(f\"The word is {word}\")  \n",
    "   "
   ]
  },
  {
   "cell_type": "markdown",
   "metadata": {
    "id": "khxoqawIHnoN"
   },
   "source": [
    "### We can also iterate through each element of tuple as well. \n",
    "\n",
    "### <u> Example 8 </u>"
   ]
  },
  {
   "cell_type": "code",
   "execution_count": 21,
   "metadata": {
    "colab": {
     "base_uri": "https://localhost:8080/"
    },
    "id": "r5BzV1ITHnoN",
    "outputId": "061e5afd-1457-46e0-ffa5-5b0be38bedb5"
   },
   "outputs": [
    {
     "name": "stdout",
     "output_type": "stream",
     "text": [
      "Today is Monday\n",
      "Today is Tuesday\n",
      "Today is Wednesday\n",
      "Today is Thursday\n",
      "Today is Friday\n",
      "Today is Saturday\n",
      "Today is Sunday\n"
     ]
    }
   ],
   "source": [
    "# Suppose we have a tuple of days\n",
    "days = ('Monday' ,'Tuesday' ,'Wednesday' ,'Thursday' ,'Friday','Saturday','Sunday')\n",
    "\n",
    "for day in days:\n",
    "  print(f\"Today is {day}\")"
   ]
  },
  {
   "cell_type": "markdown",
   "metadata": {
    "id": "l1lhP7tZgJDv"
   },
   "source": [
    "#### Tuples have a special quality when it comes to <code>for</code> loops. If you are iterating through a sequence that contains tuples, the item can actually be the tuple itself, this is an example of *tuple unpacking*. During the <code>for</code> loop we will be unpacking the tuple inside of a sequence and we can access the individual items inside that tuple!"
   ]
  },
  {
   "cell_type": "markdown",
   "metadata": {
    "id": "L9WN9yH3grnv"
   },
   "source": [
    "#### Remember from earlier we had a list of tuples of country-city\n",
    "\n",
    "### <u> Example 9</u>"
   ]
  },
  {
   "cell_type": "code",
   "execution_count": 22,
   "metadata": {
    "id": "WbcIox50gTyl"
   },
   "outputs": [],
   "source": [
    "country_city_river_list = [('India','New Delhi','Ganga'),('Australia','Canberra','Rovers'),('United States','Washington DC','Missouri'),('England','London','Thames')]"
   ]
  },
  {
   "cell_type": "code",
   "execution_count": 23,
   "metadata": {
    "colab": {
     "base_uri": "https://localhost:8080/"
    },
    "id": "gMBUnrnYg5E3",
    "outputId": "13df8687-6e31-455e-a575-9d8ace3e2149"
   },
   "outputs": [
    {
     "name": "stdout",
     "output_type": "stream",
     "text": [
      "The capital of the country India is New Delhi and it also has the river Ganga.\n",
      "The capital of the country Australia is Canberra and it also has the river Rovers.\n",
      "The capital of the country United States is Washington DC and it also has the river Missouri.\n",
      "The capital of the country England is London and it also has the river Thames.\n"
     ]
    }
   ],
   "source": [
    "# Let us iterate through each tuple element of this list and unpack each item\n",
    "\n",
    "for i,j,k in country_city_river_list:\n",
    "  # print(country_city)\n",
    "  print(f\"The capital of the country {i} is {j} and it also has the river {k}.\")"
   ]
  },
  {
   "cell_type": "markdown",
   "metadata": {
    "id": "hjRbT_tyiPPF"
   },
   "source": [
    "### Finally we can iterate through the items of a dictionary as well. \n",
    "\n",
    "### <u> Example 10 </u>"
   ]
  },
  {
   "cell_type": "code",
   "execution_count": 24,
   "metadata": {
    "id": "R5UjRNRoiGEx"
   },
   "outputs": [
    {
     "ename": "ValueError",
     "evalue": "dictionary update sequence element #0 has length 3; 2 is required",
     "output_type": "error",
     "traceback": [
      "\u001b[1;31m---------------------------------------------------------------------------\u001b[0m",
      "\u001b[1;31mValueError\u001b[0m                                Traceback (most recent call last)",
      "Input \u001b[1;32mIn [24]\u001b[0m, in \u001b[0;36m<cell line: 2>\u001b[1;34m()\u001b[0m\n\u001b[0;32m      1\u001b[0m \u001b[38;5;66;03m# Lets convert the list of tuples to a dictionary\u001b[39;00m\n\u001b[1;32m----> 2\u001b[0m country_city_dict \u001b[38;5;241m=\u001b[39m \u001b[38;5;28;43mdict\u001b[39;49m\u001b[43m(\u001b[49m\u001b[43mcountry_city_river_list\u001b[49m\u001b[43m)\u001b[49m\n\u001b[0;32m      3\u001b[0m \u001b[38;5;28mprint\u001b[39m(country_city_dict)\n",
      "\u001b[1;31mValueError\u001b[0m: dictionary update sequence element #0 has length 3; 2 is required"
     ]
    }
   ],
   "source": [
    "# Lets convert the list of tuples to a dictionary\n",
    "country_city_dict = dict(country_city_river_list)\n",
    "print(country_city_dict)"
   ]
  },
  {
   "cell_type": "code",
   "execution_count": 25,
   "metadata": {
    "id": "U0ExcdWvihnq"
   },
   "outputs": [
    {
     "ename": "NameError",
     "evalue": "name 'country_city_dict' is not defined",
     "output_type": "error",
     "traceback": [
      "\u001b[1;31m---------------------------------------------------------------------------\u001b[0m",
      "\u001b[1;31mNameError\u001b[0m                                 Traceback (most recent call last)",
      "Input \u001b[1;32mIn [25]\u001b[0m, in \u001b[0;36m<cell line: 1>\u001b[1;34m()\u001b[0m\n\u001b[1;32m----> 1\u001b[0m \u001b[38;5;28;01mfor\u001b[39;00m item \u001b[38;5;129;01min\u001b[39;00m \u001b[43mcountry_city_dict\u001b[49m:\n\u001b[0;32m      2\u001b[0m   \u001b[38;5;28mprint\u001b[39m(item)\n",
      "\u001b[1;31mNameError\u001b[0m: name 'country_city_dict' is not defined"
     ]
    }
   ],
   "source": [
    "for item in country_city_dict:\n",
    "  print(item)"
   ]
  },
  {
   "cell_type": "code",
   "execution_count": 26,
   "metadata": {
    "id": "H_rV2taaZnNV"
   },
   "outputs": [
    {
     "ename": "NameError",
     "evalue": "name 'country_city_dict' is not defined",
     "output_type": "error",
     "traceback": [
      "\u001b[1;31m---------------------------------------------------------------------------\u001b[0m",
      "\u001b[1;31mNameError\u001b[0m                                 Traceback (most recent call last)",
      "Input \u001b[1;32mIn [26]\u001b[0m, in \u001b[0;36m<cell line: 1>\u001b[1;34m()\u001b[0m\n\u001b[1;32m----> 1\u001b[0m \u001b[43mcountry_city_dict\u001b[49m\u001b[38;5;241m.\u001b[39mitems()\n",
      "\u001b[1;31mNameError\u001b[0m: name 'country_city_dict' is not defined"
     ]
    }
   ],
   "source": [
    "country_city_dict.items()"
   ]
  },
  {
   "cell_type": "markdown",
   "metadata": {
    "id": "gdxBvo0-iq5Y"
   },
   "source": [
    "#### This just prints the keys of the dictionary\n",
    "\n",
    "#### Next we can iterate through the key-value pairs using the <code>items()</code> method which you should remember from earlier\n",
    "\n",
    "#### Since the <code>items()</code> method supports iteration, we can perform *dictionary unpacking* to separate keys and values "
   ]
  },
  {
   "cell_type": "code",
   "execution_count": 27,
   "metadata": {
    "id": "wQNTi547iptT"
   },
   "outputs": [
    {
     "ename": "NameError",
     "evalue": "name 'country_city_dict' is not defined",
     "output_type": "error",
     "traceback": [
      "\u001b[1;31m---------------------------------------------------------------------------\u001b[0m",
      "\u001b[1;31mNameError\u001b[0m                                 Traceback (most recent call last)",
      "Input \u001b[1;32mIn [27]\u001b[0m, in \u001b[0;36m<cell line: 1>\u001b[1;34m()\u001b[0m\n\u001b[1;32m----> 1\u001b[0m \u001b[38;5;28;01mfor\u001b[39;00m country,city \u001b[38;5;129;01min\u001b[39;00m \u001b[43mcountry_city_dict\u001b[49m\u001b[38;5;241m.\u001b[39mitems():\n\u001b[0;32m      2\u001b[0m   \u001b[38;5;28mprint\u001b[39m(\u001b[38;5;124mf\u001b[39m\u001b[38;5;124m\"\u001b[39m\u001b[38;5;124mThe capital of \u001b[39m\u001b[38;5;132;01m{\u001b[39;00mcountry\u001b[38;5;132;01m}\u001b[39;00m\u001b[38;5;124m is \u001b[39m\u001b[38;5;132;01m{\u001b[39;00mcity\u001b[38;5;132;01m}\u001b[39;00m\u001b[38;5;124m\"\u001b[39m)\n",
      "\u001b[1;31mNameError\u001b[0m: name 'country_city_dict' is not defined"
     ]
    }
   ],
   "source": [
    "for country,city in country_city_dict.items():\n",
    "  print(f\"The capital of {country} is {city}\")"
   ]
  },
  {
   "cell_type": "code",
   "execution_count": 28,
   "metadata": {
    "id": "OH1tFYTVaK4n"
   },
   "outputs": [
    {
     "name": "stdout",
     "output_type": "stream",
     "text": [
      "1\n",
      "2\n",
      "3\n"
     ]
    }
   ],
   "source": [
    "for elem in {1,2,3}:\n",
    "  print(elem)"
   ]
  },
  {
   "cell_type": "markdown",
   "metadata": {
    "id": "Vd-KUOrcjsdx"
   },
   "source": [
    "#### And of course you can iterate through the list of keys and list of values independently depending upon the scenario"
   ]
  },
  {
   "cell_type": "markdown",
   "metadata": {
    "id": "gIk7P1Z9kDt6"
   },
   "source": [
    "# <u>While Loops </u>\n",
    "\n",
    "### The <code>while</code> statement in Python is one of the most general ways to perform iteration. A <code>while</code> statement will repeatedly execute a single statement or group of statements as long as the condition is true. The reason it is called a 'loop' is because the code statements are looped through over and over again until the condition is no longer met.\n",
    "\n",
    "### The general format of a while loop is:\n",
    "\n",
    "    while test:\n",
    "        code statements\n",
    "    else:\n",
    "        final code statements\n",
    "\n",
    "### Let’s look at a few simple <code>while</code> loops in action."
   ]
  },
  {
   "cell_type": "code",
   "execution_count": 7,
   "metadata": {
    "id": "sjIkaSfdkBrX"
   },
   "outputs": [
    {
     "name": "stdout",
     "output_type": "stream",
     "text": [
      "x is currently:  1\n",
      "x is still less than 10, adding 1 to x\n",
      "x is currently:  2\n",
      "x is still less than 10, adding 1 to x\n",
      "x is currently:  3\n",
      "x is still less than 10, adding 1 to x\n",
      "x is currently:  4\n",
      "x is still less than 10, adding 1 to x\n",
      "x is currently:  5\n",
      "x is still less than 10, adding 1 to x\n",
      "x is currently:  6\n",
      "x is still less than 10, adding 1 to x\n",
      "x is currently:  7\n",
      "x is still less than 10, adding 1 to x\n",
      "x is currently:  8\n",
      "x is still less than 10, adding 1 to x\n",
      "x is currently:  9\n",
      "x is still less than 10, adding 1 to x\n",
      "x is currently:  10\n",
      "x is still less than 10, adding 1 to x\n"
     ]
    }
   ],
   "source": [
    "x = 0\n",
    "\n",
    "while x < 10:\n",
    "    x += 1\n",
    "    print('x is currently: ',x)\n",
    "    print('x is still less than 10, adding 1 to x')\n",
    "  "
   ]
  },
  {
   "cell_type": "markdown",
   "metadata": {
    "id": "pUhvyaN5kCPx"
   },
   "source": [
    "### Notice how many times the print statements occurred and how the <code>while</code> loop kept going until the False condition was met, which occurred once x==10. It's important to note that once this occurred the code stopped. Let's see how we could add an <code>else</code> statement:\n"
   ]
  },
  {
   "cell_type": "code",
   "execution_count": 8,
   "metadata": {
    "colab": {
     "base_uri": "https://localhost:8080/"
    },
    "id": "kSnELiDRkBVe",
    "outputId": "23849d10-0e6b-4bb6-f631-b6d2492003c2"
   },
   "outputs": [
    {
     "name": "stdout",
     "output_type": "stream",
     "text": [
      "x is currently:  0\n",
      " x is still less than 10, adding 1 to x\n",
      "x is currently:  1\n",
      " x is still less than 10, adding 1 to x\n",
      "x is currently:  2\n",
      " x is still less than 10, adding 1 to x\n",
      "x is currently:  3\n",
      " x is still less than 10, adding 1 to x\n",
      "x is currently:  4\n",
      " x is still less than 10, adding 1 to x\n",
      "All done\n",
      "I am done with the iterations\n"
     ]
    }
   ],
   "source": [
    "x = 0\n",
    "\n",
    "while x < 5:\n",
    "  print('x is currently: ',x)\n",
    "  print(' x is still less than 10, adding 1 to x')\n",
    "  x+=1\n",
    "else:\n",
    "    print(\"All done\")\n",
    "    print(\"I am done with the iterations\")"
   ]
  },
  {
   "cell_type": "markdown",
   "metadata": {
    "id": "6hn5zv2WUPgJ"
   },
   "source": [
    "![image.png](data:image/png;base64,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)"
   ]
  },
  {
   "cell_type": "markdown",
   "metadata": {
    "id": "5u30qd4ZlcXS"
   },
   "source": [
    "## break, continue, pass\n",
    "\n",
    "### We can use <code>break</code>, <code>continue</code>, and <code>pass</code> statements in our loops to add additional functionality for various cases. The three statements are defined by:\n",
    "\n",
    "    break: Breaks out of the current closest enclosing loop.\n",
    "    continue: Goes to the top of the closest enclosing loop.\n",
    "    pass: Does nothing at all.\n",
    "    \n",
    "    \n",
    "### Thinking about <code>break</code> and <code>continue</code> statements, the general format of the <code>while</code> loop looks like this:\n",
    "\n",
    "    while test: \n",
    "        code statement\n",
    "        if test: \n",
    "            break\n",
    "        if test: \n",
    "            continue \n",
    "    else:\n",
    "\n",
    "### <code>break</code> and <code>continue</code> statements can appear anywhere inside the loop’s body, but we will usually put them further nested in conjunction with an <code>if</code> statement to perform an action based on some condition.\n"
   ]
  },
  {
   "cell_type": "code",
   "execution_count": null,
   "metadata": {
    "colab": {
     "base_uri": "https://localhost:8080/"
    },
    "id": "hqEGeWnbkBLz",
    "outputId": "d654e5a7-1f40-4113-c165-1e085dee0511"
   },
   "outputs": [
    {
     "name": "stdout",
     "output_type": "stream",
     "text": [
      "x is currently:  0\n",
      " x is still less than 10, adding 1 to x\n",
      "continuing...\n",
      "x is currently:  1\n",
      " x is still less than 10, adding 1 to x\n",
      "continuing...\n",
      "x is currently:  2\n",
      " x is still less than 10, adding 1 to x\n",
      "x==3\n"
     ]
    }
   ],
   "source": [
    "x = 0\n",
    "\n",
    "while x < 10:\n",
    "  print('x is currently: ',x)\n",
    "  print(' x is still less than 10, adding 1 to x')\n",
    "  x+=1\n",
    "  if x==3:\n",
    "    print('x==3')\n",
    "    break\n",
    "  else:\n",
    "    print('continuing...')\n",
    "    continue"
   ]
  },
  {
   "cell_type": "markdown",
   "metadata": {
    "id": "E6LKgma5mCJ9"
   },
   "source": [
    "#### Note how we have a printed statement when x==3, and a continue being printed out as we continue through the outer while loop. Let's put in a break once x ==3 and see if the result makes sense:\n"
   ]
  },
  {
   "cell_type": "code",
   "execution_count": 10,
   "metadata": {
    "colab": {
     "background_save": true
    },
    "id": "hfAJ9XKNjKLg",
    "outputId": "247473b4-5775-410d-d154-8bbe154fdb7a"
   },
   "outputs": [
    {
     "name": "stdout",
     "output_type": "stream",
     "text": [
      "x is currently:  0\n",
      " x is still less than 10, adding 1 to x\n"
     ]
    }
   ],
   "source": [
    "\n",
    "x = 0\n",
    "\n",
    "while x < 10:\n",
    "  print('x is currently: ',x)\n",
    "  print(' x is still less than 10, adding 1 to x')\n",
    "  x+=1\n",
    "  break\n",
    "\n",
    "    \n",
    "else:\n",
    "  print('continuing...')\n",
    "  "
   ]
  },
  {
   "cell_type": "code",
   "execution_count": 11,
   "metadata": {
    "colab": {
     "base_uri": "https://localhost:8080/"
    },
    "id": "dwGxs4EVm2fB",
    "outputId": "63148bd9-e6b4-4936-c04f-ab86806ee52f"
   },
   "outputs": [
    {
     "name": "stdout",
     "output_type": "stream",
     "text": [
      "x is currently:  0\n",
      " x is still less than 10, adding 1 to x\n",
      "x is currently:  1\n",
      " x is still less than 10, adding 1 to x\n",
      "x is currently:  2\n",
      " x is still less than 10, adding 1 to x\n",
      "x is currently:  3\n",
      " x is still less than 10, adding 1 to x\n",
      "x is currently:  4\n",
      " x is still less than 10, adding 1 to x\n",
      "x is currently:  5\n",
      " x is still less than 10, adding 1 to x\n",
      "x is currently:  6\n",
      " x is still less than 10, adding 1 to x\n",
      "x is currently:  7\n",
      " x is still less than 10, adding 1 to x\n",
      "x is currently:  8\n",
      " x is still less than 10, adding 1 to x\n",
      "x is currently:  9\n",
      " x is still less than 10, adding 1 to x\n",
      "continuing...\n"
     ]
    }
   ],
   "source": [
    "x = 0\n",
    "\n",
    "while x < 10:\n",
    "  print('x is currently: ',x)\n",
    "  print(' x is still less than 10, adding 1 to x')\n",
    "  x+=1\n",
    "  pass\n",
    "\n",
    "else:\n",
    "  print('continuing...')"
   ]
  },
  {
   "cell_type": "markdown",
   "metadata": {
    "id": "OvB31hV4mPqK"
   },
   "source": [
    "\n",
    "\n",
    "#### After these brief but simple examples, you should feel comfortable using <code>while</code> statements in your code.\n",
    "\n",
    "#### **A word of caution however! It is possible to create an infinitely running loop with <code>while</code> statements.**"
   ]
  }
 ],
 "metadata": {
  "colab": {
   "provenance": []
  },
  "kernelspec": {
   "display_name": "Python 3 (ipykernel)",
   "language": "python",
   "name": "python3"
  },
  "language_info": {
   "codemirror_mode": {
    "name": "ipython",
    "version": 3
   },
   "file_extension": ".py",
   "mimetype": "text/x-python",
   "name": "python",
   "nbconvert_exporter": "python",
   "pygments_lexer": "ipython3",
   "version": "3.9.12"
  }
 },
 "nbformat": 4,
 "nbformat_minor": 1
}
