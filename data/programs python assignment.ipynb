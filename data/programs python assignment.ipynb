{
 "cells": [
  {
   "cell_type": "code",
   "execution_count": 3,
   "id": "e6f677d2",
   "metadata": {},
   "outputs": [
    {
     "name": "stdout",
     "output_type": "stream",
     "text": [
      "20\n",
      "121645100408832000\n"
     ]
    }
   ],
   "source": [
    "#1 factorial program \n",
    "a=1\n",
    "b=int(input())\n",
    "for i in range(1,b):\n",
    "        a=a*i\n",
    "print(a)"
   ]
  },
  {
   "cell_type": "code",
   "execution_count": 5,
   "id": "e808547e",
   "metadata": {},
   "outputs": [
    {
     "name": "stdout",
     "output_type": "stream",
     "text": [
      "6\n",
      "this is not a prime number\n"
     ]
    }
   ],
   "source": [
    "#2 prime number\n",
    "a=int(input())\n",
    "b=[]\n",
    "for i in range(2,a+1):\n",
    "    if a%i==0:\n",
    "        b.append(i)\n",
    "if len(b)>1:\n",
    "    print(f'this is not a prime number')\n",
    "else:\n",
    "    print(f'this is a prime number')\n",
    "        \n",
    "    "
   ]
  },
  {
   "cell_type": "code",
   "execution_count": 7,
   "id": "81ddd566",
   "metadata": {},
   "outputs": [
    {
     "name": "stdout",
     "output_type": "stream",
     "text": [
      "input here for check is this pelindrome or not :123\n",
      "False\n"
     ]
    }
   ],
   "source": [
    "# 3 palindrome number or string\n",
    "\n",
    "a=input('input here for check is this pelindrome or not :')\n",
    "b=a[::-1]\n",
    "if a==b:\n",
    "    print('True')\n",
    "else:\n",
    "    print('False')"
   ]
  },
  {
   "cell_type": "code",
   "execution_count": 4,
   "id": "f4cf3eba",
   "metadata": {},
   "outputs": [
    {
     "name": "stdout",
     "output_type": "stream",
     "text": [
      "0\n",
      "22\n",
      "44\n",
      "66\n",
      "88\n",
      "110\n",
      "132\n",
      "154\n",
      "176\n",
      "198\n",
      "220\n",
      "242\n",
      "264\n",
      "286\n",
      "308\n",
      "330\n",
      "352\n",
      "374\n",
      "396\n",
      "418\n",
      "440\n",
      "462\n"
     ]
    }
   ],
   "source": [
    "# 4 armstrong number\n",
    "\n",
    "a=(22)\n",
    "b=len(str(a))\n",
    "c=0\n",
    "for i in range(a):\n",
    "    b=i*a\n",
    "    print(b)\n",
    "    c += b\n",
    "if c==a:\n",
    "    print('this is armstrong number')\n"
   ]
  },
  {
   "cell_type": "code",
   "execution_count": 5,
   "id": "4f8a9ae0",
   "metadata": {},
   "outputs": [
    {
     "ename": "KeyboardInterrupt",
     "evalue": "",
     "output_type": "error",
     "traceback": [
      "\u001b[1;31m---------------------------------------------------------------------------\u001b[0m",
      "\u001b[1;31mKeyboardInterrupt\u001b[0m                         Traceback (most recent call last)",
      "Input \u001b[1;32mIn [5]\u001b[0m, in \u001b[0;36m<cell line: 7>\u001b[1;34m()\u001b[0m\n\u001b[0;32m      7\u001b[0m \u001b[38;5;28;01mwhile\u001b[39;00m new\u001b[38;5;241m>\u001b[39m\u001b[38;5;241m0\u001b[39m:\n\u001b[0;32m      8\u001b[0m     digit \u001b[38;5;241m=\u001b[39m new\u001b[38;5;241m%\u001b[39m\u001b[38;5;241m10\u001b[39m\n\u001b[1;32m----> 9\u001b[0m     \u001b[38;5;28msum\u001b[39m \u001b[38;5;241m=\u001b[39m\u001b[38;5;28;43msum\u001b[39;49m\u001b[43m \u001b[49m\u001b[38;5;241;43m+\u001b[39;49m\u001b[43m \u001b[49m\u001b[43mdigit\u001b[49m\u001b[38;5;241;43m*\u001b[39;49m\u001b[38;5;241;43m*\u001b[39;49m\u001b[43mlenn\u001b[49m\n\u001b[0;32m     10\u001b[0m     new \u001b[38;5;241m/\u001b[39m\u001b[38;5;241m/\u001b[39m\u001b[38;5;241m10\u001b[39m\n\u001b[0;32m     11\u001b[0m \u001b[38;5;28;01mif\u001b[39;00m \u001b[38;5;28msum\u001b[39m\u001b[38;5;241m==\u001b[39mnumber:\n",
      "\u001b[1;31mKeyboardInterrupt\u001b[0m: "
     ]
    }
   ],
   "source": [
    "# armstrong number programme \n",
    "\n",
    "number=4567\n",
    "lenn=len(str(number))\n",
    "new=4567\n",
    "sum=0\n",
    "while new>0:\n",
    "    digit = new%10\n",
    "    sum =sum + digit**lenn\n",
    "    new //10\n",
    "if sum==number:\n",
    "    print('this number is armstrong number.')\n",
    "    "
   ]
  },
  {
   "cell_type": "code",
   "execution_count": null,
   "id": "74afe2df",
   "metadata": {},
   "outputs": [],
   "source": [
    "new_num = int(input(\"Enter a number: \"))\n",
    "i = 0\n",
    "result = new_num\n",
    "while result > 0:\n",
    "   new_digit = result % 10\n",
    "   i += new_digit ** 3\n",
    "   result //= 10\n",
    "if new_num == i:\n",
    "   print(new_num,\" It is an Armstrong number\")\n",
    "else:\n",
    "   print(new_num,\" It is not an Armstrong number\") "
   ]
  },
  {
   "cell_type": "code",
   "execution_count": 14,
   "id": "8fdc44a1",
   "metadata": {},
   "outputs": [
    {
     "name": "stdout",
     "output_type": "stream",
     "text": [
      "4\n"
     ]
    }
   ],
   "source": [
    "print(len(str(number)))"
   ]
  },
  {
   "cell_type": "code",
   "execution_count": 1,
   "id": "bfd96471",
   "metadata": {},
   "outputs": [
    {
     "name": "stdout",
     "output_type": "stream",
     "text": [
      "444\n",
      "222\n"
     ]
    }
   ],
   "source": [
    "# 5 swap two number without using third variable\n",
    "\n",
    "num1=222\n",
    "num2=444\n",
    "# swapping\n",
    "num1,num2=num2,num1\n",
    "print(num1)\n",
    "print(num2)\n"
   ]
  },
  {
   "cell_type": "code",
   "execution_count": 2,
   "id": "090f3a13",
   "metadata": {},
   "outputs": [
    {
     "name": "stdout",
     "output_type": "stream",
     "text": [
      "44 22\n"
     ]
    }
   ],
   "source": [
    "# with using third variable\n",
    "\n",
    "num1=22\n",
    "num2=44\n",
    "\n",
    "num3=num1\n",
    "num1=num2\n",
    "num2=num3\n",
    "print(num1,num2)"
   ]
  },
  {
   "cell_type": "code",
   "execution_count": 30,
   "id": "4d3f6bd8",
   "metadata": {},
   "outputs": [],
   "source": [
    "# 6 what is pep 8.\n",
    "# ans : Python Enhancement Proposal 8, or PEP 8, is a style guide for Python code. In 2001, Guido van Rossum, Barry Warsaw, and Nick Coghlan created PEP 8 to help Python programmers write consistent and readable code. The style guide may not always apply to your work, but it’s an important and useful tool that will elevate your code-writing process. Today, we’ll provide a brief overview of some of the fundamental pieces of the PEP 8 Python style guide, including naming conventions, code layout, comments, and more."
   ]
  },
  {
   "cell_type": "code",
   "execution_count": 32,
   "id": "1df0993b",
   "metadata": {},
   "outputs": [
    {
     "name": "stdout",
     "output_type": "stream",
     "text": [
      "5\n",
      "15\n"
     ]
    }
   ],
   "source": [
    "# 7 sum of natural numbers\n",
    "\n",
    "a=int(input())\n",
    "b=0\n",
    "for i in range(1,a+1):\n",
    "    b += i\n",
    "print(b)"
   ]
  },
  {
   "cell_type": "code",
   "execution_count": 3,
   "id": "b8bd8a03",
   "metadata": {},
   "outputs": [
    {
     "name": "stdout",
     "output_type": "stream",
     "text": [
      "55\n",
      "1 1\n",
      "1 2\n",
      "2 3\n",
      "3 5\n",
      "5 8\n",
      "8 13\n",
      "13 21\n",
      "21 34\n",
      "34 55\n",
      "55 89\n",
      "89 144\n",
      "144 233\n",
      "233 377\n",
      "377 610\n",
      "610 987\n",
      "987 1597\n",
      "1597 2584\n",
      "2584 4181\n",
      "4181 6765\n",
      "6765 10946\n",
      "10946 17711\n",
      "17711 28657\n",
      "28657 46368\n",
      "46368 75025\n",
      "75025 121393\n",
      "121393 196418\n",
      "196418 317811\n",
      "317811 514229\n",
      "514229 832040\n",
      "832040 1346269\n",
      "1346269 2178309\n",
      "2178309 3524578\n",
      "3524578 5702887\n",
      "5702887 9227465\n",
      "9227465 14930352\n",
      "14930352 24157817\n",
      "24157817 39088169\n",
      "39088169 63245986\n",
      "63245986 102334155\n",
      "102334155 165580141\n",
      "165580141 267914296\n",
      "267914296 433494437\n",
      "433494437 701408733\n",
      "701408733 1134903170\n",
      "1134903170 1836311903\n",
      "1836311903 2971215073\n",
      "2971215073 4807526976\n",
      "4807526976 7778742049\n",
      "7778742049 12586269025\n",
      "12586269025 20365011074\n",
      "20365011074 32951280099\n",
      "32951280099 53316291173\n",
      "53316291173 86267571272\n",
      "86267571272 139583862445\n",
      "139583862445 225851433717\n"
     ]
    }
   ],
   "source": [
    "# 8 fibonaki series\n",
    "e=int(input())\n",
    "a=0\n",
    "b=1\n",
    "c=0\n",
    "for i in range(e):\n",
    "    c=a+b\n",
    "    a=b\n",
    "    b=c\n",
    "    print(a,b)\n",
    "    "
   ]
  },
  {
   "cell_type": "code",
   "execution_count": 4,
   "id": "0e97bf5b",
   "metadata": {},
   "outputs": [
    {
     "name": "stdout",
     "output_type": "stream",
     "text": [
      "55\n",
      "this is not leap year\n"
     ]
    }
   ],
   "source": [
    "# 9 leap year\n",
    "\n",
    "year=int(input())\n",
    "if year %4==0:\n",
    "    if year %100==0:\n",
    "        if year %400 ==0:\n",
    "            print('this is leap year')\n",
    "        else:\n",
    "            print('this is not leap year')\n",
    "    else:\n",
    "        print('this is not leap year')\n",
    "else:\n",
    "    print('this is not leap year')\n"
   ]
  },
  {
   "cell_type": "code",
   "execution_count": 5,
   "id": "d609b6f5",
   "metadata": {},
   "outputs": [
    {
     "name": "stdout",
     "output_type": "stream",
     "text": [
      "88\n",
      "[ 0  1  2  3  4  5  6  7  8  9 10 11 12 13 14 15 16 17 18 19 20 21 22 23\n",
      " 24 25 26 27 28 29 30 31 32 33 34 35 36 37 38 39 40 41 42 43 44 45 46 47\n",
      " 48 49 50 51 52 53 54 55 56 57 58 59 60 61 62 63 64 65 66 67 68 69 70 71\n",
      " 72 73 74 75 76 77 78 79 80 81 82 83 84 85 86 87]\n"
     ]
    }
   ],
   "source": [
    "# 10 matrix programe in python\n",
    "\n",
    "import numpy as np\n",
    "a=np.array(range(int(input())))\n",
    "if len(a)%3==0:\n",
    "    b=len(a)/3\n",
    "    a=a.reshape(3,int(b))\n",
    "print(a)"
   ]
  },
  {
   "cell_type": "code",
   "execution_count": 53,
   "id": "5d434e1d",
   "metadata": {},
   "outputs": [],
   "source": [
    "# 11 quadrative equation using python\n"
   ]
  },
  {
   "cell_type": "code",
   "execution_count": 4,
   "id": "4dd47043",
   "metadata": {},
   "outputs": [
    {
     "name": "stdout",
     "output_type": "stream",
     "text": [
      "3\n",
      "37.4\n"
     ]
    }
   ],
   "source": [
    "# 12 convert celsius to fahrenheit\n",
    "\n",
    "celcious=int(input())\n",
    "fahrenheit=(celcious*9/5)+32\n",
    "print(fahrenheit)\n"
   ]
  },
  {
   "cell_type": "code",
   "execution_count": 7,
   "id": "6c16f079",
   "metadata": {},
   "outputs": [
    {
     "name": "stdout",
     "output_type": "stream",
     "text": [
      "enter the first number55\n",
      "enter the second number66\n",
      "first number is: 55\n",
      "second number is : 66\n",
      "hcf is : 11\n"
     ]
    }
   ],
   "source": [
    "# 13 write a programe to calculate lcm hcm\n",
    "\n",
    "a=int(input('enter the first number'))\n",
    "b=int(input('enter the second number'))\n",
    "\n",
    "\n",
    "hcf=1\n",
    "\n",
    "for i in range(2,a+1):\n",
    "    if(a%i==0 and b%i==0):\n",
    "        hcf=i\n",
    "print('first number is:',a)\n",
    "print('second number is :',b)\n",
    "print('hcf is :',hcf)\n",
    "        \n",
    "\n",
    "\n"
   ]
  },
  {
   "cell_type": "code",
   "execution_count": 13,
   "id": "049ad4f8",
   "metadata": {},
   "outputs": [
    {
     "name": "stdout",
     "output_type": "stream",
     "text": [
      "jay bhole\n",
      "elohb yaj\n"
     ]
    }
   ],
   "source": [
    "\n",
    "\n",
    "str1=str(input())\n",
    "ll=list(str1)\n",
    "newll=[]\n",
    "for i in range(len(ll)-1,-1,-1):\n",
    "    newll.append(ll[i])\n",
    "newll=''.join(newll)\n",
    "print(newll)\n",
    "    "
   ]
  },
  {
   "cell_type": "code",
   "execution_count": null,
   "id": "25c89813",
   "metadata": {},
   "outputs": [],
   "source": []
  }
 ],
 "metadata": {
  "kernelspec": {
   "display_name": "Python 3 (ipykernel)",
   "language": "python",
   "name": "python3"
  },
  "language_info": {
   "codemirror_mode": {
    "name": "ipython",
    "version": 3
   },
   "file_extension": ".py",
   "mimetype": "text/x-python",
   "name": "python",
   "nbconvert_exporter": "python",
   "pygments_lexer": "ipython3",
   "version": "3.9.12"
  }
 },
 "nbformat": 4,
 "nbformat_minor": 5
}
