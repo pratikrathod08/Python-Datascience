{
 "cells": [
  {
   "cell_type": "code",
   "execution_count": 1,
   "id": "0121919c",
   "metadata": {},
   "outputs": [
    {
     "data": {
      "text/plain": [
       "8"
      ]
     },
     "execution_count": 1,
     "metadata": {},
     "output_type": "execute_result"
    }
   ],
   "source": [
    "# addition\n",
    "2+6"
   ]
  },
  {
   "cell_type": "code",
   "execution_count": 2,
   "id": "a6d064ff",
   "metadata": {},
   "outputs": [
    {
     "data": {
      "text/plain": [
       "-2"
      ]
     },
     "execution_count": 2,
     "metadata": {},
     "output_type": "execute_result"
    }
   ],
   "source": [
    "# subtraction\n",
    "6-8"
   ]
  },
  {
   "cell_type": "code",
   "execution_count": 3,
   "id": "20c655fb",
   "metadata": {},
   "outputs": [
    {
     "data": {
      "text/plain": [
       "45"
      ]
     },
     "execution_count": 3,
     "metadata": {},
     "output_type": "execute_result"
    }
   ],
   "source": [
    "# multiplication\n",
    "5*9"
   ]
  },
  {
   "cell_type": "code",
   "execution_count": 4,
   "id": "763ae51b",
   "metadata": {},
   "outputs": [
    {
     "data": {
      "text/plain": [
       "0.5"
      ]
     },
     "execution_count": 4,
     "metadata": {},
     "output_type": "execute_result"
    }
   ],
   "source": [
    "# division\n",
    "4/8"
   ]
  },
  {
   "cell_type": "code",
   "execution_count": 5,
   "id": "6a4ca323",
   "metadata": {},
   "outputs": [
    {
     "data": {
      "text/plain": [
       "2"
      ]
     },
     "execution_count": 5,
     "metadata": {},
     "output_type": "execute_result"
    }
   ],
   "source": [
    "# floor division\n",
    "8//3"
   ]
  },
  {
   "cell_type": "code",
   "execution_count": 6,
   "id": "52f2a458",
   "metadata": {},
   "outputs": [
    {
     "data": {
      "text/plain": [
       "32"
      ]
     },
     "execution_count": 6,
     "metadata": {},
     "output_type": "execute_result"
    }
   ],
   "source": [
    "# exponentiation\n",
    "2**5"
   ]
  },
  {
   "cell_type": "code",
   "execution_count": 7,
   "id": "39369f71",
   "metadata": {},
   "outputs": [
    {
     "data": {
      "text/plain": [
       "2"
      ]
     },
     "execution_count": 7,
     "metadata": {},
     "output_type": "execute_result"
    }
   ],
   "source": [
    "# modulus/reminder\n",
    "5%3"
   ]
  },
  {
   "cell_type": "code",
   "execution_count": 8,
   "id": "9cabbfa0",
   "metadata": {},
   "outputs": [
    {
     "data": {
      "text/plain": [
       "97"
      ]
     },
     "execution_count": 8,
     "metadata": {},
     "output_type": "execute_result"
    }
   ],
   "source": [
    "# order of operation followed in python\n",
    "2+10*10-5"
   ]
  },
  {
   "cell_type": "code",
   "execution_count": 10,
   "id": "88e8a8c0",
   "metadata": {},
   "outputs": [
    {
     "data": {
      "text/plain": [
       "400000004.0"
      ]
     },
     "execution_count": 10,
     "metadata": {},
     "output_type": "execute_result"
    }
   ],
   "source": [
    "# scientific notation for representing large numbers\n",
    "4e8+4"
   ]
  },
  {
   "cell_type": "markdown",
   "id": "875e6378",
   "metadata": {},
   "source": [
    "# Let's talk about numbers!\n",
    "A lot many different types of numbers are supported in Python like integers (int type), real numbers (float type), complex numbers. We will mostly use integer and floating point numbers.\n",
    "Integers are just whole numbers, positive or negative. For example: 2 and -2 are examples of integers.\n",
    "Floating point numbers in Python are notable because they have a decimal point in them, or use an exponential (E) to define the number. For example 2.0 and -2.1 are examples of floating point numbers. 4E2 (4 times 10 to the power of 2) is also an example of a floating point number in Python.\n",
    "In computing, floating-point arithmetic is arithmetic using formulaic representation of real numbers as an approximation to support a trade-off between range and precision. You can always control the number of digits coming after the decimal, hence they are called floating-point numbers\n",
    "\n",
    "The table below summarises the two numeric data types, Integers and Floats:\n",
    "Examples\tNumber \"Type\"\n",
    "1,2,-5,1000\tIntegers\n",
    "1.2,-0.5,2e2,3E2\tFloating-point numbers "
   ]
  },
  {
   "cell_type": "markdown",
   "id": "e9d9ac81",
   "metadata": {},
   "source": [
    "# What is a Variable?\n",
    "\n",
    "VARIABLES are entities which help us store information and retrieve it later.\n",
    "A variable with a fixed name can store information of nature like numeric, textual, boolean etc.\n",
    "A Python variable is a reserved memory location to store values. In other words, a variable in a python program gives data to the computer for processing.\n",
    "The type of data contained in a variable can be changed at user's will."
   ]
  },
  {
   "cell_type": "code",
   "execution_count": 11,
   "id": "009e056d",
   "metadata": {},
   "outputs": [],
   "source": [
    "# You can store numbers in variables.\n",
    "# The standard rule is you write the variable name followed by = sign and the value it will take"
   ]
  },
  {
   "cell_type": "code",
   "execution_count": 12,
   "id": "2b15ba3d",
   "metadata": {},
   "outputs": [],
   "source": [
    "x=3"
   ]
  },
  {
   "cell_type": "code",
   "execution_count": 13,
   "id": "b3de5188",
   "metadata": {},
   "outputs": [
    {
     "data": {
      "text/plain": [
       "3"
      ]
     },
     "execution_count": 13,
     "metadata": {},
     "output_type": "execute_result"
    }
   ],
   "source": [
    "x"
   ]
  },
  {
   "cell_type": "code",
   "execution_count": 14,
   "id": "ebf10920",
   "metadata": {},
   "outputs": [],
   "source": [
    "y=3.5"
   ]
  },
  {
   "cell_type": "code",
   "execution_count": 15,
   "id": "62093587",
   "metadata": {},
   "outputs": [
    {
     "data": {
      "text/plain": [
       "3.5"
      ]
     },
     "execution_count": 15,
     "metadata": {},
     "output_type": "execute_result"
    }
   ],
   "source": [
    "y"
   ]
  },
  {
   "cell_type": "code",
   "execution_count": 16,
   "id": "4e47ca9f",
   "metadata": {},
   "outputs": [
    {
     "name": "stdout",
     "output_type": "stream",
     "text": [
      "3.5\n"
     ]
    }
   ],
   "source": [
    "# use inbuilt print function to print the veriable \n",
    "print(y)"
   ]
  },
  {
   "cell_type": "markdown",
   "id": "2a0d6932",
   "metadata": {},
   "source": [
    "Basic Arithmetic operations we can do on x and y. Later we will be doing operations on thousands of such numbers in one go!"
   ]
  },
  {
   "cell_type": "code",
   "execution_count": 17,
   "id": "961c9c9c",
   "metadata": {},
   "outputs": [
    {
     "name": "stdout",
     "output_type": "stream",
     "text": [
      "6.5\n"
     ]
    }
   ],
   "source": [
    "# addition \n",
    "z=x+y\n",
    "print(z)"
   ]
  },
  {
   "cell_type": "code",
   "execution_count": 18,
   "id": "ef181eca",
   "metadata": {},
   "outputs": [
    {
     "name": "stdout",
     "output_type": "stream",
     "text": [
      "0x264c651ccb0\n"
     ]
    }
   ],
   "source": [
    "# printing the memory address occupied by veriable z\n",
    "\n",
    "print(hex(id(z)))"
   ]
  },
  {
   "cell_type": "markdown",
   "id": "fe7a409c",
   "metadata": {},
   "source": [
    "A variable can be assigned different values and data types and it will store the last value assigned"
   ]
  },
  {
   "cell_type": "code",
   "execution_count": 19,
   "id": "9c6ebe37",
   "metadata": {},
   "outputs": [
    {
     "name": "stdout",
     "output_type": "stream",
     "text": [
      "-0.5\n"
     ]
    }
   ],
   "source": [
    "# subtraction\n",
    "v=x-y\n",
    "print(v)"
   ]
  },
  {
   "cell_type": "code",
   "execution_count": 20,
   "id": "df71be6c",
   "metadata": {},
   "outputs": [
    {
     "name": "stdout",
     "output_type": "stream",
     "text": [
      "0x264c657c1f0\n"
     ]
    }
   ],
   "source": [
    "# printing the memory address occupied by veriable v\n",
    "\n",
    "print(hex(id(v)))"
   ]
  },
  {
   "cell_type": "code",
   "execution_count": 21,
   "id": "f6d13580",
   "metadata": {},
   "outputs": [
    {
     "data": {
      "text/plain": [
       "float"
      ]
     },
     "execution_count": 21,
     "metadata": {},
     "output_type": "execute_result"
    }
   ],
   "source": [
    "# find out data type of variable\n",
    "\n",
    "type(z)"
   ]
  },
  {
   "cell_type": "code",
   "execution_count": 22,
   "id": "da1b1ff8",
   "metadata": {},
   "outputs": [
    {
     "data": {
      "text/plain": [
       "int"
      ]
     },
     "execution_count": 22,
     "metadata": {},
     "output_type": "execute_result"
    }
   ],
   "source": [
    "type(x)"
   ]
  },
  {
   "cell_type": "code",
   "execution_count": 23,
   "id": "65486609",
   "metadata": {},
   "outputs": [
    {
     "data": {
      "text/plain": [
       "float"
      ]
     },
     "execution_count": 23,
     "metadata": {},
     "output_type": "execute_result"
    }
   ],
   "source": [
    "type(y)"
   ]
  },
  {
   "cell_type": "code",
   "execution_count": 24,
   "id": "2b1c7f5e",
   "metadata": {},
   "outputs": [
    {
     "name": "stdout",
     "output_type": "stream",
     "text": [
      "10.5\n"
     ]
    }
   ],
   "source": [
    "# multiplication\n",
    "b=x*y\n",
    "print(b)"
   ]
  },
  {
   "cell_type": "code",
   "execution_count": 25,
   "id": "bc87b123",
   "metadata": {},
   "outputs": [],
   "source": [
    "# division\n",
    "n=x/y"
   ]
  },
  {
   "cell_type": "code",
   "execution_count": 26,
   "id": "7e35b085",
   "metadata": {},
   "outputs": [
    {
     "data": {
      "text/plain": [
       "float"
      ]
     },
     "execution_count": 26,
     "metadata": {},
     "output_type": "execute_result"
    }
   ],
   "source": [
    "# data type of veriable n\n",
    "type(n)"
   ]
  },
  {
   "cell_type": "code",
   "execution_count": 30,
   "id": "36dab1a0",
   "metadata": {},
   "outputs": [
    {
     "name": "stdout",
     "output_type": "stream",
     "text": [
      "1.0\n"
     ]
    }
   ],
   "source": [
    "# floor division\n",
    "m=y//x\n",
    "print(m)"
   ]
  },
  {
   "cell_type": "code",
   "execution_count": 31,
   "id": "d7575e48",
   "metadata": {},
   "outputs": [
    {
     "name": "stdout",
     "output_type": "stream",
     "text": [
      "1\n"
     ]
    }
   ],
   "source": [
    "# modulor operator \n",
    "# modulor denoted by %\n",
    "p=10\n",
    "q=3\n",
    "r=p%q\n",
    "print(r)"
   ]
  },
  {
   "cell_type": "code",
   "execution_count": 32,
   "id": "eb94f09c",
   "metadata": {},
   "outputs": [
    {
     "name": "stdout",
     "output_type": "stream",
     "text": [
      "1000\n"
     ]
    }
   ],
   "source": [
    "# using power and exponents\n",
    "s=p**q\n",
    "print(s)"
   ]
  },
  {
   "cell_type": "code",
   "execution_count": 33,
   "id": "a5788f93",
   "metadata": {},
   "outputs": [
    {
     "name": "stdout",
     "output_type": "stream",
     "text": [
      "3.9166666666666665\n"
     ]
    }
   ],
   "source": [
    "random_ops=(x+y)/x + (y-x)*y\n",
    "print(random_ops)"
   ]
  },
  {
   "cell_type": "code",
   "execution_count": 34,
   "id": "c12d1963",
   "metadata": {},
   "outputs": [
    {
     "name": "stdout",
     "output_type": "stream",
     "text": [
      "2.23e+34\n"
     ]
    }
   ],
   "source": [
    "# storing large int numbers\n",
    "abc=22.30E33\n",
    "print(abc)"
   ]
  },
  {
   "cell_type": "markdown",
   "id": "3752bd73",
   "metadata": {},
   "source": [
    "Rules for naming a variable in Python\n",
    "Variables names must start with a letter or an underscore like _ product , product_\n",
    "The remainder of your variable name may consist of letters, numbers and underscores\n",
    "spacy1, pyThon,machine_learning are some valid variable names\n",
    "Names are case sensitive.\n",
    "case_sensitive, CASE_SENSITIVE, and Case_Sensitive are each a different variable.\n",
    "Names cannot begin with a number. Python will throw an error when you try to do so\n",
    "Names can not contain spaces, use _ instead\n",
    "Names can not contain any of these symbols:\n",
    "\n",
    ":'\",<>/?|\\!@#%^&*~-+\n",
    "It is considered best practice that names are lowercase with underscores\n",
    "Avoid using Python built-in keywords like list, str , def etc. We will talk more about such conventions later on"
   ]
  },
  {
   "cell_type": "markdown",
   "id": "d020cc2a",
   "metadata": {},
   "source": [
    "# Boolean Variables\n",
    "A Boolean variable only takes two values either True or False. It is used for comparisons\n",
    "\n",
    "Comparison Operators\n",
    "These operators will allow us to compare variables and output a Boolean value (True or False).\n",
    "If you have any sort of background in Math, these operators should be very straight forward.\n",
    "First we'll present a table of the comparison operators and then work through some examples:\n",
    "In the table below, a=3 and b=4.\n"
   ]
  },
  {
   "cell_type": "code",
   "execution_count": 35,
   "id": "317015a1",
   "metadata": {},
   "outputs": [],
   "source": [
    "\n",
    "# Operator\tDescription\t  Example\n",
    "# ==\tIf the values of two operands are equal, then the condition becomes true.\t(a == b) is not true.\n",
    "# !=\tIf values of two operands are not equal, then condition becomes true.\t     (a != b) is true\n",
    "# >\tIf the value of left operand is greater than the value of right operand, then condition becomes true.\t(a > b) is not true.\n",
    "# <\tIf the value of left operand is less than the value of right operand, then condition becomes true.\t(a < b) is true.\n",
    "# >=\tIf the value of left operand is greater than or equal to the value of right operand, then condition becomes true.\t(a >= b) is not true.\n",
    "# <=\tIf the value of left operand is less than or equal to the value of right operand, then condition becomes true.\t(a <= b) is true.\n"
   ]
  },
  {
   "cell_type": "code",
   "execution_count": 36,
   "id": "e4088e6f",
   "metadata": {},
   "outputs": [
    {
     "data": {
      "text/plain": [
       "bool"
      ]
     },
     "execution_count": 36,
     "metadata": {},
     "output_type": "execute_result"
    }
   ],
   "source": [
    "boolean_veriable=False\n",
    "type(boolean_veriable)"
   ]
  },
  {
   "cell_type": "code",
   "execution_count": 37,
   "id": "10a5e85c",
   "metadata": {},
   "outputs": [
    {
     "name": "stdout",
     "output_type": "stream",
     "text": [
      "False\n"
     ]
    }
   ],
   "source": [
    "print(boolean_veriable)"
   ]
  },
  {
   "cell_type": "code",
   "execution_count": 38,
   "id": "eff08e32",
   "metadata": {},
   "outputs": [
    {
     "data": {
      "text/plain": [
       "False"
      ]
     },
     "execution_count": 38,
     "metadata": {},
     "output_type": "execute_result"
    }
   ],
   "source": [
    "# equal\n",
    "# Note that == is a comparison operator, while = is an assignment operator.\n",
    "\n",
    "\n",
    "2==3"
   ]
  },
  {
   "cell_type": "code",
   "execution_count": 39,
   "id": "235e388b",
   "metadata": {},
   "outputs": [
    {
     "data": {
      "text/plain": [
       "False"
      ]
     },
     "execution_count": 39,
     "metadata": {},
     "output_type": "execute_result"
    }
   ],
   "source": [
    "2==0"
   ]
  },
  {
   "cell_type": "code",
   "execution_count": 40,
   "id": "742f5af4",
   "metadata": {},
   "outputs": [
    {
     "data": {
      "text/plain": [
       "True"
      ]
     },
     "execution_count": 40,
     "metadata": {},
     "output_type": "execute_result"
    }
   ],
   "source": [
    "3==3"
   ]
  },
  {
   "cell_type": "code",
   "execution_count": 41,
   "id": "17ec3e3e",
   "metadata": {},
   "outputs": [
    {
     "data": {
      "text/plain": [
       "True"
      ]
     },
     "execution_count": 41,
     "metadata": {},
     "output_type": "execute_result"
    }
   ],
   "source": [
    "# not equal\n",
    "\n",
    "2!=1"
   ]
  },
  {
   "cell_type": "code",
   "execution_count": 42,
   "id": "a850911f",
   "metadata": {},
   "outputs": [
    {
     "data": {
      "text/plain": [
       "False"
      ]
     },
     "execution_count": 42,
     "metadata": {},
     "output_type": "execute_result"
    }
   ],
   "source": [
    "2!=2"
   ]
  },
  {
   "cell_type": "code",
   "execution_count": 43,
   "id": "a473cc83",
   "metadata": {},
   "outputs": [
    {
     "data": {
      "text/plain": [
       "True"
      ]
     },
     "execution_count": 43,
     "metadata": {},
     "output_type": "execute_result"
    }
   ],
   "source": [
    "# greater than \n",
    "\n",
    "3>2"
   ]
  },
  {
   "cell_type": "code",
   "execution_count": 44,
   "id": "65221d53",
   "metadata": {},
   "outputs": [
    {
     "name": "stdout",
     "output_type": "stream",
     "text": [
      "True\n"
     ]
    }
   ],
   "source": [
    "x=3\n",
    "y=1\n",
    "z=x>y\n",
    "print(z)"
   ]
  },
  {
   "cell_type": "code",
   "execution_count": 45,
   "id": "f10a0f1b",
   "metadata": {},
   "outputs": [
    {
     "data": {
      "text/plain": [
       "True"
      ]
     },
     "execution_count": 45,
     "metadata": {},
     "output_type": "execute_result"
    }
   ],
   "source": [
    "x==3"
   ]
  },
  {
   "cell_type": "code",
   "execution_count": 46,
   "id": "5c762d00",
   "metadata": {},
   "outputs": [
    {
     "data": {
      "text/plain": [
       "False"
      ]
     },
     "execution_count": 46,
     "metadata": {},
     "output_type": "execute_result"
    }
   ],
   "source": [
    "r>4"
   ]
  },
  {
   "cell_type": "code",
   "execution_count": 47,
   "id": "660a9c66",
   "metadata": {},
   "outputs": [
    {
     "data": {
      "text/plain": [
       "False"
      ]
     },
     "execution_count": 47,
     "metadata": {},
     "output_type": "execute_result"
    }
   ],
   "source": [
    "# less than\n",
    "\n",
    "3<2"
   ]
  },
  {
   "cell_type": "code",
   "execution_count": 48,
   "id": "aa3e816d",
   "metadata": {},
   "outputs": [
    {
     "name": "stdout",
     "output_type": "stream",
     "text": [
      "False\n"
     ]
    }
   ],
   "source": [
    "print(x<y)"
   ]
  },
  {
   "cell_type": "code",
   "execution_count": 49,
   "id": "397e08b6",
   "metadata": {},
   "outputs": [
    {
     "name": "stdout",
     "output_type": "stream",
     "text": [
      "True\n"
     ]
    }
   ],
   "source": [
    "print(y<x)"
   ]
  },
  {
   "cell_type": "code",
   "execution_count": 50,
   "id": "095d3799",
   "metadata": {},
   "outputs": [
    {
     "data": {
      "text/plain": [
       "True"
      ]
     },
     "execution_count": 50,
     "metadata": {},
     "output_type": "execute_result"
    }
   ],
   "source": [
    "# greater than or equal\n",
    "\n",
    "3>=2"
   ]
  },
  {
   "cell_type": "code",
   "execution_count": 51,
   "id": "6925aaef",
   "metadata": {},
   "outputs": [
    {
     "name": "stdout",
     "output_type": "stream",
     "text": [
      "True\n"
     ]
    }
   ],
   "source": [
    "x=4\n",
    "y=5\n",
    "print(y>=x)\n",
    "\n"
   ]
  },
  {
   "cell_type": "code",
   "execution_count": 52,
   "id": "dfc31d67",
   "metadata": {},
   "outputs": [
    {
     "name": "stdout",
     "output_type": "stream",
     "text": [
      "False\n"
     ]
    }
   ],
   "source": [
    "# less than or equal\n",
    "print(y<=x)\n"
   ]
  },
  {
   "cell_type": "code",
   "execution_count": 53,
   "id": "3b160a95",
   "metadata": {},
   "outputs": [
    {
     "data": {
      "text/plain": [
       "True"
      ]
     },
     "execution_count": 53,
     "metadata": {},
     "output_type": "execute_result"
    }
   ],
   "source": [
    "3<=5"
   ]
  },
  {
   "cell_type": "code",
   "execution_count": null,
   "id": "7048544a",
   "metadata": {},
   "outputs": [],
   "source": []
  }
 ],
 "metadata": {
  "kernelspec": {
   "display_name": "Python 3 (ipykernel)",
   "language": "python",
   "name": "python3"
  },
  "language_info": {
   "codemirror_mode": {
    "name": "ipython",
    "version": 3
   },
   "file_extension": ".py",
   "mimetype": "text/x-python",
   "name": "python",
   "nbconvert_exporter": "python",
   "pygments_lexer": "ipython3",
   "version": "3.9.12"
  }
 },
 "nbformat": 4,
 "nbformat_minor": 5
}
