{
 "cells": [
  {
   "cell_type": "markdown",
   "metadata": {
    "id": "if7mXXYjlI5a"
   },
   "source": [
    "# Functions\n",
    "\n",
    "Functions will be one of our main building blocks when we construct larger and larger amounts of code to solve problems.\n",
    "\n",
    "**So what is a function?**\n",
    "\n",
    "Formally, a function is a useful device that groups together a set of statements so they can be run more than once. They can also let us specify parameters that can serve as inputs to the functions.\n",
    "\n",
    "On a more fundamental level, functions allow us to not have to repeatedly write the same code again and again. If you remember back to the lessons on strings and lists, remember that we used a function <code>len()</code> to get the length of a string. Since checking the length of a sequence is a common task you would want to write a function that can do this repeatedly at command.\n",
    "\n",
    "Functions will be one of the most basic levels of **reusing code in Python**."
   ]
  },
  {
   "cell_type": "markdown",
   "metadata": {
    "id": "LQDR0mzFlI5f"
   },
   "source": [
    "## <code>def</code> Statements\n",
    "\n",
    "Let's see how to build out a function's syntax in Python. It has the following form:"
   ]
  },
  {
   "cell_type": "code",
   "execution_count": 1,
   "metadata": {
    "id": "-DGjmGZNlI5k"
   },
   "outputs": [],
   "source": [
    "def example_function(arg1, arg2):\n",
    "  '''\n",
    "  This is where the function's Document String (docstring) goes\n",
    "  '''\n",
    "  # Do stuff here\n",
    "  return desired_result"
   ]
  },
  {
   "cell_type": "markdown",
   "metadata": {
    "id": "q8gKQsbFlI53"
   },
   "source": [
    "* We begin with <code>def</code> then a space followed by the name of the function. Try to keep names relevant, for example <code>len()</code> is a good name for a <code>length()</code> function. Also be careful with names, you wouldn't want to call a function the same name as a [built-in function in Python](https://docs.python.org/2/library/functions.html) (such as len).\n",
    "\n",
    "* Next come a pair of parentheses with a number of arguments separated by a comma. These arguments are the inputs for your function. You'll be able to use these inputs in your function and reference them. After this you put a colon.\n",
    "\n",
    "* Now here is the important step, you must indent to begin the code inside your function correctly. Python makes use of *whitespace* to organize code. Lots of other programing languages do not do this, so keep that in mind.\n",
    "\n",
    "* Next you'll see the docstring, this is where you write a basic description of the function. Using iPython and iPython Notebooks, you'll be able to read these docstrings by pressing Shift+Tab after a function name. Docstrings are not necessary for simple functions, but it's good practice to put them in so you or other people can easily understand the code you write.\n",
    "\n",
    "After all this you begin writing the code you wish to execute.\n",
    "\n",
    "* The best way to learn functions is by going through examples. So let's try to go through examples that relate back to the various objects and data structures we learned about before.\n",
    "\n",
    "* <code>return</code> allows a function to *return* a result that can then be stored as a variable, or used in whatever manner a user wants."
   ]
  },
  {
   "cell_type": "markdown",
   "metadata": {
    "id": "AZAGdrxAlI57"
   },
   "source": [
    "## <u>Example 1</u>: Extract a list of first letters from a sentence"
   ]
  },
  {
   "cell_type": "code",
   "execution_count": 2,
   "metadata": {
    "id": "T6Lkq4wdG-e6"
   },
   "outputs": [],
   "source": [
    "heisenberg_quote = \"It ceases to exist without me. No, you clearly don't know who you're talking to, so let me clue you in. I am not in danger, Skyler. I am the danger.\""
   ]
  },
  {
   "cell_type": "code",
   "execution_count": 3,
   "metadata": {
    "colab": {
     "base_uri": "https://localhost:8080/",
     "height": 54
    },
    "id": "FbCx1-iyHCRK",
    "outputId": "ea760abb-dae1-48b8-9acc-1cace1fb3c34"
   },
   "outputs": [
    {
     "name": "stdout",
     "output_type": "stream",
     "text": [
      "['I', 'c', 't', 'e', 'w', 'm', 'N', 'y', 'c', 'd', 'k', 'w', 'y', 't', 't', 's', 'l', 'm', 'c', 'y', 'i', 'I', 'a', 'n', 'i', 'd', 'S', 'I', 'a', 't', 'd']\n"
     ]
    }
   ],
   "source": [
    "# Using the list comprehension, we can do the above task in this way\n",
    "words_by_walter = heisenberg_quote.split(' ')\n",
    "\n",
    "first_letters = [word[0] for word in words_by_walter]\n",
    "print(first_letters)"
   ]
  },
  {
   "cell_type": "markdown",
   "metadata": {
    "id": "dpRy4h7mHNW3"
   },
   "source": [
    "## Now let us write a function which does the same task for any given sentence"
   ]
  },
  {
   "cell_type": "code",
   "execution_count": 4,
   "metadata": {
    "id": "ezItgG0SlI5_"
   },
   "outputs": [],
   "source": [
    "def extract_first_letters(sentence):\n",
    "  '''\n",
    "  This function takes a sentence as an input and returns \n",
    "  the list of first letters of each word\n",
    "  '''\n",
    "  \n",
    "  # Step 1 : Get the list of words in this sentence\n",
    "  words_in_sentence = sentence.split(' ') \n",
    "\n",
    "  # Step 2: Write a list comprehension to extract the first letters\n",
    "  first_letters = [word[0] for word in words_in_sentence]\n",
    "\n",
    "  # Step 3: Return the output list first_letters  \n",
    "  return first_letters"
   ]
  },
  {
   "cell_type": "code",
   "execution_count": 5,
   "metadata": {
    "colab": {
     "base_uri": "https://localhost:8080/",
     "height": 54
    },
    "id": "izVY5GousbYm",
    "outputId": "ae42c6a0-54f0-4a1c-e742-aa81c0c7a303"
   },
   "outputs": [
    {
     "name": "stdout",
     "output_type": "stream",
     "text": [
      "['I', 'c', 't', 'e', 'w', 'm', 'N', 'y', 'c', 'd', 'k', 'w', 'y', 't', 't', 's', 'l', 'm', 'c', 'y', 'i', 'I', 'a', 'n', 'i', 'd', 'S', 'I', 'a', 't', 'd']\n"
     ]
    }
   ],
   "source": [
    "print(extract_first_letters(heisenberg_quote))"
   ]
  },
  {
   "cell_type": "code",
   "execution_count": 6,
   "metadata": {
    "colab": {
     "base_uri": "https://localhost:8080/",
     "height": 34
    },
    "id": "j-OcB5lBs0K_",
    "outputId": "5f5be2f4-b18b-4e4b-801b-08de6ae1fe72"
   },
   "outputs": [
    {
     "ename": "NameError",
     "evalue": "name 'starwars_quote' is not defined",
     "output_type": "error",
     "traceback": [
      "\u001b[1;31m---------------------------------------------------------------------------\u001b[0m",
      "\u001b[1;31mNameError\u001b[0m                                 Traceback (most recent call last)",
      "Input \u001b[1;32mIn [6]\u001b[0m, in \u001b[0;36m<cell line: 1>\u001b[1;34m()\u001b[0m\n\u001b[1;32m----> 1\u001b[0m \u001b[38;5;28mprint\u001b[39m(extract_first_letters(\u001b[43mstarwars_quote\u001b[49m))\n",
      "\u001b[1;31mNameError\u001b[0m: name 'starwars_quote' is not defined"
     ]
    }
   ],
   "source": [
    "print(extract_first_letters(starwars_quote))"
   ]
  },
  {
   "cell_type": "code",
   "execution_count": null,
   "metadata": {
    "colab": {
     "base_uri": "https://localhost:8080/",
     "height": 33
    },
    "id": "zEUax4SXlI6g",
    "outputId": "bae52fb5-4b86-414a-9a8c-7d8bc1d2fa0b"
   },
   "outputs": [],
   "source": [
    "# Store the result of the function in another variable\n",
    "first_letters_heisenberg = extract_first_letters(heisenberg_quote)\n",
    "print(first_letters_heisenberg)"
   ]
  },
  {
   "cell_type": "markdown",
   "metadata": {
    "id": "N2fXw7UkJLSs"
   },
   "source": [
    "### Let us test this function on another sentence"
   ]
  },
  {
   "cell_type": "code",
   "execution_count": 7,
   "metadata": {
    "colab": {
     "base_uri": "https://localhost:8080/",
     "height": 34
    },
    "id": "19mdKl4llI6z",
    "outputId": "66c7978a-6b4a-4699-9c33-44df41585318"
   },
   "outputs": [
    {
     "name": "stdout",
     "output_type": "stream",
     "text": [
      "['M', 't', 'F', 'b', 'w', 'y']\n"
     ]
    }
   ],
   "source": [
    "starwars_quote = \"May the Force be with you.\"\n",
    "first_letters_starwars = extract_first_letters(starwars_quote)\n",
    "print(first_letters_starwars)"
   ]
  },
  {
   "cell_type": "markdown",
   "metadata": {
    "id": "8gBuN364lI7i"
   },
   "source": [
    "## <u> Example 2</u> : Let us now write a function which returns the factorial of a number. \n",
    "\n",
    "### In mathematics, the factorial of a positive integer $n$, denoted by $n!$, is the product of all positive integers less than or equal to $n$"
   ]
  },
  {
   "cell_type": "code",
   "execution_count": 8,
   "metadata": {
    "id": "df64eHtllI7o"
   },
   "outputs": [],
   "source": [
    "def factorial(num):\n",
    "    '''\n",
    "    Function for calculating factorial of a number\n",
    "    '''\n",
    "\n",
    "    # Step 1 : Write an if  statement to print a message if the input number is negative\n",
    "    if num < 0:\n",
    "      print(\"Factorial is not defined for negative numbers.\")\n",
    "\n",
    "    # Step 2: Write the elif statement to calculate the factorial\n",
    "    elif num > 0:\n",
    "      result = 1\n",
    "      for i in range(1, num+1):\n",
    "        result = result * i\n",
    "      # print(f\"The factorial of {num} is {result}.\")\n",
    "    \n",
    "    # Step 3: Write the else statement to take care of the input 0\n",
    "    else:\n",
    "      print(\"The factorial of 0 is 1.\")\n",
    "\n",
    "    # Step 4 : Return the output variable result\n",
    "\n",
    "    return result"
   ]
  },
  {
   "cell_type": "code",
   "execution_count": 9,
   "metadata": {
    "colab": {
     "base_uri": "https://localhost:8080/",
     "height": 34
    },
    "id": "3_zNpjLR-zcF",
    "outputId": "664e2c55-d934-4d4d-837a-bc861ba1ebff"
   },
   "outputs": [
    {
     "name": "stdout",
     "output_type": "stream",
     "text": [
      "3628800\n"
     ]
    }
   ],
   "source": [
    "fact_seven = factorial(10)\n",
    "print(fact_seven)"
   ]
  },
  {
   "cell_type": "code",
   "execution_count": 10,
   "metadata": {
    "colab": {
     "base_uri": "https://localhost:8080/",
     "height": 34
    },
    "id": "AemuztG4lI75",
    "outputId": "1110836c-ef54-4496-dc40-9f8ed613a825"
   },
   "outputs": [
    {
     "name": "stdout",
     "output_type": "stream",
     "text": [
      "[6, 120]\n"
     ]
    }
   ],
   "source": [
    "# Now let us define a list of numbers for which we want to calculate the factorials\n",
    "list_of_numbers = [3, 5, 8, 12, 4, 6]\n",
    "\n",
    "# We can write a list comprehension for the same task\n",
    "factorial_list = [factorial(number) for number in list_of_numbers if number%2!=0]\n",
    "print(factorial_list)"
   ]
  },
  {
   "cell_type": "markdown",
   "metadata": {
    "id": "k6csqQJrlI8J"
   },
   "source": [
    "##<u> Example 3</u>: Let us write a function which takes a date as a string and prints the quarter as output.\n",
    "\n",
    "### Remember it is not required that functions will return a value. This is an example of such functions\n"
   ]
  },
  {
   "cell_type": "code",
   "execution_count": 11,
   "metadata": {
    "id": "Y8H9zJ8HlI8O"
   },
   "outputs": [],
   "source": [
    "def assignQuarter(user_date):\n",
    "  '''\n",
    "  This function prints the quarter for a given date string\n",
    "  '''\n",
    "\n",
    "  # Step 1 : Extract the year and month from the input date string\n",
    "  date_year = user_date[:4]\n",
    "  date_month = user_date[5:7]\n",
    "\n",
    "  # Step 2 : Store the quarter value in a string variable named quarter\n",
    "  if (date_month >= '01') & (date_month <='03'):\n",
    "    quarter = date_year + '-Q1'\n",
    "  elif (date_month >= '04') & (date_month <='06'):\n",
    "    quarter = date_year + '-Q2'\n",
    "  elif (date_month >= '07') & (date_month <='09'):\n",
    "    quarter = date_year + '-Q3'\n",
    "  else:\n",
    "    quarter = date_year + '-Q4'\n",
    "\n",
    "  # Step 3 : Print the message you want to display to the user. Here we are not returning anything  \n",
    "  print(f'The corresponding quarter for the date {user_date} is {quarter}')\n",
    "  # return quarter"
   ]
  },
  {
   "cell_type": "code",
   "execution_count": 12,
   "metadata": {
    "colab": {
     "base_uri": "https://localhost:8080/",
     "height": 34
    },
    "id": "2bUQ5FmFlI8a",
    "outputId": "5aa969b0-b236-4548-df0a-85faa3e84f4e",
    "scrolled": false
   },
   "outputs": [
    {
     "name": "stdout",
     "output_type": "stream",
     "text": [
      "The corresponding quarter for the date 2020-07-01 is 2020-Q3\n",
      "None\n"
     ]
    }
   ],
   "source": [
    "sample_date = '2020-07-01'\n",
    "date_quarter = assignQuarter(sample_date)\n",
    "print(date_quarter)"
   ]
  },
  {
   "cell_type": "code",
   "execution_count": 13,
   "metadata": {
    "colab": {
     "base_uri": "https://localhost:8080/",
     "height": 34
    },
    "id": "joS3QaIlOcs6",
    "outputId": "65c5a164-72f4-4036-98bf-1551f245896d"
   },
   "outputs": [
    {
     "name": "stdout",
     "output_type": "stream",
     "text": [
      "The corresponding quarter for the date 2020-07-01 is 2020-Q3\n"
     ]
    }
   ],
   "source": [
    "my_quarter = assignQuarter(sample_date)"
   ]
  },
  {
   "cell_type": "code",
   "execution_count": 14,
   "metadata": {
    "colab": {
     "base_uri": "https://localhost:8080/",
     "height": 34
    },
    "id": "AKXZA6UjOhAh",
    "outputId": "976db730-f94a-4448-eb2c-b0d14f90f8e0"
   },
   "outputs": [
    {
     "name": "stdout",
     "output_type": "stream",
     "text": [
      "None\n"
     ]
    }
   ],
   "source": [
    "print(my_quarter)"
   ]
  },
  {
   "cell_type": "code",
   "execution_count": 15,
   "metadata": {
    "id": "w2scRk8eO6-V"
   },
   "outputs": [
    {
     "data": {
      "text/plain": [
       "<function __main__.assignQuarter(user_date)>"
      ]
     },
     "execution_count": 15,
     "metadata": {},
     "output_type": "execute_result"
    }
   ],
   "source": [
    "assignQuarter"
   ]
  },
  {
   "cell_type": "markdown",
   "metadata": {
    "id": "vLhxFqE_lI8o"
   },
   "source": [
    "##<u> Example 4 </u>: Let us write a function with multiple return statements"
   ]
  },
  {
   "cell_type": "code",
   "execution_count": 16,
   "metadata": {
    "id": "-MvPKAGHlI8r"
   },
   "outputs": [],
   "source": [
    "def check_even_or_odd(num):\n",
    "  '''\n",
    "  This function checks whether a number is odd or even and then returns the corresponding string\n",
    "  '''\n",
    "  print(f'Given number is {num}')\n",
    "  \n",
    "  # Step 1 : Check if the number is even. If it is return 'even'\n",
    "  if num%2 == 0:\n",
    "    return 'even'\n",
    "\n",
    "  # Step 2 : Else just return 'odd'\n",
    "  \n",
    "  return 'odd'"
   ]
  },
  {
   "cell_type": "code",
   "execution_count": 17,
   "metadata": {
    "colab": {
     "base_uri": "https://localhost:8080/",
     "height": 52
    },
    "id": "Df7vsilOlI84",
    "outputId": "e6dfc1d8-445d-4817-9dcd-2485e86baa5f"
   },
   "outputs": [
    {
     "name": "stdout",
     "output_type": "stream",
     "text": [
      "Given number is 10\n",
      "even\n"
     ]
    }
   ],
   "source": [
    "is_even_odd = check_even_or_odd(10)\n",
    "print(is_even_odd)"
   ]
  },
  {
   "cell_type": "markdown",
   "metadata": {
    "id": "i_jDWr_ZlI9J"
   },
   "source": [
    "## <u> Example 5</u> : Next let us write a function which returns multiple variables at once.\n",
    "\n",
    "### In this specific example, the input is a list of numbers. And we have to return the mean and median of this list of numbers"
   ]
  },
  {
   "cell_type": "code",
   "execution_count": 18,
   "metadata": {
    "id": "kG3rgxm6ZXnp"
   },
   "outputs": [],
   "source": [
    "heights =  [172,175,170,168,170,200]"
   ]
  },
  {
   "cell_type": "code",
   "execution_count": 19,
   "metadata": {
    "id": "jivqK1-mlI9T"
   },
   "outputs": [],
   "source": [
    "def calculate_averages(my_list):\n",
    "  '''\n",
    "  This function calculates the mean and median of a given list of numbers.\n",
    "  '''\n",
    "  # Step 1 : Calculate the mean\n",
    "  mean = sum(my_list)/len(my_list)\n",
    "\n",
    "  # Step 2 : Calculate the median\n",
    "  sorted_list = sorted(my_list)\n",
    "  list_length = len(sorted_list)\n",
    "\n",
    "  if list_length%2 == 0:\n",
    "    median = (sorted_list[int(list_length/2)-1] + sorted_list[int(list_length/2)])/2\n",
    "  else :\n",
    "    median = sorted_list[int((list_length+1)/2) - 1]\n",
    "     \n",
    "  return  mean, median"
   ]
  },
  {
   "cell_type": "code",
   "execution_count": 20,
   "metadata": {
    "colab": {
     "base_uri": "https://localhost:8080/",
     "height": 34
    },
    "id": "Twu3xeb0lI97",
    "outputId": "7f5fad3f-5e32-40ce-c771-ab90f4b88168"
   },
   "outputs": [
    {
     "data": {
      "text/plain": [
       "(175.83333333333334, 171.0)"
      ]
     },
     "execution_count": 20,
     "metadata": {},
     "output_type": "execute_result"
    }
   ],
   "source": [
    "calculate_averages(heights)"
   ]
  },
  {
   "cell_type": "code",
   "execution_count": 21,
   "metadata": {
    "id": "OoOA_7PHlI-W"
   },
   "outputs": [],
   "source": [
    "mean_height, median_height = calculate_averages(heights)"
   ]
  },
  {
   "cell_type": "code",
   "execution_count": 22,
   "metadata": {
    "colab": {
     "base_uri": "https://localhost:8080/",
     "height": 34
    },
    "id": "x4XXJBEglI-j",
    "outputId": "3f3decec-3d89-4270-ca66-60a79797a79f"
   },
   "outputs": [
    {
     "data": {
      "text/plain": [
       "175.83333333333334"
      ]
     },
     "execution_count": 22,
     "metadata": {},
     "output_type": "execute_result"
    }
   ],
   "source": [
    "mean_height"
   ]
  },
  {
   "cell_type": "code",
   "execution_count": 23,
   "metadata": {
    "colab": {
     "base_uri": "https://localhost:8080/",
     "height": 34
    },
    "id": "P8N6jqmrlI-u",
    "outputId": "3c203cb7-9473-49b4-dc71-cbb25948a82b"
   },
   "outputs": [
    {
     "data": {
      "text/plain": [
       "171.0"
      ]
     },
     "execution_count": 23,
     "metadata": {},
     "output_type": "execute_result"
    }
   ],
   "source": [
    "median_height"
   ]
  },
  {
   "cell_type": "markdown",
   "metadata": {
    "id": "kn2VVLuulI_e"
   },
   "source": [
    "##<u> Example 6</u>: Now let us write a function which adds an element to a list. This functions takes the list as an argument and the element to be added"
   ]
  },
  {
   "cell_type": "code",
   "execution_count": 24,
   "metadata": {
    "id": "46MHcep3_pzR"
   },
   "outputs": [],
   "source": [
    "def add_new_elem(list,name):\n",
    "  '''this funciton is use for adding new elem'''\n",
    "  list.append(name)\n",
    "  return list"
   ]
  },
  {
   "cell_type": "code",
   "execution_count": 25,
   "metadata": {
    "colab": {
     "base_uri": "https://localhost:8080/"
    },
    "id": "Qq7SzYg8AS4N",
    "outputId": "0260cee4-9ad5-4651-a0f0-61dd9dcaa620"
   },
   "outputs": [
    {
     "data": {
      "text/plain": [
       "[2, 4, 5, 6, 6, 'freedom of speech']"
      ]
     },
     "execution_count": 25,
     "metadata": {},
     "output_type": "execute_result"
    }
   ],
   "source": [
    "add_new_elem([2,4,5,6,6],\"freedom of speech\")"
   ]
  },
  {
   "cell_type": "code",
   "execution_count": 26,
   "metadata": {
    "id": "Bkpji_8jlI_h"
   },
   "outputs": [],
   "source": [
    "def list_append(my_list, elem):\n",
    "  '''\n",
    "  This function appends an element to the list\n",
    "  '''\n",
    "  # Step 1 : Add the element to the list\n",
    "  new_list = my_list + [elem]\n",
    "\n",
    "  # Step 2 : Return the new_list  \n",
    "  return new_list"
   ]
  },
  {
   "cell_type": "code",
   "execution_count": 27,
   "metadata": {
    "colab": {
     "base_uri": "https://localhost:8080/",
     "height": 34
    },
    "id": "6Eu3ZCkV4DcU",
    "outputId": "dd3272f2-3659-463a-b2ee-79caf8767da0"
   },
   "outputs": [
    {
     "name": "stdout",
     "output_type": "stream",
     "text": [
      "[172, 175, 170, 168, 170, 200]\n"
     ]
    }
   ],
   "source": [
    "print(heights)"
   ]
  },
  {
   "cell_type": "code",
   "execution_count": 28,
   "metadata": {
    "colab": {
     "base_uri": "https://localhost:8080/",
     "height": 34
    },
    "id": "NNs0CCsolI_u",
    "outputId": "6ccaaccf-f563-4d47-d1f7-10c0990e8b1e"
   },
   "outputs": [
    {
     "data": {
      "text/plain": [
       "[172, 175, 170, 168, 170, 200, 190]"
      ]
     },
     "execution_count": 28,
     "metadata": {},
     "output_type": "execute_result"
    }
   ],
   "source": [
    "list_append(heights,190)"
   ]
  },
  {
   "cell_type": "code",
   "execution_count": 29,
   "metadata": {
    "colab": {
     "base_uri": "https://localhost:8080/",
     "height": 34
    },
    "id": "-KJKUCLH4MJx",
    "outputId": "3f6de74a-0c83-42ff-b71d-5810328d6037"
   },
   "outputs": [
    {
     "name": "stdout",
     "output_type": "stream",
     "text": [
      "[172, 175, 170, 168, 170, 200]\n"
     ]
    }
   ],
   "source": [
    "print(heights)"
   ]
  },
  {
   "cell_type": "code",
   "execution_count": 30,
   "metadata": {
    "colab": {
     "base_uri": "https://localhost:8080/",
     "height": 34
    },
    "id": "rw8GanMmlI_3",
    "outputId": "7b18030b-10cd-4e60-a59d-ff593fc5916c"
   },
   "outputs": [
    {
     "data": {
      "text/plain": [
       "[172, 175, 170, 168, 170, 200, 40]"
      ]
     },
     "execution_count": 30,
     "metadata": {},
     "output_type": "execute_result"
    }
   ],
   "source": [
    "list_append(heights, elem = 40)"
   ]
  },
  {
   "cell_type": "code",
   "execution_count": 31,
   "metadata": {
    "colab": {
     "base_uri": "https://localhost:8080/",
     "height": 34
    },
    "id": "8Gec4wsF4yzz",
    "outputId": "d2bb6c8b-6e27-425e-be05-6999ec6bf105"
   },
   "outputs": [
    {
     "name": "stdout",
     "output_type": "stream",
     "text": [
      "[172, 175, 170, 168, 170, 200]\n"
     ]
    }
   ],
   "source": [
    "print(heights)"
   ]
  },
  {
   "cell_type": "code",
   "execution_count": 32,
   "metadata": {
    "id": "kOo-JHdK41Yy"
   },
   "outputs": [],
   "source": [
    "heights.append(60)"
   ]
  },
  {
   "cell_type": "code",
   "execution_count": 33,
   "metadata": {
    "colab": {
     "base_uri": "https://localhost:8080/",
     "height": 34
    },
    "id": "opiniKlP48dn",
    "outputId": "a76169cd-89b0-4f34-8f4e-993cf970b0d7"
   },
   "outputs": [
    {
     "name": "stdout",
     "output_type": "stream",
     "text": [
      "[172, 175, 170, 168, 170, 200, 60]\n"
     ]
    }
   ],
   "source": [
    "print(heights)"
   ]
  },
  {
   "cell_type": "code",
   "execution_count": null,
   "metadata": {
    "id": "q_Sglyrn5q5P"
   },
   "outputs": [],
   "source": []
  },
  {
   "cell_type": "markdown",
   "metadata": {
    "id": "NWPhYNATjbA5"
   },
   "source": [
    "## Let us find out what are the differences between functions and methods\n",
    "\n",
    "* Function and method both look similar as they perform in an almost similar way, but the key difference is the concept of ‘Class and its Object’. Functions can be called only by its name, as it is defined independently. But methods cannot be called by its name only we need to invoke the class by reference of that class in which it is defined, that is, the method is defined within a class and hence they are dependent on that class.\n",
    "\n",
    "* A method is called by its name but it is associated with an object (dependent). It is implicitly passed to an object on which it is invoked. It may or may not return any data. A method can operate the data (instance variables) that is contained by the corresponding class."
   ]
  },
  {
   "cell_type": "markdown",
   "metadata": {
    "id": "BO25ViQ7lI36"
   },
   "source": [
    "# Methods\n",
    "\n",
    "We've already seen a few example of methods when learning about lists in Python. Methods are essentially functions built into objects.\n",
    "\n",
    "Methods perform specific actions on an object and can also take arguments, just like a function. \n",
    "\n",
    "Methods are of the form:\n",
    "\n",
    "    object.method(arg1,arg2,etc...)"
   ]
  },
  {
   "cell_type": "code",
   "execution_count": 35,
   "metadata": {
    "id": "BUbbf50vlJAH"
   },
   "outputs": [],
   "source": [
    "def insert_value_to_list(list_obj, index_to_place, value_to_place):\n",
    "  '''\n",
    "  This function inserts an element to a list at a specified index\n",
    "  '''\n",
    "\n",
    "  # Step 1 : Get the first part  \n",
    "  first_part = list_obj[0:index_to_place]\n",
    "\n",
    "  # Step 2 : Append the element at the end of the first part\n",
    "  first_part.append(value_to_place)\n",
    "\n",
    "  # Step 3 : Get the last part\n",
    "  last_part = list_obj[index_to_place:]\n",
    "\n",
    "  # Step 4 : Use the extend method to add the last part to the first part\n",
    "  first_part.extend(last_part)\n",
    "  \n",
    "  # Step 5 : Return the first part\n",
    "  return first_part"
   ]
  },
  {
   "cell_type": "code",
   "execution_count": 36,
   "metadata": {
    "id": "f6o1mUMZlJAP"
   },
   "outputs": [],
   "source": [
    "new_heights = insert_value_to_list(heights, 2, 180)"
   ]
  },
  {
   "cell_type": "code",
   "execution_count": 37,
   "metadata": {
    "colab": {
     "base_uri": "https://localhost:8080/",
     "height": 33
    },
    "id": "O5idpTBHlJAT",
    "outputId": "e18e3e47-859f-4e17-b6da-0df9e958fe96"
   },
   "outputs": [
    {
     "data": {
      "text/plain": [
       "[172, 175, 180, 170, 168, 170, 200, 60]"
      ]
     },
     "execution_count": 37,
     "metadata": {},
     "output_type": "execute_result"
    }
   ],
   "source": [
    "new_heights"
   ]
  },
  {
   "cell_type": "code",
   "execution_count": 38,
   "metadata": {
    "id": "x_X_4K8glJAX"
   },
   "outputs": [],
   "source": [
    "heights.insert(2,180)"
   ]
  },
  {
   "cell_type": "code",
   "execution_count": 39,
   "metadata": {
    "colab": {
     "base_uri": "https://localhost:8080/",
     "height": 33
    },
    "id": "HqgPIkotlJAa",
    "outputId": "6f644ec6-1cfd-439a-b57c-a6fdff5c76c1"
   },
   "outputs": [
    {
     "data": {
      "text/plain": [
       "[172, 175, 180, 170, 168, 170, 200, 60]"
      ]
     },
     "execution_count": 39,
     "metadata": {},
     "output_type": "execute_result"
    }
   ],
   "source": [
    "heights"
   ]
  },
  {
   "cell_type": "markdown",
   "metadata": {
    "id": "evEjAvNelJAi"
   },
   "source": [
    "# Scope \n",
    "\n",
    "Now that we have gone over writing our own functions, it's important to understand how Python deals with the variable names you assign. When you create a variable name in Python the name is stored in a *name-space*. Variable names also have a *scope*, the scope determines the visibility of that variable name to other parts of your code.\n",
    "\n",
    "Let's start with a quick thought experiment; imagine the following code:"
   ]
  },
  {
   "cell_type": "code",
   "execution_count": 40,
   "metadata": {
    "id": "x7pubsHulJAj"
   },
   "outputs": [],
   "source": [
    "def experiment():\n",
    "  global x\n",
    "  x = 50\n",
    " \n",
    "  return x"
   ]
  },
  {
   "cell_type": "code",
   "execution_count": 41,
   "metadata": {
    "id": "LFYhyhRtlJAr"
   },
   "outputs": [],
   "source": [
    "x = 25"
   ]
  },
  {
   "cell_type": "markdown",
   "metadata": {
    "id": "H6ZOPIBWlJAv"
   },
   "source": [
    "What do you imagine the output of <code>experiment()</code> is? 25 or 50? What is the output of print <code>x</code>? 25 or 50?"
   ]
  },
  {
   "cell_type": "code",
   "execution_count": 42,
   "metadata": {
    "colab": {
     "base_uri": "https://localhost:8080/",
     "height": 34
    },
    "id": "D-_hLJ8FlJAx",
    "outputId": "d9404239-c36c-4b6d-be6b-f8fdd8b55f4a"
   },
   "outputs": [
    {
     "data": {
      "text/plain": [
       "50"
      ]
     },
     "execution_count": 42,
     "metadata": {},
     "output_type": "execute_result"
    }
   ],
   "source": [
    "experiment()"
   ]
  },
  {
   "cell_type": "code",
   "execution_count": 43,
   "metadata": {
    "colab": {
     "base_uri": "https://localhost:8080/",
     "height": 34
    },
    "id": "ZMVobTO5lJA5",
    "outputId": "ede72c6e-5d00-43d7-c696-cbfbe5225ee3"
   },
   "outputs": [
    {
     "data": {
      "text/plain": [
       "50"
      ]
     },
     "execution_count": 43,
     "metadata": {},
     "output_type": "execute_result"
    }
   ],
   "source": [
    "experiment()"
   ]
  },
  {
   "cell_type": "code",
   "execution_count": 44,
   "metadata": {
    "colab": {
     "base_uri": "https://localhost:8080/",
     "height": 34
    },
    "id": "rPI61vyrlJA-",
    "outputId": "90efbbab-294d-407e-ee01-427996055e15"
   },
   "outputs": [
    {
     "data": {
      "text/plain": [
       "50"
      ]
     },
     "execution_count": 44,
     "metadata": {},
     "output_type": "execute_result"
    }
   ],
   "source": [
    "x"
   ]
  },
  {
   "cell_type": "markdown",
   "metadata": {
    "id": "Re4HtKjglJBG"
   },
   "source": [
    "How do we make this function take the global variable <code>x</code> and change it?"
   ]
  },
  {
   "cell_type": "code",
   "execution_count": 45,
   "metadata": {
    "id": "X-Ag1dMblJBI"
   },
   "outputs": [],
   "source": [
    "def new_experiment():\n",
    "    \n",
    "  x = 50\n",
    "\n",
    "  return x"
   ]
  },
  {
   "cell_type": "code",
   "execution_count": 46,
   "metadata": {
    "id": "3tk3f0EmlJBb"
   },
   "outputs": [],
   "source": [
    "x = 40"
   ]
  },
  {
   "cell_type": "code",
   "execution_count": 47,
   "metadata": {
    "colab": {
     "base_uri": "https://localhost:8080/",
     "height": 34
    },
    "id": "PwWs94zS8DNQ",
    "outputId": "57c55d53-bc33-48c2-e994-a74d5540cf32"
   },
   "outputs": [
    {
     "data": {
      "text/plain": [
       "40"
      ]
     },
     "execution_count": 47,
     "metadata": {},
     "output_type": "execute_result"
    }
   ],
   "source": [
    "x"
   ]
  },
  {
   "cell_type": "code",
   "execution_count": 48,
   "metadata": {
    "colab": {
     "base_uri": "https://localhost:8080/",
     "height": 34
    },
    "id": "ezV_6FpZlJBU",
    "outputId": "3535b96e-eb88-4f19-b7cc-8b64403a2ca7"
   },
   "outputs": [
    {
     "data": {
      "text/plain": [
       "50"
      ]
     },
     "execution_count": 48,
     "metadata": {},
     "output_type": "execute_result"
    }
   ],
   "source": [
    "new_experiment()"
   ]
  },
  {
   "cell_type": "markdown",
   "metadata": {
    "id": "AJDOydz_n26z"
   },
   "source": [
    "# **Python Lambda Function**"
   ]
  },
  {
   "cell_type": "markdown",
   "metadata": {
    "id": "7J64oDXcpcSJ"
   },
   "source": [
    "A lambda function is a small anonymous function.\n",
    "\n",
    "A lambda function can take any number of arguments, but can only have one expression."
   ]
  },
  {
   "cell_type": "code",
   "execution_count": 49,
   "metadata": {
    "colab": {
     "base_uri": "https://localhost:8080/"
    },
    "id": "0EsiG-qnpuAs",
    "outputId": "1f1ed016-c066-45a0-80b9-a11870927c23"
   },
   "outputs": [
    {
     "name": "stdout",
     "output_type": "stream",
     "text": [
      "13\n"
     ]
    }
   ],
   "source": [
    "x = lambda a,b : a +b\n",
    "print(x(5,8))"
   ]
  },
  {
   "cell_type": "markdown",
   "metadata": {
    "id": "cn73pPYuNAIa"
   },
   "source": [
    "I’ll start with a basic explanation. print just shows the human user a string representing what is going on inside the computer. The computer cannot make use of that printing. return is how a function gives back a value. This value is often unseen by the human user, but it can be used by the computer in further functions."
   ]
  },
  {
   "cell_type": "code",
   "execution_count": 50,
   "metadata": {
    "id": "bj5gIFaPNfNU"
   },
   "outputs": [],
   "source": [
    "def print_a_number(num):\n",
    "    print (num)\n",
    "\n",
    "def return_a_number(num):\n",
    "    return num\n",
    "\n",
    "def add_three(num):\n",
    "    return num + 3\n",
    "\n"
   ]
  },
  {
   "cell_type": "code",
   "execution_count": 51,
   "metadata": {
    "colab": {
     "base_uri": "https://localhost:8080/",
     "height": 391
    },
    "id": "4r6he1pCO-pa",
    "outputId": "6962a1b3-2300-4699-9b3a-df17f471d532"
   },
   "outputs": [
    {
     "name": "stdout",
     "output_type": "stream",
     "text": [
      "7\n",
      "None\n",
      "2\n",
      "5\n"
     ]
    },
    {
     "ename": "TypeError",
     "evalue": "unsupported operand type(s) for +: 'NoneType' and 'int'",
     "output_type": "error",
     "traceback": [
      "\u001b[1;31m---------------------------------------------------------------------------\u001b[0m",
      "\u001b[1;31mTypeError\u001b[0m                                 Traceback (most recent call last)",
      "Input \u001b[1;32mIn [51]\u001b[0m, in \u001b[0;36m<cell line: 7>\u001b[1;34m()\u001b[0m\n\u001b[0;32m      5\u001b[0m f3 \u001b[38;5;241m=\u001b[39m add_three(f2)\n\u001b[0;32m      6\u001b[0m \u001b[38;5;28mprint\u001b[39m (f3)\n\u001b[1;32m----> 7\u001b[0m f4 \u001b[38;5;241m=\u001b[39m \u001b[43madd_three\u001b[49m\u001b[43m(\u001b[49m\u001b[43mf1\u001b[49m\u001b[43m)\u001b[49m\n\u001b[0;32m      8\u001b[0m \u001b[38;5;28mprint\u001b[39m (f4)\n",
      "Input \u001b[1;32mIn [50]\u001b[0m, in \u001b[0;36madd_three\u001b[1;34m(num)\u001b[0m\n\u001b[0;32m      7\u001b[0m \u001b[38;5;28;01mdef\u001b[39;00m \u001b[38;5;21madd_three\u001b[39m(num):\n\u001b[1;32m----> 8\u001b[0m     \u001b[38;5;28;01mreturn\u001b[39;00m \u001b[43mnum\u001b[49m\u001b[43m \u001b[49m\u001b[38;5;241;43m+\u001b[39;49m\u001b[43m \u001b[49m\u001b[38;5;241;43m3\u001b[39;49m\n",
      "\u001b[1;31mTypeError\u001b[0m: unsupported operand type(s) for +: 'NoneType' and 'int'"
     ]
    }
   ],
   "source": [
    "f1 = print_a_number(7)\n",
    "f2 = return_a_number(2)\n",
    "print (f1)\n",
    "print (f2)\n",
    "f3 = add_three(f2)\n",
    "print (f3)\n",
    "f4 = add_three(f1)\n",
    "print (f4)"
   ]
  },
  {
   "cell_type": "markdown",
   "metadata": {
    "id": "bYgqqwsbERYH"
   },
   "source": [
    "if you do not  write return  statement from a function so it return the none value."
   ]
  },
  {
   "cell_type": "code",
   "execution_count": null,
   "metadata": {
    "id": "uELWCgHdO-ik"
   },
   "outputs": [],
   "source": []
  },
  {
   "cell_type": "markdown",
   "metadata": {
    "id": "fcJ-nLEjH7_r"
   },
   "source": [
    "The yield statement suspends a function’s execution and sends a value back to the caller, but retains enough state to enable the function to resume where it left off. When the function resumes, it continues execution immediately after the last yield run. This allows its code to produce a series of values over time, rather than computing them at once and sending them back like a list.\n",
    "\n",
    "Let’s see with an example:"
   ]
  },
  {
   "cell_type": "code",
   "execution_count": null,
   "metadata": {
    "id": "VutkWz7BilOt"
   },
   "outputs": [],
   "source": [
    "# A generator function\n",
    "def simpleGeneratorFun():\n",
    "    yield 67\n",
    "    yield 26\n",
    "    yield 31"
   ]
  },
  {
   "cell_type": "code",
   "execution_count": null,
   "metadata": {
    "colab": {
     "base_uri": "https://localhost:8080/"
    },
    "id": "9EIeg2M-i0g-",
    "outputId": "b1490624-dff6-4e27-98f2-ce6661076909"
   },
   "outputs": [
    {
     "name": "stdout",
     "output_type": "stream",
     "text": [
      "67\n",
      "26\n",
      "31\n"
     ]
    }
   ],
   "source": [
    "for value in simpleGeneratorFun():\n",
    "  print(value)"
   ]
  },
  {
   "cell_type": "code",
   "execution_count": null,
   "metadata": {
    "colab": {
     "base_uri": "https://localhost:8080/"
    },
    "id": "ibR6FzUfwdNl",
    "outputId": "59296281-6f98-4f3e-e098-70dd68d2c77f"
   },
   "outputs": [
    {
     "name": "stdout",
     "output_type": "stream",
     "text": [
      "12\n",
      "24\n",
      "3\n"
     ]
    }
   ],
   "source": [
    "# A Python program to demonstrate use of\n",
    "# generator object with next()\n",
    " \n",
    "# A generator function\n",
    "def simpleGeneratorFun():\n",
    "    yield 12\n",
    "    yield 24\n",
    "    yield 3\n",
    "  \n",
    "# x is a generator object\n",
    "x = simpleGeneratorFun()\n",
    " \n",
    "# Iterating over the generator object using next\n",
    "print(next(x)) # In Python 3, __next__()\n",
    "print(next(x))\n",
    "print(next(x))"
   ]
  },
  {
   "cell_type": "code",
   "execution_count": null,
   "metadata": {
    "id": "3mYM7klZwenk"
   },
   "outputs": [],
   "source": []
  }
 ],
 "metadata": {
  "colab": {
   "provenance": []
  },
  "kernelspec": {
   "display_name": "Python 3 (ipykernel)",
   "language": "python",
   "name": "python3"
  },
  "language_info": {
   "codemirror_mode": {
    "name": "ipython",
    "version": 3
   },
   "file_extension": ".py",
   "mimetype": "text/x-python",
   "name": "python",
   "nbconvert_exporter": "python",
   "pygments_lexer": "ipython3",
   "version": "3.9.12"
  }
 },
 "nbformat": 4,
 "nbformat_minor": 1
}
