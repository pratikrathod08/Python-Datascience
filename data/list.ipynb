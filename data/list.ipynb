{
 "cells": [
  {
   "cell_type": "code",
   "execution_count": 3,
   "id": "8d6b983d",
   "metadata": {},
   "outputs": [
    {
     "name": "stdout",
     "output_type": "stream",
     "text": [
      "[1, 2, 3, 4]\n"
     ]
    }
   ],
   "source": [
    "mylist=[1,2,3,4]\n",
    "print(mylist)"
   ]
  },
  {
   "cell_type": "code",
   "execution_count": 4,
   "id": "d1cd145a",
   "metadata": {},
   "outputs": [
    {
     "data": {
      "text/plain": [
       "list"
      ]
     },
     "execution_count": 4,
     "metadata": {},
     "output_type": "execute_result"
    }
   ],
   "source": [
    "type(mylist)"
   ]
  },
  {
   "cell_type": "code",
   "execution_count": 5,
   "id": "bd17cf34",
   "metadata": {},
   "outputs": [],
   "source": [
    "my_list = ['A string',23,100.232,'o',True]"
   ]
  },
  {
   "cell_type": "code",
   "execution_count": 6,
   "id": "32e74098",
   "metadata": {},
   "outputs": [
    {
     "name": "stdout",
     "output_type": "stream",
     "text": [
      "['A string', 23, 100.232, 'o', True]\n"
     ]
    }
   ],
   "source": [
    "print(my_list)"
   ]
  },
  {
   "cell_type": "code",
   "execution_count": 7,
   "id": "242a3aae",
   "metadata": {},
   "outputs": [
    {
     "data": {
      "text/plain": [
       "5"
      ]
     },
     "execution_count": 7,
     "metadata": {},
     "output_type": "execute_result"
    }
   ],
   "source": [
    "len(my_list)"
   ]
  },
  {
   "cell_type": "code",
   "execution_count": 8,
   "id": "0e85011d",
   "metadata": {},
   "outputs": [
    {
     "name": "stdout",
     "output_type": "stream",
     "text": [
      "['Mean Absolute Error', 'Mean Squared Error', 'Huber Loss', 'Log Loss', 'Hinge Loss']\n"
     ]
    }
   ],
   "source": [
    "# Consider a list of strings\n",
    "loss_functions = ['Mean Absolute Error','Mean Squared Error','Huber Loss','Log Loss','Hinge Loss']\n",
    "print(loss_functions)"
   ]
  },
  {
   "cell_type": "code",
   "execution_count": 9,
   "id": "1f81b2ac",
   "metadata": {},
   "outputs": [
    {
     "name": "stdout",
     "output_type": "stream",
     "text": [
      "Mean Absolute Error\n"
     ]
    }
   ],
   "source": [
    "# Grab the element at index 0, which is the FIRST element\n",
    "print(loss_functions[0])"
   ]
  },
  {
   "cell_type": "code",
   "execution_count": 10,
   "id": "cd2df887",
   "metadata": {},
   "outputs": [
    {
     "data": {
      "text/plain": [
       "5"
      ]
     },
     "execution_count": 10,
     "metadata": {},
     "output_type": "execute_result"
    }
   ],
   "source": [
    "len(loss_functions)"
   ]
  },
  {
   "cell_type": "code",
   "execution_count": 11,
   "id": "8fcb9f35",
   "metadata": {},
   "outputs": [
    {
     "name": "stdout",
     "output_type": "stream",
     "text": [
      "Log Loss\n"
     ]
    }
   ],
   "source": [
    "# Grab the element at index 3, which is the FOURTH element\n",
    "print(loss_functions[3])"
   ]
  },
  {
   "cell_type": "code",
   "execution_count": 12,
   "id": "3a2ec110",
   "metadata": {},
   "outputs": [
    {
     "ename": "IndexError",
     "evalue": "list index out of range",
     "output_type": "error",
     "traceback": [
      "\u001b[1;31m---------------------------------------------------------------------------\u001b[0m",
      "\u001b[1;31mIndexError\u001b[0m                                Traceback (most recent call last)",
      "Input \u001b[1;32mIn [12]\u001b[0m, in \u001b[0;36m<cell line: 1>\u001b[1;34m()\u001b[0m\n\u001b[1;32m----> 1\u001b[0m \u001b[38;5;28mprint\u001b[39m(\u001b[43mloss_functions\u001b[49m\u001b[43m[\u001b[49m\u001b[38;5;241;43m6\u001b[39;49m\u001b[43m]\u001b[49m)\n",
      "\u001b[1;31mIndexError\u001b[0m: list index out of range"
     ]
    }
   ],
   "source": [
    "print(loss_functions[6])"
   ]
  },
  {
   "cell_type": "code",
   "execution_count": 13,
   "id": "fe021af8",
   "metadata": {},
   "outputs": [
    {
     "name": "stdout",
     "output_type": "stream",
     "text": [
      "Hinge Loss\n"
     ]
    }
   ],
   "source": [
    "# Grab the element at the index -1, which is the LAST element\n",
    "print(loss_functions[-1])"
   ]
  },
  {
   "cell_type": "code",
   "execution_count": 14,
   "id": "9448c14e",
   "metadata": {},
   "outputs": [
    {
     "name": "stdout",
     "output_type": "stream",
     "text": [
      "Huber Loss\n"
     ]
    }
   ],
   "source": [
    "# Grab the element at the index -3, which is the THIRD LAST element\n",
    "print(loss_functions[-3])"
   ]
  },
  {
   "cell_type": "code",
   "execution_count": 15,
   "id": "0315ab65",
   "metadata": {},
   "outputs": [
    {
     "name": "stdout",
     "output_type": "stream",
     "text": [
      "['Mean Absolute Error', 'Mean Squared Error', 'Huber Loss', 'Log Loss', 'Hinge Loss']\n"
     ]
    }
   ],
   "source": [
    "# Print our list\n",
    "print(loss_functions)"
   ]
  },
  {
   "cell_type": "code",
   "execution_count": 16,
   "id": "680e94b6",
   "metadata": {},
   "outputs": [
    {
     "data": {
      "text/plain": [
       "['Mean Squared Error', 'Huber Loss', 'Log Loss']"
      ]
     },
     "execution_count": 16,
     "metadata": {},
     "output_type": "execute_result"
    }
   ],
   "source": [
    "# Grab the elements starting from index 1 and everything past it\n",
    "loss_functions[1:4]"
   ]
  },
  {
   "cell_type": "code",
   "execution_count": 17,
   "id": "e62eb157",
   "metadata": {},
   "outputs": [
    {
     "data": {
      "text/plain": [
       "['Huber Loss', 'Log Loss', 'Hinge Loss']"
      ]
     },
     "execution_count": 17,
     "metadata": {},
     "output_type": "execute_result"
    }
   ],
   "source": [
    "# Grab everything starting from index 2\n",
    "loss_functions[2:]"
   ]
  },
  {
   "cell_type": "code",
   "execution_count": 18,
   "id": "da2fef28",
   "metadata": {},
   "outputs": [
    {
     "data": {
      "text/plain": [
       "['Mean Absolute Error', 'Mean Squared Error', 'Huber Loss', 'Log Loss']"
      ]
     },
     "execution_count": 18,
     "metadata": {},
     "output_type": "execute_result"
    }
   ],
   "source": [
    "# Grab everything before the index 4\n",
    "loss_functions[:4]"
   ]
  },
  {
   "cell_type": "code",
   "execution_count": 19,
   "id": "f3d5c047",
   "metadata": {},
   "outputs": [
    {
     "name": "stdout",
     "output_type": "stream",
     "text": [
      "['Mean Absolute Error', 'Mean Squared Error', 'Huber Loss', 'Log Loss', 'Hinge Loss']\n"
     ]
    }
   ],
   "source": [
    "# Grab everything\n",
    "print(loss_functions[:])"
   ]
  },
  {
   "cell_type": "code",
   "execution_count": 20,
   "id": "b382d494",
   "metadata": {},
   "outputs": [
    {
     "data": {
      "text/plain": [
       "['Mean Squared Error', 'Huber Loss', 'Log Loss', 'Hinge Loss']"
      ]
     },
     "execution_count": 20,
     "metadata": {},
     "output_type": "execute_result"
    }
   ],
   "source": [
    "# Grab the LAST FOUR elements of the list\n",
    "loss_functions[-4:]"
   ]
  },
  {
   "cell_type": "code",
   "execution_count": 26,
   "id": "dad9a39d",
   "metadata": {},
   "outputs": [
    {
     "ename": "IndexError",
     "evalue": "list index out of range",
     "output_type": "error",
     "traceback": [
      "\u001b[1;31m---------------------------------------------------------------------------\u001b[0m",
      "\u001b[1;31mIndexError\u001b[0m                                Traceback (most recent call last)",
      "Input \u001b[1;32mIn [26]\u001b[0m, in \u001b[0;36m<cell line: 2>\u001b[1;34m()\u001b[0m\n\u001b[0;32m      1\u001b[0m \u001b[38;5;66;03m# * It should also be noted that list indexing will return an error if there is no element at that index.\u001b[39;00m\n\u001b[1;32m----> 2\u001b[0m \u001b[43mloss_functions\u001b[49m\u001b[43m[\u001b[49m\u001b[38;5;241;43m-\u001b[39;49m\u001b[38;5;241;43m10\u001b[39;49m\u001b[43m]\u001b[49m\n",
      "\u001b[1;31mIndexError\u001b[0m: list index out of range"
     ]
    }
   ],
   "source": [
    "# * It should also be noted that list indexing will return an error if there is no element at that index.\n",
    "loss_functions[-10]"
   ]
  },
  {
   "cell_type": "code",
   "execution_count": 23,
   "id": "9d72e251",
   "metadata": {},
   "outputs": [
    {
     "data": {
      "text/plain": [
       "5"
      ]
     },
     "execution_count": 23,
     "metadata": {},
     "output_type": "execute_result"
    }
   ],
   "source": [
    "len(loss_functions)"
   ]
  },
  {
   "cell_type": "code",
   "execution_count": 25,
   "id": "d072dbe4",
   "metadata": {},
   "outputs": [
    {
     "ename": "IndexError",
     "evalue": "list index out of range",
     "output_type": "error",
     "traceback": [
      "\u001b[1;31m---------------------------------------------------------------------------\u001b[0m",
      "\u001b[1;31mIndexError\u001b[0m                                Traceback (most recent call last)",
      "Input \u001b[1;32mIn [25]\u001b[0m, in \u001b[0;36m<cell line: 3>\u001b[1;34m()\u001b[0m\n\u001b[0;32m      1\u001b[0m \u001b[38;5;66;03m# ## List Operations\u001b[39;00m\n\u001b[0;32m      2\u001b[0m \u001b[38;5;66;03m# * Remember we said that lists are mutable as opposed to strings. Lets see how can we change the elements of a list\u001b[39;00m\n\u001b[1;32m----> 3\u001b[0m \u001b[43mloss_functions\u001b[49m\u001b[43m[\u001b[49m\u001b[38;5;241;43m8\u001b[39;49m\u001b[43m]\u001b[49m\n",
      "\u001b[1;31mIndexError\u001b[0m: list index out of range"
     ]
    }
   ],
   "source": [
    "# ## List Operations\n",
    "# * Remember we said that lists are mutable as opposed to strings. Lets see how can we change the elements of a list\n",
    "loss_functions[8]"
   ]
  },
  {
   "cell_type": "code",
   "execution_count": 27,
   "id": "effcfd37",
   "metadata": {},
   "outputs": [
    {
     "name": "stdout",
     "output_type": "stream",
     "text": [
      "['Mean Absolute Error', 'Mean Squared Error', 'Huber Loss', 'Log Loss', 'Hinge Loss']\n"
     ]
    }
   ],
   "source": [
    "print(loss_functions)"
   ]
  },
  {
   "cell_type": "code",
   "execution_count": 28,
   "id": "f2b84154",
   "metadata": {},
   "outputs": [
    {
     "data": {
      "text/plain": [
       "['Mean Absolute Error',\n",
       " 'Mean Squared Error',\n",
       " 'Huber Loss',\n",
       " 'Log Loss',\n",
       " 'Hinge Loss',\n",
       " 'Kullback-Leibler']"
      ]
     },
     "execution_count": 28,
     "metadata": {},
     "output_type": "execute_result"
    }
   ],
   "source": [
    "loss_functions + ['Kullback-Leibler']\n",
    "# * Note: This doesn't actually change the original list!"
   ]
  },
  {
   "cell_type": "code",
   "execution_count": 29,
   "id": "55d7edb2",
   "metadata": {},
   "outputs": [
    {
     "name": "stdout",
     "output_type": "stream",
     "text": [
      "['Mean Absolute Error', 'Mean Squared Error', 'Huber Loss', 'Log Loss', 'Hinge Loss']\n"
     ]
    }
   ],
   "source": [
    "print(loss_functions)"
   ]
  },
  {
   "cell_type": "code",
   "execution_count": 30,
   "id": "5f75cb77",
   "metadata": {},
   "outputs": [],
   "source": [
    "# * You would have to reassign the list to make the change permanent.\n",
    "# Reassign\n",
    "loss_functions = loss_functions + ['Kullback-Leibler']"
   ]
  },
  {
   "cell_type": "code",
   "execution_count": 31,
   "id": "1ae9478a",
   "metadata": {},
   "outputs": [
    {
     "data": {
      "text/plain": [
       "['Mean Absolute Error',\n",
       " 'Mean Squared Error',\n",
       " 'Huber Loss',\n",
       " 'Log Loss',\n",
       " 'Hinge Loss',\n",
       " 'Kullback-Leibler']"
      ]
     },
     "execution_count": 31,
     "metadata": {},
     "output_type": "execute_result"
    }
   ],
   "source": [
    "loss_functions"
   ]
  },
  {
   "cell_type": "code",
   "execution_count": 32,
   "id": "e9431ccd",
   "metadata": {},
   "outputs": [
    {
     "data": {
      "text/plain": [
       "36"
      ]
     },
     "execution_count": 32,
     "metadata": {},
     "output_type": "execute_result"
    }
   ],
   "source": [
    "# * We can also use the <code>*</code> for a duplication method similar to strings:\n",
    "# Make the list double\n",
    "len(loss_functions * 6)"
   ]
  },
  {
   "cell_type": "code",
   "execution_count": 33,
   "id": "972a6464",
   "metadata": {},
   "outputs": [],
   "source": [
    "## List Functions\n",
    "### len()\n",
    "\n",
    "\n",
    "# len() function returns the length of the list"
   ]
  },
  {
   "cell_type": "code",
   "execution_count": 34,
   "id": "cd17f4f7",
   "metadata": {},
   "outputs": [
    {
     "data": {
      "text/plain": [
       "6"
      ]
     },
     "execution_count": 34,
     "metadata": {},
     "output_type": "execute_result"
    }
   ],
   "source": [
    "len(loss_functions)"
   ]
  },
  {
   "cell_type": "code",
   "execution_count": 35,
   "id": "b71d1025",
   "metadata": {},
   "outputs": [],
   "source": [
    "new_list = [6, 9, 1,3, 5.5]"
   ]
  },
  {
   "cell_type": "code",
   "execution_count": 36,
   "id": "90a8ddde",
   "metadata": {},
   "outputs": [
    {
     "data": {
      "text/plain": [
       "1"
      ]
     },
     "execution_count": 36,
     "metadata": {},
     "output_type": "execute_result"
    }
   ],
   "source": [
    "min(new_list)"
   ]
  },
  {
   "cell_type": "code",
   "execution_count": 37,
   "id": "fc052a12",
   "metadata": {},
   "outputs": [],
   "source": [
    "my_new_list = ['a','A','b', 'z' ,'y' , 'm']"
   ]
  },
  {
   "cell_type": "code",
   "execution_count": 38,
   "id": "79ccbbce",
   "metadata": {},
   "outputs": [
    {
     "data": {
      "text/plain": [
       "'A'"
      ]
     },
     "execution_count": 38,
     "metadata": {},
     "output_type": "execute_result"
    }
   ],
   "source": [
    "min(my_new_list)"
   ]
  },
  {
   "cell_type": "code",
   "execution_count": 39,
   "id": "84ebf735",
   "metadata": {},
   "outputs": [],
   "source": [
    "new_list = ['Argue','Burglar','Parent','Linear','shape']"
   ]
  },
  {
   "cell_type": "code",
   "execution_count": 40,
   "id": "9c365db5",
   "metadata": {},
   "outputs": [
    {
     "data": {
      "text/plain": [
       "'shape'"
      ]
     },
     "execution_count": 40,
     "metadata": {},
     "output_type": "execute_result"
    }
   ],
   "source": [
    "max(new_list)"
   ]
  },
  {
   "cell_type": "code",
   "execution_count": 41,
   "id": "bbf393fa",
   "metadata": {},
   "outputs": [],
   "source": [
    "new_list = [6, 9, 1, 3, 5.5]"
   ]
  },
  {
   "cell_type": "code",
   "execution_count": 42,
   "id": "882fd44f",
   "metadata": {},
   "outputs": [
    {
     "data": {
      "text/plain": [
       "24.5"
      ]
     },
     "execution_count": 42,
     "metadata": {},
     "output_type": "execute_result"
    }
   ],
   "source": [
    "sum(new_list)"
   ]
  },
  {
   "cell_type": "code",
   "execution_count": 43,
   "id": "c58086f2",
   "metadata": {},
   "outputs": [
    {
     "data": {
      "text/plain": [
       "[6, 9, 1, 3, 5.5]"
      ]
     },
     "execution_count": 43,
     "metadata": {},
     "output_type": "execute_result"
    }
   ],
   "source": [
    "new_list"
   ]
  },
  {
   "cell_type": "code",
   "execution_count": 44,
   "id": "97854016",
   "metadata": {},
   "outputs": [
    {
     "data": {
      "text/plain": [
       "[1, 3, 5.5, 6, 9]"
      ]
     },
     "execution_count": 44,
     "metadata": {},
     "output_type": "execute_result"
    }
   ],
   "source": [
    "sorted(new_list)"
   ]
  },
  {
   "cell_type": "code",
   "execution_count": 45,
   "id": "eb70a913",
   "metadata": {},
   "outputs": [
    {
     "name": "stdout",
     "output_type": "stream",
     "text": [
      "[6, 9, 1, 3, 5.5]\n"
     ]
    }
   ],
   "source": [
    "print(new_list)\n"
   ]
  },
  {
   "cell_type": "code",
   "execution_count": 46,
   "id": "5ca4b5a3",
   "metadata": {},
   "outputs": [],
   "source": [
    "new_list = ['Argue','Burglar','Parent','Linear','shape']"
   ]
  },
  {
   "cell_type": "code",
   "execution_count": 47,
   "id": "cb4ceb8b",
   "metadata": {},
   "outputs": [
    {
     "data": {
      "text/plain": [
       "['Argue', 'Burglar', 'Linear', 'Parent', 'shape']"
      ]
     },
     "execution_count": 47,
     "metadata": {},
     "output_type": "execute_result"
    }
   ],
   "source": [
    "sorted(new_list)"
   ]
  },
  {
   "cell_type": "code",
   "execution_count": 48,
   "id": "3fea60ed",
   "metadata": {},
   "outputs": [
    {
     "name": "stdout",
     "output_type": "stream",
     "text": [
      "['Argue', 'Burglar', 'Parent', 'Linear', 'shape']\n"
     ]
    }
   ],
   "source": [
    "print(new_list)"
   ]
  },
  {
   "cell_type": "code",
   "execution_count": 49,
   "id": "1f300b1f",
   "metadata": {},
   "outputs": [
    {
     "data": {
      "text/plain": [
       "['shape', 'Parent', 'Linear', 'Burglar', 'Argue']"
      ]
     },
     "execution_count": 49,
     "metadata": {},
     "output_type": "execute_result"
    }
   ],
   "source": [
    "sorted(new_list,reverse=True)"
   ]
  },
  {
   "cell_type": "code",
   "execution_count": 50,
   "id": "f45c80ce",
   "metadata": {},
   "outputs": [
    {
     "data": {
      "text/plain": [
       "['Argue', 'Burglar', 'Linear', 'Parent', 'shape']"
      ]
     },
     "execution_count": 50,
     "metadata": {},
     "output_type": "execute_result"
    }
   ],
   "source": [
    "sorted(new_list)"
   ]
  },
  {
   "cell_type": "code",
   "execution_count": 51,
   "id": "1d82315e",
   "metadata": {},
   "outputs": [],
   "source": [
    "# Create a new list\n",
    "my_list = [1,2,3,1,1,1,3,10,5,8]"
   ]
  },
  {
   "cell_type": "code",
   "execution_count": 52,
   "id": "8eb82319",
   "metadata": {},
   "outputs": [
    {
     "data": {
      "text/plain": [
       "[1, 2, 3, 1, 1, 1, 3, 10, 5, 8]"
      ]
     },
     "execution_count": 52,
     "metadata": {},
     "output_type": "execute_result"
    }
   ],
   "source": [
    "# Print the list\n",
    "my_list"
   ]
  },
  {
   "cell_type": "code",
   "execution_count": 53,
   "id": "e2b2d181",
   "metadata": {},
   "outputs": [
    {
     "data": {
      "text/plain": [
       "10"
      ]
     },
     "execution_count": 53,
     "metadata": {},
     "output_type": "execute_result"
    }
   ],
   "source": [
    "len(my_list)"
   ]
  },
  {
   "cell_type": "code",
   "execution_count": 54,
   "id": "3caeae4b",
   "metadata": {},
   "outputs": [],
   "source": [
    "# Append to the end of the list\n",
    "my_list.append('Append me!')"
   ]
  },
  {
   "cell_type": "code",
   "execution_count": 55,
   "id": "4303e507",
   "metadata": {},
   "outputs": [
    {
     "name": "stdout",
     "output_type": "stream",
     "text": [
      "[1, 2, 3, 1, 1, 1, 3, 10, 5, 8, 'Append me!']\n"
     ]
    }
   ],
   "source": [
    "print(my_list)"
   ]
  },
  {
   "cell_type": "code",
   "execution_count": 56,
   "id": "8c9feb30",
   "metadata": {},
   "outputs": [
    {
     "data": {
      "text/plain": [
       "11"
      ]
     },
     "execution_count": 56,
     "metadata": {},
     "output_type": "execute_result"
    }
   ],
   "source": [
    "len(my_list)"
   ]
  },
  {
   "cell_type": "code",
   "execution_count": 57,
   "id": "44f914b7",
   "metadata": {},
   "outputs": [],
   "source": [
    "# Show\n",
    "my_list.append(2.73)"
   ]
  },
  {
   "cell_type": "code",
   "execution_count": 58,
   "id": "87d54003",
   "metadata": {},
   "outputs": [
    {
     "name": "stdout",
     "output_type": "stream",
     "text": [
      "[1, 2, 3, 1, 1, 1, 3, 10, 5, 8, 'Append me!', 2.73]\n"
     ]
    }
   ],
   "source": [
    "print(my_list)"
   ]
  },
  {
   "cell_type": "code",
   "execution_count": 59,
   "id": "cb9450a9",
   "metadata": {},
   "outputs": [],
   "source": [
    "my_list.append([1,2,3])"
   ]
  },
  {
   "cell_type": "code",
   "execution_count": 60,
   "id": "7d2adae1",
   "metadata": {},
   "outputs": [
    {
     "data": {
      "text/plain": [
       "[1, 2, 3, 1, 1, 1, 3, 10, 5, 8, 'Append me!', 2.73, [1, 2, 3]]"
      ]
     },
     "execution_count": 60,
     "metadata": {},
     "output_type": "execute_result"
    }
   ],
   "source": [
    "my_list"
   ]
  },
  {
   "cell_type": "code",
   "execution_count": 61,
   "id": "ff4eeefd",
   "metadata": {},
   "outputs": [
    {
     "data": {
      "text/plain": [
       "13"
      ]
     },
     "execution_count": 61,
     "metadata": {},
     "output_type": "execute_result"
    }
   ],
   "source": [
    "len(my_list)"
   ]
  },
  {
   "cell_type": "code",
   "execution_count": 62,
   "id": "476f77d6",
   "metadata": {},
   "outputs": [],
   "source": [
    "my_list.append([10,[19,20],30])"
   ]
  },
  {
   "cell_type": "code",
   "execution_count": 63,
   "id": "2ec3b4cd",
   "metadata": {},
   "outputs": [
    {
     "data": {
      "text/plain": [
       "14"
      ]
     },
     "execution_count": 63,
     "metadata": {},
     "output_type": "execute_result"
    }
   ],
   "source": [
    "len(my_list)"
   ]
  },
  {
   "cell_type": "code",
   "execution_count": 64,
   "id": "b58dbde8",
   "metadata": {},
   "outputs": [
    {
     "name": "stdout",
     "output_type": "stream",
     "text": [
      "[1, 2, 3, 1, 1, 1, 3, 10, 5, 8, 'Append me!', 2.73, [1, 2, 3], [10, [19, 20], 30]]\n"
     ]
    }
   ],
   "source": [
    "# Print the list\n",
    "print(my_list)"
   ]
  },
  {
   "cell_type": "code",
   "execution_count": 65,
   "id": "e92dca2e",
   "metadata": {},
   "outputs": [],
   "source": [
    "my_list.extend(['Wubba','Lubba','Dub Dub'])"
   ]
  },
  {
   "cell_type": "code",
   "execution_count": 66,
   "id": "4b96ba18",
   "metadata": {},
   "outputs": [
    {
     "name": "stdout",
     "output_type": "stream",
     "text": [
      "[1, 2, 3, 1, 1, 1, 3, 10, 5, 8, 'Append me!', 2.73, [1, 2, 3], [10, [19, 20], 30], 'Wubba', 'Lubba', 'Dub Dub']\n"
     ]
    }
   ],
   "source": [
    "print(my_list)"
   ]
  },
  {
   "cell_type": "code",
   "execution_count": 67,
   "id": "b2685a2a",
   "metadata": {},
   "outputs": [
    {
     "data": {
      "text/plain": [
       "17"
      ]
     },
     "execution_count": 67,
     "metadata": {},
     "output_type": "execute_result"
    }
   ],
   "source": [
    "len(my_list)"
   ]
  },
  {
   "cell_type": "code",
   "execution_count": 68,
   "id": "be2aa578",
   "metadata": {},
   "outputs": [
    {
     "name": "stdout",
     "output_type": "stream",
     "text": [
      "[1, 2, 3, 1, 1, 1, 3, 10, 5, 8, 'Append me!', 2.73, [1, 2, 3], [10, [19, 20], 30], 'Wubba', 'Lubba', 'Dub Dub']\n"
     ]
    }
   ],
   "source": [
    "# Print the list\n",
    "print(my_list)"
   ]
  },
  {
   "cell_type": "code",
   "execution_count": 69,
   "id": "228500dc",
   "metadata": {},
   "outputs": [
    {
     "data": {
      "text/plain": [
       "'Dub Dub'"
      ]
     },
     "execution_count": 69,
     "metadata": {},
     "output_type": "execute_result"
    }
   ],
   "source": [
    "# Pop off the 0 indexed item\n",
    "my_list.pop()"
   ]
  },
  {
   "cell_type": "code",
   "execution_count": 70,
   "id": "ba371710",
   "metadata": {},
   "outputs": [
    {
     "name": "stdout",
     "output_type": "stream",
     "text": [
      "[1, 2, 3, 1, 1, 1, 3, 10, 5, 8, 'Append me!', 2.73, [1, 2, 3], [10, [19, 20], 30], 'Wubba', 'Lubba']\n"
     ]
    }
   ],
   "source": [
    "print(my_list)"
   ]
  },
  {
   "cell_type": "code",
   "execution_count": 71,
   "id": "ecf16adc",
   "metadata": {},
   "outputs": [
    {
     "data": {
      "text/plain": [
       "'Lubba'"
      ]
     },
     "execution_count": 71,
     "metadata": {},
     "output_type": "execute_result"
    }
   ],
   "source": [
    "# Assign the popped element, remember default popped index is -1\n",
    "my_list.pop(-1)"
   ]
  },
  {
   "cell_type": "code",
   "execution_count": 72,
   "id": "502478f7",
   "metadata": {},
   "outputs": [
    {
     "data": {
      "text/plain": [
       "15"
      ]
     },
     "execution_count": 72,
     "metadata": {},
     "output_type": "execute_result"
    }
   ],
   "source": [
    "len(my_list)"
   ]
  },
  {
   "cell_type": "code",
   "execution_count": 73,
   "id": "8958bd32",
   "metadata": {},
   "outputs": [
    {
     "name": "stdout",
     "output_type": "stream",
     "text": [
      "[1, 2, 3, 1, 1, 1, 3, 10, 5, 8, 'Append me!', 2.73, [1, 2, 3], [10, [19, 20], 30], 'Wubba']\n"
     ]
    }
   ],
   "source": [
    "print(my_list)"
   ]
  },
  {
   "cell_type": "code",
   "execution_count": 74,
   "id": "b7de5b4c",
   "metadata": {},
   "outputs": [
    {
     "name": "stdout",
     "output_type": "stream",
     "text": [
      "[1, 2, 3, 1, 1, 1, 3, 10, 5, 8, 'Append me!', 2.73, [1, 2, 3], [10, [19, 20], 30], 'Wubba']\n"
     ]
    }
   ],
   "source": [
    "# Print the list\n",
    "print(my_list)"
   ]
  },
  {
   "cell_type": "code",
   "execution_count": 75,
   "id": "c1f5fd20",
   "metadata": {},
   "outputs": [],
   "source": [
    "# Remove the element which you want to \n",
    "my_list.remove([10, [19, 20], 30])"
   ]
  },
  {
   "cell_type": "code",
   "execution_count": 76,
   "id": "793e8769",
   "metadata": {},
   "outputs": [
    {
     "name": "stdout",
     "output_type": "stream",
     "text": [
      "[1, 2, 3, 1, 1, 1, 3, 10, 5, 8, 'Append me!', 2.73, [1, 2, 3], 'Wubba']\n"
     ]
    }
   ],
   "source": [
    "# Show\n",
    "print(my_list)"
   ]
  },
  {
   "cell_type": "code",
   "execution_count": 77,
   "id": "dc8c1876",
   "metadata": {},
   "outputs": [],
   "source": [
    "my_list.remove([1,2,3])"
   ]
  },
  {
   "cell_type": "code",
   "execution_count": 78,
   "id": "c581ee50",
   "metadata": {},
   "outputs": [
    {
     "name": "stdout",
     "output_type": "stream",
     "text": [
      "[1, 2, 3, 1, 1, 1, 3, 10, 5, 8, 'Append me!', 2.73, 'Wubba']\n"
     ]
    }
   ],
   "source": [
    "print(my_list)"
   ]
  },
  {
   "cell_type": "code",
   "execution_count": 81,
   "id": "f9a9362e",
   "metadata": {},
   "outputs": [
    {
     "data": {
      "text/plain": [
       "13"
      ]
     },
     "execution_count": 81,
     "metadata": {},
     "output_type": "execute_result"
    }
   ],
   "source": [
    "len(my_list)"
   ]
  },
  {
   "cell_type": "code",
   "execution_count": 83,
   "id": "49864698",
   "metadata": {},
   "outputs": [],
   "source": [
    "my_list.remove(1)"
   ]
  },
  {
   "cell_type": "code",
   "execution_count": 84,
   "id": "90018036",
   "metadata": {},
   "outputs": [
    {
     "name": "stdout",
     "output_type": "stream",
     "text": [
      "[2, 3, 1, 1, 3, 10, 5, 8, 'Append me!', 2.73, 'Wubba']\n"
     ]
    }
   ],
   "source": [
    "print(my_list)"
   ]
  },
  {
   "cell_type": "code",
   "execution_count": 85,
   "id": "8d88ff7e",
   "metadata": {},
   "outputs": [
    {
     "data": {
      "text/plain": [
       "11"
      ]
     },
     "execution_count": 85,
     "metadata": {},
     "output_type": "execute_result"
    }
   ],
   "source": [
    "len(my_list)"
   ]
  },
  {
   "cell_type": "code",
   "execution_count": 87,
   "id": "a3b7b841",
   "metadata": {},
   "outputs": [],
   "source": [
    "my_list.clear()"
   ]
  },
  {
   "cell_type": "code",
   "execution_count": 88,
   "id": "6611d937",
   "metadata": {},
   "outputs": [
    {
     "name": "stdout",
     "output_type": "stream",
     "text": [
      "[]\n"
     ]
    }
   ],
   "source": [
    "print(my_list)"
   ]
  },
  {
   "cell_type": "code",
   "execution_count": 89,
   "id": "ccbfac1f",
   "metadata": {},
   "outputs": [
    {
     "name": "stdout",
     "output_type": "stream",
     "text": [
      "[]\n"
     ]
    }
   ],
   "source": [
    "print(my_list)"
   ]
  },
  {
   "cell_type": "code",
   "execution_count": 90,
   "id": "e633b475",
   "metadata": {},
   "outputs": [],
   "source": [
    "# Create a new list\n",
    "my_list = [1,2,3,1,1,1,3,10,5,8]"
   ]
  },
  {
   "cell_type": "code",
   "execution_count": 91,
   "id": "5c809195",
   "metadata": {},
   "outputs": [
    {
     "data": {
      "text/plain": [
       "0"
      ]
     },
     "execution_count": 91,
     "metadata": {},
     "output_type": "execute_result"
    }
   ],
   "source": [
    "# Count the number of times element 1 occurs in my_list\n",
    "my_list.count('Wubba')"
   ]
  },
  {
   "cell_type": "code",
   "execution_count": 92,
   "id": "58a6b339",
   "metadata": {},
   "outputs": [
    {
     "data": {
      "text/plain": [
       "4"
      ]
     },
     "execution_count": 92,
     "metadata": {},
     "output_type": "execute_result"
    }
   ],
   "source": [
    "my_list.count(1)"
   ]
  },
  {
   "cell_type": "code",
   "execution_count": 93,
   "id": "4e57f0cc",
   "metadata": {},
   "outputs": [
    {
     "name": "stdout",
     "output_type": "stream",
     "text": [
      "[1, 2, 3, 1, 1, 1, 3, 10, 5, 8]\n"
     ]
    }
   ],
   "source": [
    "print(my_list)"
   ]
  },
  {
   "cell_type": "code",
   "execution_count": 94,
   "id": "bf8e1b5e",
   "metadata": {},
   "outputs": [
    {
     "ename": "ValueError",
     "evalue": "'Wubba' is not in list",
     "output_type": "error",
     "traceback": [
      "\u001b[1;31m---------------------------------------------------------------------------\u001b[0m",
      "\u001b[1;31mValueError\u001b[0m                                Traceback (most recent call last)",
      "Input \u001b[1;32mIn [94]\u001b[0m, in \u001b[0;36m<cell line: 1>\u001b[1;34m()\u001b[0m\n\u001b[1;32m----> 1\u001b[0m \u001b[43mmy_list\u001b[49m\u001b[38;5;241;43m.\u001b[39;49m\u001b[43mindex\u001b[49m\u001b[43m(\u001b[49m\u001b[38;5;124;43m'\u001b[39;49m\u001b[38;5;124;43mWubba\u001b[39;49m\u001b[38;5;124;43m'\u001b[39;49m\u001b[43m)\u001b[49m\n",
      "\u001b[1;31mValueError\u001b[0m: 'Wubba' is not in list"
     ]
    }
   ],
   "source": [
    "my_list.index('Wubba')"
   ]
  },
  {
   "cell_type": "code",
   "execution_count": 95,
   "id": "f93eb003",
   "metadata": {},
   "outputs": [
    {
     "data": {
      "text/plain": [
       "2"
      ]
     },
     "execution_count": 95,
     "metadata": {},
     "output_type": "execute_result"
    }
   ],
   "source": [
    "my_list.index(3)"
   ]
  },
  {
   "cell_type": "code",
   "execution_count": 96,
   "id": "d0e740ca",
   "metadata": {},
   "outputs": [],
   "source": [
    "new_list = [6, 9, 1, 3, 5]"
   ]
  },
  {
   "cell_type": "code",
   "execution_count": 97,
   "id": "0d3d0e7c",
   "metadata": {},
   "outputs": [],
   "source": [
    "# Use sort to sort the list (this is permanent!)\n",
    "new_list.sort()"
   ]
  },
  {
   "cell_type": "code",
   "execution_count": 98,
   "id": "c3154d9a",
   "metadata": {},
   "outputs": [
    {
     "name": "stdout",
     "output_type": "stream",
     "text": [
      "[1, 3, 5, 6, 9]\n"
     ]
    }
   ],
   "source": [
    "print(new_list)"
   ]
  },
  {
   "cell_type": "code",
   "execution_count": 99,
   "id": "12cf90c2",
   "metadata": {},
   "outputs": [
    {
     "name": "stdout",
     "output_type": "stream",
     "text": [
      "[9, 6, 5, 3, 1]\n"
     ]
    }
   ],
   "source": [
    "# Use the reverse boolean to set the ascending or descending order\n",
    "new_list.sort(reverse=True)\n",
    "print(new_list)"
   ]
  },
  {
   "cell_type": "code",
   "execution_count": 100,
   "id": "4eed63a6",
   "metadata": {},
   "outputs": [],
   "source": [
    "boolean_list = [True, False]"
   ]
  },
  {
   "cell_type": "code",
   "execution_count": 101,
   "id": "64b235a6",
   "metadata": {},
   "outputs": [],
   "source": [
    "boolean_list.sort(reverse=True)"
   ]
  },
  {
   "cell_type": "code",
   "execution_count": 102,
   "id": "10312676",
   "metadata": {},
   "outputs": [
    {
     "name": "stdout",
     "output_type": "stream",
     "text": [
      "[True, False]\n"
     ]
    }
   ],
   "source": [
    "print(boolean_list)"
   ]
  },
  {
   "cell_type": "code",
   "execution_count": 103,
   "id": "35bb887b",
   "metadata": {},
   "outputs": [],
   "source": [
    "my_list = [1, 1, 1, 1, 1.43, 2, 3, 3, 5, 8, 10, 'Lubba', 'Dub Dub']"
   ]
  },
  {
   "cell_type": "code",
   "execution_count": 104,
   "id": "3fa8e97b",
   "metadata": {},
   "outputs": [
    {
     "name": "stdout",
     "output_type": "stream",
     "text": [
      "[1, 1, 1, 1, 1.43, 2, 3, 3, 5, 8, 10, 'Lubba', 'Dub Dub']\n"
     ]
    }
   ],
   "source": [
    "print(my_list)"
   ]
  },
  {
   "cell_type": "code",
   "execution_count": 105,
   "id": "ac1da11e",
   "metadata": {},
   "outputs": [],
   "source": [
    "my_list.reverse()\n"
   ]
  },
  {
   "cell_type": "code",
   "execution_count": 106,
   "id": "8e2104c7",
   "metadata": {},
   "outputs": [
    {
     "name": "stdout",
     "output_type": "stream",
     "text": [
      "['Dub Dub', 'Lubba', 10, 8, 5, 3, 3, 2, 1.43, 1, 1, 1, 1]\n"
     ]
    }
   ],
   "source": [
    "print(my_list)"
   ]
  },
  {
   "cell_type": "code",
   "execution_count": 107,
   "id": "341f999f",
   "metadata": {},
   "outputs": [],
   "source": [
    "# Let's make three lists\n",
    "lst_1=[1,2,3]\n",
    "lst_2=['b','a','d']\n",
    "lst_3=[7,8,9]\n",
    "\n",
    "# Make a list of lists to form a matrix\n",
    "list_of_lists = [lst_1,lst_2,lst_3]"
   ]
  },
  {
   "cell_type": "code",
   "execution_count": 108,
   "id": "2e137a3d",
   "metadata": {},
   "outputs": [
    {
     "name": "stdout",
     "output_type": "stream",
     "text": [
      "[[1, 2, 3], ['b', 'a', 'd'], [7, 8, 9]]\n"
     ]
    }
   ],
   "source": [
    "print(list_of_lists)"
   ]
  },
  {
   "cell_type": "code",
   "execution_count": 109,
   "id": "f93cb956",
   "metadata": {},
   "outputs": [
    {
     "data": {
      "text/plain": [
       "list"
      ]
     },
     "execution_count": 109,
     "metadata": {},
     "output_type": "execute_result"
    }
   ],
   "source": [
    "# Show\n",
    "type(list_of_lists)"
   ]
  },
  {
   "cell_type": "code",
   "execution_count": 110,
   "id": "b71accb4",
   "metadata": {},
   "outputs": [
    {
     "data": {
      "text/plain": [
       "['b', 'a', 'd']"
      ]
     },
     "execution_count": 110,
     "metadata": {},
     "output_type": "execute_result"
    }
   ],
   "source": [
    "# Grab first item in matrix object\n",
    "list_of_lists[1]"
   ]
  },
  {
   "cell_type": "code",
   "execution_count": 111,
   "id": "7a1ba4ff",
   "metadata": {},
   "outputs": [
    {
     "data": {
      "text/plain": [
       "['b', 'a', 'd']"
      ]
     },
     "execution_count": 111,
     "metadata": {},
     "output_type": "execute_result"
    }
   ],
   "source": [
    "# Grab first item of the first item in the matrix object\n",
    "list_of_lists[1]"
   ]
  },
  {
   "cell_type": "code",
   "execution_count": 113,
   "id": "0d691034",
   "metadata": {},
   "outputs": [
    {
     "ename": "SyntaxError",
     "evalue": "invalid syntax (2534886325.py, line 1)",
     "output_type": "error",
     "traceback": [
      "\u001b[1;36m  Input \u001b[1;32mIn [113]\u001b[1;36m\u001b[0m\n\u001b[1;33m    list_of_lists[1][1][][][]\u001b[0m\n\u001b[1;37m                        ^\u001b[0m\n\u001b[1;31mSyntaxError\u001b[0m\u001b[1;31m:\u001b[0m invalid syntax\n"
     ]
    }
   ],
   "source": [
    "list_of_lists[1][1][][][]"
   ]
  },
  {
   "cell_type": "code",
   "execution_count": null,
   "id": "79ef6685",
   "metadata": {},
   "outputs": [],
   "source": []
  }
 ],
 "metadata": {
  "kernelspec": {
   "display_name": "Python 3 (ipykernel)",
   "language": "python",
   "name": "python3"
  },
  "language_info": {
   "codemirror_mode": {
    "name": "ipython",
    "version": 3
   },
   "file_extension": ".py",
   "mimetype": "text/x-python",
   "name": "python",
   "nbconvert_exporter": "python",
   "pygments_lexer": "ipython3",
   "version": "3.9.12"
  }
 },
 "nbformat": 4,
 "nbformat_minor": 5
}
