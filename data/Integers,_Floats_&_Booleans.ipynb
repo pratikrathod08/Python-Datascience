{
 "cells": [
  {
   "cell_type": "markdown",
   "metadata": {
    "id": "UhmgnA67JbOo"
   },
   "source": [
    "## Different data types we will encounter in Python\n",
    "* ### <u>Numeric</u>  - Numeric variables take values which are numbers like 9, 3.14, 0, Inf\n",
    "\n",
    "\n",
    "* ### <u>String </u>  - String variables are used to store textual information\n",
    "\n",
    "\n",
    "* ### <u>Boolean</u>  - Boolean variables have two modes either True or False. A definite judge of statements!\n",
    "\n",
    "\n",
    "* ### <u>Datetime </u> - These variables are used to store date and time values such as 2020-08-01 12:23:54"
   ]
  },
  {
   "cell_type": "markdown",
   "metadata": {
    "id": "I9Fwf5ooJbOq"
   },
   "source": [
    "# <u> Integers and Floats </u>"
   ]
  },
  {
   "cell_type": "markdown",
   "metadata": {
    "id": "Mfy5IszoJbOr"
   },
   "source": [
    "## Basic Arithmetic "
   ]
  },
  {
   "cell_type": "code",
   "execution_count": 1,
   "metadata": {
    "colab": {
     "base_uri": "https://localhost:8080/",
     "height": 34
    },
    "id": "sn4BtpEIJbOr",
    "outputId": "d8cab123-7e5d-48d2-e7be-6371d1d89fc0"
   },
   "outputs": [
    {
     "data": {
      "text/plain": [
       "3"
      ]
     },
     "execution_count": 1,
     "metadata": {},
     "output_type": "execute_result"
    }
   ],
   "source": [
    "# Addition\n",
    "2+1"
   ]
  },
  {
   "cell_type": "code",
   "execution_count": 2,
   "metadata": {
    "colab": {
     "base_uri": "https://localhost:8080/",
     "height": 34
    },
    "id": "oQYLI1w4JbOx",
    "outputId": "042ef49e-e7b6-49c5-bc8b-0f608635c185"
   },
   "outputs": [
    {
     "data": {
      "text/plain": [
       "-3"
      ]
     },
     "execution_count": 2,
     "metadata": {},
     "output_type": "execute_result"
    }
   ],
   "source": [
    "# Subtraction\n",
    "2-5"
   ]
  },
  {
   "cell_type": "code",
   "execution_count": 3,
   "metadata": {
    "colab": {
     "base_uri": "https://localhost:8080/",
     "height": 34
    },
    "id": "ZRun8NmAJbO0",
    "outputId": "9e657f3d-6eba-4e67-a429-e3a316604806"
   },
   "outputs": [
    {
     "data": {
      "text/plain": [
       "4"
      ]
     },
     "execution_count": 3,
     "metadata": {},
     "output_type": "execute_result"
    }
   ],
   "source": [
    "# Multiplication\n",
    "2*2"
   ]
  },
  {
   "cell_type": "code",
   "execution_count": 4,
   "metadata": {
    "colab": {
     "base_uri": "https://localhost:8080/",
     "height": 34
    },
    "id": "etEpKlXqJbO2",
    "outputId": "5a4e32fd-cfed-46a5-f893-36fd459578da"
   },
   "outputs": [
    {
     "data": {
      "text/plain": [
       "1.5"
      ]
     },
     "execution_count": 4,
     "metadata": {},
     "output_type": "execute_result"
    }
   ],
   "source": [
    "# Division\n",
    "3/2"
   ]
  },
  {
   "cell_type": "code",
   "execution_count": 5,
   "metadata": {
    "colab": {
     "base_uri": "https://localhost:8080/",
     "height": 34
    },
    "id": "_6rPJxI6JbO5",
    "outputId": "e146051d-58d1-40be-cde5-eae19cf9ebba"
   },
   "outputs": [
    {
     "data": {
      "text/plain": [
       "3"
      ]
     },
     "execution_count": 5,
     "metadata": {},
     "output_type": "execute_result"
    }
   ],
   "source": [
    "# Floor Division\n",
    "7//2"
   ]
  },
  {
   "cell_type": "code",
   "execution_count": 6,
   "metadata": {
    "colab": {
     "base_uri": "https://localhost:8080/",
     "height": 34
    },
    "id": "-nwZ9QhfJbO8",
    "outputId": "d5333f83-f108-4845-ba40-50bfe06747f1"
   },
   "outputs": [
    {
     "data": {
      "text/plain": [
       "32"
      ]
     },
     "execution_count": 6,
     "metadata": {},
     "output_type": "execute_result"
    }
   ],
   "source": [
    "# Exponentiation\n",
    "2**5"
   ]
  },
  {
   "cell_type": "code",
   "execution_count": 7,
   "metadata": {
    "colab": {
     "base_uri": "https://localhost:8080/",
     "height": 34
    },
    "id": "JuBKbD6rJbO-",
    "outputId": "3012d49a-ae22-4f65-b85f-9cd1fa7f6c84"
   },
   "outputs": [
    {
     "data": {
      "text/plain": [
       "5"
      ]
     },
     "execution_count": 7,
     "metadata": {},
     "output_type": "execute_result"
    }
   ],
   "source": [
    "# Modulus\n",
    "5%6"
   ]
  },
  {
   "cell_type": "code",
   "execution_count": 8,
   "metadata": {
    "colab": {
     "base_uri": "https://localhost:8080/",
     "height": 34
    },
    "id": "GwB4UnlJJbPD",
    "outputId": "fafb62bd-8b56-47f4-d0d7-17e2ccf7f13c"
   },
   "outputs": [
    {
     "data": {
      "text/plain": [
       "105"
      ]
     },
     "execution_count": 8,
     "metadata": {},
     "output_type": "execute_result"
    }
   ],
   "source": [
    "# Order of Operations followed in Python\n",
    "2 + 10 * 10 + 3"
   ]
  },
  {
   "cell_type": "code",
   "execution_count": 9,
   "metadata": {
    "colab": {
     "base_uri": "https://localhost:8080/",
     "height": 34
    },
    "id": "tL0-wPcvJbPF",
    "outputId": "a6cc53b0-6177-4699-8e81-08def8534ecc"
   },
   "outputs": [
    {
     "data": {
      "text/plain": [
       "132"
      ]
     },
     "execution_count": 9,
     "metadata": {},
     "output_type": "execute_result"
    }
   ],
   "source": [
    "2+ 10* (10+3)"
   ]
  },
  {
   "cell_type": "code",
   "execution_count": 10,
   "metadata": {
    "colab": {
     "base_uri": "https://localhost:8080/",
     "height": 34
    },
    "id": "Zx1mkJYQJbPJ",
    "outputId": "d819d253-a304-4e55-c880-cc601e269c4f"
   },
   "outputs": [
    {
     "data": {
      "text/plain": [
       "4000000.0"
      ]
     },
     "execution_count": 10,
     "metadata": {},
     "output_type": "execute_result"
    }
   ],
   "source": [
    "# Scientific Notation for representing large numbers\n",
    "4E6"
   ]
  },
  {
   "cell_type": "markdown",
   "metadata": {
    "id": "SAG3VykOJbPM"
   },
   "source": [
    "## Let's talk about numbers!\n",
    "\n",
    "* A lot many different types of numbers are supported in Python like integers (int type), real numbers (float type), complex numbers. We will mostly use integer and floating point numbers.\n",
    "\n",
    "\n",
    "* Integers are just whole numbers, positive or negative. For example: 2 and -2 are examples of integers.\n",
    "\n",
    "\n",
    "* Floating point numbers in Python are notable because they have a decimal point in them, or use an exponential (E) to define the number. For example 2.0 and -2.1 are examples of floating point numbers. 4E2 (4 times 10 to the power of 2) is also an example of a floating point number in Python.\n",
    "\n",
    "\n",
    "* In computing, floating-point arithmetic is arithmetic using formulaic representation of real numbers as an approximation to support a trade-off between range and precision. You can always control the number of digits coming after the decimal, hence they are called floating-point numbers"
   ]
  },
  {
   "cell_type": "markdown",
   "metadata": {
    "id": "mdf-bQxnJbPN"
   },
   "source": [
    "### The table below summarises the two numeric data types, Integers and Floats:\n",
    "<table>\n",
    "<tr>\n",
    "    <th>Examples</th> \n",
    "    <th>Number \"Type\"</th>\n",
    "</tr>\n",
    "\n",
    "<tr>\n",
    "    <td>1,2,-5,1000</td>\n",
    "    <td>Integers</td> \n",
    "</tr>\n",
    "\n",
    "<tr>\n",
    "    <td>1.2,-0.5,2e2,3E2</td> \n",
    "    <td>Floating-point numbers</td> \n",
    "</tr>\n",
    " </table>"
   ]
  },
  {
   "cell_type": "markdown",
   "metadata": {
    "id": "rU046YbcJbPN"
   },
   "source": [
    "## <u> What is a Variable? <u/>"
   ]
  },
  {
   "cell_type": "markdown",
   "metadata": {
    "id": "gW5YEnarJbPO"
   },
   "source": [
    "###  VARIABLES are entities which help us store information and retrieve it later. \n",
    "\n",
    " * A variable with a fixed name can store information of nature like numeric, textual, boolean etc.\n",
    " \n",
    " \n",
    " * A Python variable is a reserved memory location to store values. In other words, a variable in a python program gives data to the computer for processing.\n",
    " \n",
    " \n",
    " * The type of data contained in a variable can be changed at user's will. "
   ]
  },
  {
   "cell_type": "code",
   "execution_count": 11,
   "metadata": {
    "id": "GMzBISF_JbPO"
   },
   "outputs": [],
   "source": [
    "# You can store numbers in variables.\n",
    "# The standard rule is you write the variable name followed by = sign and the value it will take\n",
    "\n",
    "x=5"
   ]
  },
  {
   "cell_type": "code",
   "execution_count": 12,
   "metadata": {
    "colab": {
     "base_uri": "https://localhost:8080/",
     "height": 34
    },
    "id": "sfHKamM3JbPR",
    "outputId": "c38a5251-0c6f-469d-c7dd-278c4fe778fe"
   },
   "outputs": [
    {
     "data": {
      "text/plain": [
       "5"
      ]
     },
     "execution_count": 12,
     "metadata": {},
     "output_type": "execute_result"
    }
   ],
   "source": [
    "x"
   ]
  },
  {
   "cell_type": "code",
   "execution_count": 13,
   "metadata": {
    "colab": {
     "base_uri": "https://localhost:8080/",
     "height": 34
    },
    "id": "UedV9GDlJbPU",
    "outputId": "d9884251-c507-4a98-a1ae-7da7c73e4032"
   },
   "outputs": [
    {
     "data": {
      "text/plain": [
       "6.4"
      ]
     },
     "execution_count": 13,
     "metadata": {},
     "output_type": "execute_result"
    }
   ],
   "source": [
    "y=6.4\n",
    "y"
   ]
  },
  {
   "cell_type": "code",
   "execution_count": 14,
   "metadata": {
    "colab": {
     "base_uri": "https://localhost:8080/",
     "height": 34
    },
    "id": "OcUpyTY2Z4Fn",
    "outputId": "26c91e77-9d6d-4ea9-9a18-605e4e998ab2"
   },
   "outputs": [
    {
     "name": "stdout",
     "output_type": "stream",
     "text": [
      "6.4\n"
     ]
    }
   ],
   "source": [
    "print(y)"
   ]
  },
  {
   "cell_type": "markdown",
   "metadata": {
    "id": "1--OZJQAJbPW"
   },
   "source": [
    "### Basic Arithmetic operations we can do on x and y. Later we will be doing operations on thousands of such numbers in one go!"
   ]
  },
  {
   "cell_type": "code",
   "execution_count": 15,
   "metadata": {
    "colab": {
     "base_uri": "https://localhost:8080/",
     "height": 34
    },
    "id": "BNWS99YXJbPX",
    "outputId": "783ce05d-7aac-4083-8216-9d4b1fed01f7"
   },
   "outputs": [
    {
     "name": "stdout",
     "output_type": "stream",
     "text": [
      "11.4\n"
     ]
    }
   ],
   "source": [
    "# Addition\n",
    "z = x+y\n",
    "\n",
    "print(z)"
   ]
  },
  {
   "cell_type": "code",
   "execution_count": 16,
   "metadata": {
    "id": "zusqZqZTJbPZ",
    "outputId": "8b842bc8-cda8-44dc-a030-f6f616f09666"
   },
   "outputs": [
    {
     "name": "stdout",
     "output_type": "stream",
     "text": [
      "0x1a0543fd9b0\n"
     ]
    }
   ],
   "source": [
    "# Printing the memory address the variable z occupies\n",
    "print(hex(id(z)))"
   ]
  },
  {
   "cell_type": "markdown",
   "metadata": {
    "id": "eo0mqrbOJbPb"
   },
   "source": [
    "* ### A variable can be assigned different values and data types and it will store the last value assigned"
   ]
  },
  {
   "cell_type": "code",
   "execution_count": 17,
   "metadata": {
    "colab": {
     "base_uri": "https://localhost:8080/",
     "height": 34
    },
    "id": "GNgNOpjIJbPc",
    "outputId": "2bacd1ac-746c-4c4d-c282-f151963f239a"
   },
   "outputs": [
    {
     "name": "stdout",
     "output_type": "stream",
     "text": [
      "-1.4000000000000004\n"
     ]
    }
   ],
   "source": [
    "# Subtraction\n",
    "z = x-y\n",
    "\n",
    "# Use the in-built print function to print the variable\n",
    "print(z)"
   ]
  },
  {
   "cell_type": "code",
   "execution_count": 18,
   "metadata": {
    "id": "uQWOqYjdJbPe",
    "outputId": "0b7a9c73-0cd9-4eda-d927-e0cfb6ecb8b0"
   },
   "outputs": [
    {
     "name": "stdout",
     "output_type": "stream",
     "text": [
      "0x1a054460090\n"
     ]
    }
   ],
   "source": [
    "# Printing the memory address the variable z occupies\n",
    "print(hex(id(z)))"
   ]
  },
  {
   "cell_type": "code",
   "execution_count": 19,
   "metadata": {
    "colab": {
     "base_uri": "https://localhost:8080/",
     "height": 34
    },
    "id": "RajV71HZJbPh",
    "outputId": "cdd47eda-5299-44e9-cfb0-aa20c578a060"
   },
   "outputs": [
    {
     "data": {
      "text/plain": [
       "float"
      ]
     },
     "execution_count": 19,
     "metadata": {},
     "output_type": "execute_result"
    }
   ],
   "source": [
    " # Find out the data type of variable z\n",
    "type(y) "
   ]
  },
  {
   "cell_type": "code",
   "execution_count": 20,
   "metadata": {
    "colab": {
     "base_uri": "https://localhost:8080/",
     "height": 50
    },
    "id": "WThvonSGJbPk",
    "outputId": "f358dd97-a70c-4b71-fb64-6ac6b0ee1c4e"
   },
   "outputs": [
    {
     "name": "stdout",
     "output_type": "stream",
     "text": [
      "32.0\n"
     ]
    },
    {
     "data": {
      "text/plain": [
       "float"
      ]
     },
     "execution_count": 20,
     "metadata": {},
     "output_type": "execute_result"
    }
   ],
   "source": [
    "# Multiplication\n",
    "z = x*y\n",
    "\n",
    "print(z)  # Print the variable z\n",
    "type(z)   # Get the data type of variable z"
   ]
  },
  {
   "cell_type": "code",
   "execution_count": 21,
   "metadata": {
    "colab": {
     "base_uri": "https://localhost:8080/",
     "height": 50
    },
    "id": "Jz0GA8TtJbPn",
    "outputId": "0d9268a2-1c9b-4a7b-d599-9328790cd4b9"
   },
   "outputs": [
    {
     "name": "stdout",
     "output_type": "stream",
     "text": [
      "0.78125\n"
     ]
    },
    {
     "data": {
      "text/plain": [
       "float"
      ]
     },
     "execution_count": 21,
     "metadata": {},
     "output_type": "execute_result"
    }
   ],
   "source": [
    "# Division\n",
    "z = x/y\n",
    "\n",
    "print(z) # Print the variable z\n",
    "type(z)  # Get the data type of variable z"
   ]
  },
  {
   "cell_type": "code",
   "execution_count": 22,
   "metadata": {
    "colab": {
     "base_uri": "https://localhost:8080/",
     "height": 34
    },
    "id": "UFPxHaByJbPp",
    "outputId": "09338790-fdfd-4288-f451-ec12deb8c43d"
   },
   "outputs": [
    {
     "name": "stdout",
     "output_type": "stream",
     "text": [
      "0.0\n"
     ]
    }
   ],
   "source": [
    "# Floor division\n",
    "z= x//y  #  Remember x=5, y=6.4\n",
    "print(z)"
   ]
  },
  {
   "cell_type": "markdown",
   "metadata": {
    "id": "tRtsrmQoJbPt"
   },
   "source": [
    "### Waittt! Shouldn't it be 0.75??\n",
    "* The reason we get this result is because we are using \"*floor*\" division. The <code>//</code> operator (two forward slashes) is the mathematical equivalent of doing [0.75] which returns the greatest integer less than or equal to 0.75"
   ]
  },
  {
   "cell_type": "code",
   "execution_count": 23,
   "metadata": {
    "colab": {
     "base_uri": "https://localhost:8080/",
     "height": 34
    },
    "id": "mkmUH8cuJbPu",
    "outputId": "c642fa75-6858-4f8b-8441-f730e8cffd4e"
   },
   "outputs": [
    {
     "name": "stdout",
     "output_type": "stream",
     "text": [
      "2\n"
     ]
    }
   ],
   "source": [
    "# Modulo operator\n",
    "y=5\n",
    "x=3\n",
    "\n",
    "z = y%x       # Modulus is denoted by % sign\n",
    "print(z)"
   ]
  },
  {
   "cell_type": "code",
   "execution_count": 24,
   "metadata": {
    "colab": {
     "base_uri": "https://localhost:8080/",
     "height": 34
    },
    "id": "-gOV0xtCJbPz",
    "outputId": "1f24c1f2-5780-44c7-a25f-d5fd00359728"
   },
   "outputs": [
    {
     "name": "stdout",
     "output_type": "stream",
     "text": [
      "243\n"
     ]
    }
   ],
   "source": [
    "# Using powers and exponents\n",
    "\n",
    "z = x**y    # We did not even need to store it in another variable nor use print command\n",
    "print(z)"
   ]
  },
  {
   "cell_type": "code",
   "execution_count": 25,
   "metadata": {
    "colab": {
     "base_uri": "https://localhost:8080/",
     "height": 50
    },
    "id": "yjojlOq0JbP1",
    "outputId": "f770430b-ccc9-4985-e0d8-616488843c6e"
   },
   "outputs": [
    {
     "name": "stdout",
     "output_type": "stream",
     "text": [
      "7.6\n"
     ]
    },
    {
     "data": {
      "text/plain": [
       "float"
      ]
     },
     "execution_count": 25,
     "metadata": {},
     "output_type": "execute_result"
    }
   ],
   "source": [
    "# BODMAS nostalgia\n",
    "some_random_operation =(x+y)/y + (y-x)*x     \n",
    "\n",
    "print(some_random_operation)\n",
    "type(some_random_operation)"
   ]
  },
  {
   "cell_type": "code",
   "execution_count": 26,
   "metadata": {
    "colab": {
     "base_uri": "https://localhost:8080/",
     "height": 34
    },
    "id": "6GTBsnuoJbP4",
    "outputId": "a9a6dcc5-0ee9-4c8f-af21-084c17f443d9"
   },
   "outputs": [
    {
     "name": "stdout",
     "output_type": "stream",
     "text": [
      "6.22e+23\n"
     ]
    }
   ],
   "source": [
    "# Storing large integer numbers\n",
    "avogadro = 6.22E23\n",
    "\n",
    "print(avogadro)"
   ]
  },
  {
   "cell_type": "markdown",
   "metadata": {
    "id": "rxeNuG-pJbP6"
   },
   "source": [
    "##  Rules for naming a variable in Python\n",
    "\n",
    "* Variables names must start with a letter or an underscore like _ product , product_\n",
    "\n",
    "\n",
    "* The remainder of your variable name may consist of letters, numbers and underscores\n",
    "\n",
    "\n",
    "* spacy1, pyThon,machine_learning are some valid variable names\n",
    "\n",
    "\n",
    "* Names are case sensitive.\n",
    "\n",
    "\n",
    "* case_sensitive, CASE_SENSITIVE, and Case_Sensitive are each a different variable.\n"
   ]
  },
  {
   "cell_type": "code",
   "execution_count": 27,
   "metadata": {
    "id": "40Ov9gtSJbP7"
   },
   "outputs": [
    {
     "ename": "SyntaxError",
     "evalue": "invalid syntax (2480654070.py, line 1)",
     "output_type": "error",
     "traceback": [
      "\u001b[1;36m  Input \u001b[1;32mIn [27]\u001b[1;36m\u001b[0m\n\u001b[1;33m    1oNone = 4\u001b[0m\n\u001b[1;37m     ^\u001b[0m\n\u001b[1;31mSyntaxError\u001b[0m\u001b[1;31m:\u001b[0m invalid syntax\n"
     ]
    }
   ],
   "source": [
    "1oNone = 4"
   ]
  },
  {
   "cell_type": "code",
   "execution_count": 28,
   "metadata": {
    "id": "OxnashdWfE2K"
   },
   "outputs": [],
   "source": [
    "onone_abc_1 = 5"
   ]
  },
  {
   "cell_type": "code",
   "execution_count": 29,
   "metadata": {
    "id": "68UBfOefgmGr"
   },
   "outputs": [],
   "source": [
    "list = 5"
   ]
  },
  {
   "cell_type": "code",
   "execution_count": 30,
   "metadata": {
    "colab": {
     "base_uri": "https://localhost:8080/",
     "height": 34
    },
    "id": "0DAMNZTLgp10",
    "outputId": "af43a98e-8414-41cb-8fd1-65273870923a"
   },
   "outputs": [
    {
     "data": {
      "text/plain": [
       "5"
      ]
     },
     "execution_count": 30,
     "metadata": {},
     "output_type": "execute_result"
    }
   ],
   "source": [
    "list"
   ]
  },
  {
   "cell_type": "markdown",
   "metadata": {
    "id": "3IqwZAzbJbP-"
   },
   "source": [
    "* Names cannot begin with a number. Python will throw an error when you try to do so \n",
    "\n",
    "\n",
    "* Names can not contain spaces, use _ instead\n",
    "\n",
    "\n",
    "* Names can not contain any of these symbols:\n",
    "\n",
    "      :'\",<>/?|\\!@#%^&*~-+\n",
    "      \n",
    "      \n",
    "* It is considered best practice that names are lowercase with underscores\n",
    "\n",
    "\n",
    "* Avoid using Python built-in keywords like `list`, `str` , `def` etc. We will talk more about such conventions later on"
   ]
  },
  {
   "cell_type": "markdown",
   "metadata": {
    "id": "1y0i15DhJbP-"
   },
   "source": [
    "# <u>Boolean Variables </u>\n",
    "\n",
    "* A Boolean variable only takes two values either True or False. It is used for comparisons"
   ]
  },
  {
   "cell_type": "markdown",
   "metadata": {
    "id": "35lrqYk2JbP-"
   },
   "source": [
    "## Comparison Operators \n",
    "\n",
    "* These operators will allow us to compare variables and output a Boolean value (True or False). \n",
    "\n",
    "\n",
    "* If you have any sort of background in Math, these operators should be very straight forward.\n",
    "\n",
    "\n",
    "* First we'll present a table of the comparison operators and then work through some examples:\n",
    "\n",
    "\n",
    "* In the table below, a=3 and b=4.\n",
    "\n",
    "<table class=\"table table-bordered\">\n",
    "<tr>\n",
    "<th style=\"width:10%\">Operator</th><th style=\"width:45%\">Description</th><th>Example</th>\n",
    "</tr>\n",
    "<tr>\n",
    "<td>==</td>\n",
    "<td>If the values of two operands are equal, then the condition becomes true.</td>\n",
    "<td> (a == b) is not true.</td>\n",
    "</tr>\n",
    "<tr>\n",
    "<td>!=</td>\n",
    "<td>If values of two operands are not equal, then condition becomes true.</td>\n",
    "<td>(a != b) is true</td>\n",
    "</tr>\n",
    "<tr>\n",
    "<td>&gt;</td>\n",
    "<td>If the value of left operand is greater than the value of right operand, then condition becomes true.</td>\n",
    "<td> (a &gt; b) is not true.</td>\n",
    "</tr>\n",
    "<tr>\n",
    "<td>&lt;</td>\n",
    "<td>If the value of left operand is less than the value of right operand, then condition becomes true.</td>\n",
    "<td> (a &lt; b) is true.</td>\n",
    "</tr>\n",
    "<tr>\n",
    "<td>&gt;=</td>\n",
    "<td>If the value of left operand is greater than or equal to the value of right operand, then condition becomes true.</td>\n",
    "<td> (a &gt;= b) is not true. </td>\n",
    "</tr>\n",
    "<tr>\n",
    "<td>&lt;=</td>\n",
    "<td>If the value of left operand is less than or equal to the value of right operand, then condition becomes true.</td>\n",
    "<td> (a &lt;= b) is true. </td>\n",
    "</tr>\n",
    "</table>"
   ]
  },
  {
   "cell_type": "markdown",
   "metadata": {
    "id": "k5qrpfOfJbP_"
   },
   "source": [
    "* Python  comes with Booleans (with predefined True and False displays that are basically just the integers 1 and 0). It also has a placeholder object called None. Let's walk through a few quick examples of Booleans (we will dive deeper into them later in this course)."
   ]
  },
  {
   "cell_type": "code",
   "execution_count": 31,
   "metadata": {
    "colab": {
     "base_uri": "https://localhost:8080/",
     "height": 34
    },
    "id": "4HGbSLf_JbP_",
    "outputId": "7a89dfde-8359-4822-aa0d-0b58de94a3fb"
   },
   "outputs": [
    {
     "data": {
      "text/plain": [
       "bool"
      ]
     },
     "execution_count": 31,
     "metadata": {},
     "output_type": "execute_result"
    }
   ],
   "source": [
    "# Set object to be a boolean\n",
    "boolean_variable = False\n",
    "type(boolean_variable)"
   ]
  },
  {
   "cell_type": "code",
   "execution_count": 32,
   "metadata": {
    "colab": {
     "base_uri": "https://localhost:8080/",
     "height": 34
    },
    "id": "KbXp_CYVJbQC",
    "outputId": "614846fb-8f03-4232-ca17-eaabfed9bd0c"
   },
   "outputs": [
    {
     "data": {
      "text/plain": [
       "False"
      ]
     },
     "execution_count": 32,
     "metadata": {},
     "output_type": "execute_result"
    }
   ],
   "source": [
    "#Show\n",
    "boolean_variable"
   ]
  },
  {
   "cell_type": "markdown",
   "metadata": {
    "id": "XTNlwY9rJbQG"
   },
   "source": [
    "### Equal"
   ]
  },
  {
   "cell_type": "code",
   "execution_count": 33,
   "metadata": {
    "colab": {
     "base_uri": "https://localhost:8080/",
     "height": 34
    },
    "id": "B2HBAmBxJbQG",
    "outputId": "12512d25-266b-4d39-9d75-119095485443"
   },
   "outputs": [
    {
     "data": {
      "text/plain": [
       "False"
      ]
     },
     "execution_count": 33,
     "metadata": {},
     "output_type": "execute_result"
    }
   ],
   "source": [
    "2 == 3"
   ]
  },
  {
   "cell_type": "code",
   "execution_count": 34,
   "metadata": {
    "id": "St2N7ToUJbQI",
    "outputId": "79f5b573-f7e7-44b4-bf37-eb4fa25b2449"
   },
   "outputs": [
    {
     "data": {
      "text/plain": [
       "False"
      ]
     },
     "execution_count": 34,
     "metadata": {},
     "output_type": "execute_result"
    }
   ],
   "source": [
    "2==0"
   ]
  },
  {
   "cell_type": "markdown",
   "metadata": {
    "id": "rffDn2hzJbQM"
   },
   "source": [
    "* <u> Note that <code>==</code> is a comparison operator, while <code>=</code> is an assignment operator. </u>"
   ]
  },
  {
   "cell_type": "markdown",
   "metadata": {
    "id": "zXobe57HJbQM"
   },
   "source": [
    "### Not equal"
   ]
  },
  {
   "cell_type": "code",
   "execution_count": 35,
   "metadata": {
    "colab": {
     "base_uri": "https://localhost:8080/",
     "height": 34
    },
    "id": "-ITcsIujJbQM",
    "outputId": "0df844ca-2da7-4ec1-8f03-6a3cab84719c"
   },
   "outputs": [
    {
     "data": {
      "text/plain": [
       "True"
      ]
     },
     "execution_count": 35,
     "metadata": {},
     "output_type": "execute_result"
    }
   ],
   "source": [
    "2!=0"
   ]
  },
  {
   "cell_type": "code",
   "execution_count": 36,
   "metadata": {
    "colab": {
     "base_uri": "https://localhost:8080/",
     "height": 34
    },
    "id": "MeLL5zC4JbQQ",
    "outputId": "55a8bf34-c3d8-4e19-d05a-9ead63c878a4"
   },
   "outputs": [
    {
     "data": {
      "text/plain": [
       "False"
      ]
     },
     "execution_count": 36,
     "metadata": {},
     "output_type": "execute_result"
    }
   ],
   "source": [
    "2!=2"
   ]
  },
  {
   "cell_type": "markdown",
   "metadata": {
    "id": "JCs_Qrt-JbQS"
   },
   "source": [
    "### Greater than"
   ]
  },
  {
   "cell_type": "code",
   "execution_count": 37,
   "metadata": {
    "colab": {
     "base_uri": "https://localhost:8080/",
     "height": 34
    },
    "id": "JVbaxgIDJbQS",
    "outputId": "383b0e59-8697-43cb-adf0-94233e502c80",
    "scrolled": true
   },
   "outputs": [
    {
     "data": {
      "text/plain": [
       "True"
      ]
     },
     "execution_count": 37,
     "metadata": {},
     "output_type": "execute_result"
    }
   ],
   "source": [
    "a=3\n",
    "b=2\n",
    "a> b"
   ]
  },
  {
   "cell_type": "code",
   "execution_count": 38,
   "metadata": {
    "colab": {
     "base_uri": "https://localhost:8080/",
     "height": 34
    },
    "id": "PZ1zdvTTJbQU",
    "outputId": "b64d6e7e-58ef-4d0a-b927-3b7857dc8f41"
   },
   "outputs": [
    {
     "data": {
      "text/plain": [
       "True"
      ]
     },
     "execution_count": 38,
     "metadata": {},
     "output_type": "execute_result"
    }
   ],
   "source": [
    "a == 3"
   ]
  },
  {
   "cell_type": "code",
   "execution_count": 39,
   "metadata": {
    "colab": {
     "base_uri": "https://localhost:8080/",
     "height": 34
    },
    "id": "C6ChRkkxJbQW",
    "outputId": "dcea2dcc-3767-4644-b9e9-873a24fe1502"
   },
   "outputs": [
    {
     "data": {
      "text/plain": [
       "False"
      ]
     },
     "execution_count": 39,
     "metadata": {},
     "output_type": "execute_result"
    }
   ],
   "source": [
    "b > 4"
   ]
  },
  {
   "cell_type": "markdown",
   "metadata": {
    "id": "HXhCSJvBJbQY"
   },
   "source": [
    "### Less than"
   ]
  },
  {
   "cell_type": "code",
   "execution_count": 40,
   "metadata": {
    "colab": {
     "base_uri": "https://localhost:8080/",
     "height": 34
    },
    "id": "AffaxmdTJbQY",
    "outputId": "043b79ef-32ad-4b16-edea-d8a14a1d2d0f"
   },
   "outputs": [
    {
     "data": {
      "text/plain": [
       "True"
      ]
     },
     "execution_count": 40,
     "metadata": {},
     "output_type": "execute_result"
    }
   ],
   "source": [
    "10 < 45"
   ]
  },
  {
   "cell_type": "code",
   "execution_count": 41,
   "metadata": {
    "colab": {
     "base_uri": "https://localhost:8080/",
     "height": 34
    },
    "id": "yX1roPJCJbQa",
    "outputId": "48be0f03-4c73-431c-ff09-42b18d9ce5fd"
   },
   "outputs": [
    {
     "data": {
      "text/plain": [
       "False"
      ]
     },
     "execution_count": 41,
     "metadata": {},
     "output_type": "execute_result"
    }
   ],
   "source": [
    "4 < 2"
   ]
  },
  {
   "cell_type": "markdown",
   "metadata": {
    "id": "HHQGVtfyJbQe"
   },
   "source": [
    "### Greater than or equal to"
   ]
  },
  {
   "cell_type": "code",
   "execution_count": 42,
   "metadata": {
    "colab": {
     "base_uri": "https://localhost:8080/",
     "height": 34
    },
    "id": "_Qw-yrpRJbQe",
    "outputId": "a2d12230-f2a3-4d9b-fbdb-962a02a05d7b"
   },
   "outputs": [
    {
     "data": {
      "text/plain": [
       "True"
      ]
     },
     "execution_count": 42,
     "metadata": {},
     "output_type": "execute_result"
    }
   ],
   "source": [
    "3 >=2"
   ]
  },
  {
   "cell_type": "code",
   "execution_count": 43,
   "metadata": {
    "colab": {
     "base_uri": "https://localhost:8080/",
     "height": 34
    },
    "id": "Cj3UpbKTJbQh",
    "outputId": "6c29f433-9153-44c0-c438-55c76ea6ce3a"
   },
   "outputs": [
    {
     "data": {
      "text/plain": [
       "True"
      ]
     },
     "execution_count": 43,
     "metadata": {},
     "output_type": "execute_result"
    }
   ],
   "source": [
    "4 >= 4"
   ]
  },
  {
   "cell_type": "markdown",
   "metadata": {
    "id": "9A0hrb1EJbQk"
   },
   "source": [
    "### Less than or equal to"
   ]
  },
  {
   "cell_type": "code",
   "execution_count": 44,
   "metadata": {
    "colab": {
     "base_uri": "https://localhost:8080/",
     "height": 34
    },
    "id": "CCg2vqNOJbQl",
    "outputId": "61c13606-22c9-45f0-ff72-ab1d7e44201d"
   },
   "outputs": [
    {
     "data": {
      "text/plain": [
       "False"
      ]
     },
     "execution_count": 44,
     "metadata": {},
     "output_type": "execute_result"
    }
   ],
   "source": [
    "3 <= 0"
   ]
  },
  {
   "cell_type": "code",
   "execution_count": 45,
   "metadata": {
    "colab": {
     "base_uri": "https://localhost:8080/",
     "height": 34
    },
    "id": "s9BkZBJDJbQm",
    "outputId": "d1eb734b-81a4-4c53-ff6b-66baef17283e"
   },
   "outputs": [
    {
     "data": {
      "text/plain": [
       "True"
      ]
     },
     "execution_count": 45,
     "metadata": {},
     "output_type": "execute_result"
    }
   ],
   "source": [
    "1 <= 2"
   ]
  },
  {
   "cell_type": "code",
   "execution_count": null,
   "metadata": {
    "id": "TQqmyhbIk9Ol"
   },
   "outputs": [],
   "source": []
  },
  {
   "cell_type": "code",
   "execution_count": null,
   "metadata": {},
   "outputs": [],
   "source": []
  },
  {
   "cell_type": "code",
   "execution_count": null,
   "metadata": {},
   "outputs": [],
   "source": []
  }
 ],
 "metadata": {
  "colab": {
   "collapsed_sections": [
    "gW5YEnarJbPO",
    "1--OZJQAJbPW",
    "eo0mqrbOJbPb",
    "tRtsrmQoJbPt",
    "XTNlwY9rJbQG",
    "zXobe57HJbQM",
    "JCs_Qrt-JbQS",
    "HXhCSJvBJbQY",
    "HHQGVtfyJbQe",
    "9A0hrb1EJbQk"
   ],
   "provenance": []
  },
  "kernelspec": {
   "display_name": "Python 3 (ipykernel)",
   "language": "python",
   "name": "python3"
  },
  "language_info": {
   "codemirror_mode": {
    "name": "ipython",
    "version": 3
   },
   "file_extension": ".py",
   "mimetype": "text/x-python",
   "name": "python",
   "nbconvert_exporter": "python",
   "pygments_lexer": "ipython3",
   "version": "3.9.12"
  }
 },
 "nbformat": 4,
 "nbformat_minor": 1
}
