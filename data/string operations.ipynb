{
 "cells": [
  {
   "cell_type": "markdown",
   "id": "5354b40d",
   "metadata": {},
   "source": [
    "# Introduction to Strings\n",
    "Strings are used in Python to record text information, such as names. It could either be a word, a phrase, a sentence, a paragraph or an entire encyclopedia. Strings in Python are actually a sequence, which basically means Python keeps track of every element in the string as a sequence. For example, Python understands the string \"joker' to be a sequence of letters in a specific order. This means we will be able to use indexing to grab particular letters (like the first letter, or the last letter).\n",
    "This idea of a sequence is an important one in Python and we will touch upon it later on in the future.\n",
    "\n",
    "Creating a String\n",
    "To create a string in Python you need to use either single quotes or double quotes."
   ]
  },
  {
   "cell_type": "code",
   "execution_count": 1,
   "id": "84dbee98",
   "metadata": {},
   "outputs": [
    {
     "name": "stdout",
     "output_type": "stream",
     "text": [
      "hello ahmedabad\n"
     ]
    }
   ],
   "source": [
    "# single word\n",
    "my_first_string=\"hello ahmedabad\"\n",
    "print(my_first_string)"
   ]
  },
  {
   "cell_type": "code",
   "execution_count": 2,
   "id": "bd7c1d08",
   "metadata": {},
   "outputs": [
    {
     "name": "stdout",
     "output_type": "stream",
     "text": [
      "hello friends,my name is pratik rathod and i am a data scientist\n"
     ]
    }
   ],
   "source": [
    "# entire phase \n",
    "phase='hello friends,my name is pratik rathod and i am a data scientist'\n",
    "print(phase)"
   ]
  },
  {
   "cell_type": "code",
   "execution_count": 3,
   "id": "510ef72f",
   "metadata": {},
   "outputs": [
    {
     "data": {
      "text/plain": [
       "str"
      ]
     },
     "execution_count": 3,
     "metadata": {},
     "output_type": "execute_result"
    }
   ],
   "source": [
    "type(phase)"
   ]
  },
  {
   "cell_type": "code",
   "execution_count": 4,
   "id": "e7513adf",
   "metadata": {},
   "outputs": [
    {
     "name": "stdout",
     "output_type": "stream",
     "text": [
      "#\n"
     ]
    }
   ],
   "source": [
    "hashtag='#'\n",
    "print(hashtag)"
   ]
  },
  {
   "cell_type": "code",
   "execution_count": 5,
   "id": "ff4a4fdd",
   "metadata": {},
   "outputs": [
    {
     "data": {
      "text/plain": [
       "'deep leaRNING'"
      ]
     },
     "execution_count": 5,
     "metadata": {},
     "output_type": "execute_result"
    }
   ],
   "source": [
    "# we can simply declare a string\n",
    "'deep leaRNING'"
   ]
  },
  {
   "cell_type": "code",
   "execution_count": 6,
   "id": "1503588e",
   "metadata": {},
   "outputs": [
    {
     "data": {
      "text/plain": [
       "'LINEAR ALGEBRA'"
      ]
     },
     "execution_count": 6,
     "metadata": {},
     "output_type": "execute_result"
    }
   ],
   "source": [
    "'LINEAR ALGEBRA'"
   ]
  },
  {
   "cell_type": "code",
   "execution_count": 7,
   "id": "b9021926",
   "metadata": {},
   "outputs": [
    {
     "name": "stdout",
     "output_type": "stream",
     "text": [
      "this is first linr \n",
      " this is second line\n"
     ]
    }
   ],
   "source": [
    "# Use \\n to print a new line\n",
    "print('this is first linr \\n this is second line')"
   ]
  },
  {
   "cell_type": "code",
   "execution_count": 8,
   "id": "b1fd2f32",
   "metadata": {},
   "outputs": [
    {
     "data": {
      "text/plain": [
       "10"
      ]
     },
     "execution_count": 8,
     "metadata": {},
     "output_type": "execute_result"
    }
   ],
   "source": [
    "# wecan use the function len to check the length of file \n",
    "\n",
    "# Python's built-in len() function counts all of the characters in the string, including spaces and punctuation.\n",
    "\n",
    "my_string='hello dear'\n",
    "len(my_string)"
   ]
  },
  {
   "cell_type": "markdown",
   "id": "92fbc386",
   "metadata": {},
   "source": [
    "# String Indexing\n",
    "We know strings are a sequence, which means Python can use indexes to call parts of the sequence.\n",
    "A string index refers to the location of an element present in a string.\n",
    "The indexing begins from 0 in Python.\n",
    "The first element is assigned an index 0, the second element is assigned an index of 1 and so on and so forth.\n",
    "In Python, we use brackets [] after an object to call its index."
   ]
  },
  {
   "cell_type": "code",
   "execution_count": 9,
   "id": "e3f8cabb",
   "metadata": {},
   "outputs": [
    {
     "data": {
      "text/plain": [
       "'v'"
      ]
     },
     "execution_count": 9,
     "metadata": {},
     "output_type": "execute_result"
    }
   ],
   "source": [
    "string='i love to play cricket'\n",
    "string[4]"
   ]
  },
  {
   "cell_type": "code",
   "execution_count": 10,
   "id": "13a537e8",
   "metadata": {},
   "outputs": [
    {
     "data": {
      "text/plain": [
       "'i'"
      ]
     },
     "execution_count": 10,
     "metadata": {},
     "output_type": "execute_result"
    }
   ],
   "source": [
    "# show the first element of veriable\n",
    "\n",
    "string[0]"
   ]
  },
  {
   "cell_type": "code",
   "execution_count": 11,
   "id": "c1ecc948",
   "metadata": {},
   "outputs": [
    {
     "data": {
      "text/plain": [
       "22"
      ]
     },
     "execution_count": 11,
     "metadata": {},
     "output_type": "execute_result"
    }
   ],
   "source": [
    "len(string)"
   ]
  },
  {
   "cell_type": "code",
   "execution_count": 12,
   "id": "d3168fa5",
   "metadata": {},
   "outputs": [
    {
     "name": "stdout",
     "output_type": "stream",
     "text": [
      "i love to play cricket\n"
     ]
    }
   ],
   "source": [
    "print(string)"
   ]
  },
  {
   "cell_type": "code",
   "execution_count": 13,
   "id": "2c077d2f",
   "metadata": {},
   "outputs": [
    {
     "data": {
      "text/plain": [
       "'t'"
      ]
     },
     "execution_count": 13,
     "metadata": {},
     "output_type": "execute_result"
    }
   ],
   "source": [
    "# grab the element at the index -1.\n",
    "\n",
    "string[-1]"
   ]
  },
  {
   "cell_type": "code",
   "execution_count": 14,
   "id": "66ef2ea9",
   "metadata": {},
   "outputs": [
    {
     "name": "stdout",
     "output_type": "stream",
     "text": [
      "e\n"
     ]
    }
   ],
   "source": [
    "print(string[-2])"
   ]
  },
  {
   "cell_type": "markdown",
   "id": "0fdc5c0b",
   "metadata": {},
   "source": [
    "# String Slicing\n",
    "We can use a : to perform slicing which grabs everything up to a designated point.\n",
    "The starting index is specified on the left of the : and the ending index is specified on the right of the :.\n",
    "Remember the element located at the right index is not included."
   ]
  },
  {
   "cell_type": "code",
   "execution_count": 15,
   "id": "8d42542f",
   "metadata": {},
   "outputs": [
    {
     "name": "stdout",
     "output_type": "stream",
     "text": [
      "i love to play cricket\n"
     ]
    }
   ],
   "source": [
    "print(string)"
   ]
  },
  {
   "cell_type": "code",
   "execution_count": 16,
   "id": "6c14c8b2",
   "metadata": {},
   "outputs": [
    {
     "name": "stdout",
     "output_type": "stream",
     "text": [
      "love t\n"
     ]
    }
   ],
   "source": [
    "print(string[2:8])"
   ]
  },
  {
   "cell_type": "code",
   "execution_count": 17,
   "id": "819ffa35",
   "metadata": {},
   "outputs": [
    {
     "name": "stdout",
     "output_type": "stream",
     "text": [
      "i love to pla\n"
     ]
    }
   ],
   "source": [
    "# grab all element till indexing 13.\n",
    "\n",
    "print(string[:13])"
   ]
  },
  {
   "cell_type": "markdown",
   "id": "4b3e9d2b",
   "metadata": {},
   "source": [
    "If you do not specify the ending index, then all elements are extracted which comes \n",
    "after the starting index including the element at that starting index.\n",
    "The operation knows only to stop when it has run through the entire string."
   ]
  },
  {
   "cell_type": "code",
   "execution_count": 18,
   "id": "c7c7933b",
   "metadata": {},
   "outputs": [
    {
     "name": "stdout",
     "output_type": "stream",
     "text": [
      "play cricket\n"
     ]
    }
   ],
   "source": [
    "# grab everithing from index 10 till end.\n",
    "print(string[10:])\n",
    "\n"
   ]
  },
  {
   "cell_type": "code",
   "execution_count": 19,
   "id": "246311ef",
   "metadata": {},
   "outputs": [
    {
     "name": "stdout",
     "output_type": "stream",
     "text": [
      "i love to play cricket\n"
     ]
    }
   ],
   "source": [
    "# If you do not specify the starting and the ending index, it will extract all elements of the string.\n",
    "print(string[:])"
   ]
  },
  {
   "cell_type": "code",
   "execution_count": 20,
   "id": "3237e398",
   "metadata": {},
   "outputs": [
    {
     "name": "stdout",
     "output_type": "stream",
     "text": [
      "cke\n"
     ]
    }
   ],
   "source": [
    "# We can also use negative indexing to go backwards.\n",
    "\n",
    "print(string[-4:-1])"
   ]
  },
  {
   "cell_type": "code",
   "execution_count": 21,
   "id": "35946fdb",
   "metadata": {},
   "outputs": [
    {
     "name": "stdout",
     "output_type": "stream",
     "text": [
      "cket\n"
     ]
    }
   ],
   "source": [
    "print(string[-4:])"
   ]
  },
  {
   "cell_type": "markdown",
   "id": "5445e489",
   "metadata": {},
   "source": [
    "We can also use index and slice notation to grab elements of a sequence by a specified step size (the default is 1). For instance we can use two colons in a row and then a number specifying the frequency to grab elements. \n",
    "\n",
    "start:stop:steps[::]"
   ]
  },
  {
   "cell_type": "code",
   "execution_count": 22,
   "id": "7eb0aab1",
   "metadata": {},
   "outputs": [
    {
     "name": "stdout",
     "output_type": "stream",
     "text": [
      "i love to play cricket\n"
     ]
    }
   ],
   "source": [
    "# Grab everything, but go in steps size of 1\n",
    "print(string[::1])"
   ]
  },
  {
   "cell_type": "code",
   "execution_count": 23,
   "id": "5632bf41",
   "metadata": {},
   "outputs": [
    {
     "name": "stdout",
     "output_type": "stream",
     "text": [
      "ivoare\n"
     ]
    }
   ],
   "source": [
    "print(string[::4])"
   ]
  },
  {
   "cell_type": "code",
   "execution_count": 24,
   "id": "b2314141",
   "metadata": {},
   "outputs": [
    {
     "data": {
      "text/plain": [
       "'tekcirc yalp ot evol i'"
      ]
     },
     "execution_count": 24,
     "metadata": {},
     "output_type": "execute_result"
    }
   ],
   "source": [
    "# We can use this to print a string backwards\n",
    "string[::-1]"
   ]
  },
  {
   "cell_type": "code",
   "execution_count": 25,
   "id": "d2c4f0c4",
   "metadata": {},
   "outputs": [
    {
     "data": {
      "text/plain": [
       "''"
      ]
     },
     "execution_count": 25,
     "metadata": {},
     "output_type": "execute_result"
    }
   ],
   "source": [
    "# We can use this to print a string backwards with steps\n",
    "string[2:4:-1]"
   ]
  },
  {
   "cell_type": "markdown",
   "id": "e36cc8d8",
   "metadata": {},
   "source": [
    "String Properties\n",
    "It's important to note that strings have an important property known as immutability.\n",
    "This means that once a string is created, the elements within it can not be changed or replaced via item assignment. We will see how we can do such operation using string methods"
   ]
  },
  {
   "cell_type": "code",
   "execution_count": 26,
   "id": "aaed5224",
   "metadata": {},
   "outputs": [
    {
     "name": "stdout",
     "output_type": "stream",
     "text": [
      "i love to play cricket\n"
     ]
    }
   ],
   "source": [
    "print(string)"
   ]
  },
  {
   "cell_type": "code",
   "execution_count": 30,
   "id": "b87469bf",
   "metadata": {
    "scrolled": true
   },
   "outputs": [
    {
     "name": "stdout",
     "output_type": "stream",
     "text": [
      "abc def\n"
     ]
    }
   ],
   "source": [
    "# we can concatene two string \n",
    "str1='abc'\n",
    "str2='def'\n",
    "print(str1+' '+str2)"
   ]
  },
  {
   "cell_type": "code",
   "execution_count": 31,
   "id": "51c0aebd",
   "metadata": {},
   "outputs": [
    {
     "ename": "TypeError",
     "evalue": "can only concatenate str (not \"int\") to str",
     "output_type": "error",
     "traceback": [
      "\u001b[1;31m---------------------------------------------------------------------------\u001b[0m",
      "\u001b[1;31mTypeError\u001b[0m                                 Traceback (most recent call last)",
      "Input \u001b[1;32mIn [31]\u001b[0m, in \u001b[0;36m<cell line: 3>\u001b[1;34m()\u001b[0m\n\u001b[0;32m      1\u001b[0m \u001b[38;5;66;03m# by run below function you will get this error:can only concatenate str (not \"int\") to str\u001b[39;00m\n\u001b[0;32m      2\u001b[0m \u001b[38;5;66;03m# it show that you can't concatenate str and int two diffrent type of data.\u001b[39;00m\n\u001b[1;32m----> 3\u001b[0m \u001b[38;5;28mprint\u001b[39m(\u001b[43mstr1\u001b[49m\u001b[38;5;241;43m+\u001b[39;49m\u001b[38;5;241;43m4\u001b[39;49m\u001b[38;5;241m+\u001b[39mstr2)\n",
      "\u001b[1;31mTypeError\u001b[0m: can only concatenate str (not \"int\") to str"
     ]
    }
   ],
   "source": [
    "# by run below function you will get this error:can only concatenate str (not \"int\") to str\n",
    "# it show that you can't concatenate str and int two diffrent type of data.\n",
    "print(str1+4+str2)\n"
   ]
  },
  {
   "cell_type": "markdown",
   "id": "d4e3cb61",
   "metadata": {},
   "source": [
    "note : To convert an integer into a string, you can use the str() function or you can simply write the number in quotes"
   ]
  },
  {
   "cell_type": "code",
   "execution_count": 32,
   "id": "37f56d77",
   "metadata": {},
   "outputs": [
    {
     "name": "stdout",
     "output_type": "stream",
     "text": [
      "abc4def\n"
     ]
    }
   ],
   "source": [
    "\n",
    "print(str1+str(4)+str2)"
   ]
  },
  {
   "cell_type": "markdown",
   "id": "cb0a6a1b",
   "metadata": {},
   "source": [
    "# String functions and methods"
   ]
  },
  {
   "cell_type": "code",
   "execution_count": 33,
   "id": "4efabf7f",
   "metadata": {},
   "outputs": [],
   "source": [
    "algorithm='neaural network'"
   ]
  },
  {
   "cell_type": "code",
   "execution_count": 34,
   "id": "6e2bd1c5",
   "metadata": {},
   "outputs": [
    {
     "data": {
      "text/plain": [
       "15"
      ]
     },
     "execution_count": 34,
     "metadata": {},
     "output_type": "execute_result"
    }
   ],
   "source": [
    "# len()\n",
    "len(algorithm)"
   ]
  },
  {
   "cell_type": "code",
   "execution_count": 35,
   "id": "a3a06049",
   "metadata": {},
   "outputs": [
    {
     "data": {
      "text/plain": [
       "'good morning'"
      ]
     },
     "execution_count": 35,
     "metadata": {},
     "output_type": "execute_result"
    }
   ],
   "source": [
    "# lower()\n",
    "# it converts string into lowercase\n",
    "\n",
    "name='Good Morning'\n",
    "name.lower()"
   ]
  },
  {
   "cell_type": "markdown",
   "id": "d104ed48",
   "metadata": {},
   "source": [
    "What about lower(algorithm)? Is it not similar to the len()function?\n",
    " An important point to note here is len() is a function and lower() is a method for a string object.\n",
    " It will be pretty clear about the exact differences between a function and a method as we move ahead."
   ]
  },
  {
   "cell_type": "code",
   "execution_count": 36,
   "id": "81115f4b",
   "metadata": {},
   "outputs": [
    {
     "name": "stdout",
     "output_type": "stream",
     "text": [
      "Good Morning\n"
     ]
    }
   ],
   "source": [
    "print(name)"
   ]
  },
  {
   "cell_type": "code",
   "execution_count": 37,
   "id": "95cea56d",
   "metadata": {},
   "outputs": [
    {
     "data": {
      "text/plain": [
       "'GOOD MORNING'"
      ]
     },
     "execution_count": 37,
     "metadata": {},
     "output_type": "execute_result"
    }
   ],
   "source": [
    "# upper()\n",
    "name.upper()"
   ]
  },
  {
   "cell_type": "code",
   "execution_count": 38,
   "id": "5b4716c1",
   "metadata": {},
   "outputs": [
    {
     "name": "stdout",
     "output_type": "stream",
     "text": [
      "Good Morning\n"
     ]
    },
    {
     "data": {
      "text/plain": [
       "3"
      ]
     },
     "execution_count": 38,
     "metadata": {},
     "output_type": "execute_result"
    }
   ],
   "source": [
    "# count\n",
    "print(name)\n",
    "name.count('o')"
   ]
  },
  {
   "cell_type": "code",
   "execution_count": 39,
   "id": "7329de89",
   "metadata": {},
   "outputs": [
    {
     "data": {
      "text/plain": [
       "0"
      ]
     },
     "execution_count": 39,
     "metadata": {},
     "output_type": "execute_result"
    }
   ],
   "source": [
    "name.count('m')"
   ]
  },
  {
   "cell_type": "code",
   "execution_count": 40,
   "id": "5601db68",
   "metadata": {},
   "outputs": [
    {
     "data": {
      "text/plain": [
       "1"
      ]
     },
     "execution_count": 40,
     "metadata": {},
     "output_type": "execute_result"
    }
   ],
   "source": [
    "name.count(' ')"
   ]
  },
  {
   "cell_type": "code",
   "execution_count": 41,
   "id": "d387a53f",
   "metadata": {},
   "outputs": [
    {
     "data": {
      "text/plain": [
       "1"
      ]
     },
     "execution_count": 41,
     "metadata": {},
     "output_type": "execute_result"
    }
   ],
   "source": [
    "# find()\n",
    "name.find('o')"
   ]
  },
  {
   "cell_type": "markdown",
   "id": "f1594a56",
   "metadata": {},
   "source": [
    "note : An important point to note here is that if the string which you are looking for, is not contained in the original string, then the find method will return a value of -1\n"
   ]
  },
  {
   "cell_type": "code",
   "execution_count": 42,
   "id": "8a8c2961",
   "metadata": {},
   "outputs": [
    {
     "data": {
      "text/plain": [
       "-1"
      ]
     },
     "execution_count": 42,
     "metadata": {},
     "output_type": "execute_result"
    }
   ],
   "source": [
    "name.find('morning')"
   ]
  },
  {
   "cell_type": "code",
   "execution_count": 43,
   "id": "58f77bce",
   "metadata": {},
   "outputs": [
    {
     "data": {
      "text/plain": [
       "5"
      ]
     },
     "execution_count": 43,
     "metadata": {},
     "output_type": "execute_result"
    }
   ],
   "source": [
    "name.find('Morning')"
   ]
  },
  {
   "cell_type": "code",
   "execution_count": 44,
   "id": "803e8104",
   "metadata": {},
   "outputs": [
    {
     "name": "stdout",
     "output_type": "stream",
     "text": [
      "Good Morning\n"
     ]
    }
   ],
   "source": [
    "#replace()\n",
    "print(name)"
   ]
  },
  {
   "cell_type": "markdown",
   "id": "103f93df",
   "metadata": {},
   "source": [
    "note : replace() method takes two arguments - (i) the string to replace and (ii) the string to replace with, and returns a modified string after the operation"
   ]
  },
  {
   "cell_type": "code",
   "execution_count": 45,
   "id": "7636c907",
   "metadata": {},
   "outputs": [
    {
     "data": {
      "text/plain": [
       "'Good-Morning'"
      ]
     },
     "execution_count": 45,
     "metadata": {},
     "output_type": "execute_result"
    }
   ],
   "source": [
    "name.replace(' ','-')"
   ]
  },
  {
   "cell_type": "code",
   "execution_count": 46,
   "id": "40265f4a",
   "metadata": {},
   "outputs": [
    {
     "data": {
      "text/plain": [
       "'Nood Morning'"
      ]
     },
     "execution_count": 46,
     "metadata": {},
     "output_type": "execute_result"
    }
   ],
   "source": [
    "name.replace('G','N')"
   ]
  },
  {
   "cell_type": "markdown",
   "id": "3a2caeb2",
   "metadata": {},
   "source": [
    "note : Another important point worth noting here is applying any method on a string does not actually change the original string. For example, when you print out the algorithm string, it still contains the original value 'Neural Networks'\n",
    "We need to store the modified string in another variable"
   ]
  },
  {
   "cell_type": "code",
   "execution_count": 47,
   "id": "d9cd6d90",
   "metadata": {},
   "outputs": [],
   "source": [
    "# Storing the modified string\n",
    "newname=name.replace('G','N')"
   ]
  },
  {
   "cell_type": "code",
   "execution_count": 48,
   "id": "a1353425",
   "metadata": {},
   "outputs": [
    {
     "name": "stdout",
     "output_type": "stream",
     "text": [
      "Nood Morning\n"
     ]
    }
   ],
   "source": [
    "print(newname)"
   ]
  },
  {
   "cell_type": "code",
   "execution_count": 49,
   "id": "65acdffe",
   "metadata": {},
   "outputs": [],
   "source": [
    "firstname='pratik'\n",
    "lastname='rathod'\n",
    "fullname=f'left plus right makes {firstname}{lastname}'"
   ]
  },
  {
   "cell_type": "code",
   "execution_count": 50,
   "id": "ad409b2c",
   "metadata": {},
   "outputs": [
    {
     "name": "stdout",
     "output_type": "stream",
     "text": [
      "left plus right makes pratikrathod\n"
     ]
    }
   ],
   "source": [
    "print(fullname)"
   ]
  },
  {
   "cell_type": "code",
   "execution_count": 51,
   "id": "80a9745e",
   "metadata": {},
   "outputs": [
    {
     "name": "stdout",
     "output_type": "stream",
     "text": [
      "pratik rathod\n"
     ]
    }
   ],
   "source": [
    "print(firstname+' '+lastname)"
   ]
  },
  {
   "cell_type": "code",
   "execution_count": 52,
   "id": "e9d75dcb",
   "metadata": {},
   "outputs": [],
   "source": [
    "# Deleting the String\n",
    "# As we know that strings are immutable. We cannot delete or remove the characters from the string. But we can delete the entire string using the del keyword.\n",
    "\n",
    "str = \"JAVATPOINT\"\n",
    "del str"
   ]
  },
  {
   "cell_type": "markdown",
   "id": "2aa22d85",
   "metadata": {},
   "source": [
    "%s is used as a placeholder for string values you want to inject into a formatted string.\n",
    "\n",
    "%d is used as a placeholder for numeric or decimal values."
   ]
  },
  {
   "cell_type": "code",
   "execution_count": 53,
   "id": "7ec64333",
   "metadata": {},
   "outputs": [
    {
     "name": "stdout",
     "output_type": "stream",
     "text": [
      "jay is twenty year old\n"
     ]
    }
   ],
   "source": [
    "print('%s is %s year old'%('jay','twenty'))"
   ]
  },
  {
   "cell_type": "code",
   "execution_count": 54,
   "id": "56af7c2d",
   "metadata": {},
   "outputs": [],
   "source": [
    "mystring='sardar patel is a strongest man'\n"
   ]
  },
  {
   "cell_type": "code",
   "execution_count": 55,
   "id": "0a25efd4",
   "metadata": {},
   "outputs": [
    {
     "data": {
      "text/plain": [
       "True"
      ]
     },
     "execution_count": 55,
     "metadata": {},
     "output_type": "execute_result"
    }
   ],
   "source": [
    "'sardar' in mystring"
   ]
  },
  {
   "cell_type": "code",
   "execution_count": 56,
   "id": "66f5dcef",
   "metadata": {},
   "outputs": [
    {
     "data": {
      "text/plain": [
       "False"
      ]
     },
     "execution_count": 56,
     "metadata": {},
     "output_type": "execute_result"
    }
   ],
   "source": [
    "'patel' not in mystring"
   ]
  },
  {
   "cell_type": "code",
   "execution_count": null,
   "id": "f7a8aa68",
   "metadata": {},
   "outputs": [],
   "source": []
  },
  {
   "cell_type": "code",
   "execution_count": null,
   "id": "702cbbbd",
   "metadata": {},
   "outputs": [],
   "source": []
  }
 ],
 "metadata": {
  "kernelspec": {
   "display_name": "Python 3 (ipykernel)",
   "language": "python",
   "name": "python3"
  },
  "language_info": {
   "codemirror_mode": {
    "name": "ipython",
    "version": 3
   },
   "file_extension": ".py",
   "mimetype": "text/x-python",
   "name": "python",
   "nbconvert_exporter": "python",
   "pygments_lexer": "ipython3",
   "version": "3.9.12"
  }
 },
 "nbformat": 4,
 "nbformat_minor": 5
}
