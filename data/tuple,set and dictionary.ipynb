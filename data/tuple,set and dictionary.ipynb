{
 "cells": [
  {
   "cell_type": "code",
   "execution_count": 1,
   "id": "3ec76ebf",
   "metadata": {},
   "outputs": [],
   "source": [
    "                    # Tuples\n",
    "                    # In Python tuples are very similar to lists, however, unlike lists they are immutable meaning they can not be changed.\n",
    "                    # You would use tuples to present things that shouldn't be changed, such as days of the week, or dates on a calendar.\n",
    "                    # You'll have an intuition of how to use tuples based on what you've learned about lists. We can treat them very similarly with the major distinction being that tuples are immutable."
   ]
  },
  {
   "cell_type": "code",
   "execution_count": 2,
   "id": "e0bb70fc",
   "metadata": {},
   "outputs": [],
   "source": [
    "# Create a tuple\n",
    "my_tuple = 1,'a',3"
   ]
  },
  {
   "cell_type": "code",
   "execution_count": 3,
   "id": "9d9a1d7c",
   "metadata": {},
   "outputs": [
    {
     "name": "stdout",
     "output_type": "stream",
     "text": [
      "(1, 'a', 3)\n"
     ]
    }
   ],
   "source": [
    "print(my_tuple)"
   ]
  },
  {
   "cell_type": "code",
   "execution_count": 4,
   "id": "e9cbf4b4",
   "metadata": {},
   "outputs": [
    {
     "data": {
      "text/plain": [
       "tuple"
      ]
     },
     "execution_count": 4,
     "metadata": {},
     "output_type": "execute_result"
    }
   ],
   "source": [
    "type(my_tuple)"
   ]
  },
  {
   "cell_type": "code",
   "execution_count": 5,
   "id": "772a05d6",
   "metadata": {},
   "outputs": [
    {
     "data": {
      "text/plain": [
       "('one', 2, 4.53, 'asbc')"
      ]
     },
     "execution_count": 5,
     "metadata": {},
     "output_type": "execute_result"
    }
   ],
   "source": [
    "# Can also mix object types \n",
    "another_tuple = ('one',2, 4.53, 'asbc')\n",
    "\n",
    "# Show\n",
    "another_tuple"
   ]
  },
  {
   "cell_type": "code",
   "execution_count": 6,
   "id": "429dfec7",
   "metadata": {},
   "outputs": [],
   "source": [
    "my_list = [1]"
   ]
  },
  {
   "cell_type": "code",
   "execution_count": 7,
   "id": "a2dd3214",
   "metadata": {},
   "outputs": [
    {
     "data": {
      "text/plain": [
       "list"
      ]
     },
     "execution_count": 7,
     "metadata": {},
     "output_type": "execute_result"
    }
   ],
   "source": [
    "type(my_list)"
   ]
  },
  {
   "cell_type": "code",
   "execution_count": 8,
   "id": "8e930378",
   "metadata": {},
   "outputs": [],
   "source": [
    "my_tuple = (1,)"
   ]
  },
  {
   "cell_type": "code",
   "execution_count": 9,
   "id": "6609fca8",
   "metadata": {},
   "outputs": [
    {
     "data": {
      "text/plain": [
       "tuple"
      ]
     },
     "execution_count": 9,
     "metadata": {},
     "output_type": "execute_result"
    }
   ],
   "source": [
    "type(my_tuple)"
   ]
  },
  {
   "cell_type": "code",
   "execution_count": 10,
   "id": "adf45509",
   "metadata": {},
   "outputs": [],
   "source": [
    "my_tuple = 1,2,3"
   ]
  },
  {
   "cell_type": "code",
   "execution_count": 11,
   "id": "defd36a6",
   "metadata": {},
   "outputs": [
    {
     "data": {
      "text/plain": [
       "tuple"
      ]
     },
     "execution_count": 11,
     "metadata": {},
     "output_type": "execute_result"
    }
   ],
   "source": [
    "type(my_tuple)"
   ]
  },
  {
   "cell_type": "code",
   "execution_count": 12,
   "id": "29fde710",
   "metadata": {},
   "outputs": [],
   "source": [
    "my_tuple = (1,2,3,4)"
   ]
  },
  {
   "cell_type": "code",
   "execution_count": 13,
   "id": "5103cd11",
   "metadata": {},
   "outputs": [
    {
     "data": {
      "text/plain": [
       "4"
      ]
     },
     "execution_count": 13,
     "metadata": {},
     "output_type": "execute_result"
    }
   ],
   "source": [
    "len(my_tuple)"
   ]
  },
  {
   "cell_type": "code",
   "execution_count": 14,
   "id": "03ebab0c",
   "metadata": {},
   "outputs": [
    {
     "name": "stdout",
     "output_type": "stream",
     "text": [
      "('one', 2, 4.53, 'asbc')\n"
     ]
    }
   ],
   "source": [
    "print(another_tuple)"
   ]
  },
  {
   "cell_type": "code",
   "execution_count": 15,
   "id": "73cc79eb",
   "metadata": {},
   "outputs": [
    {
     "data": {
      "text/plain": [
       "'one'"
      ]
     },
     "execution_count": 15,
     "metadata": {},
     "output_type": "execute_result"
    }
   ],
   "source": [
    "# Grab the element at index 0, which is the FIRST element\n",
    "another_tuple[0] "
   ]
  },
  {
   "cell_type": "code",
   "execution_count": 16,
   "id": "e3733780",
   "metadata": {},
   "outputs": [
    {
     "data": {
      "text/plain": [
       "'asbc'"
      ]
     },
     "execution_count": 16,
     "metadata": {},
     "output_type": "execute_result"
    }
   ],
   "source": [
    "# Grab the element at index 3, which is the FOURTH element\n",
    "another_tuple[3]  "
   ]
  },
  {
   "cell_type": "code",
   "execution_count": 17,
   "id": "67bd240a",
   "metadata": {},
   "outputs": [
    {
     "data": {
      "text/plain": [
       "'asbc'"
      ]
     },
     "execution_count": 17,
     "metadata": {},
     "output_type": "execute_result"
    }
   ],
   "source": [
    "# Grab the element at the index -1, which is the LAST element\n",
    "another_tuple[-1]"
   ]
  },
  {
   "cell_type": "code",
   "execution_count": 18,
   "id": "dd8fce20",
   "metadata": {},
   "outputs": [
    {
     "data": {
      "text/plain": [
       "2"
      ]
     },
     "execution_count": 18,
     "metadata": {},
     "output_type": "execute_result"
    }
   ],
   "source": [
    "# Grab the element at the index -3, which is the THIRD LAST element\n",
    "another_tuple[-3]"
   ]
  },
  {
   "cell_type": "code",
   "execution_count": 19,
   "id": "e1e5de4d",
   "metadata": {},
   "outputs": [
    {
     "name": "stdout",
     "output_type": "stream",
     "text": [
      "('one', 2, 4.53, 'asbc')\n"
     ]
    }
   ],
   "source": [
    "# Print our list\n",
    "print(another_tuple)"
   ]
  },
  {
   "cell_type": "code",
   "execution_count": 20,
   "id": "644e08a5",
   "metadata": {},
   "outputs": [
    {
     "data": {
      "text/plain": [
       "(2, 4.53)"
      ]
     },
     "execution_count": 20,
     "metadata": {},
     "output_type": "execute_result"
    }
   ],
   "source": [
    "# Grab the elements starting from index 1 and everything past it\n",
    "another_tuple[1:3] "
   ]
  },
  {
   "cell_type": "code",
   "execution_count": 21,
   "id": "0df4d616",
   "metadata": {},
   "outputs": [
    {
     "data": {
      "text/plain": [
       "(4.53, 'asbc')"
      ]
     },
     "execution_count": 21,
     "metadata": {},
     "output_type": "execute_result"
    }
   ],
   "source": [
    "# Grab everything starting from index 2\n",
    "another_tuple[2:]"
   ]
  },
  {
   "cell_type": "code",
   "execution_count": 22,
   "id": "ab9b746a",
   "metadata": {},
   "outputs": [
    {
     "data": {
      "text/plain": [
       "('one', 2, 4.53, 'asbc')"
      ]
     },
     "execution_count": 22,
     "metadata": {},
     "output_type": "execute_result"
    }
   ],
   "source": [
    "# Grab everything before the index 4\n",
    "another_tuple[:6]"
   ]
  },
  {
   "cell_type": "code",
   "execution_count": 23,
   "id": "ed35f50a",
   "metadata": {},
   "outputs": [
    {
     "data": {
      "text/plain": [
       "('one', 2, 4.53, 'asbc')"
      ]
     },
     "execution_count": 23,
     "metadata": {},
     "output_type": "execute_result"
    }
   ],
   "source": [
    "# Grab everything\n",
    "another_tuple"
   ]
  },
  {
   "cell_type": "code",
   "execution_count": 24,
   "id": "be624d7e",
   "metadata": {},
   "outputs": [
    {
     "data": {
      "text/plain": [
       "('one', 2, 4.53, 'asbc')"
      ]
     },
     "execution_count": 24,
     "metadata": {},
     "output_type": "execute_result"
    }
   ],
   "source": [
    "# Grab the LAST FOUR elements of the list\n",
    "another_tuple[-4:]"
   ]
  },
  {
   "cell_type": "code",
   "execution_count": 25,
   "id": "64e6c022",
   "metadata": {},
   "outputs": [
    {
     "ename": "IndexError",
     "evalue": "tuple index out of range",
     "output_type": "error",
     "traceback": [
      "\u001b[1;31m---------------------------------------------------------------------------\u001b[0m",
      "\u001b[1;31mIndexError\u001b[0m                                Traceback (most recent call last)",
      "Input \u001b[1;32mIn [25]\u001b[0m, in \u001b[0;36m<cell line: 1>\u001b[1;34m()\u001b[0m\n\u001b[1;32m----> 1\u001b[0m \u001b[43manother_tuple\u001b[49m\u001b[43m[\u001b[49m\u001b[38;5;241;43m5\u001b[39;49m\u001b[43m]\u001b[49m\n",
      "\u001b[1;31mIndexError\u001b[0m: tuple index out of range"
     ]
    }
   ],
   "source": [
    "another_tuple[5]"
   ]
  },
  {
   "cell_type": "code",
   "execution_count": 26,
   "id": "e1156e5d",
   "metadata": {},
   "outputs": [
    {
     "data": {
      "text/plain": [
       "4"
      ]
     },
     "execution_count": 26,
     "metadata": {},
     "output_type": "execute_result"
    }
   ],
   "source": [
    "# Check len just like a list\n",
    "len(another_tuple)"
   ]
  },
  {
   "cell_type": "code",
   "execution_count": 27,
   "id": "eb0b6b15",
   "metadata": {},
   "outputs": [],
   "source": [
    "random_tuple = (1,5,6,2)"
   ]
  },
  {
   "cell_type": "code",
   "execution_count": 28,
   "id": "f5752d42",
   "metadata": {},
   "outputs": [
    {
     "data": {
      "text/plain": [
       "[1, 2, 5, 6]"
      ]
     },
     "execution_count": 28,
     "metadata": {},
     "output_type": "execute_result"
    }
   ],
   "source": [
    "sorted(random_tuple)"
   ]
  },
  {
   "cell_type": "code",
   "execution_count": 29,
   "id": "3793d71f",
   "metadata": {},
   "outputs": [],
   "source": [
    "my_tuple =(1,2,3,4,5,6,1,1,2)"
   ]
  },
  {
   "cell_type": "code",
   "execution_count": 30,
   "id": "5ab7db59",
   "metadata": {},
   "outputs": [
    {
     "data": {
      "text/plain": [
       "1"
      ]
     },
     "execution_count": 30,
     "metadata": {},
     "output_type": "execute_result"
    }
   ],
   "source": [
    "# Use .index to enter a value and return the index\n",
    "my_tuple.index(2)"
   ]
  },
  {
   "cell_type": "code",
   "execution_count": 31,
   "id": "3449e979",
   "metadata": {},
   "outputs": [
    {
     "data": {
      "text/plain": [
       "3"
      ]
     },
     "execution_count": 31,
     "metadata": {},
     "output_type": "execute_result"
    }
   ],
   "source": [
    "# Use .count to count the number of times a value appears\n",
    "my_tuple.count(2)\n",
    "my_tuple.count(1)"
   ]
  },
  {
   "cell_type": "code",
   "execution_count": 32,
   "id": "196cdf06",
   "metadata": {},
   "outputs": [],
   "source": [
    "my_list = [1,2,3,4,1,1]"
   ]
  },
  {
   "cell_type": "code",
   "execution_count": 33,
   "id": "52b98b72",
   "metadata": {},
   "outputs": [
    {
     "data": {
      "text/plain": [
       "3"
      ]
     },
     "execution_count": 33,
     "metadata": {},
     "output_type": "execute_result"
    }
   ],
   "source": [
    "my_list.count(1)"
   ]
  },
  {
   "cell_type": "code",
   "execution_count": 34,
   "id": "90b50e24",
   "metadata": {},
   "outputs": [
    {
     "name": "stdout",
     "output_type": "stream",
     "text": [
      "(1, 2, 3, 4, 5, 6, 1, 1, 2)\n"
     ]
    }
   ],
   "source": [
    "print(my_tuple)"
   ]
  },
  {
   "cell_type": "code",
   "execution_count": 35,
   "id": "ed12971f",
   "metadata": {},
   "outputs": [
    {
     "data": {
      "text/plain": [
       "1"
      ]
     },
     "execution_count": 35,
     "metadata": {},
     "output_type": "execute_result"
    }
   ],
   "source": [
    "my_tuple[0]"
   ]
  },
  {
   "cell_type": "code",
   "execution_count": 36,
   "id": "f1aaea35",
   "metadata": {},
   "outputs": [
    {
     "ename": "TypeError",
     "evalue": "'tuple' object does not support item assignment",
     "output_type": "error",
     "traceback": [
      "\u001b[1;31m---------------------------------------------------------------------------\u001b[0m",
      "\u001b[1;31mTypeError\u001b[0m                                 Traceback (most recent call last)",
      "Input \u001b[1;32mIn [36]\u001b[0m, in \u001b[0;36m<cell line: 1>\u001b[1;34m()\u001b[0m\n\u001b[1;32m----> 1\u001b[0m my_tuple[\u001b[38;5;241m0\u001b[39m] \u001b[38;5;241m=\u001b[39m \u001b[38;5;124m'\u001b[39m\u001b[38;5;124mchange\u001b[39m\u001b[38;5;124m'\u001b[39m\n",
      "\u001b[1;31mTypeError\u001b[0m: 'tuple' object does not support item assignment"
     ]
    }
   ],
   "source": [
    "my_tuple[0] = 'change'"
   ]
  },
  {
   "cell_type": "code",
   "execution_count": 37,
   "id": "37ae6938",
   "metadata": {},
   "outputs": [],
   "source": [
    "# Create a list\n",
    "my_list = [5,7,9,3,2]"
   ]
  },
  {
   "cell_type": "code",
   "execution_count": 38,
   "id": "eca6184d",
   "metadata": {},
   "outputs": [],
   "source": [
    "# Replace the FIRST element with the value 1\n",
    "my_list[0] = 1"
   ]
  },
  {
   "cell_type": "code",
   "execution_count": 39,
   "id": "4b08b450",
   "metadata": {},
   "outputs": [
    {
     "data": {
      "text/plain": [
       "[1, 7, 9, 3, 2]"
      ]
     },
     "execution_count": 39,
     "metadata": {},
     "output_type": "execute_result"
    }
   ],
   "source": [
    "# Our modified list\n",
    "my_list"
   ]
  },
  {
   "cell_type": "code",
   "execution_count": 40,
   "id": "9f9d6467",
   "metadata": {},
   "outputs": [
    {
     "ename": "AttributeError",
     "evalue": "'tuple' object has no attribute 'append'",
     "output_type": "error",
     "traceback": [
      "\u001b[1;31m---------------------------------------------------------------------------\u001b[0m",
      "\u001b[1;31mAttributeError\u001b[0m                            Traceback (most recent call last)",
      "Input \u001b[1;32mIn [40]\u001b[0m, in \u001b[0;36m<cell line: 1>\u001b[1;34m()\u001b[0m\n\u001b[1;32m----> 1\u001b[0m \u001b[43mmy_tuple\u001b[49m\u001b[38;5;241;43m.\u001b[39;49m\u001b[43mappend\u001b[49m(\u001b[38;5;124m'\u001b[39m\u001b[38;5;124mGreat!\u001b[39m\u001b[38;5;124m'\u001b[39m)\n",
      "\u001b[1;31mAttributeError\u001b[0m: 'tuple' object has no attribute 'append'"
     ]
    }
   ],
   "source": [
    "my_tuple.append('Great!')"
   ]
  },
  {
   "cell_type": "code",
   "execution_count": 41,
   "id": "3d34161a",
   "metadata": {},
   "outputs": [],
   "source": [
    "city_list = ['Delhi','Patna','Cuttack','Guwahati']\n",
    "river_list = ['Yamuna','Ganga','Mahanadi','Brahmaputra']"
   ]
  },
  {
   "cell_type": "code",
   "execution_count": 42,
   "id": "87f0f691",
   "metadata": {},
   "outputs": [
    {
     "data": {
      "text/plain": [
       "<zip at 0x250babb3100>"
      ]
     },
     "execution_count": 42,
     "metadata": {},
     "output_type": "execute_result"
    }
   ],
   "source": [
    "zip(city_list, river_list)"
   ]
  },
  {
   "cell_type": "code",
   "execution_count": 43,
   "id": "37723f7b",
   "metadata": {},
   "outputs": [],
   "source": [
    "city_and_their_rivers = list(zip(city_list,river_list))"
   ]
  },
  {
   "cell_type": "code",
   "execution_count": 44,
   "id": "124c84e2",
   "metadata": {},
   "outputs": [
    {
     "data": {
      "text/plain": [
       "[('Delhi', 'Yamuna'),\n",
       " ('Patna', 'Ganga'),\n",
       " ('Cuttack', 'Mahanadi'),\n",
       " ('Guwahati', 'Brahmaputra')]"
      ]
     },
     "execution_count": 44,
     "metadata": {},
     "output_type": "execute_result"
    }
   ],
   "source": [
    "city_and_their_rivers"
   ]
  },
  {
   "cell_type": "code",
   "execution_count": 45,
   "id": "f9baf940",
   "metadata": {},
   "outputs": [],
   "source": [
    "city_list = ['Delhi','Patna','Cuttack','Guwahati']\n",
    "river_list = ['Yamuna','Ganga','Mahanadi','Brahamputra','Thames']"
   ]
  },
  {
   "cell_type": "code",
   "execution_count": 46,
   "id": "8ee43254",
   "metadata": {},
   "outputs": [
    {
     "data": {
      "text/plain": [
       "[('Delhi', 'Yamuna'),\n",
       " ('Patna', 'Ganga'),\n",
       " ('Cuttack', 'Mahanadi'),\n",
       " ('Guwahati', 'Brahamputra')]"
      ]
     },
     "execution_count": 46,
     "metadata": {},
     "output_type": "execute_result"
    }
   ],
   "source": [
    "list(zip(city_list,river_list))"
   ]
  },
  {
   "cell_type": "code",
   "execution_count": 47,
   "id": "e0857bff",
   "metadata": {},
   "outputs": [],
   "source": [
    "# Create an empty set \n",
    "empty_set = set()"
   ]
  },
  {
   "cell_type": "code",
   "execution_count": 48,
   "id": "ece73bc2",
   "metadata": {},
   "outputs": [
    {
     "data": {
      "text/plain": [
       "set"
      ]
     },
     "execution_count": 48,
     "metadata": {},
     "output_type": "execute_result"
    }
   ],
   "source": [
    "type(empty_set)"
   ]
  },
  {
   "cell_type": "code",
   "execution_count": 49,
   "id": "53946ce1",
   "metadata": {},
   "outputs": [],
   "source": [
    "# Create a non-empty set within curly braces\n",
    "non_empty_set = {1,6,4,'abc'}"
   ]
  },
  {
   "cell_type": "code",
   "execution_count": 50,
   "id": "a5794790",
   "metadata": {},
   "outputs": [
    {
     "data": {
      "text/plain": [
       "set"
      ]
     },
     "execution_count": 50,
     "metadata": {},
     "output_type": "execute_result"
    }
   ],
   "source": [
    "type(non_empty_set)"
   ]
  },
  {
   "cell_type": "code",
   "execution_count": 51,
   "id": "d805b3b5",
   "metadata": {},
   "outputs": [],
   "source": [
    "my_object = {}"
   ]
  },
  {
   "cell_type": "code",
   "execution_count": 52,
   "id": "310769de",
   "metadata": {},
   "outputs": [
    {
     "data": {
      "text/plain": [
       "dict"
      ]
     },
     "execution_count": 52,
     "metadata": {},
     "output_type": "execute_result"
    }
   ],
   "source": [
    "type(my_object)"
   ]
  },
  {
   "cell_type": "code",
   "execution_count": 53,
   "id": "511d2191",
   "metadata": {},
   "outputs": [],
   "source": [
    "my_set = set()"
   ]
  },
  {
   "cell_type": "code",
   "execution_count": 54,
   "id": "203060dc",
   "metadata": {},
   "outputs": [
    {
     "data": {
      "text/plain": [
       "set"
      ]
     },
     "execution_count": 54,
     "metadata": {},
     "output_type": "execute_result"
    }
   ],
   "source": [
    "type(my_set)"
   ]
  },
  {
   "cell_type": "code",
   "execution_count": 55,
   "id": "baab16b8",
   "metadata": {},
   "outputs": [],
   "source": [
    "# Create a list with repeats\n",
    "my_list = [1,1,2,2,3,4,5,6,1,1]"
   ]
  },
  {
   "cell_type": "code",
   "execution_count": 56,
   "id": "2f111bc6",
   "metadata": {},
   "outputs": [],
   "source": [
    "# Cast as set to get unique values\n",
    "my_set = set(my_list)"
   ]
  },
  {
   "cell_type": "code",
   "execution_count": 57,
   "id": "1c7cca66",
   "metadata": {},
   "outputs": [
    {
     "data": {
      "text/plain": [
       "{1, 2, 3, 4, 5, 6}"
      ]
     },
     "execution_count": 57,
     "metadata": {},
     "output_type": "execute_result"
    }
   ],
   "source": [
    "my_set"
   ]
  },
  {
   "cell_type": "code",
   "execution_count": 58,
   "id": "b63cceae",
   "metadata": {},
   "outputs": [],
   "source": [
    "# A set cannot have mutable items\n",
    "my_set = {1, 2, (3, 4)}"
   ]
  },
  {
   "cell_type": "code",
   "execution_count": 59,
   "id": "461ed383",
   "metadata": {},
   "outputs": [],
   "source": [
    "# But we can have tuples as set elements, they are immutable\n",
    "my_set = {1, 2, (2,3)}"
   ]
  },
  {
   "cell_type": "code",
   "execution_count": 60,
   "id": "12aaea32",
   "metadata": {},
   "outputs": [
    {
     "data": {
      "text/plain": [
       "{(2, 3), 1, 2}"
      ]
     },
     "execution_count": 60,
     "metadata": {},
     "output_type": "execute_result"
    }
   ],
   "source": [
    "my_set"
   ]
  },
  {
   "cell_type": "code",
   "execution_count": 61,
   "id": "a0034fb1",
   "metadata": {},
   "outputs": [
    {
     "ename": "TypeError",
     "evalue": "unhashable type: 'set'",
     "output_type": "error",
     "traceback": [
      "\u001b[1;31m---------------------------------------------------------------------------\u001b[0m",
      "\u001b[1;31mTypeError\u001b[0m                                 Traceback (most recent call last)",
      "Input \u001b[1;32mIn [61]\u001b[0m, in \u001b[0;36m<cell line: 1>\u001b[1;34m()\u001b[0m\n\u001b[1;32m----> 1\u001b[0m my_set \u001b[38;5;241m=\u001b[39m {\u001b[38;5;241m1\u001b[39m,\u001b[38;5;241m2\u001b[39m, {\u001b[38;5;241m3\u001b[39m,\u001b[38;5;241m5\u001b[39m}}\n",
      "\u001b[1;31mTypeError\u001b[0m: unhashable type: 'set'"
     ]
    }
   ],
   "source": [
    "my_setmy_set = {1,2, {3,5}}"
   ]
  },
  {
   "cell_type": "code",
   "execution_count": 62,
   "id": "61451a41",
   "metadata": {},
   "outputs": [
    {
     "data": {
      "text/plain": [
       "{(2, 3), 1, 2}"
      ]
     },
     "execution_count": 62,
     "metadata": {},
     "output_type": "execute_result"
    }
   ],
   "source": [
    "my_set"
   ]
  },
  {
   "cell_type": "code",
   "execution_count": 63,
   "id": "55387f74",
   "metadata": {},
   "outputs": [],
   "source": [
    "# We add to sets with the add() method\n",
    "my_set = set()\n",
    "my_set.add('a')"
   ]
  },
  {
   "cell_type": "code",
   "execution_count": 64,
   "id": "2b1664a5",
   "metadata": {},
   "outputs": [
    {
     "data": {
      "text/plain": [
       "{'a'}"
      ]
     },
     "execution_count": 64,
     "metadata": {},
     "output_type": "execute_result"
    }
   ],
   "source": [
    "#Show\n",
    "my_set"
   ]
  },
  {
   "cell_type": "code",
   "execution_count": 65,
   "id": "335a2370",
   "metadata": {},
   "outputs": [],
   "source": [
    "# Add a different element\n",
    "my_set.add(2)"
   ]
  },
  {
   "cell_type": "code",
   "execution_count": 66,
   "id": "964e99cb",
   "metadata": {},
   "outputs": [
    {
     "name": "stdout",
     "output_type": "stream",
     "text": [
      "{2, 'a'}\n"
     ]
    }
   ],
   "source": [
    "#Show\n",
    "print(my_set)"
   ]
  },
  {
   "cell_type": "code",
   "execution_count": 67,
   "id": "508c0a05",
   "metadata": {},
   "outputs": [
    {
     "ename": "NameError",
     "evalue": "name 'x' is not defined",
     "output_type": "error",
     "traceback": [
      "\u001b[1;31m---------------------------------------------------------------------------\u001b[0m",
      "\u001b[1;31mNameError\u001b[0m                                 Traceback (most recent call last)",
      "Input \u001b[1;32mIn [67]\u001b[0m, in \u001b[0;36m<cell line: 2>\u001b[1;34m()\u001b[0m\n\u001b[0;32m      1\u001b[0m \u001b[38;5;66;03m# Lets add another element 1\u001b[39;00m\n\u001b[1;32m----> 2\u001b[0m \u001b[43mx\u001b[49m\u001b[38;5;241m.\u001b[39madd(\u001b[38;5;241m1\u001b[39m)\n",
      "\u001b[1;31mNameError\u001b[0m: name 'x' is not defined"
     ]
    }
   ],
   "source": [
    "# Lets add another element 1\n",
    "x.add(1)"
   ]
  },
  {
   "cell_type": "code",
   "execution_count": 68,
   "id": "a338bdff",
   "metadata": {},
   "outputs": [],
   "source": [
    "my_set = {5,7,9,3}"
   ]
  },
  {
   "cell_type": "code",
   "execution_count": 69,
   "id": "18881357",
   "metadata": {},
   "outputs": [
    {
     "name": "stdout",
     "output_type": "stream",
     "text": [
      "{2, 3, 4, 5, 7, 9}\n"
     ]
    }
   ],
   "source": [
    "    # add multiple elements\n",
    "my_set.update([2, 3, 4])\n",
    "print(my_set)"
   ]
  },
  {
   "cell_type": "code",
   "execution_count": 70,
   "id": "971a27fb",
   "metadata": {},
   "outputs": [],
   "source": [
    "non_empty_set = {1,5,6,73,2}"
   ]
  },
  {
   "cell_type": "code",
   "execution_count": 71,
   "id": "d82e6ab7",
   "metadata": {},
   "outputs": [],
   "source": [
    "non_empty_set.remove(5)"
   ]
  },
  {
   "cell_type": "code",
   "execution_count": 72,
   "id": "234bbc80",
   "metadata": {},
   "outputs": [
    {
     "data": {
      "text/plain": [
       "{1, 2, 6, 73}"
      ]
     },
     "execution_count": 72,
     "metadata": {},
     "output_type": "execute_result"
    }
   ],
   "source": [
    "non_empty_set"
   ]
  },
  {
   "cell_type": "code",
   "execution_count": 73,
   "id": "9c9a00e2",
   "metadata": {},
   "outputs": [
    {
     "ename": "KeyError",
     "evalue": "45",
     "output_type": "error",
     "traceback": [
      "\u001b[1;31m---------------------------------------------------------------------------\u001b[0m",
      "\u001b[1;31mKeyError\u001b[0m                                  Traceback (most recent call last)",
      "Input \u001b[1;32mIn [73]\u001b[0m, in \u001b[0;36m<cell line: 1>\u001b[1;34m()\u001b[0m\n\u001b[1;32m----> 1\u001b[0m \u001b[43mnon_empty_set\u001b[49m\u001b[38;5;241;43m.\u001b[39;49m\u001b[43mremove\u001b[49m\u001b[43m(\u001b[49m\u001b[38;5;241;43m45\u001b[39;49m\u001b[43m)\u001b[49m\n",
      "\u001b[1;31mKeyError\u001b[0m: 45"
     ]
    }
   ],
   "source": [
    "non_empty_set.remove(45)"
   ]
  },
  {
   "cell_type": "code",
   "execution_count": 74,
   "id": "b7310de2",
   "metadata": {},
   "outputs": [],
   "source": [
    "# Initialize sets A and B\n",
    "A = {1, 2, 3, 4, 5}\n",
    "B = {4, 5, 6, 7, 8}"
   ]
  },
  {
   "cell_type": "code",
   "execution_count": 75,
   "id": "9aac504f",
   "metadata": {},
   "outputs": [
    {
     "data": {
      "text/plain": [
       "{1, 2, 3, 4, 5, 6, 7, 8}"
      ]
     },
     "execution_count": 75,
     "metadata": {},
     "output_type": "execute_result"
    }
   ],
   "source": [
    "A.union(B)"
   ]
  },
  {
   "cell_type": "code",
   "execution_count": 76,
   "id": "81cec6e8",
   "metadata": {},
   "outputs": [
    {
     "data": {
      "text/plain": [
       "{1, 2, 3, 4, 5}"
      ]
     },
     "execution_count": 76,
     "metadata": {},
     "output_type": "execute_result"
    }
   ],
   "source": [
    "A"
   ]
  },
  {
   "cell_type": "code",
   "execution_count": 77,
   "id": "d066d42d",
   "metadata": {},
   "outputs": [
    {
     "data": {
      "text/plain": [
       "{1, 2, 3, 4, 5, 6, 7, 8}"
      ]
     },
     "execution_count": 77,
     "metadata": {},
     "output_type": "execute_result"
    }
   ],
   "source": [
    "# Also denoted by the operator |\n",
    "A | B"
   ]
  },
  {
   "cell_type": "code",
   "execution_count": 78,
   "id": "ec5a8b9c",
   "metadata": {},
   "outputs": [],
   "source": [
    "A = {1, 2, 3, 4, 5}\n",
    "B = {4, 5, 6, 7, 8}"
   ]
  },
  {
   "cell_type": "code",
   "execution_count": 79,
   "id": "aa9e9f97",
   "metadata": {},
   "outputs": [
    {
     "data": {
      "text/plain": [
       "{4, 5}"
      ]
     },
     "execution_count": 79,
     "metadata": {},
     "output_type": "execute_result"
    }
   ],
   "source": [
    "A.intersection(B)"
   ]
  },
  {
   "cell_type": "code",
   "execution_count": 80,
   "id": "6c5cb1bb",
   "metadata": {},
   "outputs": [
    {
     "data": {
      "text/plain": [
       "{4, 5}"
      ]
     },
     "execution_count": 80,
     "metadata": {},
     "output_type": "execute_result"
    }
   ],
   "source": [
    "# Also denoted by the operator &\n",
    "A & B"
   ]
  },
  {
   "cell_type": "code",
   "execution_count": 81,
   "id": "d30f296f",
   "metadata": {},
   "outputs": [],
   "source": [
    "A = {1, 2, 3, 4, 5}\n",
    "B = {4, 5, 6, 7, 8}"
   ]
  },
  {
   "cell_type": "code",
   "execution_count": 82,
   "id": "c0255666",
   "metadata": {},
   "outputs": [
    {
     "data": {
      "text/plain": [
       "{1, 2, 3}"
      ]
     },
     "execution_count": 82,
     "metadata": {},
     "output_type": "execute_result"
    }
   ],
   "source": [
    "A.difference(B)"
   ]
  },
  {
   "cell_type": "code",
   "execution_count": 83,
   "id": "1d148a02",
   "metadata": {},
   "outputs": [
    {
     "data": {
      "text/plain": [
       "{1, 2, 3}"
      ]
     },
     "execution_count": 83,
     "metadata": {},
     "output_type": "execute_result"
    }
   ],
   "source": [
    "# Also denoted by the operator -\n",
    "A - B"
   ]
  },
  {
   "cell_type": "code",
   "execution_count": 84,
   "id": "8a9541f7",
   "metadata": {},
   "outputs": [
    {
     "data": {
      "text/plain": [
       "{6, 7, 8}"
      ]
     },
     "execution_count": 84,
     "metadata": {},
     "output_type": "execute_result"
    }
   ],
   "source": [
    "B.difference(A)"
   ]
  },
  {
   "cell_type": "code",
   "execution_count": 85,
   "id": "7935d331",
   "metadata": {},
   "outputs": [
    {
     "data": {
      "text/plain": [
       "{6, 7, 8}"
      ]
     },
     "execution_count": 85,
     "metadata": {},
     "output_type": "execute_result"
    }
   ],
   "source": [
    "B - A"
   ]
  },
  {
   "cell_type": "code",
   "execution_count": 86,
   "id": "bf8e08ee",
   "metadata": {},
   "outputs": [],
   "source": [
    "A = {1, 2, 3, 4, 5}\n",
    "B = {4, 5, 6, 7, 8}"
   ]
  },
  {
   "cell_type": "code",
   "execution_count": 87,
   "id": "b370057a",
   "metadata": {},
   "outputs": [
    {
     "data": {
      "text/plain": [
       "{1, 2, 3, 6, 7, 8}"
      ]
     },
     "execution_count": 87,
     "metadata": {},
     "output_type": "execute_result"
    }
   ],
   "source": [
    "A.symmetric_difference(B)"
   ]
  },
  {
   "cell_type": "code",
   "execution_count": 88,
   "id": "dccba8a7",
   "metadata": {},
   "outputs": [
    {
     "data": {
      "text/plain": [
       "{1, 2, 3, 6, 7, 8}"
      ]
     },
     "execution_count": 88,
     "metadata": {},
     "output_type": "execute_result"
    }
   ],
   "source": [
    "A^B"
   ]
  },
  {
   "cell_type": "code",
   "execution_count": 89,
   "id": "13be683c",
   "metadata": {},
   "outputs": [],
   "source": [
    "# Make a dictionary with {} and : to signify a key and a value\n",
    "marvel_dict = {'Name':'Thor','Place':'Asgard','Weapon' : 'Hammer', 1:2, 3 : 'power', 'alibies' : ['Ironman','Captain America'], 'abc' : {1:2, 4:5}}"
   ]
  },
  {
   "cell_type": "code",
   "execution_count": 90,
   "id": "9a727cd1",
   "metadata": {},
   "outputs": [
    {
     "data": {
      "text/plain": [
       "{1: 2, 4: 5}"
      ]
     },
     "execution_count": 90,
     "metadata": {},
     "output_type": "execute_result"
    }
   ],
   "source": [
    "# Call values by their key\n",
    "marvel_dict['abc']"
   ]
  },
  {
   "cell_type": "code",
   "execution_count": 91,
   "id": "95aeb9fd",
   "metadata": {},
   "outputs": [
    {
     "data": {
      "text/plain": [
       "dict"
      ]
     },
     "execution_count": 91,
     "metadata": {},
     "output_type": "execute_result"
    }
   ],
   "source": [
    "type(marvel_dict)"
   ]
  },
  {
   "cell_type": "code",
   "execution_count": 92,
   "id": "31dfe258",
   "metadata": {},
   "outputs": [
    {
     "data": {
      "text/plain": [
       "'Thor'"
      ]
     },
     "execution_count": 92,
     "metadata": {},
     "output_type": "execute_result"
    }
   ],
   "source": [
    "marvel_dict['Name']"
   ]
  },
  {
   "cell_type": "code",
   "execution_count": 93,
   "id": "3419f6ec",
   "metadata": {},
   "outputs": [
    {
     "ename": "KeyError",
     "evalue": "'Random'",
     "output_type": "error",
     "traceback": [
      "\u001b[1;31m---------------------------------------------------------------------------\u001b[0m",
      "\u001b[1;31mKeyError\u001b[0m                                  Traceback (most recent call last)",
      "Input \u001b[1;32mIn [93]\u001b[0m, in \u001b[0;36m<cell line: 1>\u001b[1;34m()\u001b[0m\n\u001b[1;32m----> 1\u001b[0m \u001b[43mmarvel_dict\u001b[49m\u001b[43m[\u001b[49m\u001b[38;5;124;43m'\u001b[39;49m\u001b[38;5;124;43mRandom\u001b[39;49m\u001b[38;5;124;43m'\u001b[39;49m\u001b[43m]\u001b[49m\n",
      "\u001b[1;31mKeyError\u001b[0m: 'Random'"
     ]
    }
   ],
   "source": [
    "marvel_dict['Random']"
   ]
  },
  {
   "cell_type": "code",
   "execution_count": 94,
   "id": "ed347c77",
   "metadata": {},
   "outputs": [
    {
     "data": {
      "text/plain": [
       "'Thor'"
      ]
     },
     "execution_count": 94,
     "metadata": {},
     "output_type": "execute_result"
    }
   ],
   "source": [
    "marvel_dict['Name']"
   ]
  },
  {
   "cell_type": "code",
   "execution_count": 95,
   "id": "40ed62bc",
   "metadata": {},
   "outputs": [
    {
     "data": {
      "text/plain": [
       "'Hammer'"
      ]
     },
     "execution_count": 95,
     "metadata": {},
     "output_type": "execute_result"
    }
   ],
   "source": [
    "marvel_dict['Weapon']"
   ]
  },
  {
   "cell_type": "code",
   "execution_count": 96,
   "id": "b904abf8",
   "metadata": {},
   "outputs": [
    {
     "data": {
      "text/plain": [
       "['Ironman', 'Captain America']"
      ]
     },
     "execution_count": 96,
     "metadata": {},
     "output_type": "execute_result"
    }
   ],
   "source": [
    "marvel_dict['alibies']"
   ]
  },
  {
   "cell_type": "code",
   "execution_count": 97,
   "id": "083c0101",
   "metadata": {},
   "outputs": [
    {
     "data": {
      "text/plain": [
       "dict"
      ]
     },
     "execution_count": 97,
     "metadata": {},
     "output_type": "execute_result"
    }
   ],
   "source": [
    "   type(marvel_dict['abc'])"
   ]
  },
  {
   "cell_type": "code",
   "execution_count": 98,
   "id": "9c3022dc",
   "metadata": {},
   "outputs": [
    {
     "data": {
      "text/plain": [
       "dict_keys(['Name', 'Place', 'Weapon', 1, 3, 'alibies', 'abc'])"
      ]
     },
     "execution_count": 98,
     "metadata": {},
     "output_type": "execute_result"
    }
   ],
   "source": [
    "marvel_dict.keys()"
   ]
  },
  {
   "cell_type": "code",
   "execution_count": 99,
   "id": "29b01f57",
   "metadata": {},
   "outputs": [
    {
     "data": {
      "text/plain": [
       "['Name', 'Place', 'Weapon', 1, 3, 'alibies', 'abc']"
      ]
     },
     "execution_count": 99,
     "metadata": {},
     "output_type": "execute_result"
    }
   ],
   "source": [
    "list(marvel_dict.keys())"
   ]
  },
  {
   "cell_type": "code",
   "execution_count": 100,
   "id": "5de55ba0",
   "metadata": {},
   "outputs": [
    {
     "name": "stdout",
     "output_type": "stream",
     "text": [
      "{'Name': 'Thor', 'Place': 'Asgard', 'Weapon': 'Hammer', 1: 2, 3: 'power', 'alibies': ['Ironman', 'Captain America'], 'abc': {1: 2, 4: 5}}\n"
     ]
    }
   ],
   "source": [
    "print(marvel_dict)"
   ]
  },
  {
   "cell_type": "code",
   "execution_count": 101,
   "id": "be680ee7",
   "metadata": {},
   "outputs": [
    {
     "data": {
      "text/plain": [
       "['Thor',\n",
       " 'Asgard',\n",
       " 'Hammer',\n",
       " 2,\n",
       " 'power',\n",
       " ['Ironman', 'Captain America'],\n",
       " {1: 2, 4: 5}]"
      ]
     },
     "execution_count": 101,
     "metadata": {},
     "output_type": "execute_result"
    }
   ],
   "source": [
    "list(marvel_dict.values())"
   ]
  },
  {
   "cell_type": "code",
   "execution_count": 102,
   "id": "181b5a96",
   "metadata": {},
   "outputs": [
    {
     "data": {
      "text/plain": [
       "dict_items([('Name', 'Thor'), ('Place', 'Asgard'), ('Weapon', 'Hammer'), (1, 2), (3, 'power'), ('alibies', ['Ironman', 'Captain America']), ('abc', {1: 2, 4: 5})])"
      ]
     },
     "execution_count": 102,
     "metadata": {},
     "output_type": "execute_result"
    }
   ],
   "source": [
    "# Get the keys and their corresponding values\n",
    "marvel_dict.items()"
   ]
  },
  {
   "cell_type": "code",
   "execution_count": 103,
   "id": "5c80e91f",
   "metadata": {},
   "outputs": [
    {
     "data": {
      "text/plain": [
       "'Asgard'"
      ]
     },
     "execution_count": 103,
     "metadata": {},
     "output_type": "execute_result"
    }
   ],
   "source": [
    "marvel_dict.get('Place')"
   ]
  },
  {
   "cell_type": "code",
   "execution_count": 104,
   "id": "b2436291",
   "metadata": {},
   "outputs": [
    {
     "data": {
      "text/plain": [
       "'Asgard'"
      ]
     },
     "execution_count": 104,
     "metadata": {},
     "output_type": "execute_result"
    }
   ],
   "source": [
    "marvel_dict.get('Place')"
   ]
  },
  {
   "cell_type": "code",
   "execution_count": 108,
   "id": "aa33db31",
   "metadata": {},
   "outputs": [],
   "source": [
    "marvel_dict.get('Random')"
   ]
  },
  {
   "cell_type": "code",
   "execution_count": 109,
   "id": "af9a8b6a",
   "metadata": {},
   "outputs": [
    {
     "data": {
      "text/plain": [
       "'Not found'"
      ]
     },
     "execution_count": 109,
     "metadata": {},
     "output_type": "execute_result"
    }
   ],
   "source": [
    "marvel_dict.get('Random','Not found')"
   ]
  },
  {
   "cell_type": "code",
   "execution_count": 110,
   "id": "75c3ac0a",
   "metadata": {},
   "outputs": [
    {
     "ename": "KeyError",
     "evalue": "'friend'",
     "output_type": "error",
     "traceback": [
      "\u001b[1;31m---------------------------------------------------------------------------\u001b[0m",
      "\u001b[1;31mKeyError\u001b[0m                                  Traceback (most recent call last)",
      "Input \u001b[1;32mIn [110]\u001b[0m, in \u001b[0;36m<cell line: 1>\u001b[1;34m()\u001b[0m\n\u001b[1;32m----> 1\u001b[0m \u001b[43mmarvel_dict\u001b[49m\u001b[43m[\u001b[49m\u001b[38;5;124;43m'\u001b[39;49m\u001b[38;5;124;43mfriend\u001b[39;49m\u001b[38;5;124;43m'\u001b[39;49m\u001b[43m]\u001b[49m\n",
      "\u001b[1;31mKeyError\u001b[0m: 'friend'"
     ]
    }
   ],
   "source": [
    "marvel_dict['friend']"
   ]
  },
  {
   "cell_type": "code",
   "execution_count": 111,
   "id": "c7682580",
   "metadata": {},
   "outputs": [],
   "source": [
    "employee_dict = {'Name':'Sanket','Skills':['Python','Machine Learning','Deep Learning'],'Band':6.0,'Promotion Year':[2016,2018,2020]}"
   ]
  },
  {
   "cell_type": "code",
   "execution_count": 112,
   "id": "f9858e1b",
   "metadata": {},
   "outputs": [
    {
     "data": {
      "text/plain": [
       "4"
      ]
     },
     "execution_count": 112,
     "metadata": {},
     "output_type": "execute_result"
    }
   ],
   "source": [
    "len(employee_dict.keys())"
   ]
  },
  {
   "cell_type": "code",
   "execution_count": 113,
   "id": "f8b96b92",
   "metadata": {},
   "outputs": [
    {
     "data": {
      "text/plain": [
       "['Python', 'Machine Learning', 'Deep Learning']"
      ]
     },
     "execution_count": 113,
     "metadata": {},
     "output_type": "execute_result"
    }
   ],
   "source": [
    "# Let's call items from the dictionary\n",
    "employee_dict['Skills']"
   ]
  },
  {
   "cell_type": "code",
   "execution_count": 114,
   "id": "50d9d92a",
   "metadata": {},
   "outputs": [
    {
     "data": {
      "text/plain": [
       "'Python'"
      ]
     },
     "execution_count": 114,
     "metadata": {},
     "output_type": "execute_result"
    }
   ],
   "source": [
    "# Can call an index on that value\n",
    "employee_dict['Skills'][0]"
   ]
  },
  {
   "cell_type": "code",
   "execution_count": 115,
   "id": "e8c2d891",
   "metadata": {},
   "outputs": [
    {
     "data": {
      "text/plain": [
       "'Python'"
      ]
     },
     "execution_count": 115,
     "metadata": {},
     "output_type": "execute_result"
    }
   ],
   "source": [
    "# Can call an index on that value\n",
    "employee_dict['Skills'][0]"
   ]
  },
  {
   "cell_type": "code",
   "execution_count": 116,
   "id": "cab1ff98",
   "metadata": {},
   "outputs": [
    {
     "data": {
      "text/plain": [
       "'PYTHON'"
      ]
     },
     "execution_count": 116,
     "metadata": {},
     "output_type": "execute_result"
    }
   ],
   "source": [
    "# Can then even call methods on that value\n",
    "employee_dict['Skills'][0].upper()"
   ]
  },
  {
   "cell_type": "code",
   "execution_count": 117,
   "id": "0d41b1cb",
   "metadata": {},
   "outputs": [],
   "source": [
    "# Add a new key\n",
    "\n",
    "employee_dict['Designation'] ='Senior Data Scientist'"
   ]
  },
  {
   "cell_type": "code",
   "execution_count": 118,
   "id": "197f5055",
   "metadata": {},
   "outputs": [
    {
     "data": {
      "text/plain": [
       "{'Name': 'Sanket',\n",
       " 'Skills': ['Python', 'Machine Learning', 'Deep Learning'],\n",
       " 'Band': 6.0,\n",
       " 'Promotion Year': [2016, 2018, 2020],\n",
       " 'Designation': 'Senior Data Scientist'}"
      ]
     },
     "execution_count": 118,
     "metadata": {},
     "output_type": "execute_result"
    }
   ],
   "source": [
    "employee_dict"
   ]
  },
  {
   "cell_type": "code",
   "execution_count": 119,
   "id": "9a508d2d",
   "metadata": {},
   "outputs": [],
   "source": [
    "employee_dict.update({'Salary':'2,000,000'})"
   ]
  },
  {
   "cell_type": "code",
   "execution_count": 120,
   "id": "f27323fe",
   "metadata": {},
   "outputs": [
    {
     "data": {
      "text/plain": [
       "{'Name': 'Sanket',\n",
       " 'Skills': ['Python', 'Machine Learning', 'Deep Learning'],\n",
       " 'Band': 6.0,\n",
       " 'Promotion Year': [2016, 2018, 2020],\n",
       " 'Designation': 'Senior Data Scientist',\n",
       " 'Salary': '2,000,000'}"
      ]
     },
     "execution_count": 120,
     "metadata": {},
     "output_type": "execute_result"
    }
   ],
   "source": [
    "employee_dict"
   ]
  },
  {
   "cell_type": "code",
   "execution_count": 121,
   "id": "3da5119c",
   "metadata": {},
   "outputs": [],
   "source": [
    "employee_dict.update({'Name' : 'Varun Saini'})"
   ]
  },
  {
   "cell_type": "code",
   "execution_count": 122,
   "id": "bd0415d5",
   "metadata": {},
   "outputs": [
    {
     "data": {
      "text/plain": [
       "{'Name': 'Varun Saini',\n",
       " 'Skills': ['Python', 'Machine Learning', 'Deep Learning'],\n",
       " 'Band': 6.0,\n",
       " 'Promotion Year': [2016, 2018, 2020],\n",
       " 'Designation': 'Senior Data Scientist',\n",
       " 'Salary': '2,000,000'}"
      ]
     },
     "execution_count": 122,
     "metadata": {},
     "output_type": "execute_result"
    }
   ],
   "source": [
    "employee_dict"
   ]
  },
  {
   "cell_type": "code",
   "execution_count": 123,
   "id": "b53ea848",
   "metadata": {},
   "outputs": [
    {
     "data": {
      "text/plain": [
       "'Varun Saini'"
      ]
     },
     "execution_count": 123,
     "metadata": {},
     "output_type": "execute_result"
    }
   ],
   "source": [
    "employee_dict['Name']"
   ]
  },
  {
   "cell_type": "code",
   "execution_count": 124,
   "id": "b255cb89",
   "metadata": {},
   "outputs": [],
   "source": [
    "# Subtract 123 from the value\n",
    "employee_dict['Name'] = employee_dict['Name'] + '   ' + 'Raj'"
   ]
  },
  {
   "cell_type": "code",
   "execution_count": 125,
   "id": "96971b17",
   "metadata": {},
   "outputs": [
    {
     "data": {
      "text/plain": [
       "{'Name': 'Varun Saini   Raj',\n",
       " 'Skills': ['Python', 'Machine Learning', 'Deep Learning'],\n",
       " 'Band': 6.0,\n",
       " 'Promotion Year': [2016, 2018, 2020],\n",
       " 'Designation': 'Senior Data Scientist',\n",
       " 'Salary': '2,000,000'}"
      ]
     },
     "execution_count": 125,
     "metadata": {},
     "output_type": "execute_result"
    }
   ],
   "source": [
    "#Check\n",
    "employee_dict"
   ]
  },
  {
   "cell_type": "code",
   "execution_count": 126,
   "id": "33399434",
   "metadata": {},
   "outputs": [],
   "source": [
    "country_list = ['India','Australia','United States','England']\n",
    "city_list = ['New Delhi', 'Canberra' , 'Washington DC','London']"
   ]
  },
  {
   "cell_type": "code",
   "execution_count": 127,
   "id": "058e3fdb",
   "metadata": {},
   "outputs": [],
   "source": [
    "country_city_list = list(zip(country_list,city_list))"
   ]
  },
  {
   "cell_type": "code",
   "execution_count": 128,
   "id": "7e718239",
   "metadata": {},
   "outputs": [
    {
     "data": {
      "text/plain": [
       "[('India', 'New Delhi'),\n",
       " ('Australia', 'Canberra'),\n",
       " ('United States', 'Washington DC'),\n",
       " ('England', 'London')]"
      ]
     },
     "execution_count": 128,
     "metadata": {},
     "output_type": "execute_result"
    }
   ],
   "source": [
    "country_city_list"
   ]
  },
  {
   "cell_type": "code",
   "execution_count": 129,
   "id": "444d32e5",
   "metadata": {},
   "outputs": [
    {
     "data": {
      "text/plain": [
       "{'India': 'New Delhi',\n",
       " 'Australia': 'Canberra',\n",
       " 'United States': 'Washington DC',\n",
       " 'England': 'London'}"
      ]
     },
     "execution_count": 129,
     "metadata": {},
     "output_type": "execute_result"
    }
   ],
   "source": [
    "dict(country_city_list)"
   ]
  },
  {
   "cell_type": "code",
   "execution_count": 130,
   "id": "9feb72a9",
   "metadata": {},
   "outputs": [],
   "source": [
    "# Let us create a list of paired tuples\n",
    "country_city_tuples = [('India','New Delhi'),('Australia','Canberra'),('United States','Washington DC'),('England','London')]"
   ]
  },
  {
   "cell_type": "code",
   "execution_count": 131,
   "id": "5a3ab9f4",
   "metadata": {},
   "outputs": [],
   "source": [
    "country_city_dict = dict(country_city_tuples)"
   ]
  },
  {
   "cell_type": "code",
   "execution_count": 132,
   "id": "0913c3f3",
   "metadata": {},
   "outputs": [
    {
     "data": {
      "text/plain": [
       "{'India': 'New Delhi',\n",
       " 'Australia': 'Canberra',\n",
       " 'United States': 'Washington DC',\n",
       " 'England': 'London'}"
      ]
     },
     "execution_count": 132,
     "metadata": {},
     "output_type": "execute_result"
    }
   ],
   "source": [
    "country_city_dict"
   ]
  },
  {
   "cell_type": "code",
   "execution_count": 133,
   "id": "ed5dd3fd",
   "metadata": {},
   "outputs": [
    {
     "ename": "TypeError",
     "evalue": "pop expected at least 1 argument, got 0",
     "output_type": "error",
     "traceback": [
      "\u001b[1;31m---------------------------------------------------------------------------\u001b[0m",
      "\u001b[1;31mTypeError\u001b[0m                                 Traceback (most recent call last)",
      "Input \u001b[1;32mIn [133]\u001b[0m, in \u001b[0;36m<cell line: 1>\u001b[1;34m()\u001b[0m\n\u001b[1;32m----> 1\u001b[0m \u001b[43mcountry_city_dict\u001b[49m\u001b[38;5;241;43m.\u001b[39;49m\u001b[43mpop\u001b[49m\u001b[43m(\u001b[49m\u001b[43m)\u001b[49m\n",
      "\u001b[1;31mTypeError\u001b[0m: pop expected at least 1 argument, got 0"
     ]
    }
   ],
   "source": [
    "country_city_dict.pop()"
   ]
  },
  {
   "cell_type": "code",
   "execution_count": 134,
   "id": "927e8d55",
   "metadata": {},
   "outputs": [
    {
     "data": {
      "text/plain": [
       "{'India': 'New Delhi',\n",
       " 'Australia': 'Canberra',\n",
       " 'United States': 'Washington DC',\n",
       " 'England': 'London'}"
      ]
     },
     "execution_count": 134,
     "metadata": {},
     "output_type": "execute_result"
    }
   ],
   "source": [
    "country_city_dict"
   ]
  },
  {
   "cell_type": "code",
   "execution_count": 135,
   "id": "97ac66c0",
   "metadata": {},
   "outputs": [],
   "source": [
    "element_to_pop = country_city_dict.pop('England')"
   ]
  },
  {
   "cell_type": "code",
   "execution_count": 136,
   "id": "d7f2c56f",
   "metadata": {},
   "outputs": [
    {
     "data": {
      "text/plain": [
       "'London'"
      ]
     },
     "execution_count": 136,
     "metadata": {},
     "output_type": "execute_result"
    }
   ],
   "source": [
    "element_to_pop"
   ]
  },
  {
   "cell_type": "code",
   "execution_count": 137,
   "id": "2eefebb5",
   "metadata": {},
   "outputs": [
    {
     "data": {
      "text/plain": [
       "{'India': 'New Delhi',\n",
       " 'Australia': 'Canberra',\n",
       " 'United States': 'Washington DC'}"
      ]
     },
     "execution_count": 137,
     "metadata": {},
     "output_type": "execute_result"
    }
   ],
   "source": [
    "country_city_dict"
   ]
  },
  {
   "cell_type": "code",
   "execution_count": 145,
   "id": "df92d2b6",
   "metadata": {},
   "outputs": [],
   "source": [
    "name = [\"Manjeet\", \"Nikhil\", \"Shambhavi\"]\n",
    "marks = [40, 50, 60]"
   ]
  },
  {
   "cell_type": "code",
   "execution_count": 146,
   "id": "7ba20479",
   "metadata": {},
   "outputs": [],
   "source": [
    "mapped = zip(name, marks)"
   ]
  },
  {
   "cell_type": "code",
   "execution_count": 147,
   "id": "f68a911d",
   "metadata": {},
   "outputs": [
    {
     "data": {
      "text/plain": [
       "<zip at 0x250bc6bb380>"
      ]
     },
     "execution_count": 147,
     "metadata": {},
     "output_type": "execute_result"
    }
   ],
   "source": [
    "mapped"
   ]
  },
  {
   "cell_type": "code",
   "execution_count": 148,
   "id": "b58c74ec",
   "metadata": {},
   "outputs": [
    {
     "name": "stdout",
     "output_type": "stream",
     "text": [
      "{'Manjeet': 40, 'Nikhil': 50, 'Shambhavi': 60}\n"
     ]
    }
   ],
   "source": [
    "print(dict(mapped))"
   ]
  },
  {
   "cell_type": "code",
   "execution_count": 149,
   "id": "66c142c5",
   "metadata": {},
   "outputs": [],
   "source": [
    "name = [\"Manjeet\", \"Nikhil\", \"Shambhavi\"]\n",
    "marks = [40, 50, 60,80]"
   ]
  },
  {
   "cell_type": "code",
   "execution_count": 150,
   "id": "7d7d55ae",
   "metadata": {},
   "outputs": [],
   "source": [
    "mapped = zip(name, marks)"
   ]
  },
  {
   "cell_type": "code",
   "execution_count": 151,
   "id": "3139811d",
   "metadata": {},
   "outputs": [
    {
     "name": "stdout",
     "output_type": "stream",
     "text": [
      "{'Manjeet': 40, 'Nikhil': 50, 'Shambhavi': 60}\n"
     ]
    }
   ],
   "source": [
    "print(dict(mapped))"
   ]
  },
  {
   "cell_type": "code",
   "execution_count": 152,
   "id": "26eeb45b",
   "metadata": {},
   "outputs": [
    {
     "name": "stdout",
     "output_type": "stream",
     "text": [
      "{}\n"
     ]
    }
   ],
   "source": [
    "print(dict(mapped))"
   ]
  },
  {
   "cell_type": "code",
   "execution_count": null,
   "id": "124ccbbb",
   "metadata": {},
   "outputs": [],
   "source": []
  }
 ],
 "metadata": {
  "kernelspec": {
   "display_name": "Python 3 (ipykernel)",
   "language": "python",
   "name": "python3"
  },
  "language_info": {
   "codemirror_mode": {
    "name": "ipython",
    "version": 3
   },
   "file_extension": ".py",
   "mimetype": "text/x-python",
   "name": "python",
   "nbconvert_exporter": "python",
   "pygments_lexer": "ipython3",
   "version": "3.9.12"
  }
 },
 "nbformat": 4,
 "nbformat_minor": 5
}
