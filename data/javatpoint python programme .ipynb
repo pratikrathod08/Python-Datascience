{
 "cells": [
  {
   "cell_type": "markdown",
   "id": "fccc2d1e",
   "metadata": {},
   "source": [
    "#  Python basic program"
   ]
  },
  {
   "cell_type": "code",
   "execution_count": 1,
   "id": "5c8c3624",
   "metadata": {},
   "outputs": [
    {
     "name": "stdout",
     "output_type": "stream",
     "text": [
      "5\n",
      "hello world\n"
     ]
    }
   ],
   "source": [
    "#1 print hello world programe \n",
    "\n",
    "a= input()\n",
    "if len(a)>0:\n",
    "    print('hello world')"
   ]
  },
  {
   "cell_type": "code",
   "execution_count": 2,
   "id": "df4e113d",
   "metadata": {},
   "outputs": [],
   "source": [
    "#2 python programe to do arethemetic operation\n",
    "\n",
    "\n",
    "# sum\n",
    "def sumx(a,b):\n",
    "    c=a+b\n",
    "    return c\n",
    "def subtX(a,b):\n",
    "    c=a-b\n",
    "    return c\n",
    "def multx(a,b):\n",
    "    c=a*b\n",
    "    return c\n",
    "def divx(a,b):\n",
    "    c=a/b\n",
    "    return c\n",
    "    \n",
    "\n"
   ]
  },
  {
   "cell_type": "code",
   "execution_count": 3,
   "id": "c8e19979",
   "metadata": {},
   "outputs": [
    {
     "name": "stdout",
     "output_type": "stream",
     "text": [
      "7\n",
      "0.625\n",
      "-6\n",
      "72\n"
     ]
    }
   ],
   "source": [
    "# sum\n",
    "n=sumx(2,5)\n",
    "print(n)\n",
    "\n",
    "# div\n",
    "m=divx(5,8)\n",
    "print(m)\n",
    "\n",
    "# subtraction\n",
    "\n",
    "nn=subtX(2,8)\n",
    "print(nn)\n",
    "\n",
    "mm=multx(8,9)\n",
    "print(mm)"
   ]
  },
  {
   "cell_type": "code",
   "execution_count": 1,
   "id": "f22477db",
   "metadata": {},
   "outputs": [
    {
     "name": "stdout",
     "output_type": "stream",
     "text": [
      "a1  1\n",
      "a2  1\n",
      "a3  1\n",
      "b1  1\n",
      "b2  2\n",
      "b3  3\n",
      "c1  2\n",
      "c2  3\n",
      "c3  1\n",
      "area of triangle is -1.5\n"
     ]
    }
   ],
   "source": [
    "#3 find area of triangular by vertisus of triangle \n",
    "\n",
    "# a1,a2,a3=int(input('enter here vertices :')).split()\n",
    "# b1,b2,b3=int(input('enter here vertices :')).split()\n",
    "# c1,c2,c3=int(input('enter here vertices :')).split()\n",
    "a1,a2,a3=int(input('a1  ')),int(input('a2  ')),int(input('a3  '))\n",
    "b1,b2,b3=int(input('b1  ')),int(input('b2  ')),int(input('b3  '))\n",
    "c1,c2,c3=int(input('c1  ')),int(input('c2  ')),int(input('c3  '))\n",
    "\n",
    "# abc=1/2*(((b1-a1)*(c1-b1))+((b2-a2)*(c2-b2))+((b3-a3)*(c3-a3)))\n",
    "\n",
    "# if len(a)==2 and len(b)==2 and len(c)==2:\n",
    "#     a1=(a[0])\n",
    "#     a2=(a[1])\n",
    "#     a3=1\n",
    "#     b1=(b[0])\n",
    "#     b2=(b[1])\n",
    "#     b3=1\n",
    "#     c1=(c[0])\n",
    "#     c2=(c[1])\n",
    "#     c3=1\n",
    "#     area=1/2*(a1*((b2*c3)-(b3*c2))-a2*((b1*c3)-(b3*c1))+a3((b1*c2)-(b2*c1)))\n",
    "# if len(a)==3 and len(b)==3 and len(c)==3:\n",
    "# a1=(a[0])\n",
    "# a2=(a[1])\n",
    "# a3=(a[2])\n",
    "# b1=(b[0])\n",
    "# b2=(b[1])\n",
    "# b3=(b[2])\n",
    "# c1=(c[0])\n",
    "# c2=(c[1])\n",
    "# c3=(c[2])\n",
    "abc=1/2*((a1*((b2*c3)-(b3*c2)))-(a2*((b1*c3)-(b3*c1)))+(a3*((b1*c2)-(b2*c1))))\n",
    "# else:\n",
    "#     print('this is wrong input!')\n",
    "\n",
    "print(f'area of triangle is {abc}')\n",
    "    "
   ]
  },
  {
   "cell_type": "code",
   "execution_count": 14,
   "id": "624bd224",
   "metadata": {},
   "outputs": [
    {
     "name": "stdout",
     "output_type": "stream",
     "text": [
      "Enter first side: 6\n",
      "Enter second side: 9\n",
      "Enter third side: 7\n",
      "The area of the triangle is 20.98\n"
     ]
    }
   ],
   "source": [
    "# Three sides of the triangle is a, b and c:  \n",
    "a = float(input('Enter first side: '))  \n",
    "b = float(input('Enter second side: '))  \n",
    "c = float(input('Enter third side: '))  \n",
    "  \n",
    "# calculate the semi-perimeter  \n",
    "s = (a + b + c) / 2  \n",
    "  \n",
    "# calculate the area  \n",
    "area = (s*(s-a)*(s-b)*(s-c)) ** 0.5  \n",
    "print('The area of the triangle is %0.2f' %area)   "
   ]
  },
  {
   "cell_type": "code",
   "execution_count": 15,
   "id": "c66e4df1",
   "metadata": {},
   "outputs": [],
   "source": [
    "#4 solve quadrative equation "
   ]
  },
  {
   "cell_type": "code",
   "execution_count": 23,
   "id": "cf115f45",
   "metadata": {
    "scrolled": true
   },
   "outputs": [
    {
     "name": "stdout",
     "output_type": "stream",
     "text": [
      "5\n",
      "9\n",
      "9\n",
      "5\n"
     ]
    }
   ],
   "source": [
    "# 5 python programme to swap two variable \n",
    "\n",
    "a=input()\n",
    "b=input()\n",
    "c=a\n",
    "a=b\n",
    "b=c\n",
    "print(a)\n",
    "print(b)\n"
   ]
  },
  {
   "cell_type": "code",
   "execution_count": 15,
   "id": "89b3dc04",
   "metadata": {},
   "outputs": [
    {
     "name": "stdout",
     "output_type": "stream",
     "text": [
      "33\n",
      "22\n",
      "22\n",
      "33\n"
     ]
    }
   ],
   "source": [
    "a=int(input())\n",
    "b=int(input())\n",
    "a,b=b,a\n",
    "print(a)\n",
    "print(b)"
   ]
  },
  {
   "cell_type": "code",
   "execution_count": 2,
   "id": "f3c48f59",
   "metadata": {},
   "outputs": [
    {
     "name": "stdout",
     "output_type": "stream",
     "text": [
      "0.30401639002594094\n"
     ]
    }
   ],
   "source": [
    "#6 write a python programme for generate random numbers \n",
    "\n",
    "import random\n",
    "a=random.random()\n",
    "print(a)"
   ]
  },
  {
   "cell_type": "code",
   "execution_count": 40,
   "id": "ef65c504",
   "metadata": {},
   "outputs": [
    {
     "name": "stdout",
     "output_type": "stream",
     "text": [
      "56\n",
      "34.79678664\n"
     ]
    }
   ],
   "source": [
    "#7 write apython programme to convert kilometer to miles\n",
    "\n",
    "kilomiter=int(input())\n",
    "miles=kilomiter*0.62137119\n",
    "print(miles)"
   ]
  },
  {
   "cell_type": "code",
   "execution_count": 43,
   "id": "ccae471b",
   "metadata": {},
   "outputs": [
    {
     "name": "stdout",
     "output_type": "stream",
     "text": [
      "22\n",
      "71.6\n"
     ]
    }
   ],
   "source": [
    "# 8 convert celcius to fehrenhit\n",
    "\n",
    "celcius=int(input())\n",
    "fehreinheit=(celcius*9/5)+32\n",
    "print(fehreinheit)"
   ]
  },
  {
   "cell_type": "code",
   "execution_count": 50,
   "id": "2cb3b693",
   "metadata": {},
   "outputs": [
    {
     "name": "stdout",
     "output_type": "stream",
     "text": [
      "input year here :2013\n",
      "input month here :4\n",
      "     April 2013\n",
      "Mo Tu We Th Fr Sa Su\n",
      " 1  2  3  4  5  6  7\n",
      " 8  9 10 11 12 13 14\n",
      "15 16 17 18 19 20 21\n",
      "22 23 24 25 26 27 28\n",
      "29 30\n",
      "\n"
     ]
    }
   ],
   "source": [
    "# 9 python programme to display celender\n",
    "\n",
    "import calendar \n",
    "yy=int(input('input year here :'))\n",
    "mm=int(input('input month here :'))\n",
    "\n",
    "a=calendar.month(yy,mm)\n",
    "print(a)"
   ]
  },
  {
   "cell_type": "code",
   "execution_count": 48,
   "id": "e3f49cd4",
   "metadata": {},
   "outputs": [
    {
     "name": "stdout",
     "output_type": "stream",
     "text": [
      "Enter year: 2005\n",
      "Enter month: 5\n",
      "      May 2005\n",
      "Mo Tu We Th Fr Sa Su\n",
      "                   1\n",
      " 2  3  4  5  6  7  8\n",
      " 9 10 11 12 13 14 15\n",
      "16 17 18 19 20 21 22\n",
      "23 24 25 26 27 28 29\n",
      "30 31\n",
      "\n"
     ]
    }
   ],
   "source": [
    "# \n",
    "import calendar  \n",
    "# Enter the month and year  \n",
    "yy = int(input(\"Enter year: \"))  \n",
    "mm = int(input(\"Enter month: \"))  \n",
    "  \n",
    "# display the calendar  \n",
    "print(calendar.month(yy,mm))  "
   ]
  },
  {
   "cell_type": "code",
   "execution_count": 1,
   "id": "cb7b4605",
   "metadata": {},
   "outputs": [],
   "source": [
    "# 10 python native data type programme \n",
    "\n"
   ]
  },
  {
   "cell_type": "code",
   "execution_count": 3,
   "id": "49aad5d1",
   "metadata": {},
   "outputs": [
    {
     "ename": "TypeError",
     "evalue": "array() missing required argument 'object' (pos 0)",
     "output_type": "error",
     "traceback": [
      "\u001b[1;31m---------------------------------------------------------------------------\u001b[0m",
      "\u001b[1;31mTypeError\u001b[0m                                 Traceback (most recent call last)",
      "Input \u001b[1;32mIn [3]\u001b[0m, in \u001b[0;36m<cell line: 6>\u001b[1;34m()\u001b[0m\n\u001b[0;32m      4\u001b[0m a\u001b[38;5;241m=\u001b[39mnp\u001b[38;5;241m.\u001b[39marray([[\u001b[38;5;241m2\u001b[39m,\u001b[38;5;241m5\u001b[39m,\u001b[38;5;241m9\u001b[39m],[\u001b[38;5;241m3\u001b[39m,\u001b[38;5;241m6\u001b[39m,\u001b[38;5;241m7\u001b[39m]])\n\u001b[0;32m      5\u001b[0m b\u001b[38;5;241m=\u001b[39mnp\u001b[38;5;241m.\u001b[39marray([[\u001b[38;5;241m8\u001b[39m,\u001b[38;5;241m4\u001b[39m,\u001b[38;5;241m6\u001b[39m],[\u001b[38;5;241m3\u001b[39m,\u001b[38;5;241m4\u001b[39m,\u001b[38;5;241m8\u001b[39m]])\n\u001b[1;32m----> 6\u001b[0m c\u001b[38;5;241m=\u001b[39m\u001b[43mnp\u001b[49m\u001b[38;5;241;43m.\u001b[39;49m\u001b[43marray\u001b[49m\u001b[43m(\u001b[49m\u001b[43m)\u001b[49m\n\u001b[0;32m      8\u001b[0m \u001b[38;5;28;01mfor\u001b[39;00m i \u001b[38;5;129;01min\u001b[39;00m a:\n\u001b[0;32m      9\u001b[0m     \u001b[38;5;28;01mfor\u001b[39;00m j \u001b[38;5;129;01min\u001b[39;00m b:\n",
      "\u001b[1;31mTypeError\u001b[0m: array() missing required argument 'object' (pos 0)"
     ]
    }
   ],
   "source": [
    "# 11 python programme to add two metrices\n",
    "import numpy as np\n",
    "\n",
    "a=np.array([[2,5,9],[3,6,7]])\n",
    "b=np.array([[8,4,6],[3,4,8]])\n",
    "c=np.array()\n",
    "\n",
    "for i in a:\n",
    "    for j in b:\n",
    "        c=np.array(i,j)\n"
   ]
  },
  {
   "cell_type": "code",
   "execution_count": 13,
   "id": "ee49f122",
   "metadata": {},
   "outputs": [
    {
     "name": "stdout",
     "output_type": "stream",
     "text": [
      "type here your word :hello boys i m pratik rathod\n",
      "boys\n",
      "hello\n",
      "i\n",
      "m\n",
      "pratik\n",
      "rathod\n"
     ]
    }
   ],
   "source": [
    "# 12 Python Program to Sort Words in Alphabetic Order\n",
    "\n",
    "a=input('type here your word :')\n",
    "b=a.split()\n",
    "b.sort()\n",
    "for i in b:\n",
    "    print(i)"
   ]
  },
  {
   "cell_type": "code",
   "execution_count": 14,
   "id": "93023e0a",
   "metadata": {},
   "outputs": [
    {
     "name": "stdout",
     "output_type": "stream",
     "text": [
      "type here your sring :hello)fnjk63%&*&%VBHVBJHY&*TY&*\n",
      "hellofnjk63VBHVBJHYTY\n"
     ]
    }
   ],
   "source": [
    "#13  Python Program to Remove Punctuation from a String\n",
    "punctuation = '''''!()-[]{};:'\"\\,<>./?@#$%^&*_~'''  \n",
    "hh=input('type here your sring :')\n",
    "no_punch=''\n",
    "for i in hh:\n",
    "    if i not in punctuation:\n",
    "        no_punch= no_punch+i\n",
    "print(no_punch)"
   ]
  },
  {
   "cell_type": "code",
   "execution_count": 17,
   "id": "8d05357b",
   "metadata": {},
   "outputs": [
    {
     "name": "stdout",
     "output_type": "stream",
     "text": [
      "type your no here :0\n",
      "this number is zero\n"
     ]
    }
   ],
   "source": [
    "# 14 Python Program to check if a Number is Positive, Negative or Zero\n",
    "\n",
    "aa=int(input('type your no here :'))\n",
    "if aa>0:\n",
    "    print('this number is positive number.')\n",
    "elif aa<0:\n",
    "    print('this number is negative number.')\n",
    "else :\n",
    "    print('this number is zero')"
   ]
  },
  {
   "cell_type": "code",
   "execution_count": 19,
   "id": "362e2275",
   "metadata": {},
   "outputs": [
    {
     "name": "stdout",
     "output_type": "stream",
     "text": [
      "type your number here :55\n",
      "this number is odd number.\n"
     ]
    }
   ],
   "source": [
    "# 15 Python Program to Check if a Number is Odd or Even\n",
    "\n",
    "a=int(input('type your number here :'))\n",
    "if a %2 ==0 :\n",
    "    print('this number is even number')\n",
    "elif a%2!=0:\n",
    "    print('this number is odd number.')\n",
    "else :\n",
    "    print('this is wrong input.')"
   ]
  },
  {
   "cell_type": "code",
   "execution_count": 20,
   "id": "daac7a2a",
   "metadata": {},
   "outputs": [
    {
     "name": "stdout",
     "output_type": "stream",
     "text": [
      "type year here :2000\n",
      "this is leap year\n"
     ]
    }
   ],
   "source": [
    "# 16 Python Program to Check Leap Year\n",
    "\n",
    "year=int(input('type year here :'))\n",
    "if year %4 ==0:\n",
    "    if year %100 ==0:\n",
    "        if year % 400 ==0:\n",
    "            print('this is leap year')\n",
    "        else:\n",
    "            print('this is not a leap year')\n",
    "    else:\n",
    "        print('this is not leap year ')\n",
    "else:\n",
    "    print('this is not a leap year ')\n",
    "            "
   ]
  },
  {
   "cell_type": "code",
   "execution_count": 12,
   "id": "c2ce5602",
   "metadata": {},
   "outputs": [
    {
     "name": "stdout",
     "output_type": "stream",
     "text": [
      "type here your number :55\n",
      "2 this number is prime number\n",
      "3 this number is prime number\n",
      "5 this number is prime number\n",
      "7 this number is prime number\n",
      "11 this number is prime number\n",
      "13 this number is prime number\n",
      "17 this number is prime number\n",
      "19 this number is prime number\n",
      "23 this number is prime number\n",
      "29 this number is prime number\n",
      "31 this number is prime number\n",
      "37 this number is prime number\n",
      "41 this number is prime number\n",
      "43 this number is prime number\n",
      "47 this number is prime number\n",
      "53 this number is prime number\n"
     ]
    }
   ],
   "source": [
    "# 17 Python Program to Check Prime Number\n",
    "num=int(input('type here your number :'))\n",
    "for i in range(2,num+1):\n",
    "    if i>1:\n",
    "        for j in range(2,i):\n",
    "            if i %j == 0:\n",
    "                break\n",
    "        else:\n",
    "            print(i,'this number is prime number')"
   ]
  },
  {
   "cell_type": "code",
   "execution_count": 11,
   "id": "88473b0b",
   "metadata": {},
   "outputs": [
    {
     "name": "stdout",
     "output_type": "stream",
     "text": [
      "start number here :55\n",
      "end umber here :89\n",
      "59 this number is prime \n",
      "61 this number is prime \n",
      "67 this number is prime \n",
      "71 this number is prime \n",
      "73 this number is prime \n",
      "79 this number is prime \n",
      "83 this number is prime \n"
     ]
    }
   ],
   "source": [
    "# 18 Python Program to Print all Prime Numbers in an Interval\n",
    "a=int(input('start number here :'))\n",
    "b=int(input('end umber here :'))\n",
    "for i in range(a,b):\n",
    "    for j in range(2,i):\n",
    "        if i%j ==0:\n",
    "            break\n",
    "    else :\n",
    "        print(i,'this number is prime ')\n",
    "# for i in prime:\n",
    "#     if prime.count(i)<2:\n",
    "#         print(i,'this number is prime number.')\n",
    "        "
   ]
  },
  {
   "cell_type": "code",
   "execution_count": 39,
   "id": "f9e45441",
   "metadata": {},
   "outputs": [
    {
     "name": "stdout",
     "output_type": "stream",
     "text": [
      "[0, 1, 2, 3, 4, 5, 6, 7, 8, 9, 10, 11, 12, 13, 14, 15, 16, 17, 18, 19, 20, 21, 22, 23, 24, 25, 26, 27, 28, 29, 30, 31, 32, 33, 34, 35, 36, 37, 38, 39, 40, 41, 42, 43, 44, 45, 46, 47, 48, 49, 50, 51, 52, 53, 54]\n"
     ]
    }
   ],
   "source": [
    "print(a)"
   ]
  },
  {
   "cell_type": "code",
   "execution_count": 6,
   "id": "447fd465",
   "metadata": {},
   "outputs": [
    {
     "name": "stdout",
     "output_type": "stream",
     "text": [
      "Please, Enter the Lowest Range Value: 22\n",
      "Please, Enter the Upper Range Value: 36\n",
      "The Prime Numbers in the range are: \n",
      "23\n",
      "29\n",
      "31\n"
     ]
    }
   ],
   "source": [
    "# First, we will take the input:  \n",
    "lower_value = int(input (\"Please, Enter the Lowest Range Value: \"))  \n",
    "upper_value = int(input (\"Please, Enter the Upper Range Value: \"))  \n",
    "  \n",
    "print (\"The Prime Numbers in the range are: \")  \n",
    "for number in range (lower_value, upper_value + 1):  \n",
    "    if number > 1:  \n",
    "        for i in range (2, number):  \n",
    "            if (number % i) == 0:  \n",
    "                break  \n",
    "        else:  \n",
    "            print (number)  "
   ]
  },
  {
   "cell_type": "code",
   "execution_count": 17,
   "id": "d357b0e4",
   "metadata": {},
   "outputs": [
    {
     "name": "stdout",
     "output_type": "stream",
     "text": [
      "6\n",
      "720\n"
     ]
    }
   ],
   "source": [
    "# 19 Python Program to Find the Factorial of a Number\n",
    "fact=1\n",
    "num=int(input())\n",
    "for i in range(1,num+1):\n",
    "    fact=fact*i\n",
    "print(fact)"
   ]
  },
  {
   "cell_type": "code",
   "execution_count": 18,
   "id": "2c982057",
   "metadata": {},
   "outputs": [
    {
     "name": "stdout",
     "output_type": "stream",
     "text": [
      "tyype here number which multiplication table you need 22\n",
      "multiplication of number 0 by 22 is  0\n",
      "multiplication of number 1 by 22 is  22\n",
      "multiplication of number 2 by 22 is  44\n",
      "multiplication of number 3 by 22 is  66\n",
      "multiplication of number 4 by 22 is  88\n",
      "multiplication of number 5 by 22 is  110\n",
      "multiplication of number 6 by 22 is  132\n",
      "multiplication of number 7 by 22 is  154\n",
      "multiplication of number 8 by 22 is  176\n",
      "multiplication of number 9 by 22 is  198\n",
      "multiplication of number 10 by 22 is  220\n",
      "multiplication of number 11 by 22 is  242\n",
      "multiplication of number 12 by 22 is  264\n",
      "multiplication of number 13 by 22 is  286\n",
      "multiplication of number 14 by 22 is  308\n",
      "multiplication of number 15 by 22 is  330\n",
      "multiplication of number 16 by 22 is  352\n",
      "multiplication of number 17 by 22 is  374\n",
      "multiplication of number 18 by 22 is  396\n",
      "multiplication of number 19 by 22 is  418\n",
      "multiplication of number 20 by 22 is  440\n",
      "multiplication of number 21 by 22 is  462\n",
      "multiplication of number 22 by 22 is  484\n"
     ]
    }
   ],
   "source": [
    "#20 Python Program to Display the Multiplication Table\n",
    "\n",
    "num=int(input('type here number which multiplication table you need '))\n",
    "for i in range(num+1):\n",
    "    print(f'multiplication of number {i} by {num} is ',num*i)\n",
    "    "
   ]
  },
  {
   "cell_type": "code",
   "execution_count": 20,
   "id": "24153119",
   "metadata": {},
   "outputs": [
    {
     "name": "stdout",
     "output_type": "stream",
     "text": [
      "22\n",
      "0\n",
      "1\n",
      "1\n",
      "2\n",
      "3\n",
      "5\n",
      "8\n",
      "13\n",
      "21\n",
      "34\n",
      "55\n",
      "89\n",
      "144\n",
      "233\n",
      "377\n",
      "610\n",
      "987\n",
      "1597\n",
      "2584\n",
      "4181\n",
      "6765\n",
      "10946\n"
     ]
    }
   ],
   "source": [
    "# 21 Python Program to Print the Fibonacci sequence\n",
    "\n",
    "num=int(input())\n",
    "i=0\n",
    "j=1\n",
    "\n",
    "count=0\n",
    "while num>count:\n",
    "    print(i)\n",
    "    k=i+j\n",
    "    i=j\n",
    "    j=k\n",
    "    count +=1\n",
    "    \n",
    "    "
   ]
  },
  {
   "cell_type": "code",
   "execution_count": 9,
   "id": "6447eb1f",
   "metadata": {},
   "outputs": [
    {
     "name": "stdout",
     "output_type": "stream",
     "text": [
      "555\n",
      "['5', '5', '5']\n"
     ]
    }
   ],
   "source": [
    "# convert int into list \n",
    "\n",
    "num=int(input())\n",
    "n_list=list(str(num))\n",
    "print(n_list)\n"
   ]
  },
  {
   "cell_type": "code",
   "execution_count": 2,
   "id": "a88be43d",
   "metadata": {},
   "outputs": [
    {
     "name": "stdout",
     "output_type": "stream",
     "text": [
      "type here number to check whether it is armstrong number or not ?55\n",
      "this number is not armstrong number \n"
     ]
    }
   ],
   "source": [
    "# 22 Python Program to check Armstrong Number\n",
    "num=int(input('type here number to check whether it is armstrong number or not ?'))\n",
    "length=len(str(num))\n",
    "n_list=list(str(num))\n",
    "j=0\n",
    "for i in n_list:\n",
    "    j = j +(int(i)**length)\n",
    "if j == num:\n",
    "    print(j,'this number is armstrong number')\n",
    "else :\n",
    "    print('this number is not armstrong number ')"
   ]
  },
  {
   "cell_type": "code",
   "execution_count": null,
   "id": "433db5fa",
   "metadata": {},
   "outputs": [],
   "source": [
    "# armstrong number programme \n",
    "\n",
    "number=int(input('type number her'))\n",
    "lenn=len(str(number))\n",
    "new=number\n",
    "sum=0\n",
    "while new>0:\n",
    "    digit = new%10\n",
    "    sum =sum + digit**lenn\n",
    "    new //10\n",
    "if sum==number:\n",
    "    print('this number is armstrong number.')\n",
    "    \n",
    "    "
   ]
  },
  {
   "cell_type": "code",
   "execution_count": 2,
   "id": "070d2c03",
   "metadata": {},
   "outputs": [],
   "source": [
    "# 23 Python Program to Find Armstrong Number between an Interval\n"
   ]
  },
  {
   "cell_type": "code",
   "execution_count": 4,
   "id": "ddab41e4",
   "metadata": {},
   "outputs": [
    {
     "name": "stdout",
     "output_type": "stream",
     "text": [
      "number5\n",
      "15\n"
     ]
    }
   ],
   "source": [
    "# 24 Python Program to Find the Sum of Natural Numbers\n",
    "\n",
    "num=int(input('number'))\n",
    "sum=0\n",
    "for i in range(num+1):\n",
    "    sum +=i\n",
    "print(sum)"
   ]
  },
  {
   "cell_type": "markdown",
   "id": "eb82320e",
   "metadata": {},
   "source": [
    "#  Python function programs"
   ]
  },
  {
   "cell_type": "code",
   "execution_count": 8,
   "id": "6fe5e995",
   "metadata": {},
   "outputs": [
    {
     "name": "stdout",
     "output_type": "stream",
     "text": [
      "30\n",
      "70\n",
      "2 lcm number\n"
     ]
    }
   ],
   "source": [
    "# 25 lcm number \n",
    "num=int(input())\n",
    "num2=int(input())\n",
    "cm=[]\n",
    "if num<num2:\n",
    "    new=num\n",
    "else:\n",
    "    new=num2\n",
    "for i in range(2,new+1):\n",
    "    if num%i==0 and num2%i==0:\n",
    "#         lcm number pettern 1\n",
    "#         print(i,'lcm number')  \n",
    "#         break\n",
    "#         lcm number pettern 2\n",
    "        cm.append(i)\n",
    "print(cm[0],'lcm number')\n",
    "        "
   ]
  },
  {
   "cell_type": "code",
   "execution_count": 8,
   "id": "0dc87883",
   "metadata": {},
   "outputs": [
    {
     "name": "stdout",
     "output_type": "stream",
     "text": [
      "55\n",
      "69\n",
      "0\n"
     ]
    }
   ],
   "source": [
    "# 26 hcf number \n",
    "num=int(input())\n",
    "num1=int(input())\n",
    "hcf=0\n",
    "if num<num1:\n",
    "    new=num\n",
    "else :\n",
    "    new =num1\n",
    "for i in range(2,new+1):\n",
    "    if num%i==0 and num1%i ==0:\n",
    "        print(i)\n",
    "        hcf=i\n",
    "        \n",
    "        \n",
    "print(hcf)\n",
    "    "
   ]
  },
  {
   "cell_type": "code",
   "execution_count": 18,
   "id": "8f2146f4",
   "metadata": {},
   "outputs": [
    {
     "name": "stdout",
     "output_type": "stream",
     "text": [
      "22.12\n",
      "0b10110\n",
      "0x16\n",
      "0o26\n"
     ]
    }
   ],
   "source": [
    "# 27 Python Program to Convert Decimal to Binary, Octal and Hexadecimal\n",
    "a=float(input())\n",
    "a=int(a)\n",
    "\n",
    "print(bin(a))\n",
    "print(hex(a))\n",
    "print(oct(a))"
   ]
  },
  {
   "cell_type": "code",
   "execution_count": 19,
   "id": "3ee4fbaa",
   "metadata": {},
   "outputs": [
    {
     "name": "stdout",
     "output_type": "stream",
     "text": [
      "enter charecter here :$\n",
      "the ascii value if $ is : 36\n"
     ]
    }
   ],
   "source": [
    "# 28 Python Program To Find ASCII value of a character\n",
    "\n",
    "a=input('enter charecter here :')\n",
    "print(f'the ascii value if {a} is :',ord(a))"
   ]
  },
  {
   "cell_type": "code",
   "execution_count": 20,
   "id": "8b2ce7fc",
   "metadata": {},
   "outputs": [
    {
     "name": "stdout",
     "output_type": "stream",
     "text": [
      "chose any one option which you want to perform :\n",
      "a.addition\n",
      "b.subtraction\n",
      "c.multiplication\n",
      "d.division\n",
      "b\n",
      "type here first number :5\n",
      "type second number here :9\n",
      "5 and 9 subtraction is : -4\n"
     ]
    }
   ],
   "source": [
    "# 29 Python Program to Make a Simple Calculator\n",
    "\n",
    "def addition(a,b):\n",
    "    c=a+b\n",
    "    return c\n",
    "def subtraction(a,b):\n",
    "    c=a-b\n",
    "    return c\n",
    "def multiplication(a,b):\n",
    "    c=a*b\n",
    "    return c\n",
    "def division(a,b):\n",
    "    c=a/b\n",
    "    return c\n",
    "print(f'chose any one option which you want to perform :')\n",
    "print('a.addition')\n",
    "print('b.subtraction')\n",
    "print('c.multiplication')\n",
    "print('d.division')\n",
    "\n",
    "ops=input()\n",
    "\n",
    "num1=int(input('type here first number :'))\n",
    "num2=int(input('type second number here :'))\n",
    "\n",
    "if ops =='a':\n",
    "    print(f'{num1} and {num2} addition is :',addition(num1,num2))\n",
    "elif ops == 'b':\n",
    "    print(f'{num1} and {num2} subtraction is :',subtraction(num1,num2))\n",
    "elif ops == 'c':\n",
    "    print(f'{num1} and {num2} multiplication is :',multiplication(num1,num2))\n",
    "elif ops == 'd':\n",
    "    print(f'{num1} and {num2} division is :',division(num1,num2))\n",
    "else :\n",
    "    print('This is wrong input!')\n",
    "    "
   ]
  },
  {
   "cell_type": "code",
   "execution_count": 3,
   "id": "558e2f03",
   "metadata": {
    "scrolled": true
   },
   "outputs": [
    {
     "name": "stdout",
     "output_type": "stream",
     "text": [
      "type here your number :20\n",
      "fibonac of number 20 is 6765.\n"
     ]
    }
   ],
   "source": [
    "# 30 Python Program to Display Fibonacci Sequence Using Recursion\n",
    "\n",
    "def recur_fibo(n):  \n",
    "   if n <= 1:  \n",
    "       return n  \n",
    "   else:  \n",
    "       return(recur_fibo(n-1) + recur_fibo(n-2)) \n",
    "fab=int(input('type here your number :'))\n",
    "print(f'fibonac of number {fab} is {recur_fibo(fab)}.')\n"
   ]
  },
  {
   "cell_type": "code",
   "execution_count": 26,
   "id": "11567b0f",
   "metadata": {},
   "outputs": [
    {
     "name": "stdout",
     "output_type": "stream",
     "text": [
      "type your number here :6\n",
      "factorial if the number 6 is 720\n"
     ]
    }
   ],
   "source": [
    "# 31 Python Program to Find Factorial of Number Using Recursion\n",
    "\n",
    "def recur_factorial(n):  \n",
    "   if n == 1:  \n",
    "       return n  \n",
    "   else:  \n",
    "       return n*recur_factorial(n-1)\n",
    "    \n",
    "fact=int(input('type your number here :'))\n",
    "print(f'factorial of the number {fact} is {recur_factorial(fact)}.')"
   ]
  },
  {
   "cell_type": "markdown",
   "id": "95370cf4",
   "metadata": {},
   "source": [
    "#  Python number programs"
   ]
  },
  {
   "cell_type": "code",
   "execution_count": 15,
   "id": "a7787769",
   "metadata": {},
   "outputs": [
    {
     "name": "stdout",
     "output_type": "stream",
     "text": [
      "123\n",
      "this no is not disarium number.\n"
     ]
    }
   ],
   "source": [
    "# 32 Python program to check if the given number is a Disarium Number\n",
    "number=int(input())\n",
    "sumx=0\n",
    "count=len(str(number))\n",
    "num=number\n",
    "while count>0:\n",
    "    sumx += (num%10)**count\n",
    "    count -=1\n",
    "    num=num//10\n",
    "    number -=1\n",
    "if sumx==number:\n",
    "       print('this number is disarium number.',number)\n",
    "else:\n",
    "    print('this no is not disarium number.')\n",
    "\n",
    "# index\n",
    "# for i in number:\n",
    "#     sumx += i**j\n",
    "#     j += 1\n",
    "# if sumx==number:\n",
    "#     print('this number is disarium number.')"
   ]
  },
  {
   "cell_type": "code",
   "execution_count": 24,
   "id": "128fb674",
   "metadata": {},
   "outputs": [],
   "source": [
    "# 33 Python program to print all disarium numbers between 1 and 100\n",
    "a=int(input())\n",
    "b=int(input())\n",
    "# sum=0\n",
    "# k=1\n",
    "for i in range(a,b+1):\n",
    "    sum=0\n",
    "    k=1\n",
    "    list1=list(str(i))\n",
    "    for j in list1:\n",
    "        sum += (int(j)**k)\n",
    "        k += 1\n",
    "    if sum == i:\n",
    "        print(i)\n",
    "#     print('this number is disarium number.',number)\n",
    "#     else:\n",
    "#         return print('this no is not disarium number.')\n",
    "\n",
    "for i in range(201):\n",
    "    result=disarium(i)\n",
    "if result==i:\n",
    "    print(i)"
   ]
  },
  {
   "cell_type": "code",
   "execution_count": 17,
   "id": "a56cb025",
   "metadata": {},
   "outputs": [
    {
     "name": "stdout",
     "output_type": "stream",
     "text": [
      "type number here :12\n",
      "this number is not happy number.\n",
      "this number is not happy number.\n",
      "this number is not happy number.\n"
     ]
    }
   ],
   "source": [
    "# 34 Python program to check if the given number is Happy Number\n",
    "\n",
    "number=int(input('type number here :'))\n",
    "list1=list(str(number))\n",
    "a=0\n",
    "b=0\n",
    "c=0\n",
    "d=0\n",
    "for i in list1:\n",
    "    a += int(i)**2\n",
    "if a == 1:\n",
    "    print(a,'this number is happy number.')\n",
    "elif a>1:\n",
    "    for j in list(str(a)):\n",
    "        b += int(j)**2\n",
    "        if b == 1:\n",
    "            print(b,'this number is happy number')\n",
    "            break\n",
    "        else:\n",
    "            for k in list(str(b)):\n",
    "                c += int(k)**2\n",
    "                if c == 1:\n",
    "                    print(c,'this number is happy number.')\n",
    "                    break\n",
    "                else:\n",
    "                    for l in list(str(c)):\n",
    "                        d += int(l)**2\n",
    "                        if d == 1:\n",
    "                            print(d,'this number is happy number.')\n",
    "                            break\n",
    "                        else:\n",
    "                            print('this number is not happy number.')\n",
    "else:\n",
    "    print('this number is not happy number.')\n",
    "    \n",
    "    \n",
    "        \n",
    "        \n",
    "    "
   ]
  },
  {
   "cell_type": "code",
   "execution_count": 15,
   "id": "15bab24a",
   "metadata": {},
   "outputs": [],
   "source": [
    "# function happy number \n",
    "def happynum(num):\n",
    "    number1=list(str(num))\n",
    "    a=0\n",
    "    b=0\n",
    "    c=0\n",
    "    d=0\n",
    "    for i in list1:\n",
    "        a += int(i)**2\n",
    "    if a == 1:\n",
    "        return True\n",
    "    elif a>1:\n",
    "        for j in list(str(a)):\n",
    "            b += int(j)**2\n",
    "            if b == 1:\n",
    "                return True\n",
    "            else:\n",
    "                for k in list(str(b)):\n",
    "                    c += int(k)**2\n",
    "                    if c == 1:\n",
    "                        return True\n",
    "                    else:\n",
    "                        for l in list(str(c)):\n",
    "                            d += int(l)**2\n",
    "                            if d == 1:\n",
    "                                return True\n",
    "                            \n",
    "    else:\n",
    "        return False\n",
    "        \n",
    "\n",
    "    "
   ]
  },
  {
   "cell_type": "code",
   "execution_count": 24,
   "id": "aeb8d9eb",
   "metadata": {},
   "outputs": [
    {
     "name": "stdout",
     "output_type": "stream",
     "text": [
      "type num here :12\n",
      "type num2 here :14\n"
     ]
    }
   ],
   "source": [
    "# 35 Python program to print all happy numbers between 1 and 100\n",
    "\n",
    "\n",
    "num=int(input('type num here :'))\n",
    "num2=int(input('type num2 here :'))\n",
    "for i in range(num,num2+1):\n",
    "    result = happynum(i)\n",
    "    if result == True:\n",
    "        print(i,'This number is happy number.')\n"
   ]
  },
  {
   "cell_type": "code",
   "execution_count": 27,
   "id": "c46b8899",
   "metadata": {},
   "outputs": [
    {
     "name": "stdout",
     "output_type": "stream",
     "text": [
      "type number here :156\n",
      "this number is harshad number.\n"
     ]
    }
   ],
   "source": [
    "# 36 Python program to determine whether the given number is a Harshad Number.\n",
    "\n",
    "number=int(input('type number here :'))\n",
    "num=list(str(number))\n",
    "sum1=0\n",
    "for i in num:\n",
    "    sum1 += int(i)\n",
    "if number%sum1==0:\n",
    "    print('this number is harshad number.')\n",
    "else:\n",
    "    print('this number is not harshad number.')"
   ]
  },
  {
   "cell_type": "code",
   "execution_count": 31,
   "id": "7326c634",
   "metadata": {},
   "outputs": [
    {
     "name": "stdout",
     "output_type": "stream",
     "text": [
      "type here in which range you want to check whether number is pronic or not. your number is :20\n",
      "[2, 6, 12, 20]\n"
     ]
    }
   ],
   "source": [
    "# 37 Python program to print all pronic numbers between 1 and 100.\n",
    "\n",
    "# Python program to print all pronic numbers between 1 and 100\n",
    "# The pronic number is a product of two consecutive integers of the form: n(n+1).\n",
    "\n",
    "# For example:\n",
    "\n",
    "# 6 = 2(2+1)= n(n+1),\n",
    "# 72 =8(8+1) = n(n+1)\n",
    "\n",
    "# Some pronic numbers are: 0, 2, 6, 12, 20, 30, 42, 56 etc.\n",
    "\n",
    "num=int(input('type here in which range you want to check whether number is pronic or not. your number is :'))\n",
    "pronics=[]\n",
    "for i in range(1,num+1):\n",
    "    for j in range(1,10):\n",
    "            if i==j*(j+1):\n",
    "                pronics.append(i)\n",
    "print(pronics)"
   ]
  },
  {
   "cell_type": "markdown",
   "id": "048ff12c",
   "metadata": {},
   "source": [
    "#  Python array programs"
   ]
  },
  {
   "cell_type": "code",
   "execution_count": 44,
   "id": "90528e56",
   "metadata": {},
   "outputs": [
    {
     "name": "stdout",
     "output_type": "stream",
     "text": [
      "1\n",
      "2\n",
      "3\n",
      "4\n",
      "5\n"
     ]
    }
   ],
   "source": [
    "# 38. Python program to copy all elements of one array into another array\n",
    "\n",
    "import numpy as np\n",
    "\n",
    "a=np.array([1,2,3,4,5])\n",
    "b=np.zeros(5)\n",
    "for i in range(len(a)):\n",
    "    b[i]=a[i]\n",
    "    b=b.astype(dtype=int)\n",
    "for i in range(len(b)):\n",
    "    print(b[i])\n"
   ]
  },
  {
   "cell_type": "code",
   "execution_count": 49,
   "id": "f9a6df3f",
   "metadata": {},
   "outputs": [
    {
     "name": "stdout",
     "output_type": "stream",
     "text": [
      "1 2\n",
      "2 4\n",
      "3 3\n",
      "1 2\n",
      "2 4\n",
      "3 3\n",
      "2 4\n",
      "2 4\n",
      "3 3\n",
      "4 2\n",
      "4 2\n",
      "5 1\n"
     ]
    }
   ],
   "source": [
    "# 39 Python program to find the frequency of each element in the array\n",
    "\n",
    "a=np.array([1,2,3,1,2,3,2,2,3,4,4,5])\n",
    "for i in range(len(a)):\n",
    "    count=0\n",
    "    for j in range(len(a)):\n",
    "        if a[j] == a[i]:\n",
    "            count += 1\n",
    "    print(a[i],count)\n",
    "    "
   ]
  },
  {
   "cell_type": "code",
   "execution_count": 67,
   "id": "6821bf77",
   "metadata": {},
   "outputs": [
    {
     "name": "stdout",
     "output_type": "stream",
     "text": [
      "[6 5 4 3 2 1]\n"
     ]
    }
   ],
   "source": [
    "# 40 Python program to left rotate the elements of an array\n",
    "\n",
    "a=np.array([1,2,3,4,5,6])\n",
    "j=0\n",
    "for i in range(len(a)-1,len(a)//2-1,-1):\n",
    "    a[j],a[i]=a[i],a[j]\n",
    "    j += 1\n",
    "print(a)\n",
    "    "
   ]
  },
  {
   "cell_type": "code",
   "execution_count": 68,
   "id": "87a3884b",
   "metadata": {},
   "outputs": [
    {
     "name": "stdout",
     "output_type": "stream",
     "text": [
      "5\n",
      "8\n"
     ]
    }
   ],
   "source": [
    "# 41 Python program to print the duplicate elements of an array\n",
    "\n",
    "a=np.array([1,2,3,4,5,5,6,7,8,8,9])\n",
    "for i in range(len(a)):\n",
    "    for j in range(i+1,len(a)):\n",
    "        if a[j] == a[i]:\n",
    "            print(a[i])"
   ]
  },
  {
   "cell_type": "code",
   "execution_count": 69,
   "id": "18d62815",
   "metadata": {},
   "outputs": [
    {
     "name": "stdout",
     "output_type": "stream",
     "text": [
      "1\n",
      "2\n",
      "3\n",
      "4\n",
      "5\n",
      "5\n",
      "6\n",
      "7\n",
      "8\n",
      "8\n",
      "9\n"
     ]
    }
   ],
   "source": [
    "# 42  Python program to print the elements of an array\n",
    "\n",
    "a=np.array([1,2,3,4,5,5,6,7,8,8,9])\n",
    "\n",
    "for i in range(len(a)):\n",
    "    print(a[i])"
   ]
  },
  {
   "cell_type": "code",
   "execution_count": 70,
   "id": "7faa67f4",
   "metadata": {},
   "outputs": [
    {
     "name": "stdout",
     "output_type": "stream",
     "text": [
      "9\n",
      "8\n",
      "8\n",
      "7\n",
      "6\n",
      "5\n",
      "5\n",
      "4\n",
      "3\n",
      "2\n",
      "1\n"
     ]
    }
   ],
   "source": [
    "# 43 Python program to print the elements of an array in reverse order\n",
    "a=np.array([1,2,3,4,5,5,6,7,8,8,9])\n",
    "for i in range(len(a)-1,-1,-1):\n",
    "    print(a[i])\n"
   ]
  },
  {
   "cell_type": "code",
   "execution_count": 72,
   "id": "3360f4fc",
   "metadata": {},
   "outputs": [
    {
     "name": "stdout",
     "output_type": "stream",
     "text": [
      "1\n",
      "3\n",
      "5\n",
      "6\n",
      "8\n",
      "9\n"
     ]
    }
   ],
   "source": [
    "# 44 Python program to print the elements of an array present on even position\n",
    "a=np.array([1,2,3,4,5,5,6,7,8,8,9])\n",
    "for i in range(0,len(a),2):\n",
    "    print(a[i])\n"
   ]
  },
  {
   "cell_type": "code",
   "execution_count": 74,
   "id": "eddfef89",
   "metadata": {},
   "outputs": [
    {
     "name": "stdout",
     "output_type": "stream",
     "text": [
      "2\n",
      "4\n",
      "5\n",
      "7\n",
      "8\n"
     ]
    }
   ],
   "source": [
    "# 45 Python program to print the elements of an array present on odd position\n",
    "a=np.array([1,2,3,4,5,5,6,7,8,8,9])\n",
    "for i in range(1,len(a),2):\n",
    "    print(a[i])\n"
   ]
  },
  {
   "cell_type": "code",
   "execution_count": 76,
   "id": "fa444e00",
   "metadata": {},
   "outputs": [
    {
     "name": "stdout",
     "output_type": "stream",
     "text": [
      "9\n"
     ]
    }
   ],
   "source": [
    "# 46 Python program to print the largest element in an array\n",
    "a=np.array([1,2,3,4,5,5,6,7,8,8,9,0])\n",
    "val=0\n",
    "j=0\n",
    "for i in range(len(a)):\n",
    "    if a[i]>a[j]:\n",
    "        val=a[i]\n",
    "print(val)\n",
    "    "
   ]
  },
  {
   "cell_type": "code",
   "execution_count": 77,
   "id": "64f01560",
   "metadata": {},
   "outputs": [
    {
     "name": "stdout",
     "output_type": "stream",
     "text": [
      "0\n"
     ]
    }
   ],
   "source": [
    "# 47 Python program to print the smallest element in an array.\n",
    "a=np.array([1,2,3,4,5,5,6,7,8,8,9,0])\n",
    "val=0\n",
    "j=a[0]\n",
    "for i in range(len(a)):\n",
    "    if a[i]<a[j]:\n",
    "        val=a[i]\n",
    "print(val)\n",
    "    "
   ]
  },
  {
   "cell_type": "code",
   "execution_count": 78,
   "id": "9b94f06a",
   "metadata": {},
   "outputs": [
    {
     "name": "stdout",
     "output_type": "stream",
     "text": [
      "12\n"
     ]
    }
   ],
   "source": [
    "# 48 Python program to print the number of elements present in an array\n",
    "a=np.array([1,2,3,4,5,5,6,7,8,8,9,0])\n",
    "number=len(a)\n",
    "print(number)\n"
   ]
  },
  {
   "cell_type": "code",
   "execution_count": 79,
   "id": "cec1aa77",
   "metadata": {},
   "outputs": [
    {
     "name": "stdout",
     "output_type": "stream",
     "text": [
      "58\n"
     ]
    }
   ],
   "source": [
    "# 49 Python program to print the sum of all elements in an array\n",
    "\n",
    "a=np.array([1,2,3,4,5,5,6,7,8,8,9,0])\n",
    "sum1=0\n",
    "for i in range(len(a)):\n",
    "    sum1 += a[i]\n",
    "print(sum1)"
   ]
  },
  {
   "cell_type": "code",
   "execution_count": 80,
   "id": "762b799f",
   "metadata": {},
   "outputs": [
    {
     "name": "stdout",
     "output_type": "stream",
     "text": [
      "[6 5 4 3 2 1]\n"
     ]
    }
   ],
   "source": [
    "# 50 Python program to right rotate the elements of an array\n",
    "\n",
    "a=np.array([1,2,3,4,5,6])\n",
    "j=0\n",
    "for i in range(len(a)-1,len(a)//2-1,-1):\n",
    "    a[j],a[i]=a[i],a[j]\n",
    "    j += 1\n",
    "print(a)\n",
    "    "
   ]
  },
  {
   "cell_type": "code",
   "execution_count": 89,
   "id": "4b10250e",
   "metadata": {},
   "outputs": [
    {
     "name": "stdout",
     "output_type": "stream",
     "text": [
      "[3 3 4 4 5 6 6 7]\n"
     ]
    }
   ],
   "source": [
    "# 51 Python program to sort the elements of an array in ascending order\n",
    "a=np.array([7,4,6,3,3,4,5,6])\n",
    "a=np.sort(a)\n",
    "print(a)\n",
    "\n",
    "\n"
   ]
  },
  {
   "cell_type": "code",
   "execution_count": 102,
   "id": "7f89c3ca",
   "metadata": {},
   "outputs": [
    {
     "name": "stdout",
     "output_type": "stream",
     "text": [
      "[7 6 6 5 4 4 3 3]\n"
     ]
    }
   ],
   "source": [
    "# 52 Python program to sort the elements of an array in descending order.\n",
    "a=np.array([7,4,6,3,3,4,5,6])\n",
    "for i in range(len(a)):\n",
    "    for j in range(len(a)):\n",
    "        if a[j]<a[i]:\n",
    "            a[i],a[j]=a[j],a[i]\n",
    "print(a)\n",
    "\n",
    "\n",
    "\n"
   ]
  },
  {
   "cell_type": "markdown",
   "id": "2d1b66f1",
   "metadata": {},
   "source": [
    "#  Python matrix program \n"
   ]
  },
  {
   "cell_type": "code",
   "execution_count": 105,
   "id": "3ab40aea",
   "metadata": {},
   "outputs": [],
   "source": [
    "# 53 Python Program to Add Two Matrices.\n",
    "\n"
   ]
  },
  {
   "cell_type": "code",
   "execution_count": 106,
   "id": "27af6f44",
   "metadata": {},
   "outputs": [],
   "source": [
    "# 54 Python Program to Multiply Two Matrices."
   ]
  },
  {
   "cell_type": "code",
   "execution_count": 107,
   "id": "dab9501e",
   "metadata": {},
   "outputs": [],
   "source": [
    "# 55 Python Program to Transpose a Matrix."
   ]
  },
  {
   "cell_type": "markdown",
   "id": "09e68e48",
   "metadata": {},
   "source": [
    "#   Python String program. "
   ]
  },
  {
   "cell_type": "code",
   "execution_count": 112,
   "id": "f95c4fd4",
   "metadata": {},
   "outputs": [
    {
     "name": "stdout",
     "output_type": "stream",
     "text": [
      "type your word here :hello dear\n",
      "['dear', 'hello']"
     ]
    }
   ],
   "source": [
    "# 56 Python Program to Sort Words in Alphabetic Order\n",
    "\n",
    "str1=input('type your word here :')\n",
    "str1=str1.split()\n",
    "str1.sort()\n",
    "print(str1,end='')"
   ]
  },
  {
   "cell_type": "code",
   "execution_count": 113,
   "id": "433b73b5",
   "metadata": {},
   "outputs": [
    {
     "name": "stdout",
     "output_type": "stream",
     "text": [
      "type here your sring :fsihfgdsnh&%&*8 dn3j3iu89**8\n",
      "fsihfgdsnh8 dn3j3iu898\n"
     ]
    }
   ],
   "source": [
    "# 57 Python Program to Remove Punctuation from a String\n",
    "punctuation = '''''!()-[]{};:'\"\\,<>./?@#$%^&*_~'''  \n",
    "hh=input('type here your sring :')\n",
    "no_punch=''\n",
    "for i in hh:\n",
    "    if i not in punctuation:\n",
    "        no_punch= no_punch+i\n",
    "print(no_punch)"
   ]
  },
  {
   "cell_type": "code",
   "execution_count": 123,
   "id": "99bdedfc",
   "metadata": {},
   "outputs": [
    {
     "name": "stdout",
     "output_type": "stream",
     "text": [
      "type string here :hello dear\n",
      "raed olleh\n"
     ]
    }
   ],
   "source": [
    "# 58 How to reverse a string in Python?\n",
    "\n",
    "str1=input('type string here :')\n",
    "list1=list(str1)\n",
    "list2=[]\n",
    "for i in range(len(list1)-1,-1,-1):\n",
    "    list2.append(list1[i])\n",
    "print(''.join(list2))"
   ]
  },
  {
   "cell_type": "code",
   "execution_count": 124,
   "id": "baf65e32",
   "metadata": {},
   "outputs": [
    {
     "name": "stdout",
     "output_type": "stream",
     "text": [
      "type string here :hello my broooo\n",
      "hello my broooo\n"
     ]
    }
   ],
   "source": [
    "# 59 How to Convert Python List to String\n",
    "str1=input('type string here :')\n",
    "list1=list(str1)\n",
    "print(''.join(list1))\n"
   ]
  },
  {
   "cell_type": "code",
   "execution_count": 126,
   "id": "16f46556",
   "metadata": {},
   "outputs": [
    {
     "name": "stdout",
     "output_type": "stream",
     "text": [
      "123654\n"
     ]
    }
   ],
   "source": [
    "# 60 How to convert int to string in Python\n",
    "\n",
    "a=123654\n",
    "a=str(a)\n",
    "print(a)"
   ]
  },
  {
   "cell_type": "code",
   "execution_count": 130,
   "id": "b12ceedf",
   "metadata": {},
   "outputs": [
    {
     "name": "stdout",
     "output_type": "stream",
     "text": [
      "jaybhole\n"
     ]
    }
   ],
   "source": [
    "# 61 How to concatenate two strings in Python\n",
    "\n",
    "str1='jay'\n",
    "str2='bhole'\n",
    "str3=str1+str2\n",
    "print(str3)"
   ]
  },
  {
   "cell_type": "code",
   "execution_count": 131,
   "id": "611ced9e",
   "metadata": {},
   "outputs": [
    {
     "name": "stdout",
     "output_type": "stream",
     "text": [
      "The randomly generated string is : ZY8BJOD9OO\n"
     ]
    }
   ],
   "source": [
    "# 62 Python Program to generate a Random String\n",
    "\n",
    "import string    \n",
    "import random # define the random module  \n",
    "S = 10  # number of characters in the string.  \n",
    "# call random.choices() string module to find the string in Uppercase + numeric data.  \n",
    "ran = ''.join(random.choices(string.ascii_uppercase + string.digits, k = S))    \n",
    "print(\"The randomly generated string is : \" + str(ran)) # print the random data  "
   ]
  },
  {
   "cell_type": "code",
   "execution_count": 132,
   "id": "4d4b896e",
   "metadata": {},
   "outputs": [
    {
     "name": "stdout",
     "output_type": "stream",
     "text": [
      "<class 'str'>\n",
      "<class 'bytes'>\n",
      "<class 'bytes'>\n",
      "<class 'str'>\n",
      "Lets eat a 🍕!\n"
     ]
    }
   ],
   "source": [
    "# 63 How to convert Bytes to string in Python\n",
    "\n",
    "string1 = 'Welcome to JavaTpoint'  \n",
    "print(type(string1))  \n",
    "string2 = b'Welcome to JavaTpoint'  \n",
    "print(type(string2))  \n",
    "\n",
    "byteData = b\"Lets eat a \\xf0\\x9f\\x8d\\x95!\"  \n",
    "# Let's check the type  \n",
    "print(type(byteData))  \n",
    "str1 = byteData.decode('UTF-8')  \n",
    "print(type(str1))  \n",
    "print(str1)  "
   ]
  },
  {
   "cell_type": "markdown",
   "id": "a583ebe9",
   "metadata": {},
   "source": [
    "#  Python List Programs"
   ]
  },
  {
   "cell_type": "code",
   "execution_count": 133,
   "id": "4436e32e",
   "metadata": {},
   "outputs": [
    {
     "name": "stdout",
     "output_type": "stream",
     "text": [
      "['jay', 'bhole', 1, 5, 55]\n"
     ]
    }
   ],
   "source": [
    "# 64 How to append element in the list\n",
    "\n",
    "list1=['jay','bhole',1,5]\n",
    "list1.append(55)\n",
    "print(list1)"
   ]
  },
  {
   "cell_type": "code",
   "execution_count": 135,
   "id": "89ffc28a",
   "metadata": {},
   "outputs": [
    {
     "data": {
      "text/plain": [
       "False"
      ]
     },
     "execution_count": 135,
     "metadata": {},
     "output_type": "execute_result"
    }
   ],
   "source": [
    "# 65 How to compare two lists in Python\n",
    "list1=[1,2,3]\n",
    "list2=[3,4,5]\n",
    "list1.__eq__(list2)"
   ]
  },
  {
   "cell_type": "code",
   "execution_count": 136,
   "id": "55b04d11",
   "metadata": {},
   "outputs": [
    {
     "data": {
      "text/plain": [
       "False"
      ]
     },
     "execution_count": 136,
     "metadata": {},
     "output_type": "execute_result"
    }
   ],
   "source": [
    "# \n",
    "a=set(list1)\n",
    "b=set(list2)\n",
    "a==b"
   ]
  },
  {
   "cell_type": "code",
   "execution_count": 137,
   "id": "c28e8361",
   "metadata": {},
   "outputs": [],
   "source": [
    "# 66  How to convert list to dictionary in Python\n",
    "\n"
   ]
  },
  {
   "cell_type": "code",
   "execution_count": 140,
   "id": "57e74df4",
   "metadata": {},
   "outputs": [
    {
     "data": {
      "text/plain": [
       "3"
      ]
     },
     "execution_count": 140,
     "metadata": {},
     "output_type": "execute_result"
    }
   ],
   "source": [
    "# 67  How to Remove an Element from a List in Python\n",
    "\n",
    "list1\n",
    "list1.pop()"
   ]
  },
  {
   "cell_type": "code",
   "execution_count": 141,
   "id": "546c4cd6",
   "metadata": {},
   "outputs": [],
   "source": [
    "# 68  How to Remove an Element from a List in Python\n"
   ]
  },
  {
   "cell_type": "code",
   "execution_count": 142,
   "id": "5d4cda5e",
   "metadata": {},
   "outputs": [],
   "source": [
    "# 69  How to convert List to Set?\n",
    "\n",
    "list2=[3,4,5]\n",
    "b=set(list2)"
   ]
  },
  {
   "cell_type": "code",
   "execution_count": 144,
   "id": "b3ba8e6c",
   "metadata": {},
   "outputs": [],
   "source": [
    "# 70 How to Convert Python List to String\n",
    "\n",
    "a_list = [\"Python\", \"Convert\", \"List\", \"String\", \"Method\"] \n",
    "string = \" \".join( a_list )"
   ]
  },
  {
   "cell_type": "code",
   "execution_count": null,
   "id": "92bb35d8",
   "metadata": {},
   "outputs": [],
   "source": []
  }
 ],
 "metadata": {
  "kernelspec": {
   "display_name": "Python 3 (ipykernel)",
   "language": "python",
   "name": "python3"
  },
  "language_info": {
   "codemirror_mode": {
    "name": "ipython",
    "version": 3
   },
   "file_extension": ".py",
   "mimetype": "text/x-python",
   "name": "python",
   "nbconvert_exporter": "python",
   "pygments_lexer": "ipython3",
   "version": "3.9.12"
  }
 },
 "nbformat": 4,
 "nbformat_minor": 5
}
