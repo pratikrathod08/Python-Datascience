{
 "cells": [
  {
   "cell_type": "code",
   "execution_count": 1,
   "id": "26e5c019",
   "metadata": {},
   "outputs": [],
   "source": [
    "## Ans : 1\n",
    "\n",
    "import numpy as np\n",
    "from scipy.stats import f\n",
    "\n",
    "def calculate_f_value(data1, data2):\n",
    "    n1 = len(data1)\n",
    "    n2 = len(data2)\n",
    "    var1 = np.var(data1, ddof=1)\n",
    "    var2 = np.var(data2, ddof=1)\n",
    "\n",
    "    f_value = var1 / var2\n",
    "    df1 = n1 - 1\n",
    "    df2 = n2 - 1\n",
    "    p_value = f.sf(f_value, df1, df2) * 2\n",
    "\n",
    "    return f_value, p_value\n"
   ]
  },
  {
   "cell_type": "code",
   "execution_count": 2,
   "id": "9fd21708",
   "metadata": {},
   "outputs": [],
   "source": [
    "## Ans : 2\n",
    "\n",
    "from scipy.stats import f\n",
    "\n",
    "def get_critical_f_value(alpha, df1, df2):\n",
    "    return f.ppf(1 - alpha / 2, df1, df2)\n"
   ]
  },
  {
   "cell_type": "code",
   "execution_count": 3,
   "id": "d43ac446",
   "metadata": {},
   "outputs": [
    {
     "name": "stdout",
     "output_type": "stream",
     "text": [
      "F-value: 0.8231118056633364\n",
      "Degrees of freedom: 99 , 99\n",
      "p-value: 0.8327866637800599\n"
     ]
    }
   ],
   "source": [
    "## Ans : 3\n",
    "\n",
    "import numpy as np\n",
    "from scipy.stats import f\n",
    "\n",
    "def generate_samples(n1, n2, var1, var2):\n",
    "    sample1 = np.random.normal(loc=0, scale=np.sqrt(var1), size=n1)\n",
    "    sample2 = np.random.normal(loc=0, scale=np.sqrt(var2), size=n2)\n",
    "    return sample1, sample2\n",
    "\n",
    "def perform_f_test(sample1, sample2):\n",
    "    n1 = len(sample1)\n",
    "    n2 = len(sample2)\n",
    "    var1 = np.var(sample1, ddof=1)\n",
    "    var2 = np.var(sample2, ddof=1)\n",
    "\n",
    "    f_value = var1 / var2\n",
    "    df1 = n1 - 1\n",
    "    df2 = n2 - 1\n",
    "    p_value = f.sf(f_value, df1, df2)\n",
    "\n",
    "    return f_value, df1, df2, p_value\n",
    "\n",
    "# Example usage\n",
    "sample1, sample2 = generate_samples(100, 100, 5, 5)\n",
    "f_value, df1, df2, p_value = perform_f_test(sample1, sample2)\n",
    "\n",
    "print(\"F-value:\", f_value)\n",
    "print(\"Degrees of freedom:\", df1, \",\", df2)\n",
    "print(\"p-value:\", p_value)\n"
   ]
  },
  {
   "cell_type": "code",
   "execution_count": 4,
   "id": "39203e27",
   "metadata": {},
   "outputs": [
    {
     "name": "stdout",
     "output_type": "stream",
     "text": [
      "F-value: 0.5202831486829416\n",
      "Degrees of freedom: 11 , 11\n",
      "p-value: 0.8531900205546196\n",
      "Critical F-value: 3.473699051085809\n",
      "Variances are not significantly different.\n"
     ]
    }
   ],
   "source": [
    "## Ans : 4\n",
    "\n",
    "# Example usage\n",
    "sample1, sample2 = generate_samples(12, 12, 10, 15)\n",
    "f_value, df1, df2, p_value = perform_f_test(sample1, sample2)\n",
    "\n",
    "alpha = 0.05\n",
    "critical_f_value = get_critical_f_value(alpha, df1, df2)\n",
    "\n",
    "print(\"F-value:\", f_value)\n",
    "print(\"Degrees of freedom:\", df1, \",\", df2)\n",
    "print(\"p-value:\", p_value)\n",
    "print(\"Critical F-value:\", critical_f_value)\n",
    "\n",
    "if f_value > critical_f_value:\n",
    "    print(\"Variances are significantly different.\")\n",
    "else:\n",
    "    print(\"Variances are not significantly different.\")\n"
   ]
  },
  {
   "cell_type": "code",
   "execution_count": 5,
   "id": "26ee6aeb",
   "metadata": {},
   "outputs": [
    {
     "name": "stdout",
     "output_type": "stream",
     "text": [
      "F-value: 0.6423103626872203\n",
      "Degrees of freedom: 24 , 24\n",
      "p-value: 0.8574264299359486\n",
      "Critical F-value: 2.966741631292762\n",
      "The claim is justified.\n"
     ]
    }
   ],
   "source": [
    "## Ans : 5\n",
    "\n",
    "# Example usage\n",
    "sample_size = 25\n",
    "known_variance = 0.005\n",
    "sample_variance = 0.006\n",
    "\n",
    "sample1, sample2 = generate_samples(sample_size, sample_size, known_variance, known_variance)\n",
    "f_value, df1, df2, p_value = perform_f_test(sample1, sample2)\n",
    "\n",
    "alpha = 0.01\n",
    "critical_f_value = get_critical_f_value(alpha, df1, df2)\n",
    "\n",
    "print(\"F-value:\", f_value)\n",
    "print(\"Degrees of freedom:\", df1, \",\", df2)\n",
    "print(\"p-value:\", p_value)\n",
    "print(\"Critical F-value:\", critical_f_value)\n",
    "\n",
    "if f_value > critical_f_value:\n",
    "    print(\"The claim is not justified.\")\n",
    "else:\n",
    "    print(\"The claim is justified.\")\n"
   ]
  },
  {
   "cell_type": "code",
   "execution_count": 6,
   "id": "ac876ba3",
   "metadata": {},
   "outputs": [],
   "source": [
    "## Ans : 6\n",
    "\n",
    "def calculate_f_distribution_stats(df1, df2):\n",
    "    if df2 <= 2:\n",
    "        mean = float(\"inf\")\n",
    "    else:\n",
    "        mean = df2 / (df2 - 2)\n",
    "\n",
    "    if df2 <= 4:\n",
    "        variance = float(\"inf\")\n",
    "    else:\n",
    "        variance = (2 * (df2 ** 2) * (df1 + df2 - 2)) / (df1 * (df2 - 2) ** 2 * (df2 - 4))\n",
    "\n",
    "    return mean, variance\n"
   ]
  },
  {
   "cell_type": "code",
   "execution_count": 7,
   "id": "cf43dbd8",
   "metadata": {},
   "outputs": [
    {
     "name": "stdout",
     "output_type": "stream",
     "text": [
      "F-value: 1.5410957620482157\n",
      "Degrees of freedom: 9 , 14\n",
      "p-value: 0.22579440384017171\n",
      "Critical F-value: 2.6457907352338195\n",
      "Variances are not significantly different.\n"
     ]
    }
   ],
   "source": [
    "## Ans : 7\n",
    "\n",
    "# Example usage\n",
    "sample1 = np.random.normal(loc=0, scale=np.sqrt(25), size=10)\n",
    "sample2 = np.random.normal(loc=0, scale=np.sqrt(20), size=15)\n",
    "f_value, df1, df2, p_value = perform_f_test(sample1, sample2)\n",
    "\n",
    "alpha = 0.10\n",
    "critical_f_value = get_critical_f_value(alpha, df1, df2)\n",
    "\n",
    "print(\"F-value:\", f_value)\n",
    "print(\"Degrees of freedom:\", df1, \",\", df2)\n",
    "print(\"p-value:\", p_value)\n",
    "print(\"Critical F-value:\", critical_f_value)\n",
    "\n",
    "if f_value > critical_f_value:\n",
    "    print(\"Variances are significantly different.\")\n",
    "else:\n",
    "    print(\"Variances are not significantly different.\")\n"
   ]
  },
  {
   "cell_type": "code",
   "execution_count": 8,
   "id": "2f8f3405",
   "metadata": {},
   "outputs": [
    {
     "name": "stdout",
     "output_type": "stream",
     "text": [
      "F-value: 1.4551907719609583\n",
      "Degrees of freedom: 6 , 5\n",
      "p-value: 0.34874078739687414\n",
      "Critical F-value: 6.977701858535566\n",
      "Variances are not significantly different.\n"
     ]
    }
   ],
   "source": [
    "## Ans : 8\n",
    "\n",
    "\n",
    "sample1 = np.array([24, 25, 28, 23, 22, 20, 27])\n",
    "sample2 = np.array([31, 33, 35, 30, 32, 36])\n",
    "f_value, df1, df2, p_value = perform_f_test(sample1, sample2)\n",
    "\n",
    "alpha = 0.05\n",
    "critical_f_value = get_critical_f_value(alpha, df1, df2)\n",
    "\n",
    "print(\"F-value:\", f_value)\n",
    "print(\"Degrees of freedom:\", df1, \",\", df2)\n",
    "print(\"p-value:\", p_value)\n",
    "print(\"Critical F-value:\", critical_f_value)\n",
    "\n",
    "if f_value > critical_f_value:\n",
    "    print(\"Variances are significantly different.\")\n",
    "else:\n",
    "    print(\"Variances are not significantly different.\")\n"
   ]
  },
  {
   "cell_type": "code",
   "execution_count": 10,
   "id": "66a7353d",
   "metadata": {},
   "outputs": [
    {
     "name": "stdout",
     "output_type": "stream",
     "text": [
      "F-value: 1.9442622950819677\n",
      "Degrees of freedom: 5 , 5\n",
      "p-value: 0.2415521774535344\n",
      "Critical F-value: 14.939605459912224\n",
      "Variances are not significantly different.\n"
     ]
    }
   ],
   "source": [
    "## Ans : 9\n",
    "\n",
    "\n",
    "sample1 = np.array([80, 85, 90, 92, 87, 83])\n",
    "sample2 = np.array([75, 78, 82, 79, 81, 84])\n",
    "f_value, df1, df2, p_value = perform_f_test(sample1, sample2)\n",
    "\n",
    "alpha = 0.01\n",
    "critical_f_value = get_critical_f_value(alpha, df1, df2)\n",
    "\n",
    "print(\"F-value:\", f_value)\n",
    "print(\"Degrees of freedom:\", df1, \",\", df2)\n",
    "print(\"p-value:\", p_value)\n",
    "print(\"Critical F-value:\", critical_f_value)\n",
    "\n",
    "if f_value > critical_f_value:\n",
    "    print(\"Variances are significantly different.\")\n",
    "else:\n",
    "    print(\"Variances are not significantly different.\")\n"
   ]
  },
  {
   "cell_type": "code",
   "execution_count": null,
   "id": "1adb1395",
   "metadata": {},
   "outputs": [],
   "source": []
  }
 ],
 "metadata": {
  "kernelspec": {
   "display_name": "Python 3 (ipykernel)",
   "language": "python",
   "name": "python3"
  },
  "language_info": {
   "codemirror_mode": {
    "name": "ipython",
    "version": 3
   },
   "file_extension": ".py",
   "mimetype": "text/x-python",
   "name": "python",
   "nbconvert_exporter": "python",
   "pygments_lexer": "ipython3",
   "version": "3.9.12"
  }
 },
 "nbformat": 4,
 "nbformat_minor": 5
}
