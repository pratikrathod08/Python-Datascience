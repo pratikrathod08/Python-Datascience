{
 "cells": [
  {
   "cell_type": "markdown",
   "id": "0a0c24a8",
   "metadata": {},
   "source": [
    "## Ans : 1\n",
    "\n",
    "Bayes' theorem is a fundamental concept in probability theory and statistics. It provides a way to update or revise the probability of an event based on new evidence or information."
   ]
  },
  {
   "cell_type": "markdown",
   "id": "5ca989f3",
   "metadata": {},
   "source": [
    "## Ans : 2\n",
    "\n",
    "The formula for Bayes' theorem is:\n",
    "\n",
    "P(A|B) = (P(B|A) * P(A)) / P(B)\n",
    "\n",
    "Where:\n",
    "\n",
    "P(A|B) represents the conditional probability of event A given event B.\n",
    "P(B|A) represents the conditional probability of event B given event A.\n",
    "P(A) and P(B) represent the probabilities of events A and B, respectively."
   ]
  },
  {
   "cell_type": "markdown",
   "id": "e2d72f06",
   "metadata": {},
   "source": [
    "## Ans : 3\n",
    "\n",
    "Bayes' theorem is used in practice in various fields, including statistics, machine learning, and data science. It is applied to update the probability of a hypothesis or event based on new evidence. In practice, Bayes' theorem allows us to incorporate prior knowledge or beliefs about an event and update those beliefs based on observed data, leading to more accurate predictions or estimates."
   ]
  },
  {
   "cell_type": "markdown",
   "id": "3e28c326",
   "metadata": {},
   "source": [
    "## Ans : 4\n",
    "\n",
    "Bayes' theorem is closely related to conditional probability. It provides a way to calculate the conditional probability of an event based on prior knowledge or evidence. The theorem states that the posterior probability of an event given some evidence is proportional to the prior probability of the event and the likelihood of the evidence given the event. In other words, Bayes' theorem connects prior probabilities and conditional probabilities, enabling the updating of beliefs or probabilities based on new information."
   ]
  },
  {
   "cell_type": "markdown",
   "id": "18101c54",
   "metadata": {},
   "source": [
    "## Ans : 5\n",
    "\n",
    "The choice of which type of Naive Bayes classifier to use for a given problem depends on the nature of the features and the assumptions made about their distribution. The three main types of Naive Bayes classifiers are Gaussian Naive Bayes, Multinomial Naive Bayes, and Bernoulli Naive Bayes.\n",
    "\n",
    "Gaussian Naive Bayes assumes that continuous features follow a Gaussian (normal) distribution.\n",
    "Multinomial Naive Bayes is suitable for discrete features that represent the frequency or occurrence of events, such as word counts in text classification.\n",
    "Bernoulli Naive Bayes is used for binary features, where each feature represents the presence or absence of a particular attribute.\n",
    "The choice of Naive Bayes classifier depends on the specific problem, the nature of the features, and the assumptions that best align with the data."
   ]
  },
  {
   "cell_type": "markdown",
   "id": "4d040680",
   "metadata": {},
   "source": [
    "## Ans : 6\n",
    "\n",
    "To predict the class for a new instance with features X1 = 3 and X2 = 4 using Naive Bayes, we need to calculate the posterior probabilities for each class and choose the class with the highest probability.\n",
    "\n",
    "Given the frequency table:\n",
    "\n",
    "Class | X1=1 | X1=2 | X1=3 | X2=1 | X2=2 | X2=3 | X2=4\n",
    "\n",
    "A | 3 | 3 | 4 | 4 | 3 | 3 | 3\n",
    "\n",
    "B | 2 | 2 | 1 | 2 | 2 | 2 | 3\n",
    "\n",
    "Assuming equal prior probabilities for each class, the prior probability for each class is 0.5.\n",
    "\n",
    "To calculate the posterior probability for class A, we need to calculate P(X1=3|A), P(X2=4|A), and P(A) based on the given frequencies.\n",
    "\n",
    "P(X1=3|A) = 4/13\n",
    "\n",
    "P(X2=4|A) = 3/13\n",
    "\n",
    "P(A) = 0.5 (equal prior probability)\n",
    "\n",
    "The posterior probability for class A is: P(A|X1=3, X2=4) = P(X1=3|A) *"
   ]
  },
  {
   "cell_type": "code",
   "execution_count": null,
   "id": "8e5df91c",
   "metadata": {},
   "outputs": [],
   "source": []
  }
 ],
 "metadata": {
  "kernelspec": {
   "display_name": "Python 3 (ipykernel)",
   "language": "python",
   "name": "python3"
  },
  "language_info": {
   "codemirror_mode": {
    "name": "ipython",
    "version": 3
   },
   "file_extension": ".py",
   "mimetype": "text/x-python",
   "name": "python",
   "nbconvert_exporter": "python",
   "pygments_lexer": "ipython3",
   "version": "3.9.12"
  }
 },
 "nbformat": 4,
 "nbformat_minor": 5
}
